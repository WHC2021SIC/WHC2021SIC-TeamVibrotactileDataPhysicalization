{
 "metadata": {
  "language_info": {
   "codemirror_mode": {
    "name": "ipython",
    "version": 3
   },
   "file_extension": ".py",
   "mimetype": "text/x-python",
   "name": "python",
   "nbconvert_exporter": "python",
   "pygments_lexer": "ipython3",
   "version": "3.9.5"
  },
  "orig_nbformat": 2,
  "kernelspec": {
   "name": "python3",
   "display_name": "Python 3.9.5 64-bit"
  },
  "metadata": {
   "interpreter": {
    "hash": "999f91b3bb0e2734c4d7d8029d01832acd6758d35c216346a19dbc3783264855"
   }
  },
  "interpreter": {
   "hash": "916dbcbb3f70747c44a77c7bcd40155683ae19c65e1c03b4aa3499c5328201f1"
  }
 },
 "nbformat": 4,
 "nbformat_minor": 2,
 "cells": [
  {
   "cell_type": "code",
   "execution_count": 2,
   "metadata": {},
   "outputs": [],
   "source": [
    "import pandas as pd"
   ]
  },
  {
   "cell_type": "code",
   "execution_count": 194,
   "metadata": {},
   "outputs": [
    {
     "output_type": "stream",
     "name": "stdout",
     "text": [
      "[nan, 0.0, 0.0, 0.0, 0.0, 0.0, 0.0, 0.0, 0.0, 0.0, 0.0, 0.0, 0.0, 0.0, 0.0, 0.0, 0.0, 0.0, 0.0, 0.0, 0.0, 0.0, 0.0, 0.0, 0.0, 0.0, 0.0, 0.0, 0.0, 0.0, 0.0, 0.0, 0.0, 0.0, 0.0, 0.0, 0.0, 0.0, 0.0, 0.0, 0.0, 0.0, 0.0, 0.0, 0.0, 0.0, 1.0, 0.0, 0.0, 0.0, 0.0, 1.0, 0.0, 0.0, 0.0, 0.0, 0.0, 1.0, 0.0, 1.0, 0.0, 0.0, 2.0, 2.0, 1.0, 4.0, 5.0, 1.0, 4.0, 4.0, 1.0, 8.0, 3.0, 4.0, 1.0, 4.0, 8.0, 7.0, 9.0, 10.0, 1.0, 7.0, 7.0, 5.0, 9.0, 4.0, 8.0, 6.0, 3.0, 4.0, 11.0, 5.0, 13.0, 11.0, 9.0, 7.0, 5.0, 10.0, 7.0, 4.0, 7.0, 12.0, 9.0, 14.0, 4.0, 9.0, 9.0, 11.0, 7.0, 5.0, 9.0, 5.0, 10.0, 24.0, 3.0, 7.0, 10.0, 9.0, 11.0, 10.0, 13.0, 17.0, 12.0, 7.0, 15.0, 17.0, 16.0, 8.0, 12.0, 8.0, 11.0, 17.0, 13.0, 14.0, 25.0, 24.0, 16.0, 16.0, 29.0, 24.0, 18.0, 30.0, 20.0, 30.0, 18.0, 21.0, 24.0, 35.0, 35.0, 31.0, 13.0, 19.0, 32.0, 35.0, 38.0, 34.0, 34.0, 23.0, 25.0, 48.0, 27.0, 44.0, 34.0, 52.0, 44.0, 26.0, 75.0, 62.0, 50.0, 26.0, 54.0, 36.0, 35.0, 58.0, 65.0, 82.0, 62.0, 66.0, 42.0, 40.0, 113.0, 117.0, 98.0, 114.0, 105.0, 86.0, 46.0, 120.0, 120.0, 109.0, 153.0, 102.0, 53.0, 52.0, 165.0, 166.0, 127.0, 145.0, 160.0, 112.0, 83.0, 158.0, 240.0, 209.0, 149.0, 165.0, 110.0, 66.0, 111.0, 234.0, 282.0, 187.0, 213.0, 118.0, 137.0, 381.0, 197.0, 276.0, 211.0, 221.0, 82.0, 104.0, 203.0, 259.0, 199.0, 243.0, 262.0, 116.0, 120.0, 270.0, 276.0, 253.0, 249.0, 241.0, 115.0, 89.0, 315.0, 185.0, 264.0, 344.0, 196.0, 143.0, 254.0, 429.0, 470.0, 424.0, 390.0, 442.0, 335.0, 206.0, 364.0, 406.0, 418.0, 3351.0, 311.0, 196.0, 223.0, 450.0, 359.0, 399.0, 484.0, 515.0, 356.0, 287.0, 318.0, 386.0, 349.0, 421.0, 381.0, 384.0, 160.0, 449.0, 384.0, 419.0, 438.0, 381.0, 275.0, 283.0, 405.0, 429.0, 341.0, 371.0, 350.0, 210.0, 138.0, 483.0, 429.0, 468.0, 246.0, 370.0, 212.0, 212.0, 347.0, 276.0, 348.0, 251.0, 263.0, 262.0, 129.0, 291.0, 379.0, 241.0, 185.0, 258.0, 112.0, 100.0, 120.0, 310.0, 282.0, 227.0, 275.0, 106.0, 151.0, 257.0, 198.0, 228.0, 149.0, 207.0, 120.0, 138.0, 118.0, 121.0, 213.0, 209.0, 175.0, 62.0, 98.0, 275.0, 163.0, 161.0, 169.0, 138.0, 91.0, 50.0, 184.0, 257.0, 60.0, 0.0, 108.0, 79.0, 149.0, 218.0, 150.0, 145.0, 82.0, 74.0, 56.0, 107.0, 152.0, 151.0, 191.0, 146.0, 151.0, 144.0, 78.0, 159.0, 194.0, 135.0, 142.0, 102.0, 68.0, 112.0, 425.0, 234.0, 150.0, 139.0, 220.0, 162.0, 90.0, 207.0, 219.0, 182.0, 166.0, 174.0, 156.0, 43.0, 275.0, 177.0, 113.0, 161.0, 285.0, 125.0, 61.0, 227.0, 168.0, 108.0, 200.0, 155.0, 159.0, 48.0, 91.0, 105.0, 184.0, 241.0, 143.0, 122.0, 76.0, 161.0, 151.0, 140.0, 145.0, 92.0, 59.0, 19.0, 112.0, 115.0, 261.0, 191.0, 140.0, 86.0, 10.0, 241.0, 131.0, 107.0, 134.0, 85.0, 68.0, 24.0, 166.0, 200.0, 195.0, 155.0, 90.0, 41.0, 28.0, 126.0, 152.0, 123.0, 146.0, 143.0, 133.0, 81.0, 162.0, 125.0, 122.0, 83.0, 82.0, 83.0, 93.0, 272.0, 163.0, 198.0, 290.0, 228.0, 297.0, 132.0, 178.0, 217.0, 368.0, 383.0, 159.0, 80.0, 64.0, 248.0, 316.0, 291.0, 537.0, 556.0, 298.0, 170.0, 443.0, 512.0, 348.0, 561.0, 357.0, 231.0, 156.0, 540.0, 410.0, 663.0, 398.0, 609.0, 170.0, 283.0, 496.0, 490.0, 496.0, 447.0, 599.0, 400.0, 269.0, 505.0, 744.0, 494.0, 434.0, 692.0, 297.0, 375.0, 417.0]\n"
     ]
    }
   ],
   "source": [
    "data = pd.DataFrame(pd.read_csv(\"CONVENIENT_global_deaths.csv\"))\n",
    "\n",
    "print(data[\"Argentina\"].tolist())\n"
   ]
  },
  {
   "cell_type": "code",
   "execution_count": 195,
   "metadata": {},
   "outputs": [],
   "source": [
    "dArgentina = data[\"Argentina\"].tolist()\n",
    "dBolivia = data[\"Bolivia\"].tolist()\n",
    "dBrazil = data[\"Brazil\"].tolist()\n",
    "dChile = data[\"Chile\"].tolist()\n",
    "dColombia = data[\"Colombia\"].tolist()\n",
    "dEcuador = data[\"Ecuador\"].tolist()\n",
    "dGuyana = data[\"Guyana\"].tolist()\n",
    "dParaguay = data[\"Paraguay\"].tolist()\n",
    "dPeru = data[\"Peru\"].tolist()\n",
    "dSuriname = data[\"Suriname\"].tolist()\n",
    "dUruguay = data[\"Uruguay\"].tolist()\n",
    "dVenezuela = data[\"Venezuela\"].tolist()\n",
    "dDate = data[\"Country/Region\"].tolist()\n"
   ]
  },
  {
   "cell_type": "code",
   "execution_count": 196,
   "metadata": {},
   "outputs": [
    {
     "output_type": "stream",
     "name": "stdout",
     "text": [
      "               Date  Argentina  Bolivia  Brazil  Chile  Colombia  Ecuador  \\\n0    Province/State        NaN      NaN     NaN    NaN       NaN      NaN   \n1           1/23/20        0.0      0.0     0.0    0.0       0.0      0.0   \n2           1/24/20        0.0      0.0     0.0    0.0       0.0      0.0   \n3           1/25/20        0.0      0.0     0.0    0.0       0.0      0.0   \n4           1/26/20        0.0      0.0     0.0    0.0       0.0      0.0   \n..              ...        ...      ...     ...    ...       ...      ...   \n484         5/20/21      434.0     58.0  2403.0  172.0     490.0     43.0   \n485         5/21/21      692.0     87.0  2215.0  121.0     486.0     85.0   \n486         5/22/21      297.0     77.0  1899.0   96.0     509.0     73.0   \n487         5/23/21      375.0    108.0   860.0  132.0     496.0     13.0   \n488         5/24/21      417.0      0.0   790.0   30.0     483.0     17.0   \n\n     Guyana  Paraguay   Peru  Suriname  Uruguay  Venezuela  \n0       NaN       NaN    NaN       NaN      NaN        NaN  \n1       0.0       0.0    0.0       0.0      0.0        0.0  \n2       0.0       0.0    0.0       0.0      0.0        0.0  \n3       0.0       0.0    0.0       0.0      0.0        0.0  \n4       0.0       0.0    0.0       0.0      0.0        0.0  \n..      ...       ...    ...       ...      ...        ...  \n484     0.0      98.0    0.0       1.0     53.0       19.0  \n485     0.0     103.0  219.0       3.0     69.0       18.0  \n486     6.0     120.0  554.0       2.0     51.0       16.0  \n487     4.0     125.0  246.0       4.0     60.0       14.0  \n488     0.0     114.0    0.0       7.0     51.0       15.0  \n\n[489 rows x 13 columns]\n"
     ]
    }
   ],
   "source": [
    "sa_date_format = {'Date': dDate, 'Argentina': dArgentina, \"Bolivia\": dBolivia, \"Brazil\": dBrazil, \"Chile\": dChile, \"Colombia\": dColombia, \"Ecuador\": dEcuador, \"Guyana\": dGuyana, \"Paraguay\": dParaguay, \"Peru\": dPeru, \"Suriname\": dSuriname, \"Uruguay\": dUruguay, \"Venezuela\": dVenezuela}\n",
    "sa_data = pd.DataFrame(sa_date_format)\n",
    "print(sa_data)"
   ]
  },
  {
   "cell_type": "code",
   "execution_count": 197,
   "metadata": {},
   "outputs": [],
   "source": [
    "sa_data = sa_data.drop(0)"
   ]
  },
  {
   "cell_type": "code",
   "execution_count": 201,
   "metadata": {},
   "outputs": [
    {
     "output_type": "stream",
     "name": "stdout",
     "text": [
      "        Date  Argentina\n467   5/3/21      540.0\n468   5/4/21      410.0\n469   5/5/21      663.0\n470   5/6/21      398.0\n471   5/7/21      609.0\n472   5/8/21      170.0\n473   5/9/21      283.0\n474  5/10/21      496.0\n475  5/11/21      490.0\n476  5/12/21      496.0\n477  5/13/21      447.0\n478  5/14/21      599.0\n479  5/15/21      400.0\n480  5/16/21      269.0\n481  5/17/21      505.0\n482  5/18/21      744.0\n483  5/19/21      494.0\n484  5/20/21      434.0\n485  5/21/21      692.0\n486  5/22/21      297.0\n487  5/23/21      375.0\n488  5/24/21      417.0\n"
     ]
    }
   ],
   "source": [
    "#print(sa_data)\n",
    "sa_data.to_csv(r'./sa_data.csv',header=True)\n",
    "argentina = [\n",
    "    sa_data.iloc[0:9, [1]].sum(),\n",
    "    sa_data.iloc[9:38, [1]].sum(),\n",
    "    sa_data.iloc[38:69, [1]].sum(),\n",
    "    sa_data.iloc[69:99, [1]].sum(),\n",
    "    sa_data.iloc[99:130, [1]].sum(),\n",
    "    sa_data.iloc[130:160, [1]].sum(),\n",
    "    sa_data.iloc[160:191, [1]].sum(),\n",
    "    sa_data.iloc[191:222, [1]].sum(),\n",
    "    sa_data.iloc[222:252, [1]].sum(),\n",
    "    sa_data.iloc[252:283, [1]].sum(),\n",
    "    sa_data.iloc[283:313, [1]].sum(),\n",
    "    sa_data.iloc[313:344, [1]].sum(),\n",
    "    sa_data.iloc[344:375, [1]].sum(),\n",
    "    sa_data.iloc[375:403, [1]].sum(),\n",
    "    sa_data.iloc[403:434, [1]].sum(),\n",
    "    sa_data.iloc[434:464, [1]].sum(),\n",
    "    sa_data.iloc[466:489, [1]].sum()\n",
    "]\n",
    "argentina = pd.DataFrame(argentina)\n",
    "print(sa_data.iloc[466:489, [0,1]])\n",
    "argentina = argentina.Argentina.tolist()"
   ]
  },
  {
   "cell_type": "code",
   "execution_count": 180,
   "metadata": {},
   "outputs": [
    {
     "output_type": "stream",
     "name": "stdout",
     "text": [
      "[0.0, 0.0, 6.0, 56.0, 251.0, 810.0, 1854.0, 2050.0, 2938.0, 760.0, 232.0, 208.0, 1214.0, 1270.0, 608.0, 694.0, 956.0]\n"
     ]
    }
   ],
   "source": [
    "bolivia = [\n",
    "    sa_data.iloc[0:9, [2]].sum(),\n",
    "    sa_data.iloc[9:38, [2]].sum(),\n",
    "    sa_data.iloc[38:69, [2]].sum(),\n",
    "    sa_data.iloc[69:99, [2]].sum(),\n",
    "    sa_data.iloc[99:130, [2]].sum(),\n",
    "    sa_data.iloc[130:160, [2]].sum(),\n",
    "    sa_data.iloc[160:191, [2]].sum(),\n",
    "    sa_data.iloc[191:222, [2]].sum(),\n",
    "    sa_data.iloc[222:252, [2]].sum(),\n",
    "    sa_data.iloc[252:283, [2]].sum(),\n",
    "    sa_data.iloc[283:313, [2]].sum(),\n",
    "    sa_data.iloc[313:344, [2]].sum(),\n",
    "    sa_data.iloc[344:375, [2]].sum(),\n",
    "    sa_data.iloc[375:403, [2]].sum(),\n",
    "    sa_data.iloc[403:434, [2]].sum(),\n",
    "    sa_data.iloc[434:464, [2]].sum(),\n",
    "    sa_data.iloc[466:489, [2]].sum()\n",
    "]\n",
    "bolivia = pd.DataFrame(bolivia)\n",
    "bolivia = bolivia.Bolivia.tolist()\n",
    "print(bolivia)"
   ]
  },
  {
   "cell_type": "code",
   "execution_count": 184,
   "metadata": {},
   "outputs": [
    {
     "output_type": "stream",
     "name": "stdout",
     "text": [
      "[0.0, 0.0, 201.0, 5805.0, 23308.0, 30280.0, 32881.0, 28906.0, 22571.0, 15932.0, 13236.0, 21829.0, 29555.0, 30438.0, 66573.0, 82266.0, 42219.0]\n"
     ]
    }
   ],
   "source": [
    "brazil = [\n",
    "    sa_data.iloc[0:9, [3]].sum(),\n",
    "    sa_data.iloc[9:38, [3]].sum(),\n",
    "    sa_data.iloc[38:69, [3]].sum(),\n",
    "    sa_data.iloc[69:99, [3]].sum(),\n",
    "    sa_data.iloc[99:130, [3]].sum(),\n",
    "    sa_data.iloc[130:160, [3]].sum(),\n",
    "    sa_data.iloc[160:191, [3]].sum(),\n",
    "    sa_data.iloc[191:222, [3]].sum(),\n",
    "    sa_data.iloc[222:252, [3]].sum(),\n",
    "    sa_data.iloc[252:283, [3]].sum(),\n",
    "    sa_data.iloc[283:313, [3]].sum(),\n",
    "    sa_data.iloc[313:344, [3]].sum(),\n",
    "    sa_data.iloc[344:375, [3]].sum(),\n",
    "    sa_data.iloc[375:403, [3]].sum(),\n",
    "    sa_data.iloc[403:434, [3]].sum(),\n",
    "    sa_data.iloc[434:464, [3]].sum(),\n",
    "    sa_data.iloc[466:489, [3]].sum()\n",
    "]\n",
    "brazil = pd.DataFrame(brazil)\n",
    "brazil = brazil.Brazil.tolist()\n"
   ]
  },
  {
   "cell_type": "code",
   "execution_count": 191,
   "metadata": {},
   "outputs": [
    {
     "output_type": "stream",
     "name": "stdout",
     "text": [
      "[0.0, 0.0, 16.0, 277.0, 646.0, 2395.0, 6771.0, 9557.0, 6336.0, 5316.0, 5452.0, 6447.0, 10770.0, 5783.0, 3656.0, 10298.0, 10730.0]\n"
     ]
    }
   ],
   "source": [
    "colombia = [\n",
    "    sa_data.iloc[0:9, [5]].sum(),\n",
    "    sa_data.iloc[9:38, [5]].sum(),\n",
    "    sa_data.iloc[38:69, [5]].sum(),\n",
    "    sa_data.iloc[69:99, [5]].sum(),\n",
    "    sa_data.iloc[99:130, [5]].sum(),\n",
    "    sa_data.iloc[130:160, [5]].sum(),\n",
    "    sa_data.iloc[160:191, [5]].sum(),\n",
    "    sa_data.iloc[191:222, [5]].sum(),\n",
    "    sa_data.iloc[222:252, [5]].sum(),\n",
    "    sa_data.iloc[252:283, [5]].sum(),\n",
    "    sa_data.iloc[283:313, [5]].sum(),\n",
    "    sa_data.iloc[313:344, [5]].sum(),\n",
    "    sa_data.iloc[344:375, [5]].sum(),\n",
    "    sa_data.iloc[375:403, [5]].sum(),\n",
    "    sa_data.iloc[403:434, [5]].sum(),\n",
    "    sa_data.iloc[434:464, [5]].sum(),\n",
    "    sa_data.iloc[466:489, [5]].sum()\n",
    "]\n",
    "colombia = pd.DataFrame(colombia)\n",
    "colombia = colombia.Colombia.tolist()\n",
    "print(colombia)"
   ]
  },
  {
   "cell_type": "code",
   "execution_count": 188,
   "metadata": {},
   "outputs": [
    {
     "output_type": "stream",
     "name": "stdout",
     "text": [
      "[0.0, 0.0, 12.0, 215.0, 827.0, 4634.0, 3769.0, 1832.0, 1452.0, 1466.0, 1203.0, 1198.0, 1844.0, 2120.0, 2563.0, 3218.0, 1987.0]\n"
     ]
    }
   ],
   "source": [
    "chile = [\n",
    "    sa_data.iloc[0:9, [4]].sum(),\n",
    "    sa_data.iloc[9:38, [4]].sum(),\n",
    "    sa_data.iloc[38:69, [4]].sum(),\n",
    "    sa_data.iloc[69:99, [4]].sum(),\n",
    "    sa_data.iloc[99:130, [4]].sum(),\n",
    "    sa_data.iloc[130:160, [4]].sum(),\n",
    "    sa_data.iloc[160:191, [4]].sum(),\n",
    "    sa_data.iloc[191:222, [4]].sum(),\n",
    "    sa_data.iloc[222:252, [4]].sum(),\n",
    "    sa_data.iloc[252:283, [4]].sum(),\n",
    "    sa_data.iloc[283:313, [4]].sum(),\n",
    "    sa_data.iloc[313:344, [4]].sum(),\n",
    "    sa_data.iloc[344:375, [4]].sum(),\n",
    "    sa_data.iloc[375:403, [4]].sum(),\n",
    "    sa_data.iloc[403:434, [4]].sum(),\n",
    "    sa_data.iloc[434:464, [4]].sum(),\n",
    "    sa_data.iloc[466:489, [4]].sum()\n",
    "]\n",
    "chile = pd.DataFrame(chile)\n",
    "chile = chile.Chile.tolist()\n",
    "print(chile)"
   ]
  },
  {
   "cell_type": "code",
   "execution_count": 203,
   "metadata": {},
   "outputs": [],
   "source": [
    "ecuador = [\n",
    "    sa_data.iloc[0:9, [6]].sum(),\n",
    "    sa_data.iloc[9:38, [6]].sum(),\n",
    "    sa_data.iloc[38:69, [6]].sum(),\n",
    "    sa_data.iloc[69:99, [6]].sum(),\n",
    "    sa_data.iloc[99:130, [6]].sum(),\n",
    "    sa_data.iloc[130:160, [6]].sum(),\n",
    "    sa_data.iloc[160:191, [6]].sum(),\n",
    "    sa_data.iloc[191:222, [6]].sum(),\n",
    "    sa_data.iloc[222:252, [6]].sum(),\n",
    "    sa_data.iloc[252:283, [6]].sum(),\n",
    "    sa_data.iloc[283:313, [6]].sum(),\n",
    "    sa_data.iloc[313:344, [6]].sum(),\n",
    "    sa_data.iloc[344:375, [6]].sum(),\n",
    "    sa_data.iloc[375:403, [6]].sum(),\n",
    "    sa_data.iloc[403:434, [6]].sum(),\n",
    "    sa_data.iloc[434:464, [6]].sum(),\n",
    "    sa_data.iloc[466:489, [6]].sum()\n",
    "]\n",
    "ecuador = pd.DataFrame(ecuador)\n",
    "ecuador = ecuador.Ecuador.tolist()"
   ]
  },
  {
   "cell_type": "code",
   "execution_count": 207,
   "metadata": {},
   "outputs": [],
   "source": [
    "guyana = [\n",
    "    sa_data.iloc[0:9, [7]].sum(),\n",
    "    sa_data.iloc[9:38, [7]].sum(),\n",
    "    sa_data.iloc[38:69, [7]].sum(),\n",
    "    sa_data.iloc[69:99, [7]].sum(),\n",
    "    sa_data.iloc[99:130, [7]].sum(),\n",
    "    sa_data.iloc[130:160, [7]].sum(),\n",
    "    sa_data.iloc[160:191, [7]].sum(),\n",
    "    sa_data.iloc[191:222, [7]].sum(),\n",
    "    sa_data.iloc[222:252, [7]].sum(),\n",
    "    sa_data.iloc[252:283, [7]].sum(),\n",
    "    sa_data.iloc[283:313, [7]].sum(),\n",
    "    sa_data.iloc[313:344, [7]].sum(),\n",
    "    sa_data.iloc[344:375, [7]].sum(),\n",
    "    sa_data.iloc[375:403, [7]].sum(),\n",
    "    sa_data.iloc[403:434, [7]].sum(),\n",
    "    sa_data.iloc[434:464, [7]].sum(),\n",
    "    sa_data.iloc[466:489, [7]].sum()\n",
    "]\n",
    "guyana = pd.DataFrame(guyana)\n",
    "guyana = guyana.Guyana.tolist()"
   ]
  },
  {
   "cell_type": "code",
   "execution_count": 210,
   "metadata": {},
   "outputs": [],
   "source": [
    "paraguay = [\n",
    "    sa_data.iloc[0:9, [8]].sum(),\n",
    "    sa_data.iloc[9:38, [8]].sum(),\n",
    "    sa_data.iloc[38:69, [8]].sum(),\n",
    "    sa_data.iloc[69:99, [8]].sum(),\n",
    "    sa_data.iloc[99:130, [8]].sum(),\n",
    "    sa_data.iloc[130:160, [8]].sum(),\n",
    "    sa_data.iloc[160:191, [8]].sum(),\n",
    "    sa_data.iloc[191:222, [8]].sum(),\n",
    "    sa_data.iloc[222:252, [8]].sum(),\n",
    "    sa_data.iloc[252:283, [8]].sum(),\n",
    "    sa_data.iloc[283:313, [8]].sum(),\n",
    "    sa_data.iloc[313:344, [8]].sum(),\n",
    "    sa_data.iloc[344:375, [8]].sum(),\n",
    "    sa_data.iloc[375:403, [8]].sum(),\n",
    "    sa_data.iloc[403:434, [8]].sum(),\n",
    "    sa_data.iloc[434:464, [8]].sum(),\n",
    "    sa_data.iloc[466:489, [8]].sum()\n",
    "]\n",
    "paraguay = pd.DataFrame(paraguay)\n",
    "paraguay = paraguay.Paraguay.tolist()"
   ]
  },
  {
   "cell_type": "code",
   "execution_count": 213,
   "metadata": {},
   "outputs": [],
   "source": [
    "peru = [\n",
    "    sa_data.iloc[0:9, [9]].sum(),\n",
    "    sa_data.iloc[9:38, [9]].sum(),\n",
    "    sa_data.iloc[38:69, [9]].sum(),\n",
    "    sa_data.iloc[69:99, [9]].sum(),\n",
    "    sa_data.iloc[99:130, [9]].sum(),\n",
    "    sa_data.iloc[130:160, [9]].sum(),\n",
    "    sa_data.iloc[160:191, [9]].sum(),\n",
    "    sa_data.iloc[191:222, [9]].sum(),\n",
    "    sa_data.iloc[222:252, [9]].sum(),\n",
    "    sa_data.iloc[252:283, [9]].sum(),\n",
    "    sa_data.iloc[283:313, [9]].sum(),\n",
    "    sa_data.iloc[313:344, [9]].sum(),\n",
    "    sa_data.iloc[344:375, [9]].sum(),\n",
    "    sa_data.iloc[375:403, [9]].sum(),\n",
    "    sa_data.iloc[403:434, [9]].sum(),\n",
    "    sa_data.iloc[434:464, [9]].sum(),\n",
    "    sa_data.iloc[466:489, [9]].sum()\n",
    "]\n",
    "peru = pd.DataFrame(peru)\n",
    "peru = peru.Peru.tolist()"
   ]
  },
  {
   "cell_type": "code",
   "execution_count": 216,
   "metadata": {},
   "outputs": [],
   "source": [
    "suriname = [\n",
    "    sa_data.iloc[0:9, [10]].sum(),\n",
    "    sa_data.iloc[9:38, [10]].sum(),\n",
    "    sa_data.iloc[38:69, [10]].sum(),\n",
    "    sa_data.iloc[69:99, [10]].sum(),\n",
    "    sa_data.iloc[99:130, [10]].sum(),\n",
    "    sa_data.iloc[130:160, [10]].sum(),\n",
    "    sa_data.iloc[160:191, [10]].sum(),\n",
    "    sa_data.iloc[191:222, [10]].sum(),\n",
    "    sa_data.iloc[222:252, [10]].sum(),\n",
    "    sa_data.iloc[252:283, [10]].sum(),\n",
    "    sa_data.iloc[283:313, [10]].sum(),\n",
    "    sa_data.iloc[313:344, [10]].sum(),\n",
    "    sa_data.iloc[344:375, [10]].sum(),\n",
    "    sa_data.iloc[375:403, [10]].sum(),\n",
    "    sa_data.iloc[403:434, [10]].sum(),\n",
    "    sa_data.iloc[434:464, [10]].sum(),\n",
    "    sa_data.iloc[466:489, [10]].sum()\n",
    "]\n",
    "suriname = pd.DataFrame(suriname)\n",
    "suriname = suriname.Suriname.tolist()"
   ]
  },
  {
   "cell_type": "code",
   "execution_count": 219,
   "metadata": {},
   "outputs": [],
   "source": [
    "uruguay = [\n",
    "    sa_data.iloc[0:9, [11]].sum(),\n",
    "    sa_data.iloc[9:38, [11]].sum(),\n",
    "    sa_data.iloc[38:69, [11]].sum(),\n",
    "    sa_data.iloc[69:99, [11]].sum(),\n",
    "    sa_data.iloc[99:130, [11]].sum(),\n",
    "    sa_data.iloc[130:160, [11]].sum(),\n",
    "    sa_data.iloc[160:191, [11]].sum(),\n",
    "    sa_data.iloc[191:222, [11]].sum(),\n",
    "    sa_data.iloc[222:252, [11]].sum(),\n",
    "    sa_data.iloc[252:283, [11]].sum(),\n",
    "    sa_data.iloc[283:313, [11]].sum(),\n",
    "    sa_data.iloc[313:344, [11]].sum(),\n",
    "    sa_data.iloc[344:375, [11]].sum(),\n",
    "    sa_data.iloc[375:403, [11]].sum(),\n",
    "    sa_data.iloc[403:434, [11]].sum(),\n",
    "    sa_data.iloc[434:464, [11]].sum(),\n",
    "    sa_data.iloc[466:489, [11]].sum()\n",
    "]\n",
    "uruguay = pd.DataFrame(uruguay)\n",
    "uruguay = uruguay.Uruguay.tolist()"
   ]
  },
  {
   "cell_type": "code",
   "execution_count": 222,
   "metadata": {},
   "outputs": [],
   "source": [
    "venezuela = [\n",
    "    sa_data.iloc[0:9, [12]].sum(),\n",
    "    sa_data.iloc[9:38, [12]].sum(),\n",
    "    sa_data.iloc[38:69, [12]].sum(),\n",
    "    sa_data.iloc[69:99, [12]].sum(),\n",
    "    sa_data.iloc[99:130, [12]].sum(),\n",
    "    sa_data.iloc[130:160, [12]].sum(),\n",
    "    sa_data.iloc[160:191, [12]].sum(),\n",
    "    sa_data.iloc[191:222, [12]].sum(),\n",
    "    sa_data.iloc[222:252, [12]].sum(),\n",
    "    sa_data.iloc[252:283, [12]].sum(),\n",
    "    sa_data.iloc[283:313, [12]].sum(),\n",
    "    sa_data.iloc[313:344, [12]].sum(),\n",
    "    sa_data.iloc[344:375, [12]].sum(),\n",
    "    sa_data.iloc[375:403, [12]].sum(),\n",
    "    sa_data.iloc[403:434, [12]].sum(),\n",
    "    sa_data.iloc[434:464, [12]].sum(),\n",
    "    sa_data.iloc[466:489, [12]].sum()\n",
    "]\n",
    "venezuela = pd.DataFrame(venezuela)\n",
    "venezuela = venezuela.Venezuela.tolist()"
   ]
  },
  {
   "cell_type": "code",
   "execution_count": 227,
   "metadata": {},
   "outputs": [],
   "source": [
    "sa_data_out = {'Year':[],'Month':[], 'Argentina':[], 'Bolivia':[], 'Brazil':[], 'Chile':[], 'Colombia':[], 'Ecuador':[], 'Guyana':[], 'Paraguay':[], 'Peru':[], 'Suriname':[], 'Uruguay':[], 'Venezuela':[] }\n",
    "sa_data_out = pd.DataFrame(sa_data_out)\n"
   ]
  },
  {
   "cell_type": "code",
   "execution_count": 228,
   "metadata": {},
   "outputs": [],
   "source": [
    "sa_data_out.Month = ['January','February','March','April','May','June','July','August','September','October','November','December','January','February','March','April','May']\n",
    "sa_data_out.Year = [2020,2020,2020,2020,2020,2020,2020,2020,2020,2020,2020,2020,2021,2021,2021,2021,2021]"
   ]
  },
  {
   "cell_type": "code",
   "execution_count": 229,
   "metadata": {},
   "outputs": [],
   "source": [
    "sa_data_out.Argentina = argentina\n",
    "sa_data_out.Bolivia = bolivia\n",
    "sa_data_out.Brazil = brazil\n",
    "sa_data_out.Chile = chile\n",
    "sa_data_out.Colombia = colombia\n",
    "sa_data_out.Ecuador = ecuador\n",
    "sa_data_out.Guyana = guyana\n",
    "sa_data_out.Paraguay = paraguay\n",
    "sa_data_out.Peru = peru\n",
    "sa_data_out.Suriname = suriname\n",
    "sa_data_out.Uruguay = uruguay\n",
    "sa_data_out.Venezuela = venezuela"
   ]
  },
  {
   "cell_type": "code",
   "execution_count": 230,
   "metadata": {},
   "outputs": [
    {
     "output_type": "stream",
     "name": "stdout",
     "text": [
      "    Year      Month  Argentina  Bolivia   Brazil   Chile  Colombia  Ecuador  \\\n0   2020    January        0.0      0.0      0.0     0.0       0.0      0.0   \n1   2020   February        0.0      0.0      0.0     0.0       0.0      0.0   \n2   2020      March       27.0      6.0    201.0    12.0      16.0     75.0   \n3   2020      April      191.0     56.0   5805.0   215.0     277.0    825.0   \n4   2020        May      321.0    251.0  23308.0   827.0     646.0   2458.0   \n5   2020       June      768.0    810.0  30280.0  4634.0    2395.0   1169.0   \n6   2020       July     2236.0   1854.0  32881.0  3769.0    6771.0   1175.0   \n7   2020     August     5117.0   2050.0  28906.0  1832.0    9557.0    854.0   \n8   2020  September     8277.0   2938.0  22571.0  1452.0    6336.0   4799.0   \n9   2020    October    14065.0    760.0  15932.0  1466.0    5316.0   1315.0   \n10  2020   November     7728.0    232.0  13236.0  1203.0    5452.0    791.0   \n11  2020   December     4515.0    208.0  21829.0  1198.0    6447.0    573.0   \n12  2021    January     4729.0   1214.0  29555.0  1844.0   10770.0    825.0   \n13  2021   February     3991.0   1270.0  30438.0  2120.0    5783.0    952.0   \n14  2021      March     3893.0    608.0  66573.0  2563.0    3656.0   1036.0   \n15  2021      April     8007.0    694.0  82266.0  3218.0   10298.0   1784.0   \n16  2021        May    10228.0    956.0  42219.0  1987.0   10730.0   1470.0   \n\n    Guyana  Paraguay    Peru  Suriname  Uruguay  Venezuela  \n0      0.0       0.0     0.0       0.0      0.0        0.0  \n1      0.0       0.0     0.0       0.0      0.0        0.0  \n2      2.0       3.0    30.0       0.0      1.0        3.0  \n3      7.0       7.0  1021.0       1.0     16.0       13.0  \n4      3.0       1.0  3455.0       0.0      5.0       -2.0  \n5      0.0       6.0  5171.0      12.0      5.0       37.0  \n6      8.0      32.0  9344.0      13.0      8.0      113.0  \n7     19.0     277.0  9767.0      45.0      9.0      222.0  \n8     41.0     531.0  3608.0      33.0      4.0      242.0  \n9     44.0     547.0  2015.0       7.0     10.0      170.0  \n10    27.0     352.0  1512.0       6.0     19.0       99.0  \n11    13.0     506.0  1757.0       5.0    104.0      131.0  \n12    12.0     456.0  3346.0      32.0    255.0      161.0  \n13    19.0     463.0  5273.0      18.0    172.0      155.0  \n14    36.0    1025.0  5709.0       5.0    366.0      258.0  \n15    65.0    2179.0  9469.0      27.0   1642.0      534.0  \n16    60.0    1902.0  5927.0      49.0   1198.0      356.0  \n"
     ]
    }
   ],
   "source": [
    "print(sa_data_out)"
   ]
  },
  {
   "cell_type": "code",
   "execution_count": 232,
   "metadata": {},
   "outputs": [],
   "source": [
    "sa_data_out.to_csv(r'./sa_data_out.csv',header=True)\n"
   ]
  },
  {
   "cell_type": "code",
   "execution_count": 4,
   "metadata": {},
   "outputs": [
    {
     "output_type": "stream",
     "name": "stdout",
     "text": [
      "[nan, 0.0, 0.0, 0.0, 0.0, 0.0, 0.0, 0.0, 0.0, 0.0, 0.0, 0.0, 0.0, 0.0, 0.0, 0.0, 0.0, 0.0, 0.0, 0.0, 0.0, 0.0, 0.0, 0.0, 0.0, 0.0, 0.0, 0.0, 0.0, 0.0, 0.0, 0.0, 0.0, 0.0, 0.0, 0.0, 0.0, 0.0, 0.0, 0.0, 0.0, 1.0, 0.0, 0.0, 1.0, 6.0, 4.0, 0.0, 5.0, 2.0, 0.0, 12.0, 3.0, 11.0, 11.0, 12.0, 11.0, 18.0, 31.0, 30.0, 108.0, 35.0, 86.0, 0.0, 115.0, 87.0, 101.0, 55.0, 75.0, 234.0, 0.0, 79.0, 132.0, 186.0, 0.0, 103.0, 74.0, 87.0, 80.0, 180.0, 0.0, 167.0, 66.0, 69.0, 166.0, 128.0, 98.0, 89.0, 81.0, 102.0, 90.0, 113.0, 291.0, 172.0, 173.0, 112.0, 111.0, 124.0, 158.0, 143.0, 104.0, 149.0, 102.0, 104.0, 133.0, 188.0, 163.0, 240.0, 165.0, 258.0, 244.0, 285.0, 316.0, 255.0, 345.0, 326.0, 263.0, 303.0, 438.0, 474.0, 648.0, 718.0, 704.0, 723.0, 552.0, 600.0, 705.0, 769.0, 717.0, 795.0, 637.0, 564.0, 904.0, 949.0, 929.0, 840.0, 983.0, 774.0, 826.0, 1141.0, 1226.0, 1386.0, 1391.0, 1531.0, 1282.0, 1208.0, 1374.0, 1393.0, 1958.0, 2060.0, 1634.0, 1581.0, 2146.0, 2272.0, 2648.0, 2606.0, 2886.0, 2401.0, 2189.0, 2335.0, 2262.0, 2667.0, 2744.0, 2845.0, 2590.0, 2439.0, 2632.0, 2979.0, 3604.0, 3663.0, 3367.0, 3449.0, 2657.0, 3099.0, 3645.0, 4236.0, 3637.0, 4518.0, 3223.0, 4231.0, 4019.0, 5344.0, 5782.0, 6127.0, 5493.0, 4814.0, 4192.0, 4890.0, 5939.0, 5641.0, 6377.0, 5929.0, 5241.0, 5376.0, 4824.0, 6792.0, 7147.0, 7513.0, 7482.0, 6134.0, 4688.0, 7369.0, 7043.0, 7663.0, 7498.0, 6365.0, 6663.0, 5469.0, 4557.0, 6840.0, 6693.0, 8225.0, 8159.0, 7759.0, 5352.0, 8713.0, 8771.0, 10550.0, 10104.0, 11717.0, 9230.0, 7187.0, 9309.0, 10504.0, 10933.0, 12026.0, 10684.0, 9924.0, 6986.0, 9215.0, 12027.0, 12259.0, 11905.0, 11507.0, 10776.0, 9056.0, 9909.0, 11892.0, 11674.0, 12701.0, 11945.0, 9276.0, 8431.0, 8782.0, 12027.0, 12625.0, 13467.0, 12969.0, 11249.0, 8841.0, 11807.0, 13477.0, 14392.0, 14001.0, 14687.0, 11129.0, 7668.0, 11242.0, 14740.0, 16447.0, 15454.0, 15099.0, 12414.0, 10324.0, 9524.0, 13305.0, 14932.0, 17096.0, 16546.0, 13510.0, 10561.0, 12982.0, 16337.0, 18326.0, 16325.0, 15718.0, 11968.0, 9253.0, 11712.0, 14308.0, 13924.0, 13267.0, 13379.0, 9745.0, 6609.0, 9598.0, 12145.0, 10652.0, 11100.0, 11786.0, 8037.0, 5331.0, 8317.0, 11977.0, 10880.0, 11163.0, 11859.0, 8468.0, 5645.0, 7893.0, 10621.0, 10332.0, 10097.0, 9608.0, 7140.0, 4184.0, 4265.0, 7164.0, 8593.0, 9043.0, 7846.0, 6098.0, 5432.0, 5726.0, 8037.0, 7533.0, 7629.0, 6899.0, 5201.0, 3278.0, 3199.0, 3610.0, 5303.0, 6994.0, 7112.0, 5274.0, 3558.0, 5062.0, 6981.0, 6843.0, 7326.0, 7002.0, 5795.0, 4116.0, 5853.0, 8141.0, 8586.0, 0.0, 10689.0, 3713.0, 5030.0, 7216.0, 11650.0, 11765.0, 11586.0, 4080.0, 5240.0, 5884.0, 8222.0, 13790.0, 13441.0, 13835.0, 13346.0, 11057.0, 7808.0, 8704.0, 13783.0, 12725.0, 13286.0, 12332.0, 8932.0, 7264.0, 8185.0, 12141.0, 12112.0, 11396.0, 10753.0, 8362.0, 5031.0, 7578.0, 10409.0, 10843.0, 9471.0, 9838.0, 6902.0, 4975.0, 6614.0, 9695.0, 9196.0, 8891.0, 8374.0, 6680.0, 3658.0, 5154.0, 7794.0, 7739.0, 7311.0, 7151.0, 6057.0, 4245.0, 3259.0, 4003.0, 6064.0, 7671.0, 7886.0, 5944.0, 3709.0, 5417.0, 7477.0, 8183.0, 8234.0, 5083.0, 5469.0, 3168.0, 4658.0, 6653.0, 7855.0, 7432.0, 7891.0, 4860.0, 2922.0, 5058.0, 7307.0, 7693.0, 8204.0, 7849.0, 6278.0, 3697.0, 6164.0, 8235.0, 8304.0, 8328.0, 8160.0, 6826.0, 4032.0, 6401.0, 9405.0, 8300.0, 8238.0, 12936.0, 10338.0, 7208.0, 14014.0, 10154.0, 16056.0, 14430.0, 9902.0, 10384.0, 9955.0, 13667.0, 20870.0, 22039.0, 23683.0, 24130.0, 19419.0, 15262.0, 19437.0, 27001.0, 25157.0, 24999.0, 29472.0, 19119.0, 16267.0, 20461.0, 29145.0, 25932.0, 27216.0, 27884.0, 21220.0, 15012.0, 18793.0, 25495.0, 23718.0, 26053.0, 22420.0, 16502.0, 11394.0, 15920.0, 26238.0, 24079.0, 24086.0, 22552.0, 18024.0, 11582.0, 17381.0, 25976.0, 24475.0, 26531.0, 27363.0, 21469.0, 16350.0, 28680.0, 35543.0, 39652.0, 35884.0, 35468.0, 32171.0, 24801.0, 22651.0]\n"
     ]
    }
   ],
   "source": [
    "data = pd.DataFrame(pd.read_csv(\"CONVENIENT_global_confirmed_cases.csv\"))\n",
    "print(data[\"Argentina\"].tolist())\n"
   ]
  },
  {
   "cell_type": "code",
   "execution_count": 5,
   "metadata": {},
   "outputs": [],
   "source": [
    "dArgentina = data[\"Argentina\"].tolist()\n",
    "dBolivia = data[\"Bolivia\"].tolist()\n",
    "dBrazil = data[\"Brazil\"].tolist()\n",
    "dChile = data[\"Chile\"].tolist()\n",
    "dColombia = data[\"Colombia\"].tolist()\n",
    "dEcuador = data[\"Ecuador\"].tolist()\n",
    "dGuyana = data[\"Guyana\"].tolist()\n",
    "dParaguay = data[\"Paraguay\"].tolist()\n",
    "dPeru = data[\"Peru\"].tolist()\n",
    "dSuriname = data[\"Suriname\"].tolist()\n",
    "dUruguay = data[\"Uruguay\"].tolist()\n",
    "dVenezuela = data[\"Venezuela\"].tolist()\n",
    "dDate = data[\"Country/Region\"].tolist()"
   ]
  },
  {
   "cell_type": "code",
   "execution_count": 6,
   "metadata": {},
   "outputs": [
    {
     "output_type": "stream",
     "name": "stdout",
     "text": [
      "               Date  Argentina  Bolivia   Brazil   Chile  Colombia  Ecuador  \\\n0    Province/State        NaN      NaN      NaN     NaN       NaN      NaN   \n1           1/23/20        0.0      0.0      0.0     0.0       0.0      0.0   \n2           1/24/20        0.0      0.0      0.0     0.0       0.0      0.0   \n3           1/25/20        0.0      0.0      0.0     0.0       0.0      0.0   \n4           1/26/20        0.0      0.0      0.0     0.0       0.0      0.0   \n..              ...        ...      ...      ...     ...       ...      ...   \n484         5/20/21    35884.0   2766.0  82039.0  7682.0   16086.0   2348.0   \n485         5/21/21    35468.0   2858.0  76855.0  7602.0   14838.0   1366.0   \n486         5/22/21    32171.0   3005.0  76490.0  7500.0   18737.0   1219.0   \n487         5/23/21    24801.0   3583.0  35819.0  6505.0   21669.0   1011.0   \n488         5/24/21    22651.0      0.0  37498.0  5343.0   16977.0    347.0   \n\n     Guyana  Paraguay     Peru  Suriname  Uruguay  Venezuela  \n0       NaN       NaN      NaN       NaN      NaN        NaN  \n1       0.0       0.0      0.0       0.0      0.0        0.0  \n2       0.0       0.0      0.0       0.0      0.0        0.0  \n3       0.0       0.0      0.0       0.0      0.0        0.0  \n4       0.0       0.0      0.0       0.0      0.0        0.0  \n..      ...       ...      ...       ...      ...        ...  \n484   136.0    3031.0      0.0     162.0   4576.0     1050.0  \n485     0.0    3166.0   6745.0     171.0   4599.0     1178.0  \n486   271.0    3228.0  10491.0     186.0   3469.0     1010.0  \n487   116.0    2514.0   4438.0     183.0   3089.0     1293.0  \n488     0.0    2720.0      0.0     191.0   2790.0     1474.0  \n\n[489 rows x 13 columns]\n"
     ]
    }
   ],
   "source": [
    "sa_date_format = {'Date': dDate, 'Argentina': dArgentina, \"Bolivia\": dBolivia, \"Brazil\": dBrazil, \"Chile\": dChile, \"Colombia\": dColombia, \"Ecuador\": dEcuador, \"Guyana\": dGuyana, \"Paraguay\": dParaguay, \"Peru\": dPeru, \"Suriname\": dSuriname, \"Uruguay\": dUruguay, \"Venezuela\": dVenezuela}\n",
    "sa_data = pd.DataFrame(sa_date_format)\n",
    "print(sa_data)"
   ]
  },
  {
   "cell_type": "code",
   "execution_count": 7,
   "metadata": {},
   "outputs": [],
   "source": [
    "sa_data = sa_data.drop(0)"
   ]
  },
  {
   "cell_type": "code",
   "execution_count": 9,
   "metadata": {},
   "outputs": [
    {
     "output_type": "stream",
     "name": "stdout",
     "text": [
      "[0.0, 0.0, 107.0, 1060.0, 8815.0, 23237.0, 43570.0, 39809.0, 18713.0, 6446.0, 2951.0, 15416.0, 56711.0, 32175.0, 23401.0, 31321.0, 43126.0]\n"
     ]
    }
   ],
   "source": [
    "bolivia = [\n",
    "    sa_data.iloc[0:9, [2]].sum(),\n",
    "    sa_data.iloc[9:38, [2]].sum(),\n",
    "    sa_data.iloc[38:69, [2]].sum(),\n",
    "    sa_data.iloc[69:99, [2]].sum(),\n",
    "    sa_data.iloc[99:130, [2]].sum(),\n",
    "    sa_data.iloc[130:160, [2]].sum(),\n",
    "    sa_data.iloc[160:191, [2]].sum(),\n",
    "    sa_data.iloc[191:222, [2]].sum(),\n",
    "    sa_data.iloc[222:252, [2]].sum(),\n",
    "    sa_data.iloc[252:283, [2]].sum(),\n",
    "    sa_data.iloc[283:313, [2]].sum(),\n",
    "    sa_data.iloc[313:344, [2]].sum(),\n",
    "    sa_data.iloc[344:375, [2]].sum(),\n",
    "    sa_data.iloc[375:403, [2]].sum(),\n",
    "    sa_data.iloc[403:434, [2]].sum(),\n",
    "    sa_data.iloc[434:464, [2]].sum(),\n",
    "    sa_data.iloc[466:489, [2]].sum()\n",
    "]\n",
    "bolivia = pd.DataFrame(bolivia)\n",
    "bolivia = bolivia.Bolivia.tolist()\n",
    "print(bolivia)"
   ]
  },
  {
   "cell_type": "code",
   "execution_count": 10,
   "metadata": {},
   "outputs": [],
   "source": [
    "sa_data_out = {'Year':[],'Month':[], 'Argentina':[], 'Bolivia':[], 'Brazil':[], 'Chile':[], 'Colombia':[], 'Ecuador':[], 'Guyana':[], 'Paraguay':[], 'Peru':[], 'Suriname':[], 'Uruguay':[], 'Venezuela':[] }\n",
    "sa_data_out = pd.DataFrame(sa_data_out)"
   ]
  },
  {
   "cell_type": "code",
   "execution_count": 11,
   "metadata": {},
   "outputs": [],
   "source": [
    "sa_data_out.Month = ['January','February','March','April','May','June','July','August','September','October','November','December','January','February','March','April','May']\n",
    "sa_data_out.Year = [2020,2020,2020,2020,2020,2020,2020,2020,2020,2020,2020,2020,2021,2021,2021,2021,2021]"
   ]
  },
  {
   "cell_type": "code",
   "execution_count": 12,
   "metadata": {},
   "outputs": [
    {
     "output_type": "stream",
     "name": "stdout",
     "text": [
      "    Year      Month  Argentina  Bolivia  Brazil  Chile  Colombia  Ecuador  \\\n0   2020    January        NaN      NaN     NaN    NaN       NaN      NaN   \n1   2020   February        NaN      NaN     NaN    NaN       NaN      NaN   \n2   2020      March        NaN      NaN     NaN    NaN       NaN      NaN   \n3   2020      April        NaN      NaN     NaN    NaN       NaN      NaN   \n4   2020        May        NaN      NaN     NaN    NaN       NaN      NaN   \n5   2020       June        NaN      NaN     NaN    NaN       NaN      NaN   \n6   2020       July        NaN      NaN     NaN    NaN       NaN      NaN   \n7   2020     August        NaN      NaN     NaN    NaN       NaN      NaN   \n8   2020  September        NaN      NaN     NaN    NaN       NaN      NaN   \n9   2020    October        NaN      NaN     NaN    NaN       NaN      NaN   \n10  2020   November        NaN      NaN     NaN    NaN       NaN      NaN   \n11  2020   December        NaN      NaN     NaN    NaN       NaN      NaN   \n12  2021    January        NaN      NaN     NaN    NaN       NaN      NaN   \n13  2021   February        NaN      NaN     NaN    NaN       NaN      NaN   \n14  2021      March        NaN      NaN     NaN    NaN       NaN      NaN   \n15  2021      April        NaN      NaN     NaN    NaN       NaN      NaN   \n16  2021        May        NaN      NaN     NaN    NaN       NaN      NaN   \n\n    Guyana  Paraguay  Peru  Suriname  Uruguay  Venezuela  \n0      NaN       NaN   NaN       NaN      NaN        NaN  \n1      NaN       NaN   NaN       NaN      NaN        NaN  \n2      NaN       NaN   NaN       NaN      NaN        NaN  \n3      NaN       NaN   NaN       NaN      NaN        NaN  \n4      NaN       NaN   NaN       NaN      NaN        NaN  \n5      NaN       NaN   NaN       NaN      NaN        NaN  \n6      NaN       NaN   NaN       NaN      NaN        NaN  \n7      NaN       NaN   NaN       NaN      NaN        NaN  \n8      NaN       NaN   NaN       NaN      NaN        NaN  \n9      NaN       NaN   NaN       NaN      NaN        NaN  \n10     NaN       NaN   NaN       NaN      NaN        NaN  \n11     NaN       NaN   NaN       NaN      NaN        NaN  \n12     NaN       NaN   NaN       NaN      NaN        NaN  \n13     NaN       NaN   NaN       NaN      NaN        NaN  \n14     NaN       NaN   NaN       NaN      NaN        NaN  \n15     NaN       NaN   NaN       NaN      NaN        NaN  \n16     NaN       NaN   NaN       NaN      NaN        NaN  \n"
     ]
    }
   ],
   "source": [
    "print(sa_data_out)"
   ]
  },
  {
   "cell_type": "code",
   "execution_count": 13,
   "metadata": {},
   "outputs": [
    {
     "output_type": "stream",
     "name": "stdout",
     "text": [
      "        Date  Argentina\n467   5/3/21    15920.0\n468   5/4/21    26238.0\n469   5/5/21    24079.0\n470   5/6/21    24086.0\n471   5/7/21    22552.0\n472   5/8/21    18024.0\n473   5/9/21    11582.0\n474  5/10/21    17381.0\n475  5/11/21    25976.0\n476  5/12/21    24475.0\n477  5/13/21    26531.0\n478  5/14/21    27363.0\n479  5/15/21    21469.0\n480  5/16/21    16350.0\n481  5/17/21    28680.0\n482  5/18/21    35543.0\n483  5/19/21    39652.0\n484  5/20/21    35884.0\n485  5/21/21    35468.0\n486  5/22/21    32171.0\n487  5/23/21    24801.0\n488  5/24/21    22651.0\n"
     ]
    }
   ],
   "source": [
    "argentina = [\n",
    "    sa_data.iloc[0:9, [1]].sum(),\n",
    "    sa_data.iloc[9:38, [1]].sum(),\n",
    "    sa_data.iloc[38:69, [1]].sum(),\n",
    "    sa_data.iloc[69:99, [1]].sum(),\n",
    "    sa_data.iloc[99:130, [1]].sum(),\n",
    "    sa_data.iloc[130:160, [1]].sum(),\n",
    "    sa_data.iloc[160:191, [1]].sum(),\n",
    "    sa_data.iloc[191:222, [1]].sum(),\n",
    "    sa_data.iloc[222:252, [1]].sum(),\n",
    "    sa_data.iloc[252:283, [1]].sum(),\n",
    "    sa_data.iloc[283:313, [1]].sum(),\n",
    "    sa_data.iloc[313:344, [1]].sum(),\n",
    "    sa_data.iloc[344:375, [1]].sum(),\n",
    "    sa_data.iloc[375:403, [1]].sum(),\n",
    "    sa_data.iloc[403:434, [1]].sum(),\n",
    "    sa_data.iloc[434:464, [1]].sum(),\n",
    "    sa_data.iloc[466:489, [1]].sum()\n",
    "]\n",
    "argentina = pd.DataFrame(argentina)\n",
    "argentina = argentina.Argentina.tolist()"
   ]
  },
  {
   "cell_type": "code",
   "execution_count": 18,
   "metadata": {},
   "outputs": [
    {
     "output_type": "stream",
     "name": "stdout",
     "text": [
      "[0.0, 0.0, 107.0, 1060.0, 8815.0, 23237.0, 43570.0, 39809.0, 18713.0, 6446.0, 2951.0, 15416.0, 56711.0, 32175.0, 23401.0, 31321.0, 43126.0]\n"
     ]
    }
   ],
   "source": [
    "bolivia = [\n",
    "    sa_data.iloc[0:9, [2]].sum(),\n",
    "    sa_data.iloc[9:38, [2]].sum(),\n",
    "    sa_data.iloc[38:69, [2]].sum(),\n",
    "    sa_data.iloc[69:99, [2]].sum(),\n",
    "    sa_data.iloc[99:130, [2]].sum(),\n",
    "    sa_data.iloc[130:160, [2]].sum(),\n",
    "    sa_data.iloc[160:191, [2]].sum(),\n",
    "    sa_data.iloc[191:222, [2]].sum(),\n",
    "    sa_data.iloc[222:252, [2]].sum(),\n",
    "    sa_data.iloc[252:283, [2]].sum(),\n",
    "    sa_data.iloc[283:313, [2]].sum(),\n",
    "    sa_data.iloc[313:344, [2]].sum(),\n",
    "    sa_data.iloc[344:375, [2]].sum(),\n",
    "    sa_data.iloc[375:403, [2]].sum(),\n",
    "    sa_data.iloc[403:434, [2]].sum(),\n",
    "    sa_data.iloc[434:464, [2]].sum(),\n",
    "    sa_data.iloc[466:489, [2]].sum()\n",
    "]\n",
    "bolivia = pd.DataFrame(bolivia)\n",
    "bolivia = bolivia.Bolivia.tolist()\n",
    "print(bolivia)"
   ]
  },
  {
   "cell_type": "code",
   "execution_count": 21,
   "metadata": {},
   "outputs": [
    {
     "output_type": "stream",
     "name": "stdout",
     "text": [
      "[0.0, 0.0, 906.0, 5601.0, 22876.0, 68463.0, 197662.0, 319586.0, 214585.0, 244505.0, 242622.0, 325969.0, 452109.0, 156806.0, 154687.0, 453347.0, 355778.0]\n"
     ]
    }
   ],
   "source": [
    "colombia = [\n",
    "    sa_data.iloc[0:9, [5]].sum(),\n",
    "    sa_data.iloc[9:38, [5]].sum(),\n",
    "    sa_data.iloc[38:69, [5]].sum(),\n",
    "    sa_data.iloc[69:99, [5]].sum(),\n",
    "    sa_data.iloc[99:130, [5]].sum(),\n",
    "    sa_data.iloc[130:160, [5]].sum(),\n",
    "    sa_data.iloc[160:191, [5]].sum(),\n",
    "    sa_data.iloc[191:222, [5]].sum(),\n",
    "    sa_data.iloc[222:252, [5]].sum(),\n",
    "    sa_data.iloc[252:283, [5]].sum(),\n",
    "    sa_data.iloc[283:313, [5]].sum(),\n",
    "    sa_data.iloc[313:344, [5]].sum(),\n",
    "    sa_data.iloc[344:375, [5]].sum(),\n",
    "    sa_data.iloc[375:403, [5]].sum(),\n",
    "    sa_data.iloc[403:434, [5]].sum(),\n",
    "    sa_data.iloc[434:464, [5]].sum(),\n",
    "    sa_data.iloc[466:489, [5]].sum()\n",
    "]\n",
    "colombia = pd.DataFrame(colombia)\n",
    "colombia = colombia.Colombia.tolist()\n",
    "print(colombia)"
   ]
  },
  {
   "cell_type": "code",
   "execution_count": 23,
   "metadata": {},
   "outputs": [],
   "source": [
    "brazil = [\n",
    "    sa_data.iloc[0:9, [3]].sum(),\n",
    "    sa_data.iloc[9:38, [3]].sum(),\n",
    "    sa_data.iloc[38:69, [3]].sum(),\n",
    "    sa_data.iloc[69:99, [3]].sum(),\n",
    "    sa_data.iloc[99:130, [3]].sum(),\n",
    "    sa_data.iloc[130:160, [3]].sum(),\n",
    "    sa_data.iloc[160:191, [3]].sum(),\n",
    "    sa_data.iloc[191:222, [3]].sum(),\n",
    "    sa_data.iloc[222:252, [3]].sum(),\n",
    "    sa_data.iloc[252:283, [3]].sum(),\n",
    "    sa_data.iloc[283:313, [3]].sum(),\n",
    "    sa_data.iloc[313:344, [3]].sum(),\n",
    "    sa_data.iloc[344:375, [3]].sum(),\n",
    "    sa_data.iloc[375:403, [3]].sum(),\n",
    "    sa_data.iloc[403:434, [3]].sum(),\n",
    "    sa_data.iloc[434:464, [3]].sum(),\n",
    "    sa_data.iloc[466:489, [3]].sum()\n",
    "]\n",
    "brazil = pd.DataFrame(brazil)\n",
    "brazil = brazil.Brazil.tolist()"
   ]
  },
  {
   "cell_type": "code",
   "execution_count": 26,
   "metadata": {},
   "outputs": [
    {
     "output_type": "stream",
     "name": "stdout",
     "text": [
      "[0.0, 2.0, 2842.0, 14858.0, 105848.0, 155843.0, 76274.0, 56059.0, 51265.0, 47265.0, 41487.0, 57230.0, 118136.0, 97516.0, 170913.0, 202707.0, 124341.0]\n"
     ]
    }
   ],
   "source": [
    "chile = [\n",
    "    sa_data.iloc[0:9, [4]].sum(),\n",
    "    sa_data.iloc[9:38, [4]].sum(),\n",
    "    sa_data.iloc[38:69, [4]].sum(),\n",
    "    sa_data.iloc[69:99, [4]].sum(),\n",
    "    sa_data.iloc[99:130, [4]].sum(),\n",
    "    sa_data.iloc[130:160, [4]].sum(),\n",
    "    sa_data.iloc[160:191, [4]].sum(),\n",
    "    sa_data.iloc[191:222, [4]].sum(),\n",
    "    sa_data.iloc[222:252, [4]].sum(),\n",
    "    sa_data.iloc[252:283, [4]].sum(),\n",
    "    sa_data.iloc[283:313, [4]].sum(),\n",
    "    sa_data.iloc[313:344, [4]].sum(),\n",
    "    sa_data.iloc[344:375, [4]].sum(),\n",
    "    sa_data.iloc[375:403, [4]].sum(),\n",
    "    sa_data.iloc[403:434, [4]].sum(),\n",
    "    sa_data.iloc[434:464, [4]].sum(),\n",
    "    sa_data.iloc[466:489, [4]].sum()\n",
    "]\n",
    "chile = pd.DataFrame(chile)\n",
    "chile = chile.Chile.tolist()\n",
    "print(chile)"
   ]
  },
  {
   "cell_type": "code",
   "execution_count": 31,
   "metadata": {},
   "outputs": [],
   "source": [
    "ecuador = [\n",
    "    sa_data.iloc[0:9, [6]].sum(),\n",
    "    sa_data.iloc[9:38, [6]].sum(),\n",
    "    sa_data.iloc[38:69, [6]].sum(),\n",
    "    sa_data.iloc[69:99, [6]].sum(),\n",
    "    sa_data.iloc[99:130, [6]].sum(),\n",
    "    sa_data.iloc[130:160, [6]].sum(),\n",
    "    sa_data.iloc[160:191, [6]].sum(),\n",
    "    sa_data.iloc[191:222, [6]].sum(),\n",
    "    sa_data.iloc[222:252, [6]].sum(),\n",
    "    sa_data.iloc[252:283, [6]].sum(),\n",
    "    sa_data.iloc[283:313, [6]].sum(),\n",
    "    sa_data.iloc[313:344, [6]].sum(),\n",
    "    sa_data.iloc[344:375, [6]].sum(),\n",
    "    sa_data.iloc[375:403, [6]].sum(),\n",
    "    sa_data.iloc[403:434, [6]].sum(),\n",
    "    sa_data.iloc[434:464, [6]].sum(),\n",
    "    sa_data.iloc[466:489, [6]].sum()\n",
    "]\n",
    "ecuador = pd.DataFrame(ecuador)\n",
    "ecuador = ecuador.Ecuador.tolist()"
   ]
  },
  {
   "cell_type": "code",
   "execution_count": 34,
   "metadata": {},
   "outputs": [],
   "source": [
    "guyana = [\n",
    "    sa_data.iloc[0:9, [7]].sum(),\n",
    "    sa_data.iloc[9:38, [7]].sum(),\n",
    "    sa_data.iloc[38:69, [7]].sum(),\n",
    "    sa_data.iloc[69:99, [7]].sum(),\n",
    "    sa_data.iloc[99:130, [7]].sum(),\n",
    "    sa_data.iloc[130:160, [7]].sum(),\n",
    "    sa_data.iloc[160:191, [7]].sum(),\n",
    "    sa_data.iloc[191:222, [7]].sum(),\n",
    "    sa_data.iloc[222:252, [7]].sum(),\n",
    "    sa_data.iloc[252:283, [7]].sum(),\n",
    "    sa_data.iloc[283:313, [7]].sum(),\n",
    "    sa_data.iloc[313:344, [7]].sum(),\n",
    "    sa_data.iloc[344:375, [7]].sum(),\n",
    "    sa_data.iloc[375:403, [7]].sum(),\n",
    "    sa_data.iloc[403:434, [7]].sum(),\n",
    "    sa_data.iloc[434:464, [7]].sum(),\n",
    "    sa_data.iloc[466:489, [7]].sum()\n",
    "]\n",
    "guyana = pd.DataFrame(guyana)\n",
    "guyana = guyana.Guyana.tolist()"
   ]
  },
  {
   "cell_type": "code",
   "execution_count": 37,
   "metadata": {},
   "outputs": [],
   "source": [
    "paraguay = [\n",
    "    sa_data.iloc[0:9, [8]].sum(),\n",
    "    sa_data.iloc[9:38, [8]].sum(),\n",
    "    sa_data.iloc[38:69, [8]].sum(),\n",
    "    sa_data.iloc[69:99, [8]].sum(),\n",
    "    sa_data.iloc[99:130, [8]].sum(),\n",
    "    sa_data.iloc[130:160, [8]].sum(),\n",
    "    sa_data.iloc[160:191, [8]].sum(),\n",
    "    sa_data.iloc[191:222, [8]].sum(),\n",
    "    sa_data.iloc[222:252, [8]].sum(),\n",
    "    sa_data.iloc[252:283, [8]].sum(),\n",
    "    sa_data.iloc[283:313, [8]].sum(),\n",
    "    sa_data.iloc[313:344, [8]].sum(),\n",
    "    sa_data.iloc[344:375, [8]].sum(),\n",
    "    sa_data.iloc[375:403, [8]].sum(),\n",
    "    sa_data.iloc[403:434, [8]].sum(),\n",
    "    sa_data.iloc[434:464, [8]].sum(),\n",
    "    sa_data.iloc[466:489, [8]].sum()\n",
    "]\n",
    "paraguay = pd.DataFrame(paraguay)\n",
    "paraguay = paraguay.Paraguay.tolist()"
   ]
  },
  {
   "cell_type": "code",
   "execution_count": 40,
   "metadata": {},
   "outputs": [],
   "source": [
    "peru = [\n",
    "    sa_data.iloc[0:9, [9]].sum(),\n",
    "    sa_data.iloc[9:38, [9]].sum(),\n",
    "    sa_data.iloc[38:69, [9]].sum(),\n",
    "    sa_data.iloc[69:99, [9]].sum(),\n",
    "    sa_data.iloc[99:130, [9]].sum(),\n",
    "    sa_data.iloc[130:160, [9]].sum(),\n",
    "    sa_data.iloc[160:191, [9]].sum(),\n",
    "    sa_data.iloc[191:222, [9]].sum(),\n",
    "    sa_data.iloc[222:252, [9]].sum(),\n",
    "    sa_data.iloc[252:283, [9]].sum(),\n",
    "    sa_data.iloc[283:313, [9]].sum(),\n",
    "    sa_data.iloc[313:344, [9]].sum(),\n",
    "    sa_data.iloc[344:375, [9]].sum(),\n",
    "    sa_data.iloc[375:403, [9]].sum(),\n",
    "    sa_data.iloc[403:434, [9]].sum(),\n",
    "    sa_data.iloc[434:464, [9]].sum(),\n",
    "    sa_data.iloc[466:489, [9]].sum()\n",
    "]\n",
    "peru = pd.DataFrame(peru)\n",
    "peru = peru.Peru.tolist()"
   ]
  },
  {
   "cell_type": "code",
   "execution_count": 43,
   "metadata": {},
   "outputs": [],
   "source": [
    "suriname = [\n",
    "    sa_data.iloc[0:9, [10]].sum(),\n",
    "    sa_data.iloc[9:38, [10]].sum(),\n",
    "    sa_data.iloc[38:69, [10]].sum(),\n",
    "    sa_data.iloc[69:99, [10]].sum(),\n",
    "    sa_data.iloc[99:130, [10]].sum(),\n",
    "    sa_data.iloc[130:160, [10]].sum(),\n",
    "    sa_data.iloc[160:191, [10]].sum(),\n",
    "    sa_data.iloc[191:222, [10]].sum(),\n",
    "    sa_data.iloc[222:252, [10]].sum(),\n",
    "    sa_data.iloc[252:283, [10]].sum(),\n",
    "    sa_data.iloc[283:313, [10]].sum(),\n",
    "    sa_data.iloc[313:344, [10]].sum(),\n",
    "    sa_data.iloc[344:375, [10]].sum(),\n",
    "    sa_data.iloc[375:403, [10]].sum(),\n",
    "    sa_data.iloc[403:434, [10]].sum(),\n",
    "    sa_data.iloc[434:464, [10]].sum(),\n",
    "    sa_data.iloc[466:489, [10]].sum()\n",
    "]\n",
    "suriname = pd.DataFrame(suriname)\n",
    "suriname = suriname.Suriname.tolist()"
   ]
  },
  {
   "cell_type": "code",
   "execution_count": 46,
   "metadata": {},
   "outputs": [],
   "source": [
    "uruguay = [\n",
    "    sa_data.iloc[0:9, [11]].sum(),\n",
    "    sa_data.iloc[9:38, [11]].sum(),\n",
    "    sa_data.iloc[38:69, [11]].sum(),\n",
    "    sa_data.iloc[69:99, [11]].sum(),\n",
    "    sa_data.iloc[99:130, [11]].sum(),\n",
    "    sa_data.iloc[130:160, [11]].sum(),\n",
    "    sa_data.iloc[160:191, [11]].sum(),\n",
    "    sa_data.iloc[191:222, [11]].sum(),\n",
    "    sa_data.iloc[222:252, [11]].sum(),\n",
    "    sa_data.iloc[252:283, [11]].sum(),\n",
    "    sa_data.iloc[283:313, [11]].sum(),\n",
    "    sa_data.iloc[313:344, [11]].sum(),\n",
    "    sa_data.iloc[344:375, [11]].sum(),\n",
    "    sa_data.iloc[375:403, [11]].sum(),\n",
    "    sa_data.iloc[403:434, [11]].sum(),\n",
    "    sa_data.iloc[434:464, [11]].sum(),\n",
    "    sa_data.iloc[466:489, [11]].sum()\n",
    "]\n",
    "uruguay = pd.DataFrame(uruguay)\n",
    "uruguay = uruguay.Uruguay.tolist()"
   ]
  },
  {
   "cell_type": "code",
   "execution_count": 49,
   "metadata": {},
   "outputs": [],
   "source": [
    "venezuela = [\n",
    "    sa_data.iloc[0:9, [12]].sum(),\n",
    "    sa_data.iloc[9:38, [12]].sum(),\n",
    "    sa_data.iloc[38:69, [12]].sum(),\n",
    "    sa_data.iloc[69:99, [12]].sum(),\n",
    "    sa_data.iloc[99:130, [12]].sum(),\n",
    "    sa_data.iloc[130:160, [12]].sum(),\n",
    "    sa_data.iloc[160:191, [12]].sum(),\n",
    "    sa_data.iloc[191:222, [12]].sum(),\n",
    "    sa_data.iloc[222:252, [12]].sum(),\n",
    "    sa_data.iloc[252:283, [12]].sum(),\n",
    "    sa_data.iloc[283:313, [12]].sum(),\n",
    "    sa_data.iloc[313:344, [12]].sum(),\n",
    "    sa_data.iloc[344:375, [12]].sum(),\n",
    "    sa_data.iloc[375:403, [12]].sum(),\n",
    "    sa_data.iloc[403:434, [12]].sum(),\n",
    "    sa_data.iloc[434:464, [12]].sum(),\n",
    "    sa_data.iloc[466:489, [12]].sum()\n",
    "]\n",
    "venezuela = pd.DataFrame(venezuela)\n",
    "venezuela = venezuela.Venezuela.tolist()"
   ]
  },
  {
   "cell_type": "code",
   "execution_count": 50,
   "metadata": {},
   "outputs": [],
   "source": [
    "sa_data_out.Argentina = argentina\n",
    "sa_data_out.Bolivia = bolivia\n",
    "sa_data_out.Brazil = brazil\n",
    "sa_data_out.Chile = chile\n",
    "sa_data_out.Colombia = colombia\n",
    "sa_data_out.Ecuador = ecuador\n",
    "sa_data_out.Guyana = guyana\n",
    "sa_data_out.Paraguay = paraguay\n",
    "sa_data_out.Peru = peru\n",
    "sa_data_out.Suriname = suriname\n",
    "sa_data_out.Uruguay = uruguay\n",
    "sa_data_out.Venezuela = venezuela"
   ]
  },
  {
   "cell_type": "code",
   "execution_count": 51,
   "metadata": {},
   "outputs": [
    {
     "output_type": "stream",
     "name": "stdout",
     "text": [
      "    Year      Month  Argentina  Bolivia     Brazil     Chile  Colombia  \\\n0   2020    January        0.0      0.0        0.0       0.0       0.0   \n1   2020   February        0.0      0.0        2.0       2.0       0.0   \n2   2020      March     1054.0    107.0     5715.0    2842.0     906.0   \n3   2020      April     3374.0   1060.0    81470.0   14858.0    5601.0   \n4   2020        May    12423.0   8815.0   427662.0  105848.0   22876.0   \n5   2020       June    47679.0  23237.0   887192.0  155843.0   68463.0   \n6   2020       July   126772.0  43570.0  1260444.0   76274.0  197662.0   \n7   2020     August   226433.0  39809.0  1245787.0   56059.0  319586.0   \n8   2020  September   333266.0  18713.0   902663.0   51265.0  214585.0   \n9   2020    October   415923.0   6446.0   724670.0   47265.0  244505.0   \n10  2020   November   257609.0   2951.0   800273.0   41487.0  242622.0   \n11  2020   December   200981.0  15416.0  1340095.0   57230.0  325969.0   \n12  2021    January   301725.0  56711.0  1528758.0  118136.0  452109.0   \n13  2021   February   180126.0  32175.0  1346528.0   97516.0  156806.0   \n14  2021      March   241456.0  23401.0  2197488.0  170913.0  154687.0   \n15  2021      April   628542.0  31321.0  1910264.0  202707.0  453347.0   \n16  2021        May   556876.0  43126.0  1365846.0  124341.0  355778.0   \n\n    Ecuador  Guyana  Paraguay      Peru  Suriname  Uruguay  Venezuela  \n0       0.0     0.0       0.0       0.0       0.0      0.0        0.0  \n1       0.0     0.0       0.0       0.0       0.0      0.0        0.0  \n2    2240.0    12.0      65.0    1065.0       9.0    338.0      135.0  \n3   22694.0    70.0     201.0   35911.0       1.0    305.0      198.0  \n4   14164.0    71.0     720.0  127500.0      13.0    180.0     1177.0  \n5   17334.0    92.0    1235.0  120737.0     492.0    113.0     4322.0  \n6   28923.0   168.0    3117.0  122279.0    1135.0    328.0    12742.0  \n7   28412.0   893.0   12324.0  239674.0    2384.0    331.0    28154.0  \n8   23280.0  1588.0   23096.0  164602.0     843.0    451.0    28394.0  \n9   31145.0  1268.0   22427.0   88412.0     326.0   1078.0    16891.0  \n10  24493.0  1244.0   19239.0   62350.0     109.0   2733.0    10381.0  \n11  19827.0   926.0   25508.0   52607.0     898.0  13262.0    11164.0  \n12  38316.0  1309.0   25295.0  123102.0    2228.0  22619.0    13369.0  \n13  35327.0   944.0   26247.0  185624.0     491.0  16256.0    12189.0  \n14  42600.0  1664.0   55193.0  224944.0     193.0  47555.0    21381.0  \n15  53107.0  3034.0   64410.0  250638.0    1241.0  92879.0    37186.0  \n16  31899.0  2612.0   53148.0  114291.0    2813.0  65396.0    24752.0  \n"
     ]
    }
   ],
   "source": [
    "print(sa_data_out)"
   ]
  },
  {
   "cell_type": "code",
   "execution_count": 52,
   "metadata": {},
   "outputs": [],
   "source": [
    "sa_data_out.to_csv(r'./sa_data_cases_out.csv',header=True)"
   ]
  },
  {
   "cell_type": "code",
   "execution_count": null,
   "metadata": {},
   "outputs": [],
   "source": []
  }
 ]
}