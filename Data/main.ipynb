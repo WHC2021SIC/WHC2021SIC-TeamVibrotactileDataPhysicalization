{
 "metadata": {
  "language_info": {
   "codemirror_mode": {
    "name": "ipython",
    "version": 3
   },
   "file_extension": ".py",
   "mimetype": "text/x-python",
   "name": "python",
   "nbconvert_exporter": "python",
   "pygments_lexer": "ipython3",
   "version": "3.9.4"
  },
  "orig_nbformat": 2,
  "kernelspec": {
   "name": "python394jvsc74a57bd0ef3fcfbe48676b9f3ea223ab1d290c687e1f4f62cd4c83b73413f139f937f2ff",
   "display_name": "Python 3.9.4 64-bit ('data_analysis': venv)"
  },
  "metadata": {
   "interpreter": {
    "hash": "999f91b3bb0e2734c4d7d8029d01832acd6758d35c216346a19dbc3783264855"
   }
  }
 },
 "nbformat": 4,
 "nbformat_minor": 2,
 "cells": [
  {
   "cell_type": "code",
   "execution_count": 1,
   "metadata": {},
   "outputs": [],
   "source": [
    "import pandas as pd"
   ]
  },
  {
   "cell_type": "code",
   "execution_count": 194,
   "metadata": {},
   "outputs": [
    {
     "output_type": "stream",
     "name": "stdout",
     "text": [
      "[nan, 0.0, 0.0, 0.0, 0.0, 0.0, 0.0, 0.0, 0.0, 0.0, 0.0, 0.0, 0.0, 0.0, 0.0, 0.0, 0.0, 0.0, 0.0, 0.0, 0.0, 0.0, 0.0, 0.0, 0.0, 0.0, 0.0, 0.0, 0.0, 0.0, 0.0, 0.0, 0.0, 0.0, 0.0, 0.0, 0.0, 0.0, 0.0, 0.0, 0.0, 0.0, 0.0, 0.0, 0.0, 0.0, 1.0, 0.0, 0.0, 0.0, 0.0, 1.0, 0.0, 0.0, 0.0, 0.0, 0.0, 1.0, 0.0, 1.0, 0.0, 0.0, 2.0, 2.0, 1.0, 4.0, 5.0, 1.0, 4.0, 4.0, 1.0, 8.0, 3.0, 4.0, 1.0, 4.0, 8.0, 7.0, 9.0, 10.0, 1.0, 7.0, 7.0, 5.0, 9.0, 4.0, 8.0, 6.0, 3.0, 4.0, 11.0, 5.0, 13.0, 11.0, 9.0, 7.0, 5.0, 10.0, 7.0, 4.0, 7.0, 12.0, 9.0, 14.0, 4.0, 9.0, 9.0, 11.0, 7.0, 5.0, 9.0, 5.0, 10.0, 24.0, 3.0, 7.0, 10.0, 9.0, 11.0, 10.0, 13.0, 17.0, 12.0, 7.0, 15.0, 17.0, 16.0, 8.0, 12.0, 8.0, 11.0, 17.0, 13.0, 14.0, 25.0, 24.0, 16.0, 16.0, 29.0, 24.0, 18.0, 30.0, 20.0, 30.0, 18.0, 21.0, 24.0, 35.0, 35.0, 31.0, 13.0, 19.0, 32.0, 35.0, 38.0, 34.0, 34.0, 23.0, 25.0, 48.0, 27.0, 44.0, 34.0, 52.0, 44.0, 26.0, 75.0, 62.0, 50.0, 26.0, 54.0, 36.0, 35.0, 58.0, 65.0, 82.0, 62.0, 66.0, 42.0, 40.0, 113.0, 117.0, 98.0, 114.0, 105.0, 86.0, 46.0, 120.0, 120.0, 109.0, 153.0, 102.0, 53.0, 52.0, 165.0, 166.0, 127.0, 145.0, 160.0, 112.0, 83.0, 158.0, 240.0, 209.0, 149.0, 165.0, 110.0, 66.0, 111.0, 234.0, 282.0, 187.0, 213.0, 118.0, 137.0, 381.0, 197.0, 276.0, 211.0, 221.0, 82.0, 104.0, 203.0, 259.0, 199.0, 243.0, 262.0, 116.0, 120.0, 270.0, 276.0, 253.0, 249.0, 241.0, 115.0, 89.0, 315.0, 185.0, 264.0, 344.0, 196.0, 143.0, 254.0, 429.0, 470.0, 424.0, 390.0, 442.0, 335.0, 206.0, 364.0, 406.0, 418.0, 3351.0, 311.0, 196.0, 223.0, 450.0, 359.0, 399.0, 484.0, 515.0, 356.0, 287.0, 318.0, 386.0, 349.0, 421.0, 381.0, 384.0, 160.0, 449.0, 384.0, 419.0, 438.0, 381.0, 275.0, 283.0, 405.0, 429.0, 341.0, 371.0, 350.0, 210.0, 138.0, 483.0, 429.0, 468.0, 246.0, 370.0, 212.0, 212.0, 347.0, 276.0, 348.0, 251.0, 263.0, 262.0, 129.0, 291.0, 379.0, 241.0, 185.0, 258.0, 112.0, 100.0, 120.0, 310.0, 282.0, 227.0, 275.0, 106.0, 151.0, 257.0, 198.0, 228.0, 149.0, 207.0, 120.0, 138.0, 118.0, 121.0, 213.0, 209.0, 175.0, 62.0, 98.0, 275.0, 163.0, 161.0, 169.0, 138.0, 91.0, 50.0, 184.0, 257.0, 60.0, 0.0, 108.0, 79.0, 149.0, 218.0, 150.0, 145.0, 82.0, 74.0, 56.0, 107.0, 152.0, 151.0, 191.0, 146.0, 151.0, 144.0, 78.0, 159.0, 194.0, 135.0, 142.0, 102.0, 68.0, 112.0, 425.0, 234.0, 150.0, 139.0, 220.0, 162.0, 90.0, 207.0, 219.0, 182.0, 166.0, 174.0, 156.0, 43.0, 275.0, 177.0, 113.0, 161.0, 285.0, 125.0, 61.0, 227.0, 168.0, 108.0, 200.0, 155.0, 159.0, 48.0, 91.0, 105.0, 184.0, 241.0, 143.0, 122.0, 76.0, 161.0, 151.0, 140.0, 145.0, 92.0, 59.0, 19.0, 112.0, 115.0, 261.0, 191.0, 140.0, 86.0, 10.0, 241.0, 131.0, 107.0, 134.0, 85.0, 68.0, 24.0, 166.0, 200.0, 195.0, 155.0, 90.0, 41.0, 28.0, 126.0, 152.0, 123.0, 146.0, 143.0, 133.0, 81.0, 162.0, 125.0, 122.0, 83.0, 82.0, 83.0, 93.0, 272.0, 163.0, 198.0, 290.0, 228.0, 297.0, 132.0, 178.0, 217.0, 368.0, 383.0, 159.0, 80.0, 64.0, 248.0, 316.0, 291.0, 537.0, 556.0, 298.0, 170.0, 443.0, 512.0, 348.0, 561.0, 357.0, 231.0, 156.0, 540.0, 410.0, 663.0, 398.0, 609.0, 170.0, 283.0, 496.0, 490.0, 496.0, 447.0, 599.0, 400.0, 269.0, 505.0, 744.0, 494.0, 434.0, 692.0, 297.0, 375.0, 417.0]\n"
     ]
    }
   ],
   "source": [
    "data = pd.DataFrame(pd.read_csv(\"CONVENIENT_global_deaths.csv\"))\n",
    "\n",
    "print(data[\"Argentina\"].tolist())\n"
   ]
  },
  {
   "cell_type": "code",
   "execution_count": 195,
   "metadata": {},
   "outputs": [],
   "source": [
    "dArgentina = data[\"Argentina\"].tolist()\n",
    "dBolivia = data[\"Bolivia\"].tolist()\n",
    "dBrazil = data[\"Brazil\"].tolist()\n",
    "dChile = data[\"Chile\"].tolist()\n",
    "dColombia = data[\"Colombia\"].tolist()\n",
    "dEcuador = data[\"Ecuador\"].tolist()\n",
    "dGuyana = data[\"Guyana\"].tolist()\n",
    "dParaguay = data[\"Paraguay\"].tolist()\n",
    "dPeru = data[\"Peru\"].tolist()\n",
    "dSuriname = data[\"Suriname\"].tolist()\n",
    "dUruguay = data[\"Uruguay\"].tolist()\n",
    "dVenezuela = data[\"Venezuela\"].tolist()\n",
    "dDate = data[\"Country/Region\"].tolist()\n"
   ]
  },
  {
   "cell_type": "code",
   "execution_count": 196,
   "metadata": {},
   "outputs": [
    {
     "output_type": "stream",
     "name": "stdout",
     "text": [
      "               Date  Argentina  Bolivia  Brazil  Chile  Colombia  Ecuador  \\\n0    Province/State        NaN      NaN     NaN    NaN       NaN      NaN   \n1           1/23/20        0.0      0.0     0.0    0.0       0.0      0.0   \n2           1/24/20        0.0      0.0     0.0    0.0       0.0      0.0   \n3           1/25/20        0.0      0.0     0.0    0.0       0.0      0.0   \n4           1/26/20        0.0      0.0     0.0    0.0       0.0      0.0   \n..              ...        ...      ...     ...    ...       ...      ...   \n484         5/20/21      434.0     58.0  2403.0  172.0     490.0     43.0   \n485         5/21/21      692.0     87.0  2215.0  121.0     486.0     85.0   \n486         5/22/21      297.0     77.0  1899.0   96.0     509.0     73.0   \n487         5/23/21      375.0    108.0   860.0  132.0     496.0     13.0   \n488         5/24/21      417.0      0.0   790.0   30.0     483.0     17.0   \n\n     Guyana  Paraguay   Peru  Suriname  Uruguay  Venezuela  \n0       NaN       NaN    NaN       NaN      NaN        NaN  \n1       0.0       0.0    0.0       0.0      0.0        0.0  \n2       0.0       0.0    0.0       0.0      0.0        0.0  \n3       0.0       0.0    0.0       0.0      0.0        0.0  \n4       0.0       0.0    0.0       0.0      0.0        0.0  \n..      ...       ...    ...       ...      ...        ...  \n484     0.0      98.0    0.0       1.0     53.0       19.0  \n485     0.0     103.0  219.0       3.0     69.0       18.0  \n486     6.0     120.0  554.0       2.0     51.0       16.0  \n487     4.0     125.0  246.0       4.0     60.0       14.0  \n488     0.0     114.0    0.0       7.0     51.0       15.0  \n\n[489 rows x 13 columns]\n"
     ]
    }
   ],
   "source": [
    "sa_date_format = {'Date': dDate, 'Argentina': dArgentina, \"Bolivia\": dBolivia, \"Brazil\": dBrazil, \"Chile\": dChile, \"Colombia\": dColombia, \"Ecuador\": dEcuador, \"Guyana\": dGuyana, \"Paraguay\": dParaguay, \"Peru\": dPeru, \"Suriname\": dSuriname, \"Uruguay\": dUruguay, \"Venezuela\": dVenezuela}\n",
    "sa_data = pd.DataFrame(sa_date_format)\n",
    "print(sa_data)"
   ]
  },
  {
   "cell_type": "code",
   "execution_count": 197,
   "metadata": {},
   "outputs": [],
   "source": [
    "sa_data = sa_data.drop(0)"
   ]
  },
  {
   "cell_type": "code",
   "execution_count": 201,
   "metadata": {},
   "outputs": [
    {
     "output_type": "stream",
     "name": "stdout",
     "text": [
      "        Date  Argentina\n467   5/3/21      540.0\n468   5/4/21      410.0\n469   5/5/21      663.0\n470   5/6/21      398.0\n471   5/7/21      609.0\n472   5/8/21      170.0\n473   5/9/21      283.0\n474  5/10/21      496.0\n475  5/11/21      490.0\n476  5/12/21      496.0\n477  5/13/21      447.0\n478  5/14/21      599.0\n479  5/15/21      400.0\n480  5/16/21      269.0\n481  5/17/21      505.0\n482  5/18/21      744.0\n483  5/19/21      494.0\n484  5/20/21      434.0\n485  5/21/21      692.0\n486  5/22/21      297.0\n487  5/23/21      375.0\n488  5/24/21      417.0\n"
     ]
    }
   ],
   "source": [
    "#print(sa_data)\n",
    "sa_data.to_csv(r'./sa_data.csv',header=True)\n",
    "argentina = [\n",
    "    sa_data.iloc[0:9, [1]].sum(),\n",
    "    sa_data.iloc[9:38, [1]].sum(),\n",
    "    sa_data.iloc[38:69, [1]].sum(),\n",
    "    sa_data.iloc[69:99, [1]].sum(),\n",
    "    sa_data.iloc[99:130, [1]].sum(),\n",
    "    sa_data.iloc[130:160, [1]].sum(),\n",
    "    sa_data.iloc[160:191, [1]].sum(),\n",
    "    sa_data.iloc[191:222, [1]].sum(),\n",
    "    sa_data.iloc[222:252, [1]].sum(),\n",
    "    sa_data.iloc[252:283, [1]].sum(),\n",
    "    sa_data.iloc[283:313, [1]].sum(),\n",
    "    sa_data.iloc[313:344, [1]].sum(),\n",
    "    sa_data.iloc[344:375, [1]].sum(),\n",
    "    sa_data.iloc[375:403, [1]].sum(),\n",
    "    sa_data.iloc[403:434, [1]].sum(),\n",
    "    sa_data.iloc[434:464, [1]].sum(),\n",
    "    sa_data.iloc[466:489, [1]].sum()\n",
    "]\n",
    "argentina = pd.DataFrame(argentina)\n",
    "print(sa_data.iloc[466:489, [0,1]])\n",
    "argentina = argentina.Argentina.tolist()"
   ]
  },
  {
   "cell_type": "code",
   "execution_count": 180,
   "metadata": {},
   "outputs": [
    {
     "output_type": "stream",
     "name": "stdout",
     "text": [
      "[0.0, 0.0, 6.0, 56.0, 251.0, 810.0, 1854.0, 2050.0, 2938.0, 760.0, 232.0, 208.0, 1214.0, 1270.0, 608.0, 694.0, 956.0]\n"
     ]
    }
   ],
   "source": [
    "bolivia = [\n",
    "    sa_data.iloc[0:9, [2]].sum(),\n",
    "    sa_data.iloc[9:38, [2]].sum(),\n",
    "    sa_data.iloc[38:69, [2]].sum(),\n",
    "    sa_data.iloc[69:99, [2]].sum(),\n",
    "    sa_data.iloc[99:130, [2]].sum(),\n",
    "    sa_data.iloc[130:160, [2]].sum(),\n",
    "    sa_data.iloc[160:191, [2]].sum(),\n",
    "    sa_data.iloc[191:222, [2]].sum(),\n",
    "    sa_data.iloc[222:252, [2]].sum(),\n",
    "    sa_data.iloc[252:283, [2]].sum(),\n",
    "    sa_data.iloc[283:313, [2]].sum(),\n",
    "    sa_data.iloc[313:344, [2]].sum(),\n",
    "    sa_data.iloc[344:375, [2]].sum(),\n",
    "    sa_data.iloc[375:403, [2]].sum(),\n",
    "    sa_data.iloc[403:434, [2]].sum(),\n",
    "    sa_data.iloc[434:464, [2]].sum(),\n",
    "    sa_data.iloc[466:489, [2]].sum()\n",
    "]\n",
    "bolivia = pd.DataFrame(bolivia)\n",
    "bolivia = bolivia.Bolivia.tolist()\n",
    "print(bolivia)"
   ]
  },
  {
   "cell_type": "code",
   "execution_count": 184,
   "metadata": {},
   "outputs": [
    {
     "output_type": "stream",
     "name": "stdout",
     "text": [
      "[0.0, 0.0, 201.0, 5805.0, 23308.0, 30280.0, 32881.0, 28906.0, 22571.0, 15932.0, 13236.0, 21829.0, 29555.0, 30438.0, 66573.0, 82266.0, 42219.0]\n"
     ]
    }
   ],
   "source": [
    "brazil = [\n",
    "    sa_data.iloc[0:9, [3]].sum(),\n",
    "    sa_data.iloc[9:38, [3]].sum(),\n",
    "    sa_data.iloc[38:69, [3]].sum(),\n",
    "    sa_data.iloc[69:99, [3]].sum(),\n",
    "    sa_data.iloc[99:130, [3]].sum(),\n",
    "    sa_data.iloc[130:160, [3]].sum(),\n",
    "    sa_data.iloc[160:191, [3]].sum(),\n",
    "    sa_data.iloc[191:222, [3]].sum(),\n",
    "    sa_data.iloc[222:252, [3]].sum(),\n",
    "    sa_data.iloc[252:283, [3]].sum(),\n",
    "    sa_data.iloc[283:313, [3]].sum(),\n",
    "    sa_data.iloc[313:344, [3]].sum(),\n",
    "    sa_data.iloc[344:375, [3]].sum(),\n",
    "    sa_data.iloc[375:403, [3]].sum(),\n",
    "    sa_data.iloc[403:434, [3]].sum(),\n",
    "    sa_data.iloc[434:464, [3]].sum(),\n",
    "    sa_data.iloc[466:489, [3]].sum()\n",
    "]\n",
    "brazil = pd.DataFrame(brazil)\n",
    "brazil = brazil.Brazil.tolist()\n"
   ]
  },
  {
   "cell_type": "code",
   "execution_count": 188,
   "metadata": {},
   "outputs": [
    {
     "output_type": "stream",
     "name": "stdout",
     "text": [
      "[0.0, 0.0, 12.0, 215.0, 827.0, 4634.0, 3769.0, 1832.0, 1452.0, 1466.0, 1203.0, 1198.0, 1844.0, 2120.0, 2563.0, 3218.0, 1987.0]\n"
     ]
    }
   ],
   "source": [
    "chile = [\n",
    "    sa_data.iloc[0:9, [4]].sum(),\n",
    "    sa_data.iloc[9:38, [4]].sum(),\n",
    "    sa_data.iloc[38:69, [4]].sum(),\n",
    "    sa_data.iloc[69:99, [4]].sum(),\n",
    "    sa_data.iloc[99:130, [4]].sum(),\n",
    "    sa_data.iloc[130:160, [4]].sum(),\n",
    "    sa_data.iloc[160:191, [4]].sum(),\n",
    "    sa_data.iloc[191:222, [4]].sum(),\n",
    "    sa_data.iloc[222:252, [4]].sum(),\n",
    "    sa_data.iloc[252:283, [4]].sum(),\n",
    "    sa_data.iloc[283:313, [4]].sum(),\n",
    "    sa_data.iloc[313:344, [4]].sum(),\n",
    "    sa_data.iloc[344:375, [4]].sum(),\n",
    "    sa_data.iloc[375:403, [4]].sum(),\n",
    "    sa_data.iloc[403:434, [4]].sum(),\n",
    "    sa_data.iloc[434:464, [4]].sum(),\n",
    "    sa_data.iloc[466:489, [4]].sum()\n",
    "]\n",
    "chile = pd.DataFrame(chile)\n",
    "chile = chile.Chile.tolist()\n",
    "print(chile)"
   ]
  },
  {
   "cell_type": "code",
   "execution_count": 191,
   "metadata": {},
   "outputs": [
    {
     "output_type": "stream",
     "name": "stdout",
     "text": [
      "[0.0, 0.0, 16.0, 277.0, 646.0, 2395.0, 6771.0, 9557.0, 6336.0, 5316.0, 5452.0, 6447.0, 10770.0, 5783.0, 3656.0, 10298.0, 10730.0]\n"
     ]
    }
   ],
   "source": [
    "colombia = [\n",
    "    sa_data.iloc[0:9, [5]].sum(),\n",
    "    sa_data.iloc[9:38, [5]].sum(),\n",
    "    sa_data.iloc[38:69, [5]].sum(),\n",
    "    sa_data.iloc[69:99, [5]].sum(),\n",
    "    sa_data.iloc[99:130, [5]].sum(),\n",
    "    sa_data.iloc[130:160, [5]].sum(),\n",
    "    sa_data.iloc[160:191, [5]].sum(),\n",
    "    sa_data.iloc[191:222, [5]].sum(),\n",
    "    sa_data.iloc[222:252, [5]].sum(),\n",
    "    sa_data.iloc[252:283, [5]].sum(),\n",
    "    sa_data.iloc[283:313, [5]].sum(),\n",
    "    sa_data.iloc[313:344, [5]].sum(),\n",
    "    sa_data.iloc[344:375, [5]].sum(),\n",
    "    sa_data.iloc[375:403, [5]].sum(),\n",
    "    sa_data.iloc[403:434, [5]].sum(),\n",
    "    sa_data.iloc[434:464, [5]].sum(),\n",
    "    sa_data.iloc[466:489, [5]].sum()\n",
    "]\n",
    "colombia = pd.DataFrame(colombia)\n",
    "colombia = colombia.Colombia.tolist()\n",
    "print(colombia)"
   ]
  },
  {
   "cell_type": "code",
   "execution_count": 203,
   "metadata": {},
   "outputs": [],
   "source": [
    "ecuador = [\n",
    "    sa_data.iloc[0:9, [6]].sum(),\n",
    "    sa_data.iloc[9:38, [6]].sum(),\n",
    "    sa_data.iloc[38:69, [6]].sum(),\n",
    "    sa_data.iloc[69:99, [6]].sum(),\n",
    "    sa_data.iloc[99:130, [6]].sum(),\n",
    "    sa_data.iloc[130:160, [6]].sum(),\n",
    "    sa_data.iloc[160:191, [6]].sum(),\n",
    "    sa_data.iloc[191:222, [6]].sum(),\n",
    "    sa_data.iloc[222:252, [6]].sum(),\n",
    "    sa_data.iloc[252:283, [6]].sum(),\n",
    "    sa_data.iloc[283:313, [6]].sum(),\n",
    "    sa_data.iloc[313:344, [6]].sum(),\n",
    "    sa_data.iloc[344:375, [6]].sum(),\n",
    "    sa_data.iloc[375:403, [6]].sum(),\n",
    "    sa_data.iloc[403:434, [6]].sum(),\n",
    "    sa_data.iloc[434:464, [6]].sum(),\n",
    "    sa_data.iloc[466:489, [6]].sum()\n",
    "]\n",
    "ecuador = pd.DataFrame(ecuador)\n",
    "ecuador = ecuador.Ecuador.tolist()"
   ]
  },
  {
   "cell_type": "code",
   "execution_count": 207,
   "metadata": {},
   "outputs": [],
   "source": [
    "guyana = [\n",
    "    sa_data.iloc[0:9, [7]].sum(),\n",
    "    sa_data.iloc[9:38, [7]].sum(),\n",
    "    sa_data.iloc[38:69, [7]].sum(),\n",
    "    sa_data.iloc[69:99, [7]].sum(),\n",
    "    sa_data.iloc[99:130, [7]].sum(),\n",
    "    sa_data.iloc[130:160, [7]].sum(),\n",
    "    sa_data.iloc[160:191, [7]].sum(),\n",
    "    sa_data.iloc[191:222, [7]].sum(),\n",
    "    sa_data.iloc[222:252, [7]].sum(),\n",
    "    sa_data.iloc[252:283, [7]].sum(),\n",
    "    sa_data.iloc[283:313, [7]].sum(),\n",
    "    sa_data.iloc[313:344, [7]].sum(),\n",
    "    sa_data.iloc[344:375, [7]].sum(),\n",
    "    sa_data.iloc[375:403, [7]].sum(),\n",
    "    sa_data.iloc[403:434, [7]].sum(),\n",
    "    sa_data.iloc[434:464, [7]].sum(),\n",
    "    sa_data.iloc[466:489, [7]].sum()\n",
    "]\n",
    "guyana = pd.DataFrame(guyana)\n",
    "guyana = guyana.Guyana.tolist()"
   ]
  },
  {
   "cell_type": "code",
   "execution_count": 210,
   "metadata": {},
   "outputs": [],
   "source": [
    "paraguay = [\n",
    "    sa_data.iloc[0:9, [8]].sum(),\n",
    "    sa_data.iloc[9:38, [8]].sum(),\n",
    "    sa_data.iloc[38:69, [8]].sum(),\n",
    "    sa_data.iloc[69:99, [8]].sum(),\n",
    "    sa_data.iloc[99:130, [8]].sum(),\n",
    "    sa_data.iloc[130:160, [8]].sum(),\n",
    "    sa_data.iloc[160:191, [8]].sum(),\n",
    "    sa_data.iloc[191:222, [8]].sum(),\n",
    "    sa_data.iloc[222:252, [8]].sum(),\n",
    "    sa_data.iloc[252:283, [8]].sum(),\n",
    "    sa_data.iloc[283:313, [8]].sum(),\n",
    "    sa_data.iloc[313:344, [8]].sum(),\n",
    "    sa_data.iloc[344:375, [8]].sum(),\n",
    "    sa_data.iloc[375:403, [8]].sum(),\n",
    "    sa_data.iloc[403:434, [8]].sum(),\n",
    "    sa_data.iloc[434:464, [8]].sum(),\n",
    "    sa_data.iloc[466:489, [8]].sum()\n",
    "]\n",
    "paraguay = pd.DataFrame(paraguay)\n",
    "paraguay = paraguay.Paraguay.tolist()"
   ]
  },
  {
   "cell_type": "code",
   "execution_count": 213,
   "metadata": {},
   "outputs": [],
   "source": [
    "peru = [\n",
    "    sa_data.iloc[0:9, [9]].sum(),\n",
    "    sa_data.iloc[9:38, [9]].sum(),\n",
    "    sa_data.iloc[38:69, [9]].sum(),\n",
    "    sa_data.iloc[69:99, [9]].sum(),\n",
    "    sa_data.iloc[99:130, [9]].sum(),\n",
    "    sa_data.iloc[130:160, [9]].sum(),\n",
    "    sa_data.iloc[160:191, [9]].sum(),\n",
    "    sa_data.iloc[191:222, [9]].sum(),\n",
    "    sa_data.iloc[222:252, [9]].sum(),\n",
    "    sa_data.iloc[252:283, [9]].sum(),\n",
    "    sa_data.iloc[283:313, [9]].sum(),\n",
    "    sa_data.iloc[313:344, [9]].sum(),\n",
    "    sa_data.iloc[344:375, [9]].sum(),\n",
    "    sa_data.iloc[375:403, [9]].sum(),\n",
    "    sa_data.iloc[403:434, [9]].sum(),\n",
    "    sa_data.iloc[434:464, [9]].sum(),\n",
    "    sa_data.iloc[466:489, [9]].sum()\n",
    "]\n",
    "peru = pd.DataFrame(peru)\n",
    "peru = peru.Peru.tolist()"
   ]
  },
  {
   "cell_type": "code",
   "execution_count": 216,
   "metadata": {},
   "outputs": [],
   "source": [
    "suriname = [\n",
    "    sa_data.iloc[0:9, [10]].sum(),\n",
    "    sa_data.iloc[9:38, [10]].sum(),\n",
    "    sa_data.iloc[38:69, [10]].sum(),\n",
    "    sa_data.iloc[69:99, [10]].sum(),\n",
    "    sa_data.iloc[99:130, [10]].sum(),\n",
    "    sa_data.iloc[130:160, [10]].sum(),\n",
    "    sa_data.iloc[160:191, [10]].sum(),\n",
    "    sa_data.iloc[191:222, [10]].sum(),\n",
    "    sa_data.iloc[222:252, [10]].sum(),\n",
    "    sa_data.iloc[252:283, [10]].sum(),\n",
    "    sa_data.iloc[283:313, [10]].sum(),\n",
    "    sa_data.iloc[313:344, [10]].sum(),\n",
    "    sa_data.iloc[344:375, [10]].sum(),\n",
    "    sa_data.iloc[375:403, [10]].sum(),\n",
    "    sa_data.iloc[403:434, [10]].sum(),\n",
    "    sa_data.iloc[434:464, [10]].sum(),\n",
    "    sa_data.iloc[466:489, [10]].sum()\n",
    "]\n",
    "suriname = pd.DataFrame(suriname)\n",
    "suriname = suriname.Suriname.tolist()"
   ]
  },
  {
   "cell_type": "code",
   "execution_count": 219,
   "metadata": {},
   "outputs": [],
   "source": [
    "uruguay = [\n",
    "    sa_data.iloc[0:9, [11]].sum(),\n",
    "    sa_data.iloc[9:38, [11]].sum(),\n",
    "    sa_data.iloc[38:69, [11]].sum(),\n",
    "    sa_data.iloc[69:99, [11]].sum(),\n",
    "    sa_data.iloc[99:130, [11]].sum(),\n",
    "    sa_data.iloc[130:160, [11]].sum(),\n",
    "    sa_data.iloc[160:191, [11]].sum(),\n",
    "    sa_data.iloc[191:222, [11]].sum(),\n",
    "    sa_data.iloc[222:252, [11]].sum(),\n",
    "    sa_data.iloc[252:283, [11]].sum(),\n",
    "    sa_data.iloc[283:313, [11]].sum(),\n",
    "    sa_data.iloc[313:344, [11]].sum(),\n",
    "    sa_data.iloc[344:375, [11]].sum(),\n",
    "    sa_data.iloc[375:403, [11]].sum(),\n",
    "    sa_data.iloc[403:434, [11]].sum(),\n",
    "    sa_data.iloc[434:464, [11]].sum(),\n",
    "    sa_data.iloc[466:489, [11]].sum()\n",
    "]\n",
    "uruguay = pd.DataFrame(uruguay)\n",
    "uruguay = uruguay.Uruguay.tolist()"
   ]
  },
  {
   "cell_type": "code",
   "execution_count": 222,
   "metadata": {},
   "outputs": [],
   "source": [
    "venezuela = [\n",
    "    sa_data.iloc[0:9, [12]].sum(),\n",
    "    sa_data.iloc[9:38, [12]].sum(),\n",
    "    sa_data.iloc[38:69, [12]].sum(),\n",
    "    sa_data.iloc[69:99, [12]].sum(),\n",
    "    sa_data.iloc[99:130, [12]].sum(),\n",
    "    sa_data.iloc[130:160, [12]].sum(),\n",
    "    sa_data.iloc[160:191, [12]].sum(),\n",
    "    sa_data.iloc[191:222, [12]].sum(),\n",
    "    sa_data.iloc[222:252, [12]].sum(),\n",
    "    sa_data.iloc[252:283, [12]].sum(),\n",
    "    sa_data.iloc[283:313, [12]].sum(),\n",
    "    sa_data.iloc[313:344, [12]].sum(),\n",
    "    sa_data.iloc[344:375, [12]].sum(),\n",
    "    sa_data.iloc[375:403, [12]].sum(),\n",
    "    sa_data.iloc[403:434, [12]].sum(),\n",
    "    sa_data.iloc[434:464, [12]].sum(),\n",
    "    sa_data.iloc[466:489, [12]].sum()\n",
    "]\n",
    "venezuela = pd.DataFrame(venezuela)\n",
    "venezuela = venezuela.Venezuela.tolist()"
   ]
  },
  {
   "cell_type": "code",
   "execution_count": 227,
   "metadata": {},
   "outputs": [],
   "source": [
    "sa_data_out = {'Year':[],'Month':[], 'Argentina':[], 'Bolivia':[], 'Brazil':[], 'Chile':[], 'Colombia':[], 'Ecuador':[], 'Guyana':[], 'Paraguay':[], 'Peru':[], 'Suriname':[], 'Uruguay':[], 'Venezuela':[] }\n",
    "sa_data_out = pd.DataFrame(sa_data_out)\n"
   ]
  },
  {
   "cell_type": "code",
   "execution_count": 228,
   "metadata": {},
   "outputs": [],
   "source": [
    "sa_data_out.Month = ['January','February','March','April','May','June','July','August','September','October','November','December','January','February','March','April','May']\n",
    "sa_data_out.Year = [2020,2020,2020,2020,2020,2020,2020,2020,2020,2020,2020,2020,2021,2021,2021,2021,2021]"
   ]
  },
  {
   "cell_type": "code",
   "execution_count": 229,
   "metadata": {},
   "outputs": [],
   "source": [
    "sa_data_out.Argentina = argentina\n",
    "sa_data_out.Bolivia = bolivia\n",
    "sa_data_out.Brazil = brazil\n",
    "sa_data_out.Chile = chile\n",
    "sa_data_out.Colombia = colombia\n",
    "sa_data_out.Ecuador = ecuador\n",
    "sa_data_out.Guyana = guyana\n",
    "sa_data_out.Paraguay = paraguay\n",
    "sa_data_out.Peru = peru\n",
    "sa_data_out.Suriname = suriname\n",
    "sa_data_out.Uruguay = uruguay\n",
    "sa_data_out.Venezuela = venezuela"
   ]
  },
  {
   "cell_type": "code",
   "execution_count": 230,
   "metadata": {},
   "outputs": [
    {
     "output_type": "stream",
     "name": "stdout",
     "text": [
      "    Year      Month  Argentina  Bolivia   Brazil   Chile  Colombia  Ecuador  \\\n0   2020    January        0.0      0.0      0.0     0.0       0.0      0.0   \n1   2020   February        0.0      0.0      0.0     0.0       0.0      0.0   \n2   2020      March       27.0      6.0    201.0    12.0      16.0     75.0   \n3   2020      April      191.0     56.0   5805.0   215.0     277.0    825.0   \n4   2020        May      321.0    251.0  23308.0   827.0     646.0   2458.0   \n5   2020       June      768.0    810.0  30280.0  4634.0    2395.0   1169.0   \n6   2020       July     2236.0   1854.0  32881.0  3769.0    6771.0   1175.0   \n7   2020     August     5117.0   2050.0  28906.0  1832.0    9557.0    854.0   \n8   2020  September     8277.0   2938.0  22571.0  1452.0    6336.0   4799.0   \n9   2020    October    14065.0    760.0  15932.0  1466.0    5316.0   1315.0   \n10  2020   November     7728.0    232.0  13236.0  1203.0    5452.0    791.0   \n11  2020   December     4515.0    208.0  21829.0  1198.0    6447.0    573.0   \n12  2021    January     4729.0   1214.0  29555.0  1844.0   10770.0    825.0   \n13  2021   February     3991.0   1270.0  30438.0  2120.0    5783.0    952.0   \n14  2021      March     3893.0    608.0  66573.0  2563.0    3656.0   1036.0   \n15  2021      April     8007.0    694.0  82266.0  3218.0   10298.0   1784.0   \n16  2021        May    10228.0    956.0  42219.0  1987.0   10730.0   1470.0   \n\n    Guyana  Paraguay    Peru  Suriname  Uruguay  Venezuela  \n0      0.0       0.0     0.0       0.0      0.0        0.0  \n1      0.0       0.0     0.0       0.0      0.0        0.0  \n2      2.0       3.0    30.0       0.0      1.0        3.0  \n3      7.0       7.0  1021.0       1.0     16.0       13.0  \n4      3.0       1.0  3455.0       0.0      5.0       -2.0  \n5      0.0       6.0  5171.0      12.0      5.0       37.0  \n6      8.0      32.0  9344.0      13.0      8.0      113.0  \n7     19.0     277.0  9767.0      45.0      9.0      222.0  \n8     41.0     531.0  3608.0      33.0      4.0      242.0  \n9     44.0     547.0  2015.0       7.0     10.0      170.0  \n10    27.0     352.0  1512.0       6.0     19.0       99.0  \n11    13.0     506.0  1757.0       5.0    104.0      131.0  \n12    12.0     456.0  3346.0      32.0    255.0      161.0  \n13    19.0     463.0  5273.0      18.0    172.0      155.0  \n14    36.0    1025.0  5709.0       5.0    366.0      258.0  \n15    65.0    2179.0  9469.0      27.0   1642.0      534.0  \n16    60.0    1902.0  5927.0      49.0   1198.0      356.0  \n"
     ]
    }
   ],
   "source": [
    "print(sa_data_out)"
   ]
  },
  {
   "cell_type": "code",
   "execution_count": 232,
   "metadata": {},
   "outputs": [],
   "source": [
    "sa_data_out.to_csv(r'./sa_data_out.csv',header=True)\n"
   ]
  },
  {
   "cell_type": "code",
   "execution_count": null,
   "metadata": {},
   "outputs": [],
   "source": []
  }
 ]
}