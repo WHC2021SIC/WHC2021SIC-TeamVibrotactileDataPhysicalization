{
 "cells": [
  {
   "cell_type": "code",
   "execution_count": 1,
   "metadata": {
    "id": "YSbPCMnvDnQV"
   },
   "outputs": [],
   "source": [
    "# Importing the libraries\n",
    "import pandas as pd\n",
    "import numpy as np\n",
    "import matplotlib.pyplot as plt\n",
    "\n",
    "#from google.colab import files\n",
    "#uploaded = files.upload()\n",
    "\n",
    "D0_0 = 'posNewTouchedData/0,0.csv'\n",
    "D0_7_5 = 'posNewTouchedData/0,7.5.csv'\n",
    "D0_15 ='posNewTouchedData/0,15.csv'\n",
    "D7_5_0 ='posNewTouchedData/7.5,0.csv'\n",
    "D7_5_7_5 ='posNewTouchedData/7.5,7.5.csv'\n",
    "D7_5_15 ='posNewTouchedData/7.5,15.csv'\n",
    "D15_0 ='posNewTouchedData/15,0.csv'\n",
    "D15_7_5 = 'posNewTouchedData/15,7.5.csv'\n",
    "D15_15 = 'posNewTouchedData/15,15.csv'\n",
    "\n",
    "# 51 datasets\n",
    "\n",
    "#df1 = pd.read_csv(url)\n",
    "\n",
    "# Importing the Boston Housing dataset\n",
    "#from sklearn.datasets import load_boston"
   ]
  },
  {
   "cell_type": "code",
   "execution_count": 2,
   "metadata": {},
   "outputs": [
    {
     "name": "stdout",
     "output_type": "stream",
     "text": [
      "1 Physical GPUs, 1 Logical GPUs\n"
     ]
    },
    {
     "data": {
      "text/plain": [
       "'print(\"Num GPUs Available: \", len(tf.config.list_physical_devices(\\'GPU\\')))\\n\\nif not tf.test.gpu_device_name():\\n    print(\"not found\")\\nelse:\\n    print(\"device: {}\".format(tf.test.gpu_device_name()))\\n    \\ntf.debugging.set_log_device_placement(True)'"
      ]
     },
     "execution_count": 2,
     "metadata": {},
     "output_type": "execute_result"
    }
   ],
   "source": [
    "import tensorflow as tf\n",
    "from tensorflow.keras.models import Model\n",
    "from tensorflow.keras import layers\n",
    "from sklearn.model_selection import train_test_split\n",
    "\n",
    "gpus = tf.config.experimental.list_physical_devices('GPU')\n",
    "if gpus:\n",
    "    try:\n",
    "        # Currently, memory growth needs to be the same across GPUs\n",
    "        for gpu in gpus:\n",
    "            tf.config.experimental.set_memory_growth(gpu, True)\n",
    "        logical_gpus = tf.config.experimental.list_logical_devices('GPU')\n",
    "        print(len(gpus), \"Physical GPUs,\", len(logical_gpus), \"Logical GPUs\")\n",
    "        tf.debugging.set_log_device_placement(True)\n",
    "    except RuntimeError as e:\n",
    "        # Memory growth must be set before GPUs have been initialized\n",
    "        print(e)\n",
    "        \n",
    "        \n",
    "\"\"\"print(\"Num GPUs Available: \", len(tf.config.list_physical_devices('GPU')))\n",
    "\n",
    "if not tf.test.gpu_device_name():\n",
    "    print(\"not found\")\n",
    "else:\n",
    "    print(\"device: {}\".format(tf.test.gpu_device_name()))\n",
    "    \n",
    "tf.debugging.set_log_device_placement(True)\"\"\"\n",
    "    "
   ]
  },
  {
   "cell_type": "code",
   "execution_count": 54,
   "metadata": {},
   "outputs": [],
   "source": [
    "def ChangetoMean(x, numD):\n",
    "    NumDiv = numD\n",
    "    d0_7_5Mean = np.empty((int(x.shape[0]/NumDiv),x.shape[1]))\n",
    "    for i in range(int(x.shape[0]/NumDiv)):\n",
    "        d0_7_5Mean[i,:] = np.mean(x.iloc[i*NumDiv:i*NumDiv+NumDiv,:],axis=0)\n",
    "    return d0_7_5Mean"
   ]
  },
  {
   "cell_type": "code",
   "execution_count": 55,
   "metadata": {
    "id": "Ab8q_tVIcsPM"
   },
   "outputs": [],
   "source": [
    "d0_0 = pd.read_csv(D0_0,header=None)\n",
    "d0_7_5 = ChangetoMean(pd.read_csv(D0_7_5,header=None), 5)\n",
    "d0_15 = pd.read_csv(D0_15,header=None)\n",
    "d7_5_0 = pd.read_csv(D7_5_0,header=None)\n",
    "d7_5_7_5 = pd.read_csv(D7_5_7_5,header=None)\n",
    "d7_5_15 = pd.read_csv(D7_5_15,header=None)\n",
    "d15_0 = pd.read_csv(D15_0,header=None)\n",
    "d15_7_5 = pd.read_csv(D15_7_5,header=None)\n",
    "d15_15 = pd.read_csv(D15_15,header=None)"
   ]
  },
  {
   "cell_type": "code",
   "execution_count": 64,
   "metadata": {
    "colab": {
     "base_uri": "https://localhost:8080/"
    },
    "id": "MpCZlsRphPHj",
    "outputId": "6175e4f3-88f4-48be-e021-21b8111ba5e9"
   },
   "outputs": [
    {
     "data": {
      "text/plain": [
       "(5000, 6)"
      ]
     },
     "execution_count": 64,
     "metadata": {},
     "output_type": "execute_result"
    }
   ],
   "source": [
    "d15_15.shape"
   ]
  },
  {
   "cell_type": "code",
   "execution_count": 65,
   "metadata": {},
   "outputs": [
    {
     "data": {
      "text/plain": [
       "(45000, 6)"
      ]
     },
     "execution_count": 65,
     "metadata": {},
     "output_type": "execute_result"
    }
   ],
   "source": [
    "datasRaw = np.concatenate([d0_0 ,d0_7_5 ,d0_15 ,d7_5_0 ,d7_5_7_5 ,d7_5_15 ,d15_0 , \n",
    "                           d15_7_5, d15_15])\n",
    "datasRaw.shape  # 51*5000 = 255000"
   ]
  },
  {
   "cell_type": "code",
   "execution_count": 67,
   "metadata": {
    "colab": {
     "base_uri": "https://localhost:8080/",
     "height": 204
    },
    "id": "bTh1Crq4e5Ij",
    "outputId": "f2aa92e0-d50a-458c-ab8d-a30c1c961764"
   },
   "outputs": [
    {
     "data": {
      "text/html": [
       "<div>\n",
       "<style scoped>\n",
       "    .dataframe tbody tr th:only-of-type {\n",
       "        vertical-align: middle;\n",
       "    }\n",
       "\n",
       "    .dataframe tbody tr th {\n",
       "        vertical-align: top;\n",
       "    }\n",
       "\n",
       "    .dataframe thead th {\n",
       "        text-align: right;\n",
       "    }\n",
       "</style>\n",
       "<table border=\"1\" class=\"dataframe\">\n",
       "  <thead>\n",
       "    <tr style=\"text-align: right;\">\n",
       "      <th></th>\n",
       "      <th>F0</th>\n",
       "      <th>F1</th>\n",
       "      <th>F2</th>\n",
       "      <th>F3</th>\n",
       "      <th>x</th>\n",
       "      <th>y</th>\n",
       "    </tr>\n",
       "  </thead>\n",
       "  <tbody>\n",
       "    <tr>\n",
       "      <th>0</th>\n",
       "      <td>264.8</td>\n",
       "      <td>13.0</td>\n",
       "      <td>296.2</td>\n",
       "      <td>511.6</td>\n",
       "      <td>0.0</td>\n",
       "      <td>0.0</td>\n",
       "    </tr>\n",
       "    <tr>\n",
       "      <th>1</th>\n",
       "      <td>265.0</td>\n",
       "      <td>13.0</td>\n",
       "      <td>296.4</td>\n",
       "      <td>512.2</td>\n",
       "      <td>0.0</td>\n",
       "      <td>0.0</td>\n",
       "    </tr>\n",
       "    <tr>\n",
       "      <th>2</th>\n",
       "      <td>264.8</td>\n",
       "      <td>13.0</td>\n",
       "      <td>296.4</td>\n",
       "      <td>516.4</td>\n",
       "      <td>0.0</td>\n",
       "      <td>0.0</td>\n",
       "    </tr>\n",
       "    <tr>\n",
       "      <th>3</th>\n",
       "      <td>264.8</td>\n",
       "      <td>13.0</td>\n",
       "      <td>297.0</td>\n",
       "      <td>520.8</td>\n",
       "      <td>0.0</td>\n",
       "      <td>0.0</td>\n",
       "    </tr>\n",
       "    <tr>\n",
       "      <th>4</th>\n",
       "      <td>265.4</td>\n",
       "      <td>13.0</td>\n",
       "      <td>297.0</td>\n",
       "      <td>518.6</td>\n",
       "      <td>0.0</td>\n",
       "      <td>0.0</td>\n",
       "    </tr>\n",
       "  </tbody>\n",
       "</table>\n",
       "</div>"
      ],
      "text/plain": [
       "      F0    F1     F2     F3    x    y\n",
       "0  264.8  13.0  296.2  511.6  0.0  0.0\n",
       "1  265.0  13.0  296.4  512.2  0.0  0.0\n",
       "2  264.8  13.0  296.4  516.4  0.0  0.0\n",
       "3  264.8  13.0  297.0  520.8  0.0  0.0\n",
       "4  265.4  13.0  297.0  518.6  0.0  0.0"
      ]
     },
     "execution_count": 67,
     "metadata": {},
     "output_type": "execute_result"
    }
   ],
   "source": [
    "datasFull=pd.DataFrame.from_dict(datasRaw)\n",
    "datasFull.columns=[\"F0\",\"F1\",\"F2\",\"F3\",\"x\",\"y\"]\n",
    "datasFull.head()"
   ]
  },
  {
   "cell_type": "code",
   "execution_count": 68,
   "metadata": {},
   "outputs": [],
   "source": [
    "FullDescribe=datasFull.describe()\n",
    "FullDescribe=FullDescribe.transpose()\n",
    "MeandataFull=FullDescribe['mean']\n",
    "StddataFull=FullDescribe['std']"
   ]
  },
  {
   "cell_type": "code",
   "execution_count": 69,
   "metadata": {},
   "outputs": [
    {
     "name": "stdout",
     "output_type": "stream",
     "text": [
      "Mean: F0    385.350284\n",
      "F1    132.483951\n",
      "F2    366.454000\n",
      "F3    355.273467\n",
      "x       7.500000\n",
      "y       7.500000\n",
      "Name: mean, dtype: float64\n",
      "Std: F0    109.484312\n",
      "F1    185.298980\n",
      "F2    176.520386\n",
      "F3    201.882096\n",
      "x       6.123792\n",
      "y       6.123792\n",
      "Name: std, dtype: float64\n"
     ]
    }
   ],
   "source": [
    "print(\"Mean: {}\\nStd: {}\".format(MeandataFull,StddataFull))"
   ]
  },
  {
   "cell_type": "code",
   "execution_count": 70,
   "metadata": {
    "id": "gupw2YWZgj6M"
   },
   "outputs": [],
   "source": [
    "dataTrain, dataTest = train_test_split(datasFull, test_size=0.1)\n",
    "dataTrain, dataVal = train_test_split(dataTrain, test_size=0.2)"
   ]
  },
  {
   "cell_type": "code",
   "execution_count": 71,
   "metadata": {
    "colab": {
     "base_uri": "https://localhost:8080/",
     "height": 204
    },
    "id": "kFfXmESehvpv",
    "outputId": "32a55fb9-4f76-4b33-d0e3-017154ae9cc1"
   },
   "outputs": [
    {
     "data": {
      "text/html": [
       "<div>\n",
       "<style scoped>\n",
       "    .dataframe tbody tr th:only-of-type {\n",
       "        vertical-align: middle;\n",
       "    }\n",
       "\n",
       "    .dataframe tbody tr th {\n",
       "        vertical-align: top;\n",
       "    }\n",
       "\n",
       "    .dataframe thead th {\n",
       "        text-align: right;\n",
       "    }\n",
       "</style>\n",
       "<table border=\"1\" class=\"dataframe\">\n",
       "  <thead>\n",
       "    <tr style=\"text-align: right;\">\n",
       "      <th></th>\n",
       "      <th>F0</th>\n",
       "      <th>F1</th>\n",
       "      <th>F2</th>\n",
       "      <th>F3</th>\n",
       "      <th>x</th>\n",
       "      <th>y</th>\n",
       "    </tr>\n",
       "  </thead>\n",
       "  <tbody>\n",
       "    <tr>\n",
       "      <th>33672</th>\n",
       "      <td>277.8</td>\n",
       "      <td>16.0</td>\n",
       "      <td>796.0</td>\n",
       "      <td>225.0</td>\n",
       "      <td>15.0</td>\n",
       "      <td>0.0</td>\n",
       "    </tr>\n",
       "    <tr>\n",
       "      <th>33695</th>\n",
       "      <td>274.2</td>\n",
       "      <td>15.6</td>\n",
       "      <td>787.6</td>\n",
       "      <td>225.0</td>\n",
       "      <td>15.0</td>\n",
       "      <td>0.0</td>\n",
       "    </tr>\n",
       "    <tr>\n",
       "      <th>31054</th>\n",
       "      <td>304.8</td>\n",
       "      <td>17.0</td>\n",
       "      <td>858.6</td>\n",
       "      <td>226.0</td>\n",
       "      <td>15.0</td>\n",
       "      <td>0.0</td>\n",
       "    </tr>\n",
       "    <tr>\n",
       "      <th>34239</th>\n",
       "      <td>273.4</td>\n",
       "      <td>16.0</td>\n",
       "      <td>838.6</td>\n",
       "      <td>225.0</td>\n",
       "      <td>15.0</td>\n",
       "      <td>0.0</td>\n",
       "    </tr>\n",
       "    <tr>\n",
       "      <th>11808</th>\n",
       "      <td>611.0</td>\n",
       "      <td>12.0</td>\n",
       "      <td>204.4</td>\n",
       "      <td>223.0</td>\n",
       "      <td>0.0</td>\n",
       "      <td>15.0</td>\n",
       "    </tr>\n",
       "  </tbody>\n",
       "</table>\n",
       "</div>"
      ],
      "text/plain": [
       "          F0    F1     F2     F3     x     y\n",
       "33672  277.8  16.0  796.0  225.0  15.0   0.0\n",
       "33695  274.2  15.6  787.6  225.0  15.0   0.0\n",
       "31054  304.8  17.0  858.6  226.0  15.0   0.0\n",
       "34239  273.4  16.0  838.6  225.0  15.0   0.0\n",
       "11808  611.0  12.0  204.4  223.0   0.0  15.0"
      ]
     },
     "execution_count": 71,
     "metadata": {},
     "output_type": "execute_result"
    }
   ],
   "source": [
    "dataTrain.head()"
   ]
  },
  {
   "cell_type": "code",
   "execution_count": 72,
   "metadata": {
    "id": "Q8HeW-JG5ZE2"
   },
   "outputs": [],
   "source": [
    "# Helper functions\n",
    "def norm(x):\n",
    "    return (x - MeandataFull) / StddataFull\n",
    "\n",
    "def norm4(x, meanD, stdD):\n",
    "    return (x - meanD) / stdD\n",
    "\n",
    "def norm2(x):\n",
    "    return (x - train_stats['mean']) / train_stats['std']\n",
    "\n",
    "def norm3(x):\n",
    "    dataDescribe=x.describe()\n",
    "    dataDescribe=dataDescribe.transpose()\n",
    "    return (x - dataDescribe['mean']) / dataDescribe['std']\n",
    "\n",
    "def format_output(data):\n",
    "    data2=data\n",
    "    y1 = data2.pop('x')    \n",
    "    y2 = data2.pop('y')\n",
    "    return y1, y2\n",
    "\n",
    "def format_input(data):\n",
    "    data2=data\n",
    "    data2.pop('x')    \n",
    "    data2.pop('y')\n",
    "    return data2 \n",
    "\n",
    "def format_output2(data):\n",
    "    y1 = data.pop('x')   \n",
    "    y1=np.array(y1)\n",
    "    y2 = data.pop('y')\n",
    "    y2=np.array(y2)\n",
    "    return y1, y2\n",
    "\n",
    "def PrintMeanStd(x):\n",
    "    dataDescribe=x.describe()\n",
    "    dataDescribe=dataDescribe.transpose()\n",
    "    print(\"Mean: {}\\nStd: {}\".format(dataDescribe['mean'],dataDescribe['std']))\n",
    "    \n"
   ]
  },
  {
   "cell_type": "code",
   "execution_count": 73,
   "metadata": {},
   "outputs": [],
   "source": [
    "# Normalize the training and test data\n",
    "norm_train_X = format_input(norm(dataTrain))\n",
    "train_Y = format_output(dataTrain)\n",
    "\n",
    "norm_test_X=format_input(norm(dataTest))\n",
    "test_Y=format_output(dataTest)\n",
    "\n",
    "norm_val_X = format_input(norm(dataVal))\n",
    "val_Y = format_output(dataVal)\n",
    "\n",
    "norm_train_X = np.array(norm_train_X)\n",
    "#train_Y = np.array(train_Y)\n",
    "norm_test_X = np.array(norm_test_X)\n",
    "#test_Y = np.array(test_Y)\n",
    "norm_val_X = np.array(norm_val_X)\n",
    "#val_Y = np.array(val_Y)"
   ]
  },
  {
   "cell_type": "code",
   "execution_count": 78,
   "metadata": {},
   "outputs": [
    {
     "data": {
      "text/plain": [
       "4"
      ]
     },
     "execution_count": 78,
     "metadata": {},
     "output_type": "execute_result"
    }
   ],
   "source": [
    "len(norm_train_X[1])"
   ]
  },
  {
   "cell_type": "code",
   "execution_count": 75,
   "metadata": {
    "id": "DQCRRqaf6Zy_"
   },
   "outputs": [],
   "source": [
    "def build_model():\n",
    "    # Define model layers.\n",
    "    input_layer = layers.Input(shape=(len(norm_train_X[1]),))\n",
    "    x = layers.Dense(130)(input_layer)   \n",
    "    x = layers.BatchNormalization()(x)\n",
    "    x = tf.keras.activations.relu(x)\n",
    "    \n",
    "    x = layers.Dense(130)(x)   \n",
    "    x = layers.BatchNormalization()(x)\n",
    "    x = tf.keras.activations.relu(x)\n",
    "    \n",
    "    #x = layers.Dense(70)(x)\n",
    "    #x = layers.BatchNormalization()(x)\n",
    "    #x = tf.keras.activations.relu(x)\n",
    "    \n",
    "    third_dense = layers.Dense(units='130', activation='relu')(x)\n",
    "    #third_dense=layers.Dropout(0.5)(third_dense)\n",
    "    \n",
    "    # Y1 output will be fed from the first dense\n",
    "    y1_output = layers.Dense(units='1', name='x_output')(third_dense)\n",
    "    \n",
    "    # Y2 output will be fed from the second dense\n",
    "    y2_output = layers.Dense(units='1', name='y_output')(third_dense)\n",
    "\n",
    "    # Define the model with the input layer and a list of output layers\n",
    "    model = Model(inputs=input_layer, outputs=[y1_output, y2_output])\n",
    "\n",
    "    return model"
   ]
  },
  {
   "cell_type": "code",
   "execution_count": 79,
   "metadata": {
    "id": "rkLHZkif7JGQ"
   },
   "outputs": [],
   "source": [
    "model = build_model()\n",
    "\n",
    "# Specify the optimizer, and compile the model with loss functions for both outputs\n",
    "optimizer = tf.keras.optimizers.SGD(learning_rate=0.001)\n",
    "model.compile(optimizer=optimizer,\n",
    "              loss={'x_output': 'mse', 'y_output': 'mse'},\n",
    "              metrics={'x_output': tf.keras.metrics.RootMeanSquaredError(),\n",
    "                       'y_output': tf.keras.metrics.RootMeanSquaredError()})"
   ]
  },
  {
   "cell_type": "code",
   "execution_count": 81,
   "metadata": {
    "colab": {
     "base_uri": "https://localhost:8080/",
     "height": 197
    },
    "id": "zDmxXFU77dGt",
    "outputId": "e72a7cbd-e90b-4966-ca33-21dca3794c3d"
   },
   "outputs": [
    {
     "name": "stdout",
     "output_type": "stream",
     "text": [
      "Epoch 1/300\n",
      "1013/1013 [==============================] - 14s 14ms/step - loss: 1.5794 - x_output_loss: 0.9178 - y_output_loss: 0.6616 - x_output_root_mean_squared_error: 0.9580 - y_output_root_mean_squared_error: 0.8134 - val_loss: 0.6685 - val_x_output_loss: 0.4088 - val_y_output_loss: 0.2597 - val_x_output_root_mean_squared_error: 0.6394 - val_y_output_root_mean_squared_error: 0.5096\n",
      "Epoch 2/300\n",
      "1013/1013 [==============================] - 14s 13ms/step - loss: 1.1546 - x_output_loss: 0.6965 - y_output_loss: 0.4581 - x_output_root_mean_squared_error: 0.8346 - y_output_root_mean_squared_error: 0.6768 - val_loss: 1.3337 - val_x_output_loss: 0.5742 - val_y_output_loss: 0.7595 - val_x_output_root_mean_squared_error: 0.7577 - val_y_output_root_mean_squared_error: 0.8715\n",
      "Epoch 3/300\n",
      "1013/1013 [==============================] - 14s 14ms/step - loss: 0.8978 - x_output_loss: 0.5741 - y_output_loss: 0.3237 - x_output_root_mean_squared_error: 0.7577 - y_output_root_mean_squared_error: 0.5689 - val_loss: 0.3723 - val_x_output_loss: 0.2532 - val_y_output_loss: 0.1190 - val_x_output_root_mean_squared_error: 0.5032 - val_y_output_root_mean_squared_error: 0.3450\n",
      "Epoch 4/300\n",
      "1013/1013 [==============================] - 14s 13ms/step - loss: 0.7547 - x_output_loss: 0.4851 - y_output_loss: 0.2696 - x_output_root_mean_squared_error: 0.6965 - y_output_root_mean_squared_error: 0.5193 - val_loss: 0.3412 - val_x_output_loss: 0.2606 - val_y_output_loss: 0.0806 - val_x_output_root_mean_squared_error: 0.5105 - val_y_output_root_mean_squared_error: 0.2839\n",
      "Epoch 5/300\n",
      "1013/1013 [==============================] - 14s 13ms/step - loss: 0.6840 - x_output_loss: 0.4457 - y_output_loss: 0.2383 - x_output_root_mean_squared_error: 0.6676 - y_output_root_mean_squared_error: 0.4881 - val_loss: 0.3751 - val_x_output_loss: 0.2255 - val_y_output_loss: 0.1496 - val_x_output_root_mean_squared_error: 0.4749 - val_y_output_root_mean_squared_error: 0.3868\n",
      "Epoch 6/300\n",
      "1013/1013 [==============================] - 13s 13ms/step - loss: 0.6125 - x_output_loss: 0.3930 - y_output_loss: 0.2195 - x_output_root_mean_squared_error: 0.6269 - y_output_root_mean_squared_error: 0.4685 - val_loss: 0.2885 - val_x_output_loss: 0.2052 - val_y_output_loss: 0.0833 - val_x_output_root_mean_squared_error: 0.4530 - val_y_output_root_mean_squared_error: 0.2887root_mean_squared_er\n",
      "Epoch 7/300\n",
      "1013/1013 [==============================] - 14s 13ms/step - loss: 0.5628 - x_output_loss: 0.3635 - y_output_loss: 0.1994 - x_output_root_mean_squared_error: 0.6029 - y_output_root_mean_squared_error: 0.4465 - val_loss: 0.3820 - val_x_output_loss: 0.2823 - val_y_output_loss: 0.0997 - val_x_output_root_mean_squared_error: 0.5313 - val_y_output_root_mean_squared_error: 0.3157_output_root_mean\n",
      "Epoch 8/300\n",
      "1013/1013 [==============================] - 13s 13ms/step - loss: 0.5546 - x_output_loss: 0.3532 - y_output_loss: 0.2014 - x_output_root_mean_squared_error: 0.5943 - y_output_root_mean_squared_error: 0.4488 - val_loss: 0.6093 - val_x_output_loss: 0.3687 - val_y_output_loss: 0.2407 - val_x_output_root_mean_squared_error: 0.6072 - val_y_output_root_mean_squared_error: 0.4906\n",
      "Epoch 9/300\n",
      "1013/1013 [==============================] - 13s 13ms/step - loss: 0.5348 - x_output_loss: 0.3512 - y_output_loss: 0.1835 - x_output_root_mean_squared_error: 0.5927 - y_output_root_mean_squared_error: 0.4284 - val_loss: 0.4087 - val_x_output_loss: 0.2762 - val_y_output_loss: 0.1324 - val_x_output_root_mean_squared_error: 0.5256 - val_y_output_root_mean_squared_error: 0.3639\n",
      "Epoch 10/300\n",
      "1013/1013 [==============================] - 14s 13ms/step - loss: 0.4888 - x_output_loss: 0.3225 - y_output_loss: 0.1663 - x_output_root_mean_squared_error: 0.5679 - y_output_root_mean_squared_error: 0.4078 - val_loss: 0.2581 - val_x_output_loss: 0.1662 - val_y_output_loss: 0.0918 - val_x_output_root_mean_squared_error: 0.4077 - val_y_output_root_mean_squared_error: 0.3030\n",
      "Epoch 11/300\n",
      "1013/1013 [==============================] - 14s 14ms/step - loss: 0.4765 - x_output_loss: 0.3153 - y_output_loss: 0.1612 - x_output_root_mean_squared_error: 0.5615 - y_output_root_mean_squared_error: 0.4015 - val_loss: 0.3293 - val_x_output_loss: 0.2622 - val_y_output_loss: 0.0670 - val_x_output_root_mean_squared_error: 0.5121 - val_y_output_root_mean_squared_error: 0.2589\n",
      "Epoch 12/300\n",
      "1013/1013 [==============================] - 14s 14ms/step - loss: 0.4288 - x_output_loss: 0.2820 - y_output_loss: 0.1468 - x_output_root_mean_squared_error: 0.5310 - y_output_root_mean_squared_error: 0.3831 - val_loss: 0.2136 - val_x_output_loss: 0.1433 - val_y_output_loss: 0.0703 - val_x_output_root_mean_squared_error: 0.3786 - val_y_output_root_mean_squared_error: 0.2652\n",
      "Epoch 13/300\n",
      "1013/1013 [==============================] - 14s 13ms/step - loss: 0.4613 - x_output_loss: 0.3007 - y_output_loss: 0.1607 - x_output_root_mean_squared_error: 0.5483 - y_output_root_mean_squared_error: 0.4008 - val_loss: 0.4102 - val_x_output_loss: 0.2200 - val_y_output_loss: 0.1902 - val_x_output_root_mean_squared_error: 0.4690 - val_y_output_root_mean_squared_error: 0.4362\n",
      "Epoch 14/300\n",
      "1013/1013 [==============================] - 14s 14ms/step - loss: 0.4578 - x_output_loss: 0.3026 - y_output_loss: 0.1552 - x_output_root_mean_squared_error: 0.5501 - y_output_root_mean_squared_error: 0.3940 - val_loss: 1.3190 - val_x_output_loss: 0.6224 - val_y_output_loss: 0.6966 - val_x_output_root_mean_squared_error: 0.7889 - val_y_output_root_mean_squared_error: 0.8347\n",
      "Epoch 15/300\n",
      "1013/1013 [==============================] - 14s 14ms/step - loss: 0.4285 - x_output_loss: 0.2831 - y_output_loss: 0.1454 - x_output_root_mean_squared_error: 0.5320 - y_output_root_mean_squared_error: 0.3813 - val_loss: 0.2630 - val_x_output_loss: 0.1534 - val_y_output_loss: 0.1096 - val_x_output_root_mean_squared_error: 0.3917 - val_y_output_root_mean_squared_error: 0.3310\n",
      "Epoch 16/300\n",
      "1013/1013 [==============================] - 14s 14ms/step - loss: 0.4198 - x_output_loss: 0.2754 - y_output_loss: 0.1444 - x_output_root_mean_squared_error: 0.5248 - y_output_root_mean_squared_error: 0.3800 - val_loss: 0.2180 - val_x_output_loss: 0.1477 - val_y_output_loss: 0.0703 - val_x_output_root_mean_squared_error: 0.3843 - val_y_output_root_mean_squared_error: 0.2652\n",
      "Epoch 17/300\n",
      "1013/1013 [==============================] - 14s 14ms/step - loss: 0.3946 - x_output_loss: 0.2617 - y_output_loss: 0.1329 - x_output_root_mean_squared_error: 0.5115 - y_output_root_mean_squared_error: 0.3645 - val_loss: 0.2457 - val_x_output_loss: 0.1274 - val_y_output_loss: 0.1183 - val_x_output_root_mean_squared_error: 0.3569 - val_y_output_root_mean_squared_error: 0.3439\n",
      "Epoch 18/300\n",
      "1013/1013 [==============================] - 14s 14ms/step - loss: 0.3946 - x_output_loss: 0.2631 - y_output_loss: 0.1315 - x_output_root_mean_squared_error: 0.5129 - y_output_root_mean_squared_error: 0.3626 - val_loss: 0.3027 - val_x_output_loss: 0.2032 - val_y_output_loss: 0.0996 - val_x_output_root_mean_squared_error: 0.4507 - val_y_output_root_mean_squared_error: 0.3156\n",
      "Epoch 19/300\n",
      "1013/1013 [==============================] - 14s 14ms/step - loss: 0.3728 - x_output_loss: 0.2473 - y_output_loss: 0.1255 - x_output_root_mean_squared_error: 0.4973 - y_output_root_mean_squared_error: 0.3543 - val_loss: 0.2435 - val_x_output_loss: 0.1666 - val_y_output_loss: 0.0769 - val_x_output_root_mean_squared_error: 0.4082 - val_y_output_root_mean_squared_error: 0.2773\n",
      "Epoch 20/300\n",
      "1013/1013 [==============================] - 14s 14ms/step - loss: 0.4004 - x_output_loss: 0.2624 - y_output_loss: 0.1380 - x_output_root_mean_squared_error: 0.5122 - y_output_root_mean_squared_error: 0.3715 - val_loss: 0.1993 - val_x_output_loss: 0.1350 - val_y_output_loss: 0.0643 - val_x_output_root_mean_squared_error: 0.3674 - val_y_output_root_mean_squared_error: 0.2536\n",
      "Epoch 21/300\n",
      "1013/1013 [==============================] - 14s 14ms/step - loss: 0.3684 - x_output_loss: 0.2371 - y_output_loss: 0.1313 - x_output_root_mean_squared_error: 0.4869 - y_output_root_mean_squared_error: 0.3624 - val_loss: 0.1959 - val_x_output_loss: 0.1451 - val_y_output_loss: 0.0508 - val_x_output_root_mean_squared_error: 0.3809 - val_y_output_root_mean_squared_error: 0.2254\n"
     ]
    },
    {
     "name": "stdout",
     "output_type": "stream",
     "text": [
      "Epoch 22/300\n",
      "1013/1013 [==============================] - 14s 13ms/step - loss: 0.3466 - x_output_loss: 0.2322 - y_output_loss: 0.1144 - x_output_root_mean_squared_error: 0.4819 - y_output_root_mean_squared_error: 0.3382 - val_loss: 0.2079 - val_x_output_loss: 0.1480 - val_y_output_loss: 0.0598 - val_x_output_root_mean_squared_error: 0.3847 - val_y_output_root_mean_squared_error: 0.2446\n",
      "Epoch 23/300\n",
      "1013/1013 [==============================] - 14s 13ms/step - loss: 0.3643 - x_output_loss: 0.2446 - y_output_loss: 0.1197 - x_output_root_mean_squared_error: 0.4946 - y_output_root_mean_squared_error: 0.3459 - val_loss: 0.1478 - val_x_output_loss: 0.0993 - val_y_output_loss: 0.0485 - val_x_output_root_mean_squared_error: 0.3152 - val_y_output_root_mean_squared_error: 0.2202\n",
      "Epoch 24/300\n",
      "1013/1013 [==============================] - 14s 14ms/step - loss: 0.3542 - x_output_loss: 0.2331 - y_output_loss: 0.1211 - x_output_root_mean_squared_error: 0.4828 - y_output_root_mean_squared_error: 0.3480 - val_loss: 0.1986 - val_x_output_loss: 0.1443 - val_y_output_loss: 0.0544 - val_x_output_root_mean_squared_error: 0.3798 - val_y_output_root_mean_squared_error: 0.2332\n",
      "Epoch 25/300\n",
      "1013/1013 [==============================] - 14s 14ms/step - loss: 0.3479 - x_output_loss: 0.2292 - y_output_loss: 0.1187 - x_output_root_mean_squared_error: 0.4787 - y_output_root_mean_squared_error: 0.3445 - val_loss: 0.3467 - val_x_output_loss: 0.2848 - val_y_output_loss: 0.0619 - val_x_output_root_mean_squared_error: 0.5337 - val_y_output_root_mean_squared_error: 0.2488\n",
      "Epoch 26/300\n",
      "1013/1013 [==============================] - 14s 14ms/step - loss: 0.3365 - x_output_loss: 0.2240 - y_output_loss: 0.1126 - x_output_root_mean_squared_error: 0.4733 - y_output_root_mean_squared_error: 0.3355 - val_loss: 1.1396 - val_x_output_loss: 0.7065 - val_y_output_loss: 0.4331 - val_x_output_root_mean_squared_error: 0.8405 - val_y_output_root_mean_squared_error: 0.6581\n",
      "Epoch 27/300\n",
      "1013/1013 [==============================] - 14s 14ms/step - loss: 0.3614 - x_output_loss: 0.2423 - y_output_loss: 0.1191 - x_output_root_mean_squared_error: 0.4922 - y_output_root_mean_squared_error: 0.3451 - val_loss: 0.1628 - val_x_output_loss: 0.1196 - val_y_output_loss: 0.0433 - val_x_output_root_mean_squared_error: 0.3458 - val_y_output_root_mean_squared_error: 0.2080\n",
      "Epoch 28/300\n",
      "1013/1013 [==============================] - 14s 14ms/step - loss: 0.3319 - x_output_loss: 0.2274 - y_output_loss: 0.1045 - x_output_root_mean_squared_error: 0.4768 - y_output_root_mean_squared_error: 0.3232 - val_loss: 0.2440 - val_x_output_loss: 0.1590 - val_y_output_loss: 0.0849 - val_x_output_root_mean_squared_error: 0.3988 - val_y_output_root_mean_squared_error: 0.2914\n",
      "Epoch 29/300\n",
      "1013/1013 [==============================] - 14s 13ms/step - loss: 0.3312 - x_output_loss: 0.2242 - y_output_loss: 0.1070 - x_output_root_mean_squared_error: 0.4735 - y_output_root_mean_squared_error: 0.3272 - val_loss: 0.2379 - val_x_output_loss: 0.1696 - val_y_output_loss: 0.0683 - val_x_output_root_mean_squared_error: 0.4118 - val_y_output_root_mean_squared_error: 0.2613\n",
      "Epoch 30/300\n",
      "1013/1013 [==============================] - 14s 14ms/step - loss: 0.3111 - x_output_loss: 0.2049 - y_output_loss: 0.1062 - x_output_root_mean_squared_error: 0.4526 - y_output_root_mean_squared_error: 0.3259 - val_loss: 0.2051 - val_x_output_loss: 0.1512 - val_y_output_loss: 0.0539 - val_x_output_root_mean_squared_error: 0.3888 - val_y_output_root_mean_squared_error: 0.2322_output_loss: 0.2065 - y_output_loss: 0.1101 - x_output_root_mean_squared_error: 0.4544 - y_output_root_\n",
      "Epoch 31/300\n",
      "1013/1013 [==============================] - 14s 14ms/step - loss: 0.3179 - x_output_loss: 0.2072 - y_output_loss: 0.1107 - x_output_root_mean_squared_error: 0.4552 - y_output_root_mean_squared_error: 0.3328 - val_loss: 0.1712 - val_x_output_loss: 0.1165 - val_y_output_loss: 0.0547 - val_x_output_root_mean_squared_error: 0.3413 - val_y_output_root_mean_squared_error: 0.2339\n",
      "Epoch 32/300\n",
      "1013/1013 [==============================] - 14s 14ms/step - loss: 0.3097 - x_output_loss: 0.2064 - y_output_loss: 0.1033 - x_output_root_mean_squared_error: 0.4543 - y_output_root_mean_squared_error: 0.3214 - val_loss: 0.1394 - val_x_output_loss: 0.0885 - val_y_output_loss: 0.0510 - val_x_output_root_mean_squared_error: 0.2975 - val_y_output_root_mean_squared_error: 0.2257utput_loss: 0.1032 - x_output_root_mean_squared_error: 0.4552 - y_output_root_mean_squared_error: \n",
      "Epoch 33/300\n",
      "1013/1013 [==============================] - 14s 14ms/step - loss: 0.3016 - x_output_loss: 0.1986 - y_output_loss: 0.1029 - x_output_root_mean_squared_error: 0.4457 - y_output_root_mean_squared_error: 0.3208 - val_loss: 0.1555 - val_x_output_loss: 0.1061 - val_y_output_loss: 0.0495 - val_x_output_root_mean_squared_error: 0.3257 - val_y_output_root_mean_squared_error: 0.2224\n",
      "Epoch 34/300\n",
      "1013/1013 [==============================] - 16s 16ms/step - loss: 0.3136 - x_output_loss: 0.2114 - y_output_loss: 0.1022 - x_output_root_mean_squared_error: 0.4597 - y_output_root_mean_squared_error: 0.3197 - val_loss: 0.2380 - val_x_output_loss: 0.1671 - val_y_output_loss: 0.0710 - val_x_output_root_mean_squared_error: 0.4088 - val_y_output_root_mean_squared_error: 0.2664\n",
      "Epoch 35/300\n",
      "1013/1013 [==============================] - 15s 14ms/step - loss: 0.3030 - x_output_loss: 0.1997 - y_output_loss: 0.1033 - x_output_root_mean_squared_error: 0.4469 - y_output_root_mean_squared_error: 0.3214 - val_loss: 0.2710 - val_x_output_loss: 0.2226 - val_y_output_loss: 0.0485 - val_x_output_root_mean_squared_error: 0.4718 - val_y_output_root_mean_squared_error: 0.2201\n",
      "Epoch 36/300\n",
      "1013/1013 [==============================] - 14s 14ms/step - loss: 0.2876 - x_output_loss: 0.1936 - y_output_loss: 0.0940 - x_output_root_mean_squared_error: 0.4400 - y_output_root_mean_squared_error: 0.3067 - val_loss: 0.1567 - val_x_output_loss: 0.0970 - val_y_output_loss: 0.0597 - val_x_output_root_mean_squared_error: 0.3115 - val_y_output_root_mean_squared_error: 0.2443\n",
      "Epoch 37/300\n",
      "1013/1013 [==============================] - 14s 14ms/step - loss: 0.3018 - x_output_loss: 0.1986 - y_output_loss: 0.1032 - x_output_root_mean_squared_error: 0.4456 - y_output_root_mean_squared_error: 0.3212 - val_loss: 0.2862 - val_x_output_loss: 0.1889 - val_y_output_loss: 0.0973 - val_x_output_root_mean_squared_error: 0.4346 - val_y_output_root_mean_squared_error: 0.3119\n",
      "Epoch 38/300\n",
      "1013/1013 [==============================] - 14s 14ms/step - loss: 0.3078 - x_output_loss: 0.2020 - y_output_loss: 0.1058 - x_output_root_mean_squared_error: 0.4495 - y_output_root_mean_squared_error: 0.3252 - val_loss: 0.2608 - val_x_output_loss: 0.1639 - val_y_output_loss: 0.0969 - val_x_output_root_mean_squared_error: 0.4048 - val_y_output_root_mean_squared_error: 0.3114\n",
      "Epoch 39/300\n",
      "1013/1013 [==============================] - 14s 14ms/step - loss: 0.3002 - x_output_loss: 0.1983 - y_output_loss: 0.1019 - x_output_root_mean_squared_error: 0.4453 - y_output_root_mean_squared_error: 0.3192 - val_loss: 0.1800 - val_x_output_loss: 0.1375 - val_y_output_loss: 0.0424 - val_x_output_root_mean_squared_error: 0.3709 - val_y_output_root_mean_squared_error: 0.2060\n",
      "Epoch 40/300\n",
      "1013/1013 [==============================] - 14s 13ms/step - loss: 0.3060 - x_output_loss: 0.2063 - y_output_loss: 0.0996 - x_output_root_mean_squared_error: 0.4542 - y_output_root_mean_squared_error: 0.3156 - val_loss: 0.1604 - val_x_output_loss: 0.0935 - val_y_output_loss: 0.0669 - val_x_output_root_mean_squared_error: 0.3057 - val_y_output_root_mean_squared_error: 0.2587 - ETA: 0s - loss: 0.3057 - x_output_loss: 0.2057 - y_output_loss: 0.1000 - x_output_root_mean_squared_error: 0.4535 - y_output_root_mean_squared_error\n",
      "Epoch 41/300\n",
      "1013/1013 [==============================] - 14s 14ms/step - loss: 0.2931 - x_output_loss: 0.1946 - y_output_loss: 0.0985 - x_output_root_mean_squared_error: 0.4412 - y_output_root_mean_squared_error: 0.3138 - val_loss: 0.1638 - val_x_output_loss: 0.1127 - val_y_output_loss: 0.0510 - val_x_output_root_mean_squared_error: 0.3358 - val_y_output_root_mean_squared_error: 0.2259\n",
      "Epoch 42/300\n"
     ]
    },
    {
     "name": "stdout",
     "output_type": "stream",
     "text": [
      "1013/1013 [==============================] - 15s 14ms/step - loss: 0.2850 - x_output_loss: 0.1904 - y_output_loss: 0.0946 - x_output_root_mean_squared_error: 0.4364 - y_output_root_mean_squared_error: 0.3075 - val_loss: 0.1412 - val_x_output_loss: 0.0982 - val_y_output_loss: 0.0430 - val_x_output_root_mean_squared_error: 0.3134 - val_y_output_root_mean_squared_error: 0.2073\n",
      "Epoch 43/300\n",
      "1013/1013 [==============================] - 14s 14ms/step - loss: 0.2960 - x_output_loss: 0.1992 - y_output_loss: 0.0968 - x_output_root_mean_squared_error: 0.4463 - y_output_root_mean_squared_error: 0.3111 - val_loss: 0.2279 - val_x_output_loss: 0.1452 - val_y_output_loss: 0.0828 - val_x_output_root_mean_squared_error: 0.3810 - val_y_output_root_mean_squared_error: 0.2877\n",
      "Epoch 44/300\n",
      "1013/1013 [==============================] - 16s 16ms/step - loss: 0.2942 - x_output_loss: 0.1966 - y_output_loss: 0.0976 - x_output_root_mean_squared_error: 0.4434 - y_output_root_mean_squared_error: 0.3124 - val_loss: 0.1306 - val_x_output_loss: 0.0937 - val_y_output_loss: 0.0369 - val_x_output_root_mean_squared_error: 0.3061 - val_y_output_root_mean_squared_error: 0.1920_output_root_mean_squared_error\n",
      "Epoch 45/300\n",
      "1013/1013 [==============================] - 14s 14ms/step - loss: 0.2810 - x_output_loss: 0.1868 - y_output_loss: 0.0942 - x_output_root_mean_squared_error: 0.4322 - y_output_root_mean_squared_error: 0.3069 - val_loss: 0.3071 - val_x_output_loss: 0.1956 - val_y_output_loss: 0.1115 - val_x_output_root_mean_squared_error: 0.4423 - val_y_output_root_mean_squared_error: 0.3339\n",
      "Epoch 46/300\n",
      "1013/1013 [==============================] - 14s 14ms/step - loss: 0.2795 - x_output_loss: 0.1931 - y_output_loss: 0.0863 - x_output_root_mean_squared_error: 0.4395 - y_output_root_mean_squared_error: 0.2938 - val_loss: 0.1341 - val_x_output_loss: 0.0962 - val_y_output_loss: 0.0380 - val_x_output_root_mean_squared_error: 0.3101 - val_y_output_root_mean_squared_error: 0.1949\n",
      "Epoch 47/300\n",
      "1013/1013 [==============================] - 14s 14ms/step - loss: 0.2675 - x_output_loss: 0.1799 - y_output_loss: 0.0876 - x_output_root_mean_squared_error: 0.4241 - y_output_root_mean_squared_error: 0.2960 - val_loss: 0.1256 - val_x_output_loss: 0.0762 - val_y_output_loss: 0.0494 - val_x_output_root_mean_squared_error: 0.2761 - val_y_output_root_mean_squared_error: 0.2222\n",
      "Epoch 48/300\n",
      "1013/1013 [==============================] - 14s 14ms/step - loss: 0.2791 - x_output_loss: 0.1870 - y_output_loss: 0.0922 - x_output_root_mean_squared_error: 0.4324 - y_output_root_mean_squared_error: 0.3036 - val_loss: 0.1219 - val_x_output_loss: 0.0844 - val_y_output_loss: 0.0375 - val_x_output_root_mean_squared_error: 0.2906 - val_y_output_root_mean_squared_error: 0.1935\n",
      "Epoch 49/300\n",
      "1013/1013 [==============================] - 14s 14ms/step - loss: 0.2708 - x_output_loss: 0.1813 - y_output_loss: 0.0895 - x_output_root_mean_squared_error: 0.4258 - y_output_root_mean_squared_error: 0.2992 - val_loss: 0.1918 - val_x_output_loss: 0.1237 - val_y_output_loss: 0.0681 - val_x_output_root_mean_squared_error: 0.3516 - val_y_output_root_mean_squared_error: 0.2610\n",
      "Epoch 50/300\n",
      "1013/1013 [==============================] - 14s 14ms/step - loss: 0.2673 - x_output_loss: 0.1793 - y_output_loss: 0.0880 - x_output_root_mean_squared_error: 0.4234 - y_output_root_mean_squared_error: 0.2967 - val_loss: 0.1322 - val_x_output_loss: 0.0906 - val_y_output_loss: 0.0416 - val_x_output_root_mean_squared_error: 0.3010 - val_y_output_root_mean_squared_error: 0.20401762 - y_output_loss: 0.0847 - x_output_root_mean_squared_error: 0.419 - ETA: 0s - loss: 0.2652 - x_output_loss: 0.1781 - y_output_loss: 0.0871 - x_output_root_mean_squared_error: 0.4221 - y_output_root_mean_squared_er\n",
      "Epoch 51/300\n",
      "1013/1013 [==============================] - 14s 14ms/step - loss: 0.2686 - x_output_loss: 0.1797 - y_output_loss: 0.0889 - x_output_root_mean_squared_error: 0.4240 - y_output_root_mean_squared_error: 0.2981 - val_loss: 0.1473 - val_x_output_loss: 0.0965 - val_y_output_loss: 0.0508 - val_x_output_root_mean_squared_error: 0.3107 - val_y_output_root_mean_squared_error: 0.2253 x_output_loss: 0.1895 - y_output_loss: 0.0 - ETA: 1s - loss: 0.2676 - x_output_loss: 0.1784 - y_output_loss: 0.0892 - x_output_root_mean_squared_error: 0.4223 - y_output_ro\n",
      "Epoch 52/300\n",
      "1013/1013 [==============================] - 14s 14ms/step - loss: 0.2509 - x_output_loss: 0.1683 - y_output_loss: 0.0826 - x_output_root_mean_squared_error: 0.4103 - y_output_root_mean_squared_error: 0.2874 - val_loss: 0.2458 - val_x_output_loss: 0.1661 - val_y_output_loss: 0.0797 - val_x_output_root_mean_squared_error: 0.4075 - val_y_output_root_mean_squared_error: 0.2824\n",
      "Epoch 53/300\n",
      "1013/1013 [==============================] - 14s 14ms/step - loss: 0.2538 - x_output_loss: 0.1668 - y_output_loss: 0.0870 - x_output_root_mean_squared_error: 0.4085 - y_output_root_mean_squared_error: 0.2949 - val_loss: 0.1156 - val_x_output_loss: 0.0748 - val_y_output_loss: 0.0408 - val_x_output_root_mean_squared_error: 0.2735 - val_y_output_root_mean_squared_error: 0.2019\n",
      "Epoch 54/300\n",
      "1013/1013 [==============================] - 14s 14ms/step - loss: 0.2684 - x_output_loss: 0.1760 - y_output_loss: 0.0924 - x_output_root_mean_squared_error: 0.4195 - y_output_root_mean_squared_error: 0.3040 - val_loss: 0.1438 - val_x_output_loss: 0.0996 - val_y_output_loss: 0.0442 - val_x_output_root_mean_squared_error: 0.3156 - val_y_output_root_mean_squared_error: 0.2102\n",
      "Epoch 55/300\n",
      "1013/1013 [==============================] - 14s 13ms/step - loss: 0.2510 - x_output_loss: 0.1689 - y_output_loss: 0.0821 - x_output_root_mean_squared_error: 0.4110 - y_output_root_mean_squared_error: 0.2865 - val_loss: 0.1335 - val_x_output_loss: 0.0988 - val_y_output_loss: 0.0348 - val_x_output_root_mean_squared_error: 0.3143 - val_y_output_root_mean_squared_error: 0.1864\n",
      "Epoch 56/300\n",
      "1013/1013 [==============================] - 14s 13ms/step - loss: 0.2405 - x_output_loss: 0.1581 - y_output_loss: 0.0824 - x_output_root_mean_squared_error: 0.3976 - y_output_root_mean_squared_error: 0.2870 - val_loss: 0.1089 - val_x_output_loss: 0.0710 - val_y_output_loss: 0.0380 - val_x_output_root_mean_squared_error: 0.2664 - val_y_output_root_mean_squared_error: 0.1948\n",
      "Epoch 57/300\n",
      "1013/1013 [==============================] - 14s 14ms/step - loss: 0.2535 - x_output_loss: 0.1679 - y_output_loss: 0.0857 - x_output_root_mean_squared_error: 0.4097 - y_output_root_mean_squared_error: 0.2927 - val_loss: 0.1446 - val_x_output_loss: 0.0968 - val_y_output_loss: 0.0479 - val_x_output_root_mean_squared_error: 0.3111 - val_y_output_root_mean_squared_error: 0.2188\n",
      "Epoch 58/300\n",
      "1013/1013 [==============================] - 13s 13ms/step - loss: 0.2469 - x_output_loss: 0.1660 - y_output_loss: 0.0808 - x_output_root_mean_squared_error: 0.4075 - y_output_root_mean_squared_error: 0.2843 - val_loss: 0.5512 - val_x_output_loss: 0.3318 - val_y_output_loss: 0.2194 - val_x_output_root_mean_squared_error: 0.5761 - val_y_output_root_mean_squared_error: 0.4684t_root_mean_squared_error: 0.283 - ETA: 3s - loss: 0.2442 - x_output_loss: 0.1639 - y_output_loss: 0.0802 - x_output_root\n",
      "Epoch 59/300\n",
      "1013/1013 [==============================] - 14s 13ms/step - loss: 0.2494 - x_output_loss: 0.1662 - y_output_loss: 0.0833 - x_output_root_mean_squared_error: 0.4076 - y_output_root_mean_squared_error: 0.2885 - val_loss: 0.1262 - val_x_output_loss: 0.0900 - val_y_output_loss: 0.0362 - val_x_output_root_mean_squared_error: 0.3000 - val_y_output_root_mean_squared_error: 0.1903\n",
      "Epoch 60/300\n",
      "1013/1013 [==============================] - 14s 13ms/step - loss: 0.2494 - x_output_loss: 0.1665 - y_output_loss: 0.0829 - x_output_root_mean_squared_error: 0.4080 - y_output_root_mean_squared_error: 0.2879 - val_loss: 0.1604 - val_x_output_loss: 0.1114 - val_y_output_loss: 0.0490 - val_x_output_root_mean_squared_error: 0.3338 - val_y_output_root_mean_squared_error: 0.2213\n",
      "Epoch 61/300\n"
     ]
    },
    {
     "name": "stdout",
     "output_type": "stream",
     "text": [
      "1013/1013 [==============================] - 14s 13ms/step - loss: 0.2434 - x_output_loss: 0.1646 - y_output_loss: 0.0789 - x_output_root_mean_squared_error: 0.4057 - y_output_root_mean_squared_error: 0.2808 - val_loss: 0.3410 - val_x_output_loss: 0.1970 - val_y_output_loss: 0.1440 - val_x_output_root_mean_squared_error: 0.4438 - val_y_output_root_mean_squared_error: 0.3795\n",
      "Epoch 62/300\n",
      "1013/1013 [==============================] - 13s 13ms/step - loss: 0.2424 - x_output_loss: 0.1639 - y_output_loss: 0.0785 - x_output_root_mean_squared_error: 0.4048 - y_output_root_mean_squared_error: 0.2802 - val_loss: 0.1458 - val_x_output_loss: 0.1054 - val_y_output_loss: 0.0404 - val_x_output_root_mean_squared_error: 0.3247 - val_y_output_root_mean_squared_error: 0.2010\n",
      "Epoch 63/300\n",
      "1013/1013 [==============================] - 13s 13ms/step - loss: 0.2246 - x_output_loss: 0.1515 - y_output_loss: 0.0731 - x_output_root_mean_squared_error: 0.3893 - y_output_root_mean_squared_error: 0.2703 - val_loss: 0.0936 - val_x_output_loss: 0.0630 - val_y_output_loss: 0.0306 - val_x_output_root_mean_squared_error: 0.2510 - val_y_output_root_mean_squared_error: 0.1750\n",
      "Epoch 64/300\n",
      "1013/1013 [==============================] - 14s 14ms/step - loss: 0.2256 - x_output_loss: 0.1486 - y_output_loss: 0.0770 - x_output_root_mean_squared_error: 0.3854 - y_output_root_mean_squared_error: 0.2775 - val_loss: 0.8536 - val_x_output_loss: 0.6761 - val_y_output_loss: 0.1775 - val_x_output_root_mean_squared_error: 0.8223 - val_y_output_root_mean_squared_error: 0.4213\n",
      "Epoch 65/300\n",
      "1013/1013 [==============================] - 14s 14ms/step - loss: 0.2357 - x_output_loss: 0.1598 - y_output_loss: 0.0759 - x_output_root_mean_squared_error: 0.3997 - y_output_root_mean_squared_error: 0.2755 - val_loss: 0.1053 - val_x_output_loss: 0.0759 - val_y_output_loss: 0.0294 - val_x_output_root_mean_squared_error: 0.2755 - val_y_output_root_mean_squared_error: 0.1716\n",
      "Epoch 66/300\n",
      "1013/1013 [==============================] - 14s 13ms/step - loss: 0.2323 - x_output_loss: 0.1582 - y_output_loss: 0.0741 - x_output_root_mean_squared_error: 0.3978 - y_output_root_mean_squared_error: 0.2723 - val_loss: 0.1327 - val_x_output_loss: 0.1005 - val_y_output_loss: 0.0323 - val_x_output_root_mean_squared_error: 0.3170 - val_y_output_root_mean_squared_error: 0.1797\n",
      "Epoch 67/300\n",
      "1013/1013 [==============================] - 14s 14ms/step - loss: 0.2310 - x_output_loss: 0.1522 - y_output_loss: 0.0788 - x_output_root_mean_squared_error: 0.3901 - y_output_root_mean_squared_error: 0.2808 - val_loss: 0.1238 - val_x_output_loss: 0.0790 - val_y_output_loss: 0.0449 - val_x_output_root_mean_squared_error: 0.2810 - val_y_output_root_mean_squared_error: 0.2118\n",
      "Epoch 68/300\n",
      "1013/1013 [==============================] - 14s 14ms/step - loss: 0.2264 - x_output_loss: 0.1514 - y_output_loss: 0.0751 - x_output_root_mean_squared_error: 0.3891 - y_output_root_mean_squared_error: 0.2740 - val_loss: 0.1345 - val_x_output_loss: 0.0908 - val_y_output_loss: 0.0438 - val_x_output_root_mean_squared_error: 0.3013 - val_y_output_root_mean_squared_error: 0.2092\n",
      "Epoch 69/300\n",
      "1013/1013 [==============================] - 13s 13ms/step - loss: 0.2591 - x_output_loss: 0.1673 - y_output_loss: 0.0918 - x_output_root_mean_squared_error: 0.4090 - y_output_root_mean_squared_error: 0.3030 - val_loss: 0.1680 - val_x_output_loss: 0.1176 - val_y_output_loss: 0.0504 - val_x_output_root_mean_squared_error: 0.3429 - val_y_output_root_mean_squared_error: 0.2246\n",
      "Epoch 70/300\n",
      "1013/1013 [==============================] - 14s 14ms/step - loss: 0.2299 - x_output_loss: 0.1547 - y_output_loss: 0.0752 - x_output_root_mean_squared_error: 0.3933 - y_output_root_mean_squared_error: 0.2743 - val_loss: 0.1244 - val_x_output_loss: 0.0908 - val_y_output_loss: 0.0336 - val_x_output_root_mean_squared_error: 0.3014 - val_y_output_root_mean_squared_error: 0.1832\n",
      "Epoch 71/300\n",
      "1013/1013 [==============================] - 14s 14ms/step - loss: 0.2426 - x_output_loss: 0.1638 - y_output_loss: 0.0789 - x_output_root_mean_squared_error: 0.4047 - y_output_root_mean_squared_error: 0.2808 - val_loss: 0.1382 - val_x_output_loss: 0.0991 - val_y_output_loss: 0.0392 - val_x_output_root_mean_squared_error: 0.3148 - val_y_output_root_mean_squared_error: 0.1979\n",
      "Epoch 72/300\n",
      "1013/1013 [==============================] - 14s 14ms/step - loss: 0.2197 - x_output_loss: 0.1487 - y_output_loss: 0.0709 - x_output_root_mean_squared_error: 0.3856 - y_output_root_mean_squared_error: 0.2663 - val_loss: 0.1021 - val_x_output_loss: 0.0733 - val_y_output_loss: 0.0288 - val_x_output_root_mean_squared_error: 0.2708 - val_y_output_root_mean_squared_error: 0.1696\n",
      "Epoch 73/300\n",
      "1013/1013 [==============================] - 14s 13ms/step - loss: 0.2130 - x_output_loss: 0.1435 - y_output_loss: 0.0695 - x_output_root_mean_squared_error: 0.3788 - y_output_root_mean_squared_error: 0.2636 - val_loss: 0.1497 - val_x_output_loss: 0.0904 - val_y_output_loss: 0.0593 - val_x_output_root_mean_squared_error: 0.3006 - val_y_output_root_mean_squared_error: 0.2435\n",
      "Epoch 74/300\n",
      "1013/1013 [==============================] - 14s 14ms/step - loss: 0.2195 - x_output_loss: 0.1476 - y_output_loss: 0.0719 - x_output_root_mean_squared_error: 0.3842 - y_output_root_mean_squared_error: 0.2682 - val_loss: 0.1179 - val_x_output_loss: 0.0882 - val_y_output_loss: 0.0298 - val_x_output_root_mean_squared_error: 0.2969 - val_y_output_root_mean_squared_error: 0.1725\n",
      "Epoch 75/300\n",
      "1013/1013 [==============================] - 14s 14ms/step - loss: 0.2208 - x_output_loss: 0.1496 - y_output_loss: 0.0713 - x_output_root_mean_squared_error: 0.3868 - y_output_root_mean_squared_error: 0.2669 - val_loss: 0.0927 - val_x_output_loss: 0.0611 - val_y_output_loss: 0.0316 - val_x_output_root_mean_squared_error: 0.2472 - val_y_output_root_mean_squared_error: 0.1778\n",
      "Epoch 76/300\n",
      "1013/1013 [==============================] - 14s 13ms/step - loss: 0.2158 - x_output_loss: 0.1440 - y_output_loss: 0.0718 - x_output_root_mean_squared_error: 0.3794 - y_output_root_mean_squared_error: 0.2680 - val_loss: 0.0900 - val_x_output_loss: 0.0615 - val_y_output_loss: 0.0285 - val_x_output_root_mean_squared_error: 0.2481 - val_y_output_root_mean_squared_error: 0.1687\n",
      "Epoch 77/300\n",
      "1013/1013 [==============================] - 13s 13ms/step - loss: 0.2221 - x_output_loss: 0.1473 - y_output_loss: 0.0748 - x_output_root_mean_squared_error: 0.3839 - y_output_root_mean_squared_error: 0.2734 - val_loss: 0.1050 - val_x_output_loss: 0.0658 - val_y_output_loss: 0.0392 - val_x_output_root_mean_squared_error: 0.2565 - val_y_output_root_mean_squared_error: 0.1981\n",
      "Epoch 78/300\n",
      "1013/1013 [==============================] - 14s 13ms/step - loss: 0.2183 - x_output_loss: 0.1472 - y_output_loss: 0.0711 - x_output_root_mean_squared_error: 0.3836 - y_output_root_mean_squared_error: 0.2667 - val_loss: 0.1175 - val_x_output_loss: 0.0734 - val_y_output_loss: 0.0441 - val_x_output_root_mean_squared_error: 0.2709 - val_y_output_root_mean_squared_error: 0.2101\n",
      "Epoch 79/300\n",
      "1013/1013 [==============================] - 14s 14ms/step - loss: 0.2082 - x_output_loss: 0.1415 - y_output_loss: 0.0667 - x_output_root_mean_squared_error: 0.3762 - y_output_root_mean_squared_error: 0.2582 - val_loss: 0.0880 - val_x_output_loss: 0.0608 - val_y_output_loss: 0.0272 - val_x_output_root_mean_squared_error: 0.2465 - val_y_output_root_mean_squared_error: 0.1650\n",
      "Epoch 80/300\n",
      "1013/1013 [==============================] - 14s 14ms/step - loss: 0.2167 - x_output_loss: 0.1465 - y_output_loss: 0.0702 - x_output_root_mean_squared_error: 0.3828 - y_output_root_mean_squared_error: 0.2650 - val_loss: 0.2094 - val_x_output_loss: 0.1792 - val_y_output_loss: 0.0303 - val_x_output_root_mean_squared_error: 0.4233 - val_y_output_root_mean_squared_error: 0.1740\n",
      "Epoch 81/300\n",
      "1013/1013 [==============================] - 14s 14ms/step - loss: 0.1882 - x_output_loss: 0.1260 - y_output_loss: 0.0622 - x_output_root_mean_squared_error: 0.3550 - y_output_root_mean_squared_error: 0.2494 - val_loss: 0.2139 - val_x_output_loss: 0.0991 - val_y_output_loss: 0.1148 - val_x_output_root_mean_squared_error: 0.3149 - val_y_output_root_mean_squared_error: 0.3388\n",
      "Epoch 82/300\n"
     ]
    },
    {
     "name": "stdout",
     "output_type": "stream",
     "text": [
      "1013/1013 [==============================] - 14s 13ms/step - loss: 0.2057 - x_output_loss: 0.1368 - y_output_loss: 0.0688 - x_output_root_mean_squared_error: 0.3699 - y_output_root_mean_squared_error: 0.2623 - val_loss: 0.0982 - val_x_output_loss: 0.0724 - val_y_output_loss: 0.0257 - val_x_output_root_mean_squared_error: 0.2691 - val_y_output_root_mean_squared_error: 0.1604\n",
      "Epoch 83/300\n",
      "1013/1013 [==============================] - 14s 14ms/step - loss: 0.2149 - x_output_loss: 0.1437 - y_output_loss: 0.0712 - x_output_root_mean_squared_error: 0.3791 - y_output_root_mean_squared_error: 0.2668 - val_loss: 0.0963 - val_x_output_loss: 0.0665 - val_y_output_loss: 0.0298 - val_x_output_root_mean_squared_error: 0.2578 - val_y_output_root_mean_squared_error: 0.1726\n",
      "Epoch 84/300\n",
      "1013/1013 [==============================] - 13s 13ms/step - loss: 0.2001 - x_output_loss: 0.1338 - y_output_loss: 0.0663 - x_output_root_mean_squared_error: 0.3658 - y_output_root_mean_squared_error: 0.2574 - val_loss: 0.0778 - val_x_output_loss: 0.0545 - val_y_output_loss: 0.0234 - val_x_output_root_mean_squared_error: 0.2334 - val_y_output_root_mean_squared_error: 0.1529\n",
      "Epoch 85/300\n",
      "1013/1013 [==============================] - 14s 13ms/step - loss: 0.2026 - x_output_loss: 0.1368 - y_output_loss: 0.0658 - x_output_root_mean_squared_error: 0.3698 - y_output_root_mean_squared_error: 0.2565 - val_loss: 0.1026 - val_x_output_loss: 0.0733 - val_y_output_loss: 0.0293 - val_x_output_root_mean_squared_error: 0.2707 - val_y_output_root_mean_squared_error: 0.1711\n",
      "Epoch 86/300\n",
      "1013/1013 [==============================] - 13s 13ms/step - loss: 0.1974 - x_output_loss: 0.1336 - y_output_loss: 0.0638 - x_output_root_mean_squared_error: 0.3656 - y_output_root_mean_squared_error: 0.2526 - val_loss: 0.1323 - val_x_output_loss: 0.0799 - val_y_output_loss: 0.0524 - val_x_output_root_mean_squared_error: 0.2826 - val_y_output_root_mean_squared_error: 0.2290\n",
      "Epoch 87/300\n",
      "1013/1013 [==============================] - 14s 14ms/step - loss: 0.2061 - x_output_loss: 0.1376 - y_output_loss: 0.0685 - x_output_root_mean_squared_error: 0.3709 - y_output_root_mean_squared_error: 0.2617 - val_loss: 0.1039 - val_x_output_loss: 0.0686 - val_y_output_loss: 0.0352 - val_x_output_root_mean_squared_error: 0.2620 - val_y_output_root_mean_squared_error: 0.1876\n",
      "Epoch 88/300\n",
      "1013/1013 [==============================] - 14s 14ms/step - loss: 0.1885 - x_output_loss: 0.1274 - y_output_loss: 0.0611 - x_output_root_mean_squared_error: 0.3570 - y_output_root_mean_squared_error: 0.2471 - val_loss: 0.0842 - val_x_output_loss: 0.0559 - val_y_output_loss: 0.0283 - val_x_output_root_mean_squared_error: 0.2365 - val_y_output_root_mean_squared_error: 0.1682\n",
      "Epoch 89/300\n",
      "1013/1013 [==============================] - 14s 14ms/step - loss: 0.1939 - x_output_loss: 0.1299 - y_output_loss: 0.0639 - x_output_root_mean_squared_error: 0.3605 - y_output_root_mean_squared_error: 0.2528 - val_loss: 0.1923 - val_x_output_loss: 0.0899 - val_y_output_loss: 0.1024 - val_x_output_root_mean_squared_error: 0.2999 - val_y_output_root_mean_squared_error: 0.3200\n",
      "Epoch 90/300\n",
      "1013/1013 [==============================] - 14s 14ms/step - loss: 0.2034 - x_output_loss: 0.1325 - y_output_loss: 0.0709 - x_output_root_mean_squared_error: 0.3640 - y_output_root_mean_squared_error: 0.2663 - val_loss: 0.0775 - val_x_output_loss: 0.0509 - val_y_output_loss: 0.0267 - val_x_output_root_mean_squared_error: 0.2255 - val_y_output_root_mean_squared_error: 0.1633\n",
      "Epoch 91/300\n",
      "1013/1013 [==============================] - 14s 14ms/step - loss: 0.1951 - x_output_loss: 0.1304 - y_output_loss: 0.0646 - x_output_root_mean_squared_error: 0.3612 - y_output_root_mean_squared_error: 0.2543 - val_loss: 0.0882 - val_x_output_loss: 0.0613 - val_y_output_loss: 0.0269 - val_x_output_root_mean_squared_error: 0.2475 - val_y_output_root_mean_squared_error: 0.1641\n",
      "Epoch 92/300\n",
      "1013/1013 [==============================] - 14s 14ms/step - loss: 0.2073 - x_output_loss: 0.1377 - y_output_loss: 0.0696 - x_output_root_mean_squared_error: 0.3711 - y_output_root_mean_squared_error: 0.2638 - val_loss: 0.1011 - val_x_output_loss: 0.0709 - val_y_output_loss: 0.0302 - val_x_output_root_mean_squared_error: 0.2663 - val_y_output_root_mean_squared_error: 0.1738\n",
      "Epoch 93/300\n",
      "1013/1013 [==============================] - 13s 13ms/step - loss: 0.1983 - x_output_loss: 0.1323 - y_output_loss: 0.0660 - x_output_root_mean_squared_error: 0.3637 - y_output_root_mean_squared_error: 0.2569 - val_loss: 0.1260 - val_x_output_loss: 0.0947 - val_y_output_loss: 0.0313 - val_x_output_root_mean_squared_error: 0.3077 - val_y_output_root_mean_squared_error: 0.1770\n",
      "Epoch 94/300\n",
      "1013/1013 [==============================] - 14s 14ms/step - loss: 0.1895 - x_output_loss: 0.1257 - y_output_loss: 0.0637 - x_output_root_mean_squared_error: 0.3546 - y_output_root_mean_squared_error: 0.2525 - val_loss: 0.1123 - val_x_output_loss: 0.0811 - val_y_output_loss: 0.0311 - val_x_output_root_mean_squared_error: 0.2848 - val_y_output_root_mean_squared_error: 0.1765\n",
      "Epoch 95/300\n",
      "1013/1013 [==============================] - 14s 14ms/step - loss: 0.1827 - x_output_loss: 0.1225 - y_output_loss: 0.0602 - x_output_root_mean_squared_error: 0.3500 - y_output_root_mean_squared_error: 0.2454 - val_loss: 0.1360 - val_x_output_loss: 0.0801 - val_y_output_loss: 0.0558 - val_x_output_root_mean_squared_error: 0.2831 - val_y_output_root_mean_squared_error: 0.2363\n",
      "Epoch 96/300\n",
      "1013/1013 [==============================] - 14s 14ms/step - loss: 0.1903 - x_output_loss: 0.1264 - y_output_loss: 0.0639 - x_output_root_mean_squared_error: 0.3555 - y_output_root_mean_squared_error: 0.2527 - val_loss: 0.0907 - val_x_output_loss: 0.0655 - val_y_output_loss: 0.0252 - val_x_output_root_mean_squared_error: 0.2560 - val_y_output_root_mean_squared_error: 0.1587\n",
      "Epoch 97/300\n",
      "1013/1013 [==============================] - 14s 14ms/step - loss: 0.1899 - x_output_loss: 0.1261 - y_output_loss: 0.0638 - x_output_root_mean_squared_error: 0.3551 - y_output_root_mean_squared_error: 0.2525 - val_loss: 0.0893 - val_x_output_loss: 0.0631 - val_y_output_loss: 0.0261 - val_x_output_root_mean_squared_error: 0.2513 - val_y_output_root_mean_squared_error: 0.1616\n",
      "Epoch 98/300\n",
      "1013/1013 [==============================] - 14s 13ms/step - loss: 0.1910 - x_output_loss: 0.1298 - y_output_loss: 0.0612 - x_output_root_mean_squared_error: 0.3603 - y_output_root_mean_squared_error: 0.2474 - val_loss: 0.1982 - val_x_output_loss: 0.1641 - val_y_output_loss: 0.0340 - val_x_output_root_mean_squared_error: 0.4051 - val_y_output_root_mean_squared_error: 0.1845\n",
      "Epoch 99/300\n",
      "1013/1013 [==============================] - 14s 13ms/step - loss: 0.1711 - x_output_loss: 0.1138 - y_output_loss: 0.0573 - x_output_root_mean_squared_error: 0.3374 - y_output_root_mean_squared_error: 0.2393 - val_loss: 0.0873 - val_x_output_loss: 0.0580 - val_y_output_loss: 0.0294 - val_x_output_root_mean_squared_error: 0.2408 - val_y_output_root_mean_squared_error: 0.1713\n",
      "Epoch 100/300\n",
      "1013/1013 [==============================] - 13s 13ms/step - loss: 0.1877 - x_output_loss: 0.1271 - y_output_loss: 0.0606 - x_output_root_mean_squared_error: 0.3565 - y_output_root_mean_squared_error: 0.2461 - val_loss: 0.1100 - val_x_output_loss: 0.0755 - val_y_output_loss: 0.0345 - val_x_output_root_mean_squared_error: 0.2748 - val_y_output_root_mean_squared_error: 0.1858\n",
      "Epoch 101/300\n",
      "1013/1013 [==============================] - 14s 14ms/step - loss: 0.1945 - x_output_loss: 0.1297 - y_output_loss: 0.0648 - x_output_root_mean_squared_error: 0.3601 - y_output_root_mean_squared_error: 0.2546 - val_loss: 0.0805 - val_x_output_loss: 0.0572 - val_y_output_loss: 0.0233 - val_x_output_root_mean_squared_error: 0.2392 - val_y_output_root_mean_squared_error: 0.1525\n",
      "Epoch 102/300\n",
      "1013/1013 [==============================] - 14s 13ms/step - loss: 0.1857 - x_output_loss: 0.1211 - y_output_loss: 0.0647 - x_output_root_mean_squared_error: 0.3480 - y_output_root_mean_squared_error: 0.2543 - val_loss: 0.1427 - val_x_output_loss: 0.0937 - val_y_output_loss: 0.0490 - val_x_output_root_mean_squared_error: 0.3061 - val_y_output_root_mean_squared_error: 0.2213\n",
      "Epoch 103/300\n"
     ]
    },
    {
     "name": "stdout",
     "output_type": "stream",
     "text": [
      "1013/1013 [==============================] - 14s 13ms/step - loss: 0.1738 - x_output_loss: 0.1195 - y_output_loss: 0.0543 - x_output_root_mean_squared_error: 0.3457 - y_output_root_mean_squared_error: 0.2330 - val_loss: 0.0771 - val_x_output_loss: 0.0512 - val_y_output_loss: 0.0259 - val_x_output_root_mean_squared_error: 0.2262 - val_y_output_root_mean_squared_error: 0.160949 - y_\n",
      "Epoch 104/300\n",
      "1013/1013 [==============================] - 14s 13ms/step - loss: 0.1808 - x_output_loss: 0.1184 - y_output_loss: 0.0624 - x_output_root_mean_squared_error: 0.3441 - y_output_root_mean_squared_error: 0.2499 - val_loss: 0.0966 - val_x_output_loss: 0.0681 - val_y_output_loss: 0.0284 - val_x_output_root_mean_squared_error: 0.2610 - val_y_output_root_mean_squared_error: 0.1686\n",
      "Epoch 105/300\n",
      "1013/1013 [==============================] - 13s 13ms/step - loss: 0.1909 - x_output_loss: 0.1304 - y_output_loss: 0.0605 - x_output_root_mean_squared_error: 0.3611 - y_output_root_mean_squared_error: 0.2460 - val_loss: 0.1307 - val_x_output_loss: 0.0816 - val_y_output_loss: 0.0491 - val_x_output_root_mean_squared_error: 0.2857 - val_y_output_root_mean_squared_error: 0.22170 - x_output_root_mean_squared_error: 0.3615 - y_output_root_mean_squared_error - ETA: 0s - loss: 0.1920 - x_output_loss: 0.1308 - y_output_loss: 0.0613 - x_output_root_mean_squared_error: 0.3616 - y_output_root_mean_squared_erro\n",
      "Epoch 106/300\n",
      "1013/1013 [==============================] - 14s 14ms/step - loss: 0.1785 - x_output_loss: 0.1186 - y_output_loss: 0.0599 - x_output_root_mean_squared_error: 0.3444 - y_output_root_mean_squared_error: 0.2446 - val_loss: 0.1475 - val_x_output_loss: 0.0993 - val_y_output_loss: 0.0482 - val_x_output_root_mean_squared_error: 0.3151 - val_y_output_root_mean_squared_error: 0.2196\n",
      "Epoch 107/300\n",
      "1013/1013 [==============================] - 14s 14ms/step - loss: 0.1808 - x_output_loss: 0.1181 - y_output_loss: 0.0627 - x_output_root_mean_squared_error: 0.3436 - y_output_root_mean_squared_error: 0.2504 - val_loss: 0.1254 - val_x_output_loss: 0.0767 - val_y_output_loss: 0.0487 - val_x_output_root_mean_squared_error: 0.2769 - val_y_output_root_mean_squared_error: 0.2206\n",
      "Epoch 108/300\n",
      "1013/1013 [==============================] - 14s 13ms/step - loss: 0.1684 - x_output_loss: 0.1125 - y_output_loss: 0.0559 - x_output_root_mean_squared_error: 0.3354 - y_output_root_mean_squared_error: 0.2363 - val_loss: 0.1024 - val_x_output_loss: 0.0727 - val_y_output_loss: 0.0297 - val_x_output_root_mean_squared_error: 0.2696 - val_y_output_root_mean_squared_error: 0.1723\n",
      "Epoch 109/300\n",
      "1013/1013 [==============================] - 14s 13ms/step - loss: 0.1765 - x_output_loss: 0.1202 - y_output_loss: 0.0563 - x_output_root_mean_squared_error: 0.3468 - y_output_root_mean_squared_error: 0.2372 - val_loss: 0.0735 - val_x_output_loss: 0.0477 - val_y_output_loss: 0.0258 - val_x_output_root_mean_squared_error: 0.2185 - val_y_output_root_mean_squared_error: 0.1607\n",
      "Epoch 110/300\n",
      "1013/1013 [==============================] - 13s 13ms/step - loss: 0.1823 - x_output_loss: 0.1224 - y_output_loss: 0.0598 - x_output_root_mean_squared_error: 0.3499 - y_output_root_mean_squared_error: 0.2446 - val_loss: 0.0765 - val_x_output_loss: 0.0518 - val_y_output_loss: 0.0247 - val_x_output_root_mean_squared_error: 0.2276 - val_y_output_root_mean_squared_error: 0.1571\n",
      "Epoch 111/300\n",
      "1013/1013 [==============================] - 13s 13ms/step - loss: 0.1651 - x_output_loss: 0.1106 - y_output_loss: 0.0545 - x_output_root_mean_squared_error: 0.3326 - y_output_root_mean_squared_error: 0.2335 - val_loss: 0.0628 - val_x_output_loss: 0.0435 - val_y_output_loss: 0.0193 - val_x_output_root_mean_squared_error: 0.2085 - val_y_output_root_mean_squared_error: 0.1389\n",
      "Epoch 112/300\n",
      "1013/1013 [==============================] - 14s 14ms/step - loss: 0.1833 - x_output_loss: 0.1248 - y_output_loss: 0.0585 - x_output_root_mean_squared_error: 0.3533 - y_output_root_mean_squared_error: 0.2420 - val_loss: 0.0685 - val_x_output_loss: 0.0468 - val_y_output_loss: 0.0217 - val_x_output_root_mean_squared_error: 0.2163 - val_y_output_root_mean_squared_error: 0.1474\n",
      "Epoch 113/300\n",
      "1013/1013 [==============================] - 14s 14ms/step - loss: 0.1740 - x_output_loss: 0.1171 - y_output_loss: 0.0569 - x_output_root_mean_squared_error: 0.3422 - y_output_root_mean_squared_error: 0.2385 - val_loss: 0.0887 - val_x_output_loss: 0.0616 - val_y_output_loss: 0.0271 - val_x_output_root_mean_squared_error: 0.2482 - val_y_output_root_mean_squared_error: 0.1647\n",
      "Epoch 114/300\n",
      "1013/1013 [==============================] - 14s 14ms/step - loss: 0.1718 - x_output_loss: 0.1126 - y_output_loss: 0.0592 - x_output_root_mean_squared_error: 0.3356 - y_output_root_mean_squared_error: 0.2433 - val_loss: 0.3191 - val_x_output_loss: 0.1814 - val_y_output_loss: 0.1377 - val_x_output_root_mean_squared_error: 0.4260 - val_y_output_root_mean_squared_error: 0.3710\n",
      "Epoch 115/300\n",
      "1013/1013 [==============================] - 14s 14ms/step - loss: 0.1599 - x_output_loss: 0.1081 - y_output_loss: 0.0518 - x_output_root_mean_squared_error: 0.3288 - y_output_root_mean_squared_error: 0.2276 - val_loss: 0.0770 - val_x_output_loss: 0.0491 - val_y_output_loss: 0.0279 - val_x_output_root_mean_squared_error: 0.2216 - val_y_output_root_mean_squared_error: 0.1669\n",
      "Epoch 116/300\n",
      "1013/1013 [==============================] - 14s 14ms/step - loss: 0.1791 - x_output_loss: 0.1219 - y_output_loss: 0.0573 - x_output_root_mean_squared_error: 0.3491 - y_output_root_mean_squared_error: 0.2393 - val_loss: 0.0736 - val_x_output_loss: 0.0501 - val_y_output_loss: 0.0235 - val_x_output_root_mean_squared_error: 0.2237 - val_y_output_root_mean_squared_error: 0.1533\n",
      "Epoch 117/300\n",
      "1013/1013 [==============================] - 14s 14ms/step - loss: 0.1654 - x_output_loss: 0.1128 - y_output_loss: 0.0526 - x_output_root_mean_squared_error: 0.3358 - y_output_root_mean_squared_error: 0.2294 - val_loss: 0.0605 - val_x_output_loss: 0.0416 - val_y_output_loss: 0.0189 - val_x_output_root_mean_squared_error: 0.2039 - val_y_output_root_mean_squared_error: 0.1375\n",
      "Epoch 118/300\n",
      "1013/1013 [==============================] - 14s 14ms/step - loss: 0.1623 - x_output_loss: 0.1111 - y_output_loss: 0.0512 - x_output_root_mean_squared_error: 0.3332 - y_output_root_mean_squared_error: 0.2264 - val_loss: 0.0854 - val_x_output_loss: 0.0484 - val_y_output_loss: 0.0370 - val_x_output_root_mean_squared_error: 0.2200 - val_y_output_root_mean_squared_error: 0.1923\n",
      "Epoch 119/300\n",
      "1013/1013 [==============================] - 14s 14ms/step - loss: 0.1578 - x_output_loss: 0.1052 - y_output_loss: 0.0526 - x_output_root_mean_squared_error: 0.3244 - y_output_root_mean_squared_error: 0.2293 - val_loss: 0.0658 - val_x_output_loss: 0.0480 - val_y_output_loss: 0.0178 - val_x_output_root_mean_squared_error: 0.2190 - val_y_output_root_mean_squared_error: 0.1335\n",
      "Epoch 120/300\n",
      "1013/1013 [==============================] - 14s 14ms/step - loss: 0.1648 - x_output_loss: 0.1130 - y_output_loss: 0.0517 - x_output_root_mean_squared_error: 0.3362 - y_output_root_mean_squared_error: 0.2275 - val_loss: 0.0813 - val_x_output_loss: 0.0524 - val_y_output_loss: 0.0289 - val_x_output_root_mean_squared_error: 0.2288 - val_y_output_root_mean_squared_error: 0.1701\n",
      "Epoch 121/300\n",
      "1013/1013 [==============================] - 14s 14ms/step - loss: 0.1648 - x_output_loss: 0.1087 - y_output_loss: 0.0561 - x_output_root_mean_squared_error: 0.3296 - y_output_root_mean_squared_error: 0.2368 - val_loss: 0.0797 - val_x_output_loss: 0.0555 - val_y_output_loss: 0.0242 - val_x_output_root_mean_squared_error: 0.2355 - val_y_output_root_mean_squared_error: 0.1556\n",
      "Epoch 122/300\n",
      "1013/1013 [==============================] - 14s 14ms/step - loss: 0.1669 - x_output_loss: 0.1105 - y_output_loss: 0.0564 - x_output_root_mean_squared_error: 0.3324 - y_output_root_mean_squared_error: 0.2375 - val_loss: 0.1030 - val_x_output_loss: 0.0758 - val_y_output_loss: 0.0272 - val_x_output_root_mean_squared_error: 0.2752 - val_y_output_root_mean_squared_error: 0.1650\n",
      "Epoch 123/300\n"
     ]
    },
    {
     "name": "stdout",
     "output_type": "stream",
     "text": [
      "1013/1013 [==============================] - 13s 13ms/step - loss: 0.1531 - x_output_loss: 0.1053 - y_output_loss: 0.0478 - x_output_root_mean_squared_error: 0.3246 - y_output_root_mean_squared_error: 0.2185 - val_loss: 0.0700 - val_x_output_loss: 0.0476 - val_y_output_loss: 0.0224 - val_x_output_root_mean_squared_error: 0.2182 - val_y_output_root_mean_squared_error: 0.1496\n",
      "Epoch 124/300\n",
      "1013/1013 [==============================] - 14s 14ms/step - loss: 0.1494 - x_output_loss: 0.1035 - y_output_loss: 0.0460 - x_output_root_mean_squared_error: 0.3216 - y_output_root_mean_squared_error: 0.2145 - val_loss: 0.0544 - val_x_output_loss: 0.0341 - val_y_output_loss: 0.0203 - val_x_output_root_mean_squared_error: 0.1847 - val_y_output_root_mean_squared_error: 0.1424\n",
      "Epoch 125/300\n",
      "1013/1013 [==============================] - 14s 14ms/step - loss: 0.1606 - x_output_loss: 0.1089 - y_output_loss: 0.0516 - x_output_root_mean_squared_error: 0.3300 - y_output_root_mean_squared_error: 0.2272 - val_loss: 0.0873 - val_x_output_loss: 0.0610 - val_y_output_loss: 0.0264 - val_x_output_root_mean_squared_error: 0.2469 - val_y_output_root_mean_squared_error: 0.1624\n",
      "Epoch 126/300\n",
      "1013/1013 [==============================] - 14s 13ms/step - loss: 0.1590 - x_output_loss: 0.1063 - y_output_loss: 0.0527 - x_output_root_mean_squared_error: 0.3261 - y_output_root_mean_squared_error: 0.2295 - val_loss: 0.0741 - val_x_output_loss: 0.0460 - val_y_output_loss: 0.0281 - val_x_output_root_mean_squared_error: 0.2145 - val_y_output_root_mean_squared_error: 0.1676\n",
      "Epoch 127/300\n",
      "1013/1013 [==============================] - 13s 13ms/step - loss: 0.1432 - x_output_loss: 0.0960 - y_output_loss: 0.0473 - x_output_root_mean_squared_error: 0.3098 - y_output_root_mean_squared_error: 0.2174 - val_loss: 0.0624 - val_x_output_loss: 0.0410 - val_y_output_loss: 0.0214 - val_x_output_root_mean_squared_error: 0.2024 - val_y_output_root_mean_squared_error: 0.1463\n",
      "Epoch 128/300\n",
      "1013/1013 [==============================] - 14s 13ms/step - loss: 0.1496 - x_output_loss: 0.1001 - y_output_loss: 0.0495 - x_output_root_mean_squared_error: 0.3164 - y_output_root_mean_squared_error: 0.2224 - val_loss: 0.0793 - val_x_output_loss: 0.0534 - val_y_output_loss: 0.0259 - val_x_output_root_mean_squared_error: 0.2311 - val_y_output_root_mean_squared_error: 0.1611\n",
      "Epoch 129/300\n",
      "1013/1013 [==============================] - 13s 13ms/step - loss: 0.1465 - x_output_loss: 0.0983 - y_output_loss: 0.0482 - x_output_root_mean_squared_error: 0.3135 - y_output_root_mean_squared_error: 0.2196 - val_loss: 0.0712 - val_x_output_loss: 0.0477 - val_y_output_loss: 0.0235 - val_x_output_root_mean_squared_error: 0.2184 - val_y_output_root_mean_squared_error: 0.1534\n",
      "Epoch 130/300\n",
      "1013/1013 [==============================] - 14s 14ms/step - loss: 0.1677 - x_output_loss: 0.1143 - y_output_loss: 0.0534 - x_output_root_mean_squared_error: 0.3380 - y_output_root_mean_squared_error: 0.2311 - val_loss: 0.0528 - val_x_output_loss: 0.0352 - val_y_output_loss: 0.0176 - val_x_output_root_mean_squared_error: 0.1877 - val_y_output_root_mean_squared_error: 0.1327\n",
      "Epoch 131/300\n",
      "1013/1013 [==============================] - 14s 14ms/step - loss: 0.1572 - x_output_loss: 0.1055 - y_output_loss: 0.0516 - x_output_root_mean_squared_error: 0.3249 - y_output_root_mean_squared_error: 0.2272 - val_loss: 0.0923 - val_x_output_loss: 0.0631 - val_y_output_loss: 0.0291 - val_x_output_root_mean_squared_error: 0.2512 - val_y_output_root_mean_squared_error: 0.1707\n",
      "Epoch 132/300\n",
      "1013/1013 [==============================] - 14s 14ms/step - loss: 0.1588 - x_output_loss: 0.1078 - y_output_loss: 0.0511 - x_output_root_mean_squared_error: 0.3283 - y_output_root_mean_squared_error: 0.2260 - val_loss: 0.1033 - val_x_output_loss: 0.0616 - val_y_output_loss: 0.0417 - val_x_output_root_mean_squared_error: 0.2481 - val_y_output_root_mean_squared_error: 0.2042\n",
      "Epoch 133/300\n",
      "1013/1013 [==============================] - 14s 14ms/step - loss: 0.1488 - x_output_loss: 0.0997 - y_output_loss: 0.0491 - x_output_root_mean_squared_error: 0.3158 - y_output_root_mean_squared_error: 0.2215 - val_loss: 0.0922 - val_x_output_loss: 0.0646 - val_y_output_loss: 0.0275 - val_x_output_root_mean_squared_error: 0.2542 - val_y_output_root_mean_squared_error: 0.1659.0985 - y_output_loss: 0.0488 - x_output_root_mean_squared_error: 0.3138 - y_output_root_mean_squared_\n",
      "Epoch 134/300\n",
      "1013/1013 [==============================] - 14s 14ms/step - loss: 0.1541 - x_output_loss: 0.1044 - y_output_loss: 0.0497 - x_output_root_mean_squared_error: 0.3231 - y_output_root_mean_squared_error: 0.2229 - val_loss: 0.0621 - val_x_output_loss: 0.0425 - val_y_output_loss: 0.0195 - val_x_output_root_mean_squared_error: 0.2062 - val_y_output_root_mean_squared_error: 0.1398\n",
      "Epoch 135/300\n",
      "1013/1013 [==============================] - 14s 13ms/step - loss: 0.1369 - x_output_loss: 0.0885 - y_output_loss: 0.0485 - x_output_root_mean_squared_error: 0.2974 - y_output_root_mean_squared_error: 0.2201 - val_loss: 0.0810 - val_x_output_loss: 0.0591 - val_y_output_loss: 0.0219 - val_x_output_root_mean_squared_error: 0.2431 - val_y_output_root_mean_squared_error: 0.1480\n",
      "Epoch 136/300\n",
      "1013/1013 [==============================] - 13s 13ms/step - loss: 0.1366 - x_output_loss: 0.0895 - y_output_loss: 0.0471 - x_output_root_mean_squared_error: 0.2991 - y_output_root_mean_squared_error: 0.2170 - val_loss: 0.0611 - val_x_output_loss: 0.0408 - val_y_output_loss: 0.0203 - val_x_output_root_mean_squared_error: 0.2019 - val_y_output_root_mean_squared_error: 0.1425\n",
      "Epoch 137/300\n",
      "1013/1013 [==============================] - 14s 14ms/step - loss: 0.1501 - x_output_loss: 0.1004 - y_output_loss: 0.0497 - x_output_root_mean_squared_error: 0.3168 - y_output_root_mean_squared_error: 0.2229 - val_loss: 0.1945 - val_x_output_loss: 0.1241 - val_y_output_loss: 0.0704 - val_x_output_root_mean_squared_error: 0.3523 - val_y_output_root_mean_squared_error: 0.2653\n",
      "Epoch 138/300\n",
      "1013/1013 [==============================] - 14s 14ms/step - loss: 0.1543 - x_output_loss: 0.1061 - y_output_loss: 0.0482 - x_output_root_mean_squared_error: 0.3257 - y_output_root_mean_squared_error: 0.2196 - val_loss: 0.0511 - val_x_output_loss: 0.0311 - val_y_output_loss: 0.0200 - val_x_output_root_mean_squared_error: 0.1764 - val_y_output_root_mean_squared_error: 0.1413\n",
      "Epoch 139/300\n",
      "1013/1013 [==============================] - 14s 14ms/step - loss: 0.1490 - x_output_loss: 0.0985 - y_output_loss: 0.0506 - x_output_root_mean_squared_error: 0.3138 - y_output_root_mean_squared_error: 0.2248 - val_loss: 0.0670 - val_x_output_loss: 0.0474 - val_y_output_loss: 0.0195 - val_x_output_root_mean_squared_error: 0.2178 - val_y_output_root_mean_squared_error: 0.1397\n",
      "Epoch 140/300\n",
      "1013/1013 [==============================] - 14s 13ms/step - loss: 0.1385 - x_output_loss: 0.0920 - y_output_loss: 0.0465 - x_output_root_mean_squared_error: 0.3034 - y_output_root_mean_squared_error: 0.2156 - val_loss: 0.0703 - val_x_output_loss: 0.0416 - val_y_output_loss: 0.0288 - val_x_output_root_mean_squared_error: 0.2039 - val_y_output_root_mean_squared_error: 0.1697\n",
      "Epoch 141/300\n",
      "1013/1013 [==============================] - 13s 13ms/step - loss: 0.1575 - x_output_loss: 0.1072 - y_output_loss: 0.0503 - x_output_root_mean_squared_error: 0.3275 - y_output_root_mean_squared_error: 0.2242 - val_loss: 0.0605 - val_x_output_loss: 0.0393 - val_y_output_loss: 0.0211 - val_x_output_root_mean_squared_error: 0.1983 - val_y_output_root_mean_squared_error: 0.1454\n",
      "Epoch 142/300\n",
      "1013/1013 [==============================] - 13s 13ms/step - loss: 0.1379 - x_output_loss: 0.0905 - y_output_loss: 0.0474 - x_output_root_mean_squared_error: 0.3008 - y_output_root_mean_squared_error: 0.2178 - val_loss: 0.0711 - val_x_output_loss: 0.0459 - val_y_output_loss: 0.0252 - val_x_output_root_mean_squared_error: 0.2142 - val_y_output_root_mean_squared_error: 0.1587\n",
      "Epoch 143/300\n"
     ]
    },
    {
     "name": "stdout",
     "output_type": "stream",
     "text": [
      "1013/1013 [==============================] - 13s 13ms/step - loss: 0.1353 - x_output_loss: 0.0879 - y_output_loss: 0.0474 - x_output_root_mean_squared_error: 0.2964 - y_output_root_mean_squared_error: 0.2177 - val_loss: 0.0867 - val_x_output_loss: 0.0575 - val_y_output_loss: 0.0291 - val_x_output_root_mean_squared_error: 0.2398 - val_y_output_root_mean_squared_error: 0.1707\n",
      "Epoch 144/300\n",
      "1013/1013 [==============================] - 14s 13ms/step - loss: 0.1370 - x_output_loss: 0.0935 - y_output_loss: 0.0435 - x_output_root_mean_squared_error: 0.3058 - y_output_root_mean_squared_error: 0.2085 - val_loss: 0.0475 - val_x_output_loss: 0.0316 - val_y_output_loss: 0.0160 - val_x_output_root_mean_squared_error: 0.1777 - val_y_output_root_mean_squared_error: 0.1263\n",
      "Epoch 145/300\n",
      "1013/1013 [==============================] - 14s 14ms/step - loss: 0.1362 - x_output_loss: 0.0896 - y_output_loss: 0.0466 - x_output_root_mean_squared_error: 0.2993 - y_output_root_mean_squared_error: 0.2159 - val_loss: 0.0509 - val_x_output_loss: 0.0347 - val_y_output_loss: 0.0162 - val_x_output_root_mean_squared_error: 0.1863 - val_y_output_root_mean_squared_error: 0.1272\n",
      "Epoch 146/300\n",
      "1013/1013 [==============================] - 14s 13ms/step - loss: 0.1301 - x_output_loss: 0.0882 - y_output_loss: 0.0419 - x_output_root_mean_squared_error: 0.2969 - y_output_root_mean_squared_error: 0.2048 - val_loss: 0.0847 - val_x_output_loss: 0.0590 - val_y_output_loss: 0.0257 - val_x_output_root_mean_squared_error: 0.2430 - val_y_output_root_mean_squared_error: 0.1603\n",
      "Epoch 147/300\n",
      "1013/1013 [==============================] - 14s 14ms/step - loss: 0.1323 - x_output_loss: 0.0881 - y_output_loss: 0.0443 - x_output_root_mean_squared_error: 0.2967 - y_output_root_mean_squared_error: 0.2104 - val_loss: 0.0820 - val_x_output_loss: 0.0515 - val_y_output_loss: 0.0305 - val_x_output_root_mean_squared_error: 0.2270 - val_y_output_root_mean_squared_error: 0.1745\n",
      "Epoch 148/300\n",
      "1013/1013 [==============================] - 13s 13ms/step - loss: 0.1334 - x_output_loss: 0.0879 - y_output_loss: 0.0455 - x_output_root_mean_squared_error: 0.2965 - y_output_root_mean_squared_error: 0.2133 - val_loss: 0.0678 - val_x_output_loss: 0.0421 - val_y_output_loss: 0.0258 - val_x_output_root_mean_squared_error: 0.2051 - val_y_output_root_mean_squared_error: 0.1606\n",
      "Epoch 149/300\n",
      "1013/1013 [==============================] - 13s 13ms/step - loss: 0.1414 - x_output_loss: 0.0897 - y_output_loss: 0.0516 - x_output_root_mean_squared_error: 0.2996 - y_output_root_mean_squared_error: 0.2272 - val_loss: 0.1662 - val_x_output_loss: 0.0432 - val_y_output_loss: 0.1230 - val_x_output_root_mean_squared_error: 0.2079 - val_y_output_root_mean_squared_error: 0.3507\n",
      "Epoch 150/300\n",
      "1013/1013 [==============================] - 14s 14ms/step - loss: 0.1325 - x_output_loss: 0.0863 - y_output_loss: 0.0462 - x_output_root_mean_squared_error: 0.2937 - y_output_root_mean_squared_error: 0.2149 - val_loss: 0.0592 - val_x_output_loss: 0.0439 - val_y_output_loss: 0.0154 - val_x_output_root_mean_squared_error: 0.2094 - val_y_output_root_mean_squared_error: 0.1240\n",
      "Epoch 151/300\n",
      "1013/1013 [==============================] - 13s 13ms/step - loss: 0.1339 - x_output_loss: 0.0905 - y_output_loss: 0.0434 - x_output_root_mean_squared_error: 0.3009 - y_output_root_mean_squared_error: 0.2083 - val_loss: 0.1002 - val_x_output_loss: 0.0622 - val_y_output_loss: 0.0380 - val_x_output_root_mean_squared_error: 0.2493 - val_y_output_root_mean_squared_error: 0.1949uared_error: 0.3086 - y_output_ro - ETA: 2s - loss: 0.1348 - x_output_loss: 0.0917 - y_output_loss: 0.0431 - x_output_root_mean_squared_error: 0.3\n",
      "Epoch 152/300\n",
      "1013/1013 [==============================] - 14s 14ms/step - loss: 0.1334 - x_output_loss: 0.0899 - y_output_loss: 0.0435 - x_output_root_mean_squared_error: 0.2998 - y_output_root_mean_squared_error: 0.2085 - val_loss: 0.0601 - val_x_output_loss: 0.0399 - val_y_output_loss: 0.0202 - val_x_output_root_mean_squared_error: 0.1997 - val_y_output_root_mean_squared_error: 0.1420\n",
      "Epoch 153/300\n",
      "1013/1013 [==============================] - 14s 14ms/step - loss: 0.1253 - x_output_loss: 0.0845 - y_output_loss: 0.0407 - x_output_root_mean_squared_error: 0.2908 - y_output_root_mean_squared_error: 0.2018 - val_loss: 0.0511 - val_x_output_loss: 0.0319 - val_y_output_loss: 0.0193 - val_x_output_root_mean_squared_error: 0.1785 - val_y_output_root_mean_squared_error: 0.1388\n",
      "Epoch 154/300\n",
      "1013/1013 [==============================] - 14s 14ms/step - loss: 0.1332 - x_output_loss: 0.0885 - y_output_loss: 0.0447 - x_output_root_mean_squared_error: 0.2974 - y_output_root_mean_squared_error: 0.2114 - val_loss: 0.0533 - val_x_output_loss: 0.0358 - val_y_output_loss: 0.0176 - val_x_output_root_mean_squared_error: 0.1891 - val_y_output_root_mean_squared_error: 0.1325\n",
      "Epoch 155/300\n",
      "1013/1013 [==============================] - 14s 14ms/step - loss: 0.1248 - x_output_loss: 0.0862 - y_output_loss: 0.0385 - x_output_root_mean_squared_error: 0.2936 - y_output_root_mean_squared_error: 0.1963 - val_loss: 0.0630 - val_x_output_loss: 0.0448 - val_y_output_loss: 0.0181 - val_x_output_root_mean_squared_error: 0.2117 - val_y_output_root_mean_squared_error: 0.1346\n",
      "Epoch 156/300\n",
      "1013/1013 [==============================] - 14s 14ms/step - loss: 0.1396 - x_output_loss: 0.0970 - y_output_loss: 0.0426 - x_output_root_mean_squared_error: 0.3115 - y_output_root_mean_squared_error: 0.2064 - val_loss: 0.0592 - val_x_output_loss: 0.0364 - val_y_output_loss: 0.0228 - val_x_output_root_mean_squared_error: 0.1908 - val_y_output_root_mean_squared_error: 0.1511\n",
      "Epoch 157/300\n",
      "1013/1013 [==============================] - 14s 14ms/step - loss: 0.1190 - x_output_loss: 0.0801 - y_output_loss: 0.0389 - x_output_root_mean_squared_error: 0.2830 - y_output_root_mean_squared_error: 0.1972 - val_loss: 0.0424 - val_x_output_loss: 0.0291 - val_y_output_loss: 0.0134 - val_x_output_root_mean_squared_error: 0.1705 - val_y_output_root_mean_squared_error: 0.1156\n",
      "Epoch 158/300\n",
      "1013/1013 [==============================] - 14s 14ms/step - loss: 0.1349 - x_output_loss: 0.0890 - y_output_loss: 0.0458 - x_output_root_mean_squared_error: 0.2984 - y_output_root_mean_squared_error: 0.2141 - val_loss: 0.0611 - val_x_output_loss: 0.0414 - val_y_output_loss: 0.0197 - val_x_output_root_mean_squared_error: 0.2035 - val_y_output_root_mean_squared_error: 0.1404\n",
      "Epoch 159/300\n",
      "1013/1013 [==============================] - 14s 13ms/step - loss: 0.1177 - x_output_loss: 0.0791 - y_output_loss: 0.0387 - x_output_root_mean_squared_error: 0.2812 - y_output_root_mean_squared_error: 0.1966 - val_loss: 0.0554 - val_x_output_loss: 0.0386 - val_y_output_loss: 0.0168 - val_x_output_root_mean_squared_error: 0.1966 - val_y_output_root_mean_squared_error: 0.1295\n",
      "Epoch 160/300\n",
      "1013/1013 [==============================] - 13s 13ms/step - loss: 0.1302 - x_output_loss: 0.0856 - y_output_loss: 0.0446 - x_output_root_mean_squared_error: 0.2926 - y_output_root_mean_squared_error: 0.2113 - val_loss: 0.2507 - val_x_output_loss: 0.1313 - val_y_output_loss: 0.1194 - val_x_output_root_mean_squared_error: 0.3624 - val_y_output_root_mean_squared_error: 0.3456\n",
      "Epoch 161/300\n",
      "1013/1013 [==============================] - 14s 14ms/step - loss: 0.1223 - x_output_loss: 0.0822 - y_output_loss: 0.0401 - x_output_root_mean_squared_error: 0.2868 - y_output_root_mean_squared_error: 0.2002 - val_loss: 0.0669 - val_x_output_loss: 0.0473 - val_y_output_loss: 0.0196 - val_x_output_root_mean_squared_error: 0.2174 - val_y_output_root_mean_squared_error: 0.1401\n",
      "Epoch 162/300\n",
      "1013/1013 [==============================] - 14s 13ms/step - loss: 0.1312 - x_output_loss: 0.0879 - y_output_loss: 0.0433 - x_output_root_mean_squared_error: 0.2965 - y_output_root_mean_squared_error: 0.2080 - val_loss: 0.0640 - val_x_output_loss: 0.0411 - val_y_output_loss: 0.0229 - val_x_output_root_mean_squared_error: 0.2028 - val_y_output_root_mean_squared_error: 0.1512\n",
      "Epoch 163/300\n",
      "1013/1013 [==============================] - 14s 13ms/step - loss: 0.1341 - x_output_loss: 0.0919 - y_output_loss: 0.0422 - x_output_root_mean_squared_error: 0.3031 - y_output_root_mean_squared_error: 0.2055 - val_loss: 0.0788 - val_x_output_loss: 0.0544 - val_y_output_loss: 0.0244 - val_x_output_root_mean_squared_error: 0.2333 - val_y_output_root_mean_squared_error: 0.1561\n"
     ]
    },
    {
     "name": "stdout",
     "output_type": "stream",
     "text": [
      "Epoch 164/300\n",
      "1013/1013 [==============================] - 14s 14ms/step - loss: 0.1325 - x_output_loss: 0.0901 - y_output_loss: 0.0425 - x_output_root_mean_squared_error: 0.3001 - y_output_root_mean_squared_error: 0.2061 - val_loss: 0.0847 - val_x_output_loss: 0.0607 - val_y_output_loss: 0.0240 - val_x_output_root_mean_squared_error: 0.2464 - val_y_output_root_mean_squared_error: 0.1550\n",
      "Epoch 165/300\n",
      "1013/1013 [==============================] - 14s 14ms/step - loss: 0.1301 - x_output_loss: 0.0875 - y_output_loss: 0.0426 - x_output_root_mean_squared_error: 0.2958 - y_output_root_mean_squared_error: 0.2065 - val_loss: 0.1220 - val_x_output_loss: 0.0647 - val_y_output_loss: 0.0573 - val_x_output_root_mean_squared_error: 0.2543 - val_y_output_root_mean_squared_error: 0.2394.0861 - y_output_loss: 0.0395 - x_output_root_mean_squared_error: - ETA: 4s - loss: 0.1252 - x_output_loss: 0.0853 - y_output_loss: 0.0399 - x_output_root_mean_squared_error: 0.2921  - ETA: 2s - loss: 0.1300 - x_output_loss: 0.0874 - y_output_loss: 0.0426 - x_output_root_mean_squared_error: 0.2957 - y\n",
      "Epoch 166/300\n",
      "1013/1013 [==============================] - 14s 14ms/step - loss: 0.1309 - x_output_loss: 0.0871 - y_output_loss: 0.0439 - x_output_root_mean_squared_error: 0.2950 - y_output_root_mean_squared_error: 0.2095 - val_loss: 0.1168 - val_x_output_loss: 0.0808 - val_y_output_loss: 0.0360 - val_x_output_root_mean_squared_error: 0.2842 - val_y_output_root_mean_squared_error: 0.1899\n",
      "Epoch 167/300\n",
      "1013/1013 [==============================] - 14s 14ms/step - loss: 0.1233 - x_output_loss: 0.0817 - y_output_loss: 0.0416 - x_output_root_mean_squared_error: 0.2858 - y_output_root_mean_squared_error: 0.2039 - val_loss: 0.0759 - val_x_output_loss: 0.0541 - val_y_output_loss: 0.0218 - val_x_output_root_mean_squared_error: 0.2325 - val_y_output_root_mean_squared_error: 0.1478\n",
      "Epoch 168/300\n",
      "1013/1013 [==============================] - 14s 14ms/step - loss: 0.1174 - x_output_loss: 0.0786 - y_output_loss: 0.0388 - x_output_root_mean_squared_error: 0.2803 - y_output_root_mean_squared_error: 0.1969 - val_loss: 0.0786 - val_x_output_loss: 0.0507 - val_y_output_loss: 0.0279 - val_x_output_root_mean_squared_error: 0.2252 - val_y_output_root_mean_squared_error: 0.1670\n",
      "Epoch 169/300\n",
      "1013/1013 [==============================] - 14s 13ms/step - loss: 0.1299 - x_output_loss: 0.0877 - y_output_loss: 0.0422 - x_output_root_mean_squared_error: 0.2961 - y_output_root_mean_squared_error: 0.2055 - val_loss: 0.0447 - val_x_output_loss: 0.0268 - val_y_output_loss: 0.0180 - val_x_output_root_mean_squared_error: 0.1636 - val_y_output_root_mean_squared_error: 0.1341\n",
      "Epoch 170/300\n",
      "1013/1013 [==============================] - 14s 14ms/step - loss: 0.1240 - x_output_loss: 0.0823 - y_output_loss: 0.0417 - x_output_root_mean_squared_error: 0.2869 - y_output_root_mean_squared_error: 0.2043 - val_loss: 0.0479 - val_x_output_loss: 0.0324 - val_y_output_loss: 0.0155 - val_x_output_root_mean_squared_error: 0.1801 - val_y_output_root_mean_squared_error: 0.1244\n",
      "Epoch 171/300\n",
      "1013/1013 [==============================] - 14s 14ms/step - loss: 0.1242 - x_output_loss: 0.0804 - y_output_loss: 0.0438 - x_output_root_mean_squared_error: 0.2836 - y_output_root_mean_squared_error: 0.2093 - val_loss: 0.1539 - val_x_output_loss: 0.0710 - val_y_output_loss: 0.0830 - val_x_output_root_mean_squared_error: 0.2664 - val_y_output_root_mean_squared_error: 0.2881\n",
      "Epoch 172/300\n",
      "1013/1013 [==============================] - 14s 14ms/step - loss: 0.1241 - x_output_loss: 0.0838 - y_output_loss: 0.0404 - x_output_root_mean_squared_error: 0.2894 - y_output_root_mean_squared_error: 0.2009 - val_loss: 0.0604 - val_x_output_loss: 0.0382 - val_y_output_loss: 0.0222 - val_x_output_root_mean_squared_error: 0.1955 - val_y_output_root_mean_squared_error: 0.1491\n",
      "Epoch 173/300\n",
      "1013/1013 [==============================] - 14s 14ms/step - loss: 0.1182 - x_output_loss: 0.0785 - y_output_loss: 0.0398 - x_output_root_mean_squared_error: 0.2801 - y_output_root_mean_squared_error: 0.1995 - val_loss: 0.0480 - val_x_output_loss: 0.0301 - val_y_output_loss: 0.0179 - val_x_output_root_mean_squared_error: 0.1735 - val_y_output_root_mean_squared_error: 0.1339\n",
      "Epoch 174/300\n",
      "1013/1013 [==============================] - 14s 14ms/step - loss: 0.1128 - x_output_loss: 0.0731 - y_output_loss: 0.0397 - x_output_root_mean_squared_error: 0.2704 - y_output_root_mean_squared_error: 0.1992 - val_loss: 0.0535 - val_x_output_loss: 0.0386 - val_y_output_loss: 0.0149 - val_x_output_root_mean_squared_error: 0.1966 - val_y_output_root_mean_squared_error: 0.1219\n",
      "Epoch 175/300\n",
      "1013/1013 [==============================] - 14s 14ms/step - loss: 0.1314 - x_output_loss: 0.0876 - y_output_loss: 0.0438 - x_output_root_mean_squared_error: 0.2960 - y_output_root_mean_squared_error: 0.2092 - val_loss: 0.0587 - val_x_output_loss: 0.0365 - val_y_output_loss: 0.0222 - val_x_output_root_mean_squared_error: 0.1910 - val_y_output_root_mean_squared_error: 0.1490\n",
      "Epoch 176/300\n",
      "1013/1013 [==============================] - 14s 13ms/step - loss: 0.1104 - x_output_loss: 0.0738 - y_output_loss: 0.0366 - x_output_root_mean_squared_error: 0.2716 - y_output_root_mean_squared_error: 0.1914 - val_loss: 0.0589 - val_x_output_loss: 0.0386 - val_y_output_loss: 0.0203 - val_x_output_root_mean_squared_error: 0.1966 - val_y_output_root_mean_squared_error: 0.1423\n",
      "Epoch 177/300\n",
      "1013/1013 [==============================] - 14s 14ms/step - loss: 0.1137 - x_output_loss: 0.0765 - y_output_loss: 0.0371 - x_output_root_mean_squared_error: 0.2767 - y_output_root_mean_squared_error: 0.1927 - val_loss: 0.0470 - val_x_output_loss: 0.0315 - val_y_output_loss: 0.0156 - val_x_output_root_mean_squared_error: 0.1774 - val_y_output_root_mean_squared_error: 0.1247\n",
      "Epoch 178/300\n",
      "1013/1013 [==============================] - 14s 14ms/step - loss: 0.1189 - x_output_loss: 0.0800 - y_output_loss: 0.0389 - x_output_root_mean_squared_error: 0.2829 - y_output_root_mean_squared_error: 0.1972 - val_loss: 0.0559 - val_x_output_loss: 0.0372 - val_y_output_loss: 0.0187 - val_x_output_root_mean_squared_error: 0.1928 - val_y_output_root_mean_squared_error: 0.1367\n",
      "Epoch 179/300\n",
      "1013/1013 [==============================] - 14s 14ms/step - loss: 0.1047 - x_output_loss: 0.0704 - y_output_loss: 0.0343 - x_output_root_mean_squared_error: 0.2652 - y_output_root_mean_squared_error: 0.1852 - val_loss: 0.0708 - val_x_output_loss: 0.0501 - val_y_output_loss: 0.0207 - val_x_output_root_mean_squared_error: 0.2238 - val_y_output_root_mean_squared_error: 0.1438\n",
      "Epoch 180/300\n",
      "1013/1013 [==============================] - 14s 14ms/step - loss: 0.1173 - x_output_loss: 0.0769 - y_output_loss: 0.0404 - x_output_root_mean_squared_error: 0.2773 - y_output_root_mean_squared_error: 0.2010 - val_loss: 0.0445 - val_x_output_loss: 0.0306 - val_y_output_loss: 0.0140 - val_x_output_root_mean_squared_error: 0.1749 - val_y_output_root_mean_squared_error: 0.1182\n",
      "Epoch 181/300\n",
      "1013/1013 [==============================] - 13s 13ms/step - loss: 0.1187 - x_output_loss: 0.0801 - y_output_loss: 0.0386 - x_output_root_mean_squared_error: 0.2830 - y_output_root_mean_squared_error: 0.1965 - val_loss: 0.0517 - val_x_output_loss: 0.0355 - val_y_output_loss: 0.0162 - val_x_output_root_mean_squared_error: 0.1884 - val_y_output_root_mean_squared_error: 0.1273\n",
      "Epoch 182/300\n",
      "1013/1013 [==============================] - 14s 14ms/step - loss: 0.1136 - x_output_loss: 0.0764 - y_output_loss: 0.0372 - x_output_root_mean_squared_error: 0.2764 - y_output_root_mean_squared_error: 0.1929 - val_loss: 0.0495 - val_x_output_loss: 0.0373 - val_y_output_loss: 0.0121 - val_x_output_root_mean_squared_error: 0.1932 - val_y_output_root_mean_squared_error: 0.1102\n",
      "Epoch 183/300\n",
      "1013/1013 [==============================] - 14s 14ms/step - loss: 0.1154 - x_output_loss: 0.0797 - y_output_loss: 0.0357 - x_output_root_mean_squared_error: 0.2823 - y_output_root_mean_squared_error: 0.1889 - val_loss: 0.0714 - val_x_output_loss: 0.0546 - val_y_output_loss: 0.0168 - val_x_output_root_mean_squared_error: 0.2336 - val_y_output_root_mean_squared_error: 0.1297\n",
      "Epoch 184/300\n"
     ]
    },
    {
     "name": "stdout",
     "output_type": "stream",
     "text": [
      "1013/1013 [==============================] - 14s 14ms/step - loss: 0.1119 - x_output_loss: 0.0749 - y_output_loss: 0.0370 - x_output_root_mean_squared_error: 0.2736 - y_output_root_mean_squared_error: 0.1923 - val_loss: 0.0761 - val_x_output_loss: 0.0522 - val_y_output_loss: 0.0239 - val_x_output_root_mean_squared_error: 0.2285 - val_y_output_root_mean_squared_error: 0.1545\n",
      "Epoch 185/300\n",
      "1013/1013 [==============================] - 14s 14ms/step - loss: 0.1156 - x_output_loss: 0.0772 - y_output_loss: 0.0384 - x_output_root_mean_squared_error: 0.2778 - y_output_root_mean_squared_error: 0.1959 - val_loss: 0.0500 - val_x_output_loss: 0.0370 - val_y_output_loss: 0.0130 - val_x_output_root_mean_squared_error: 0.1923 - val_y_output_root_mean_squared_error: 0.1142\n",
      "Epoch 186/300\n",
      "1013/1013 [==============================] - 14s 14ms/step - loss: 0.1133 - x_output_loss: 0.0748 - y_output_loss: 0.0385 - x_output_root_mean_squared_error: 0.2735 - y_output_root_mean_squared_error: 0.1962 - val_loss: 0.0777 - val_x_output_loss: 0.0519 - val_y_output_loss: 0.0258 - val_x_output_root_mean_squared_error: 0.2278 - val_y_output_root_mean_squared_error: 0.1607\n",
      "Epoch 187/300\n",
      "1013/1013 [==============================] - 13s 13ms/step - loss: 0.1217 - x_output_loss: 0.0826 - y_output_loss: 0.0391 - x_output_root_mean_squared_error: 0.2873 - y_output_root_mean_squared_error: 0.1978 - val_loss: 0.0581 - val_x_output_loss: 0.0391 - val_y_output_loss: 0.0190 - val_x_output_root_mean_squared_error: 0.1978 - val_y_output_root_mean_squared_error: 0.1378\n",
      "Epoch 188/300\n",
      "1013/1013 [==============================] - 14s 14ms/step - loss: 0.1197 - x_output_loss: 0.0803 - y_output_loss: 0.0394 - x_output_root_mean_squared_error: 0.2834 - y_output_root_mean_squared_error: 0.1984 - val_loss: 0.0586 - val_x_output_loss: 0.0409 - val_y_output_loss: 0.0177 - val_x_output_root_mean_squared_error: 0.2024 - val_y_output_root_mean_squared_error: 0.1330\n",
      "Epoch 189/300\n",
      "1013/1013 [==============================] - 14s 14ms/step - loss: 0.1078 - x_output_loss: 0.0735 - y_output_loss: 0.0342 - x_output_root_mean_squared_error: 0.2712 - y_output_root_mean_squared_error: 0.1850 - val_loss: 0.0518 - val_x_output_loss: 0.0332 - val_y_output_loss: 0.0186 - val_x_output_root_mean_squared_error: 0.1822 - val_y_output_root_mean_squared_error: 0.1363\n",
      "Epoch 190/300\n",
      "1013/1013 [==============================] - 14s 13ms/step - loss: 0.1047 - x_output_loss: 0.0702 - y_output_loss: 0.0344 - x_output_root_mean_squared_error: 0.2650 - y_output_root_mean_squared_error: 0.1855 - val_loss: 0.1223 - val_x_output_loss: 0.0951 - val_y_output_loss: 0.0272 - val_x_output_root_mean_squared_error: 0.3084 - val_y_output_root_mean_squared_error: 0.1649\n",
      "Epoch 191/300\n",
      "1013/1013 [==============================] - 15s 14ms/step - loss: 0.1113 - x_output_loss: 0.0736 - y_output_loss: 0.0377 - x_output_root_mean_squared_error: 0.2712 - y_output_root_mean_squared_error: 0.1942 - val_loss: 0.0437 - val_x_output_loss: 0.0290 - val_y_output_loss: 0.0147 - val_x_output_root_mean_squared_error: 0.1703 - val_y_output_root_mean_squared_error: 0.1213\n",
      "Epoch 192/300\n",
      "1013/1013 [==============================] - 15s 15ms/step - loss: 0.1131 - x_output_loss: 0.0750 - y_output_loss: 0.0381 - x_output_root_mean_squared_error: 0.2738 - y_output_root_mean_squared_error: 0.1952 - val_loss: 0.0516 - val_x_output_loss: 0.0339 - val_y_output_loss: 0.0176 - val_x_output_root_mean_squared_error: 0.1842 - val_y_output_root_mean_squared_error: 0.1328\n",
      "Epoch 193/300\n",
      "1013/1013 [==============================] - 14s 14ms/step - loss: 0.1129 - x_output_loss: 0.0754 - y_output_loss: 0.0376 - x_output_root_mean_squared_error: 0.2745 - y_output_root_mean_squared_error: 0.1938 - val_loss: 0.0550 - val_x_output_loss: 0.0375 - val_y_output_loss: 0.0174 - val_x_output_root_mean_squared_error: 0.1937 - val_y_output_root_mean_squared_error: 0.1320\n",
      "Epoch 194/300\n",
      "1013/1013 [==============================] - 14s 14ms/step - loss: 0.1119 - x_output_loss: 0.0741 - y_output_loss: 0.0379 - x_output_root_mean_squared_error: 0.2722 - y_output_root_mean_squared_error: 0.1946 - val_loss: 0.1304 - val_x_output_loss: 0.0533 - val_y_output_loss: 0.0771 - val_x_output_root_mean_squared_error: 0.2308 - val_y_output_root_mean_squared_error: 0.2777\n",
      "Epoch 195/300\n",
      "1013/1013 [==============================] - 14s 14ms/step - loss: 0.1163 - x_output_loss: 0.0775 - y_output_loss: 0.0388 - x_output_root_mean_squared_error: 0.2785 - y_output_root_mean_squared_error: 0.1969 - val_loss: 0.0408 - val_x_output_loss: 0.0260 - val_y_output_loss: 0.0147 - val_x_output_root_mean_squared_error: 0.1613 - val_y_output_root_mean_squared_error: 0.1214\n",
      "Epoch 196/300\n",
      "1013/1013 [==============================] - 14s 14ms/step - loss: 0.1085 - x_output_loss: 0.0735 - y_output_loss: 0.0350 - x_output_root_mean_squared_error: 0.2711 - y_output_root_mean_squared_error: 0.1871 - val_loss: 0.0529 - val_x_output_loss: 0.0383 - val_y_output_loss: 0.0146 - val_x_output_root_mean_squared_error: 0.1957 - val_y_output_root_mean_squared_error: 0.1207\n",
      "Epoch 197/300\n",
      "1013/1013 [==============================] - 14s 14ms/step - loss: 0.1043 - x_output_loss: 0.0697 - y_output_loss: 0.0346 - x_output_root_mean_squared_error: 0.2641 - y_output_root_mean_squared_error: 0.1859 - val_loss: 0.0371 - val_x_output_loss: 0.0237 - val_y_output_loss: 0.0134 - val_x_output_root_mean_squared_error: 0.1541 - val_y_output_root_mean_squared_error: 0.1156\n",
      "Epoch 198/300\n",
      "1013/1013 [==============================] - 14s 14ms/step - loss: 0.1244 - x_output_loss: 0.0825 - y_output_loss: 0.0420 - x_output_root_mean_squared_error: 0.2872 - y_output_root_mean_squared_error: 0.2049 - val_loss: 0.0585 - val_x_output_loss: 0.0385 - val_y_output_loss: 0.0200 - val_x_output_root_mean_squared_error: 0.1962 - val_y_output_root_mean_squared_error: 0.1415\n",
      "Epoch 199/300\n",
      "1013/1013 [==============================] - 14s 14ms/step - loss: 0.1112 - x_output_loss: 0.0734 - y_output_loss: 0.0378 - x_output_root_mean_squared_error: 0.2710 - y_output_root_mean_squared_error: 0.1943 - val_loss: 0.2529 - val_x_output_loss: 0.1646 - val_y_output_loss: 0.0883 - val_x_output_root_mean_squared_error: 0.4058 - val_y_output_root_mean_squared_error: 0.2971\n",
      "Epoch 200/300\n",
      "1013/1013 [==============================] - 14s 14ms/step - loss: 0.1075 - x_output_loss: 0.0738 - y_output_loss: 0.0337 - x_output_root_mean_squared_error: 0.2716 - y_output_root_mean_squared_error: 0.1836 - val_loss: 0.0371 - val_x_output_loss: 0.0225 - val_y_output_loss: 0.0146 - val_x_output_root_mean_squared_error: 0.1501 - val_y_output_root_mean_squared_error: 0.1207\n",
      "Epoch 201/300\n",
      "1013/1013 [==============================] - 14s 14ms/step - loss: 0.1055 - x_output_loss: 0.0728 - y_output_loss: 0.0328 - x_output_root_mean_squared_error: 0.2697 - y_output_root_mean_squared_error: 0.1810 - val_loss: 0.0626 - val_x_output_loss: 0.0376 - val_y_output_loss: 0.0250 - val_x_output_root_mean_squared_error: 0.1940 - val_y_output_root_mean_squared_error: 0.1580\n",
      "Epoch 202/300\n",
      "1013/1013 [==============================] - 14s 14ms/step - loss: 0.1054 - x_output_loss: 0.0700 - y_output_loss: 0.0354 - x_output_root_mean_squared_error: 0.2645 - y_output_root_mean_squared_error: 0.1881 - val_loss: 0.0399 - val_x_output_loss: 0.0296 - val_y_output_loss: 0.0103 - val_x_output_root_mean_squared_error: 0.1722 - val_y_output_root_mean_squared_error: 0.1012\n",
      "Epoch 203/300\n",
      "1013/1013 [==============================] - 14s 14ms/step - loss: 0.1038 - x_output_loss: 0.0718 - y_output_loss: 0.0320 - x_output_root_mean_squared_error: 0.2680 - y_output_root_mean_squared_error: 0.1788 - val_loss: 0.0569 - val_x_output_loss: 0.0344 - val_y_output_loss: 0.0226 - val_x_output_root_mean_squared_error: 0.1853 - val_y_output_root_mean_squared_error: 0.1502\n",
      "Epoch 204/300\n"
     ]
    },
    {
     "name": "stdout",
     "output_type": "stream",
     "text": [
      "1013/1013 [==============================] - 15s 15ms/step - loss: 0.1081 - x_output_loss: 0.0707 - y_output_loss: 0.0374 - x_output_root_mean_squared_error: 0.2659 - y_output_root_mean_squared_error: 0.1934 - val_loss: 0.0707 - val_x_output_loss: 0.0465 - val_y_output_loss: 0.0242 - val_x_output_root_mean_squared_error: 0.2156 - val_y_output_root_mean_squared_error: 0.15550\n",
      "Epoch 205/300\n",
      "1013/1013 [==============================] - 15s 14ms/step - loss: 0.1058 - x_output_loss: 0.0685 - y_output_loss: 0.0372 - x_output_root_mean_squared_error: 0.2618 - y_output_root_mean_squared_error: 0.1930 - val_loss: 0.0640 - val_x_output_loss: 0.0485 - val_y_output_loss: 0.0155 - val_x_output_root_mean_squared_error: 0.2202 - val_y_output_root_mean_squared_error: 0.1246\n",
      "Epoch 206/300\n",
      "1013/1013 [==============================] - 15s 15ms/step - loss: 0.1070 - x_output_loss: 0.0701 - y_output_loss: 0.0368 - x_output_root_mean_squared_error: 0.2648 - y_output_root_mean_squared_error: 0.1919 - val_loss: 0.0567 - val_x_output_loss: 0.0387 - val_y_output_loss: 0.0181 - val_x_output_root_mean_squared_error: 0.1967 - val_y_output_root_mean_squared_error: 0.1344\n",
      "Epoch 207/300\n",
      "1013/1013 [==============================] - 14s 14ms/step - loss: 0.0977 - x_output_loss: 0.0658 - y_output_loss: 0.0319 - x_output_root_mean_squared_error: 0.2564 - y_output_root_mean_squared_error: 0.1786 - val_loss: 0.0584 - val_x_output_loss: 0.0439 - val_y_output_loss: 0.0145 - val_x_output_root_mean_squared_error: 0.2095 - val_y_output_root_mean_squared_error: 0.1205\n",
      "Epoch 208/300\n",
      "1013/1013 [==============================] - 14s 14ms/step - loss: 0.1090 - x_output_loss: 0.0734 - y_output_loss: 0.0356 - x_output_root_mean_squared_error: 0.2709 - y_output_root_mean_squared_error: 0.1887 - val_loss: 0.0400 - val_x_output_loss: 0.0258 - val_y_output_loss: 0.0142 - val_x_output_root_mean_squared_error: 0.1607 - val_y_output_root_mean_squared_error: 0.1191\n",
      "Epoch 209/300\n",
      "1013/1013 [==============================] - 14s 14ms/step - loss: 0.1034 - x_output_loss: 0.0686 - y_output_loss: 0.0347 - x_output_root_mean_squared_error: 0.2620 - y_output_root_mean_squared_error: 0.1864 - val_loss: 0.0525 - val_x_output_loss: 0.0342 - val_y_output_loss: 0.0182 - val_x_output_root_mean_squared_error: 0.1850 - val_y_output_root_mean_squared_error: 0.1351\n",
      "Epoch 210/300\n",
      "1013/1013 [==============================] - 14s 14ms/step - loss: 0.1016 - x_output_loss: 0.0697 - y_output_loss: 0.0320 - x_output_root_mean_squared_error: 0.2640 - y_output_root_mean_squared_error: 0.1788 - val_loss: 0.0784 - val_x_output_loss: 0.0536 - val_y_output_loss: 0.0249 - val_x_output_root_mean_squared_error: 0.2314 - val_y_output_root_mean_squared_error: 0.1576\n",
      "Epoch 211/300\n",
      "1013/1013 [==============================] - 14s 14ms/step - loss: 0.1073 - x_output_loss: 0.0708 - y_output_loss: 0.0365 - x_output_root_mean_squared_error: 0.2661 - y_output_root_mean_squared_error: 0.1910 - val_loss: 0.0753 - val_x_output_loss: 0.0634 - val_y_output_loss: 0.0119 - val_x_output_root_mean_squared_error: 0.2518 - val_y_output_root_mean_squared_error: 0.1092\n",
      "Epoch 212/300\n",
      "1013/1013 [==============================] - 14s 14ms/step - loss: 0.0870 - x_output_loss: 0.0562 - y_output_loss: 0.0308 - x_output_root_mean_squared_error: 0.2371 - y_output_root_mean_squared_error: 0.1755 - val_loss: 0.0650 - val_x_output_loss: 0.0304 - val_y_output_loss: 0.0346 - val_x_output_root_mean_squared_error: 0.1744 - val_y_output_root_mean_squared_error: 0.1859\n",
      "Epoch 213/300\n",
      "1013/1013 [==============================] - 14s 14ms/step - loss: 0.1036 - x_output_loss: 0.0688 - y_output_loss: 0.0349 - x_output_root_mean_squared_error: 0.2622 - y_output_root_mean_squared_error: 0.1867 - val_loss: 0.0467 - val_x_output_loss: 0.0289 - val_y_output_loss: 0.0178 - val_x_output_root_mean_squared_error: 0.1699 - val_y_output_root_mean_squared_error: 0.1335\n",
      "Epoch 214/300\n",
      "1013/1013 [==============================] - 14s 14ms/step - loss: 0.1064 - x_output_loss: 0.0698 - y_output_loss: 0.0366 - x_output_root_mean_squared_error: 0.2642 - y_output_root_mean_squared_error: 0.1913 - val_loss: 0.0394 - val_x_output_loss: 0.0283 - val_y_output_loss: 0.0111 - val_x_output_root_mean_squared_error: 0.1682 - val_y_output_root_mean_squared_error: 0.1056\n",
      "Epoch 215/300\n",
      "1013/1013 [==============================] - 14s 14ms/step - loss: 0.1003 - x_output_loss: 0.0664 - y_output_loss: 0.0339 - x_output_root_mean_squared_error: 0.2576 - y_output_root_mean_squared_error: 0.1842 - val_loss: 0.1206 - val_x_output_loss: 0.0461 - val_y_output_loss: 0.0746 - val_x_output_root_mean_squared_error: 0.2146 - val_y_output_root_mean_squared_error: 0.2731\n",
      "Epoch 216/300\n",
      "1013/1013 [==============================] - 14s 14ms/step - loss: 0.0910 - x_output_loss: 0.0611 - y_output_loss: 0.0299 - x_output_root_mean_squared_error: 0.2473 - y_output_root_mean_squared_error: 0.1729 - val_loss: 0.0518 - val_x_output_loss: 0.0335 - val_y_output_loss: 0.0183 - val_x_output_root_mean_squared_error: 0.1831 - val_y_output_root_mean_squared_error: 0.1353\n",
      "Epoch 217/300\n",
      "1013/1013 [==============================] - 14s 14ms/step - loss: 0.0933 - x_output_loss: 0.0621 - y_output_loss: 0.0312 - x_output_root_mean_squared_error: 0.2492 - y_output_root_mean_squared_error: 0.1767 - val_loss: 0.0344 - val_x_output_loss: 0.0237 - val_y_output_loss: 0.0107 - val_x_output_root_mean_squared_error: 0.1541 - val_y_output_root_mean_squared_error: 0.1034\n",
      "Epoch 218/300\n",
      "1013/1013 [==============================] - 14s 14ms/step - loss: 0.0944 - x_output_loss: 0.0643 - y_output_loss: 0.0301 - x_output_root_mean_squared_error: 0.2535 - y_output_root_mean_squared_error: 0.1735 - val_loss: 0.0326 - val_x_output_loss: 0.0214 - val_y_output_loss: 0.0112 - val_x_output_root_mean_squared_error: 0.1464 - val_y_output_root_mean_squared_error: 0.1058661 - y_output_loss: 0.0302 - x_output_root_mean_squared_error: 0.2\n",
      "Epoch 219/300\n",
      "1013/1013 [==============================] - 14s 14ms/step - loss: 0.1059 - x_output_loss: 0.0697 - y_output_loss: 0.0362 - x_output_root_mean_squared_error: 0.2641 - y_output_root_mean_squared_error: 0.1902 - val_loss: 0.1545 - val_x_output_loss: 0.0972 - val_y_output_loss: 0.0573 - val_x_output_root_mean_squared_error: 0.3118 - val_y_output_root_mean_squared_error: 0.2393\n",
      "Epoch 220/300\n",
      "1013/1013 [==============================] - 14s 14ms/step - loss: 0.0961 - x_output_loss: 0.0641 - y_output_loss: 0.0319 - x_output_root_mean_squared_error: 0.2533 - y_output_root_mean_squared_error: 0.1787 - val_loss: 0.0477 - val_x_output_loss: 0.0292 - val_y_output_loss: 0.0185 - val_x_output_root_mean_squared_error: 0.1707 - val_y_output_root_mean_squared_error: 0.1361\n",
      "Epoch 221/300\n",
      "1013/1013 [==============================] - 14s 14ms/step - loss: 0.0937 - x_output_loss: 0.0598 - y_output_loss: 0.0339 - x_output_root_mean_squared_error: 0.2446 - y_output_root_mean_squared_error: 0.1841 - val_loss: 0.0455 - val_x_output_loss: 0.0330 - val_y_output_loss: 0.0125 - val_x_output_root_mean_squared_error: 0.1817 - val_y_output_root_mean_squared_error: 0.1119\n",
      "Epoch 222/300\n",
      "1013/1013 [==============================] - 14s 14ms/step - loss: 0.0928 - x_output_loss: 0.0634 - y_output_loss: 0.0294 - x_output_root_mean_squared_error: 0.2519 - y_output_root_mean_squared_error: 0.1714 - val_loss: 0.0652 - val_x_output_loss: 0.0428 - val_y_output_loss: 0.0224 - val_x_output_root_mean_squared_error: 0.2070 - val_y_output_root_mean_squared_error: 0.1495\n",
      "Epoch 223/300\n",
      "1013/1013 [==============================] - 14s 14ms/step - loss: 0.0924 - x_output_loss: 0.0614 - y_output_loss: 0.0310 - x_output_root_mean_squared_error: 0.2478 - y_output_root_mean_squared_error: 0.1761 - val_loss: 0.0752 - val_x_output_loss: 0.0464 - val_y_output_loss: 0.0289 - val_x_output_root_mean_squared_error: 0.2154 - val_y_output_root_mean_squared_error: 0.1699\n",
      "Epoch 224/300\n",
      "1013/1013 [==============================] - 14s 14ms/step - loss: 0.1038 - x_output_loss: 0.0677 - y_output_loss: 0.0361 - x_output_root_mean_squared_error: 0.2602 - y_output_root_mean_squared_error: 0.1899 - val_loss: 0.0456 - val_x_output_loss: 0.0304 - val_y_output_loss: 0.0153 - val_x_output_root_mean_squared_error: 0.1743 - val_y_output_root_mean_squared_error: 0.1235\n"
     ]
    },
    {
     "name": "stdout",
     "output_type": "stream",
     "text": [
      "Epoch 225/300\n",
      "1013/1013 [==============================] - 14s 14ms/step - loss: 0.1005 - x_output_loss: 0.0649 - y_output_loss: 0.0356 - x_output_root_mean_squared_error: 0.2547 - y_output_root_mean_squared_error: 0.1888 - val_loss: 0.0420 - val_x_output_loss: 0.0304 - val_y_output_loss: 0.0115 - val_x_output_root_mean_squared_error: 0.1744 - val_y_output_root_mean_squared_error: 0.1074\n",
      "Epoch 226/300\n",
      "1013/1013 [==============================] - 14s 14ms/step - loss: 0.0868 - x_output_loss: 0.0581 - y_output_loss: 0.0287 - x_output_root_mean_squared_error: 0.2410 - y_output_root_mean_squared_error: 0.1694 - val_loss: 0.0367 - val_x_output_loss: 0.0262 - val_y_output_loss: 0.0104 - val_x_output_root_mean_squared_error: 0.1620 - val_y_output_root_mean_squared_error: 0.1021\n",
      "Epoch 227/300\n",
      "1013/1013 [==============================] - 14s 14ms/step - loss: 0.0986 - x_output_loss: 0.0640 - y_output_loss: 0.0346 - x_output_root_mean_squared_error: 0.2529 - y_output_root_mean_squared_error: 0.1860 - val_loss: 0.0401 - val_x_output_loss: 0.0257 - val_y_output_loss: 0.0144 - val_x_output_root_mean_squared_error: 0.1602 - val_y_output_root_mean_squared_error: 0.1201\n",
      "Epoch 228/300\n",
      "1013/1013 [==============================] - 14s 14ms/step - loss: 0.0883 - x_output_loss: 0.0599 - y_output_loss: 0.0283 - x_output_root_mean_squared_error: 0.2448 - y_output_root_mean_squared_error: 0.1684 - val_loss: 0.0355 - val_x_output_loss: 0.0237 - val_y_output_loss: 0.0118 - val_x_output_root_mean_squared_error: 0.1538 - val_y_output_root_mean_squared_error: 0.1086\n",
      "Epoch 229/300\n",
      "1013/1013 [==============================] - 14s 14ms/step - loss: 0.0920 - x_output_loss: 0.0613 - y_output_loss: 0.0307 - x_output_root_mean_squared_error: 0.2477 - y_output_root_mean_squared_error: 0.1752 - val_loss: 0.0464 - val_x_output_loss: 0.0325 - val_y_output_loss: 0.0139 - val_x_output_root_mean_squared_error: 0.1802 - val_y_output_root_mean_squared_error: 0.1179\n",
      "Epoch 230/300\n",
      "1013/1013 [==============================] - 14s 14ms/step - loss: 0.1000 - x_output_loss: 0.0663 - y_output_loss: 0.0337 - x_output_root_mean_squared_error: 0.2574 - y_output_root_mean_squared_error: 0.1837 - val_loss: 0.0342 - val_x_output_loss: 0.0231 - val_y_output_loss: 0.0111 - val_x_output_root_mean_squared_error: 0.1519 - val_y_output_root_mean_squared_error: 0.1054\n",
      "Epoch 231/300\n",
      "1013/1013 [==============================] - 14s 14ms/step - loss: 0.0996 - x_output_loss: 0.0694 - y_output_loss: 0.0302 - x_output_root_mean_squared_error: 0.2634 - y_output_root_mean_squared_error: 0.1738 - val_loss: 0.0537 - val_x_output_loss: 0.0354 - val_y_output_loss: 0.0183 - val_x_output_root_mean_squared_error: 0.1882 - val_y_output_root_mean_squared_error: 0.1351\n",
      "Epoch 232/300\n",
      "1013/1013 [==============================] - 14s 14ms/step - loss: 0.0954 - x_output_loss: 0.0621 - y_output_loss: 0.0333 - x_output_root_mean_squared_error: 0.2492 - y_output_root_mean_squared_error: 0.1825 - val_loss: 0.0433 - val_x_output_loss: 0.0325 - val_y_output_loss: 0.0108 - val_x_output_root_mean_squared_error: 0.1804 - val_y_output_root_mean_squared_error: 0.1040\n",
      "Epoch 233/300\n",
      "1013/1013 [==============================] - 14s 14ms/step - loss: 0.0997 - x_output_loss: 0.0678 - y_output_loss: 0.0319 - x_output_root_mean_squared_error: 0.2605 - y_output_root_mean_squared_error: 0.1786 - val_loss: 0.0618 - val_x_output_loss: 0.0452 - val_y_output_loss: 0.0166 - val_x_output_root_mean_squared_error: 0.2125 - val_y_output_root_mean_squared_error: 0.1289\n",
      "Epoch 234/300\n",
      "1013/1013 [==============================] - 14s 14ms/step - loss: 0.0872 - x_output_loss: 0.0582 - y_output_loss: 0.0290 - x_output_root_mean_squared_error: 0.2412 - y_output_root_mean_squared_error: 0.1704 - val_loss: 0.0377 - val_x_output_loss: 0.0269 - val_y_output_loss: 0.0108 - val_x_output_root_mean_squared_error: 0.1640 - val_y_output_root_mean_squared_error: 0.1039\n",
      "Epoch 235/300\n",
      "1013/1013 [==============================] - 14s 14ms/step - loss: 0.0893 - x_output_loss: 0.0613 - y_output_loss: 0.0280 - x_output_root_mean_squared_error: 0.2475 - y_output_root_mean_squared_error: 0.1675 - val_loss: 0.0522 - val_x_output_loss: 0.0316 - val_y_output_loss: 0.0206 - val_x_output_root_mean_squared_error: 0.1777 - val_y_output_root_mean_squared_error: 0.1437\n",
      "Epoch 236/300\n",
      "1013/1013 [==============================] - 14s 14ms/step - loss: 0.0907 - x_output_loss: 0.0594 - y_output_loss: 0.0313 - x_output_root_mean_squared_error: 0.2437 - y_output_root_mean_squared_error: 0.1769 - val_loss: 0.0440 - val_x_output_loss: 0.0327 - val_y_output_loss: 0.0113 - val_x_output_root_mean_squared_error: 0.1809 - val_y_output_root_mean_squared_error: 0.1063\n",
      "Epoch 237/300\n",
      "1013/1013 [==============================] - 14s 14ms/step - loss: 0.1033 - x_output_loss: 0.0676 - y_output_loss: 0.0357 - x_output_root_mean_squared_error: 0.2600 - y_output_root_mean_squared_error: 0.1890 - val_loss: 0.0439 - val_x_output_loss: 0.0308 - val_y_output_loss: 0.0131 - val_x_output_root_mean_squared_error: 0.1755 - val_y_output_root_mean_squared_error: 0.1143\n",
      "Epoch 238/300\n",
      "1013/1013 [==============================] - 14s 14ms/step - loss: 0.0921 - x_output_loss: 0.0607 - y_output_loss: 0.0314 - x_output_root_mean_squared_error: 0.2464 - y_output_root_mean_squared_error: 0.1771 - val_loss: 0.0298 - val_x_output_loss: 0.0195 - val_y_output_loss: 0.0103 - val_x_output_root_mean_squared_error: 0.1396 - val_y_output_root_mean_squared_error: 0.1015\n",
      "Epoch 239/300\n",
      "1013/1013 [==============================] - 14s 14ms/step - loss: 0.0952 - x_output_loss: 0.0635 - y_output_loss: 0.0317 - x_output_root_mean_squared_error: 0.2520 - y_output_root_mean_squared_error: 0.1779 - val_loss: 0.0392 - val_x_output_loss: 0.0271 - val_y_output_loss: 0.0121 - val_x_output_root_mean_squared_error: 0.1646 - val_y_output_root_mean_squared_error: 0.1102\n",
      "Epoch 240/300\n",
      "1013/1013 [==============================] - 14s 14ms/step - loss: 0.0786 - x_output_loss: 0.0507 - y_output_loss: 0.0279 - x_output_root_mean_squared_error: 0.2253 - y_output_root_mean_squared_error: 0.1669 - val_loss: 0.0483 - val_x_output_loss: 0.0327 - val_y_output_loss: 0.0155 - val_x_output_root_mean_squared_error: 0.1809 - val_y_output_root_mean_squared_error: 0.1247\n",
      "Epoch 241/300\n",
      "1013/1013 [==============================] - 14s 14ms/step - loss: 0.0916 - x_output_loss: 0.0607 - y_output_loss: 0.0309 - x_output_root_mean_squared_error: 0.2464 - y_output_root_mean_squared_error: 0.1758 - val_loss: 0.0326 - val_x_output_loss: 0.0238 - val_y_output_loss: 0.0089 - val_x_output_root_mean_squared_error: 0.1541 - val_y_output_root_mean_squared_error: 0.0941\n",
      "Epoch 242/300\n",
      "1013/1013 [==============================] - 14s 14ms/step - loss: 0.0878 - x_output_loss: 0.0566 - y_output_loss: 0.0312 - x_output_root_mean_squared_error: 0.2380 - y_output_root_mean_squared_error: 0.1766 - val_loss: 0.0411 - val_x_output_loss: 0.0258 - val_y_output_loss: 0.0153 - val_x_output_root_mean_squared_error: 0.1607 - val_y_output_root_mean_squared_error: 0.1236\n",
      "Epoch 243/300\n",
      "1013/1013 [==============================] - 15s 15ms/step - loss: 0.0796 - x_output_loss: 0.0524 - y_output_loss: 0.0271 - x_output_root_mean_squared_error: 0.2290 - y_output_root_mean_squared_error: 0.1647 - val_loss: 0.0313 - val_x_output_loss: 0.0225 - val_y_output_loss: 0.0088 - val_x_output_root_mean_squared_error: 0.1501 - val_y_output_root_mean_squared_error: 0.0937\n",
      "Epoch 244/300\n",
      "1013/1013 [==============================] - 14s 14ms/step - loss: 0.0831 - x_output_loss: 0.0544 - y_output_loss: 0.0287 - x_output_root_mean_squared_error: 0.2333 - y_output_root_mean_squared_error: 0.1694 - val_loss: 0.0523 - val_x_output_loss: 0.0363 - val_y_output_loss: 0.0160 - val_x_output_root_mean_squared_error: 0.1905 - val_y_output_root_mean_squared_error: 0.1264\n",
      "Epoch 245/300\n",
      "1013/1013 [==============================] - 15s 15ms/step - loss: 0.0914 - x_output_loss: 0.0613 - y_output_loss: 0.0301 - x_output_root_mean_squared_error: 0.2476 - y_output_root_mean_squared_error: 0.1734 - val_loss: 0.0402 - val_x_output_loss: 0.0237 - val_y_output_loss: 0.0164 - val_x_output_root_mean_squared_error: 0.1541 - val_y_output_root_mean_squared_error: 0.1282\n"
     ]
    },
    {
     "name": "stdout",
     "output_type": "stream",
     "text": [
      "Epoch 246/300\n",
      "1013/1013 [==============================] - 14s 14ms/step - loss: 0.0888 - x_output_loss: 0.0573 - y_output_loss: 0.0316 - x_output_root_mean_squared_error: 0.2393 - y_output_root_mean_squared_error: 0.1777 - val_loss: 0.0731 - val_x_output_loss: 0.0538 - val_y_output_loss: 0.0194 - val_x_output_root_mean_squared_error: 0.2318 - val_y_output_root_mean_squared_error: 0.1392\n",
      "Epoch 247/300\n",
      "1013/1013 [==============================] - 14s 14ms/step - loss: 0.0962 - x_output_loss: 0.0638 - y_output_loss: 0.0324 - x_output_root_mean_squared_error: 0.2526 - y_output_root_mean_squared_error: 0.1801 - val_loss: 0.0307 - val_x_output_loss: 0.0201 - val_y_output_loss: 0.0106 - val_x_output_root_mean_squared_error: 0.1419 - val_y_output_root_mean_squared_error: 0.1028\n",
      "Epoch 248/300\n",
      "1013/1013 [==============================] - 14s 14ms/step - loss: 0.0937 - x_output_loss: 0.0635 - y_output_loss: 0.0302 - x_output_root_mean_squared_error: 0.2519 - y_output_root_mean_squared_error: 0.1739 - val_loss: 0.0330 - val_x_output_loss: 0.0216 - val_y_output_loss: 0.0114 - val_x_output_root_mean_squared_error: 0.1471 - val_y_output_root_mean_squared_error: 0.1068\n",
      "Epoch 249/300\n",
      "1013/1013 [==============================] - 14s 14ms/step - loss: 0.0903 - x_output_loss: 0.0616 - y_output_loss: 0.0287 - x_output_root_mean_squared_error: 0.2483 - y_output_root_mean_squared_error: 0.1693 - val_loss: 0.0614 - val_x_output_loss: 0.0379 - val_y_output_loss: 0.0235 - val_x_output_root_mean_squared_error: 0.1948 - val_y_output_root_mean_squared_error: 0.1533\n",
      "Epoch 250/300\n",
      "1013/1013 [==============================] - 15s 14ms/step - loss: 0.0852 - x_output_loss: 0.0579 - y_output_loss: 0.0273 - x_output_root_mean_squared_error: 0.2406 - y_output_root_mean_squared_error: 0.1653 - val_loss: 0.0306 - val_x_output_loss: 0.0220 - val_y_output_loss: 0.0086 - val_x_output_root_mean_squared_error: 0.1483 - val_y_output_root_mean_squared_error: 0.0927\n",
      "Epoch 251/300\n",
      "1013/1013 [==============================] - 14s 14ms/step - loss: 0.0900 - x_output_loss: 0.0595 - y_output_loss: 0.0305 - x_output_root_mean_squared_error: 0.2439 - y_output_root_mean_squared_error: 0.1748 - val_loss: 0.1176 - val_x_output_loss: 0.0981 - val_y_output_loss: 0.0195 - val_x_output_root_mean_squared_error: 0.3132 - val_y_output_root_mean_squared_error: 0.1396\n",
      "Epoch 252/300\n",
      "1013/1013 [==============================] - 14s 14ms/step - loss: 0.0885 - x_output_loss: 0.0594 - y_output_loss: 0.0292 - x_output_root_mean_squared_error: 0.2437 - y_output_root_mean_squared_error: 0.1708 - val_loss: 0.2978 - val_x_output_loss: 0.0945 - val_y_output_loss: 0.2033 - val_x_output_root_mean_squared_error: 0.3074 - val_y_output_root_mean_squared_error: 0.4509\n",
      "Epoch 253/300\n",
      "1013/1013 [==============================] - 14s 14ms/step - loss: 0.0842 - x_output_loss: 0.0536 - y_output_loss: 0.0306 - x_output_root_mean_squared_error: 0.2316 - y_output_root_mean_squared_error: 0.1750 - val_loss: 0.0359 - val_x_output_loss: 0.0274 - val_y_output_loss: 0.0084 - val_x_output_root_mean_squared_error: 0.1656 - val_y_output_root_mean_squared_error: 0.0918\n",
      "Epoch 254/300\n",
      "1013/1013 [==============================] - 14s 14ms/step - loss: 0.0899 - x_output_loss: 0.0599 - y_output_loss: 0.0300 - x_output_root_mean_squared_error: 0.2447 - y_output_root_mean_squared_error: 0.1732 - val_loss: 0.0299 - val_x_output_loss: 0.0197 - val_y_output_loss: 0.0102 - val_x_output_root_mean_squared_error: 0.1403 - val_y_output_root_mean_squared_error: 0.1011\n",
      "Epoch 255/300\n",
      "1013/1013 [==============================] - 14s 14ms/step - loss: 0.0753 - x_output_loss: 0.0516 - y_output_loss: 0.0237 - x_output_root_mean_squared_error: 0.2271 - y_output_root_mean_squared_error: 0.1539 - val_loss: 0.0403 - val_x_output_loss: 0.0276 - val_y_output_loss: 0.0127 - val_x_output_root_mean_squared_error: 0.1660 - val_y_output_root_mean_squared_error: 0.1127\n",
      "Epoch 256/300\n",
      "1013/1013 [==============================] - 14s 14ms/step - loss: 0.0849 - x_output_loss: 0.0553 - y_output_loss: 0.0296 - x_output_root_mean_squared_error: 0.2351 - y_output_root_mean_squared_error: 0.1721 - val_loss: 0.0261 - val_x_output_loss: 0.0165 - val_y_output_loss: 0.0096 - val_x_output_root_mean_squared_error: 0.1285 - val_y_output_root_mean_squared_error: 0.0979\n",
      "Epoch 257/300\n",
      "1013/1013 [==============================] - 14s 14ms/step - loss: 0.0809 - x_output_loss: 0.0561 - y_output_loss: 0.0248 - x_output_root_mean_squared_error: 0.2368 - y_output_root_mean_squared_error: 0.1575 - val_loss: 0.0544 - val_x_output_loss: 0.0390 - val_y_output_loss: 0.0154 - val_x_output_root_mean_squared_error: 0.1976 - val_y_output_root_mean_squared_error: 0.1242\n",
      "Epoch 258/300\n",
      "1013/1013 [==============================] - 14s 14ms/step - loss: 0.0738 - x_output_loss: 0.0498 - y_output_loss: 0.0240 - x_output_root_mean_squared_error: 0.2232 - y_output_root_mean_squared_error: 0.1550 - val_loss: 0.0312 - val_x_output_loss: 0.0202 - val_y_output_loss: 0.0110 - val_x_output_root_mean_squared_error: 0.1420 - val_y_output_root_mean_squared_error: 0.1048\n",
      "Epoch 259/300\n",
      "1013/1013 [==============================] - 14s 14ms/step - loss: 0.0771 - x_output_loss: 0.0509 - y_output_loss: 0.0262 - x_output_root_mean_squared_error: 0.2255 - y_output_root_mean_squared_error: 0.1619 - val_loss: 0.0396 - val_x_output_loss: 0.0235 - val_y_output_loss: 0.0161 - val_x_output_root_mean_squared_error: 0.1533 - val_y_output_root_mean_squared_error: 0.1269\n",
      "Epoch 260/300\n",
      "1013/1013 [==============================] - 14s 14ms/step - loss: 0.0824 - x_output_loss: 0.0555 - y_output_loss: 0.0269 - x_output_root_mean_squared_error: 0.2356 - y_output_root_mean_squared_error: 0.1641 - val_loss: 0.0357 - val_x_output_loss: 0.0256 - val_y_output_loss: 0.0101 - val_x_output_root_mean_squared_error: 0.1600 - val_y_output_root_mean_squared_error: 0.1007\n",
      "Epoch 261/300\n",
      "1013/1013 [==============================] - 14s 14ms/step - loss: 0.0871 - x_output_loss: 0.0587 - y_output_loss: 0.0285 - x_output_root_mean_squared_error: 0.2422 - y_output_root_mean_squared_error: 0.1687 - val_loss: 0.0308 - val_x_output_loss: 0.0203 - val_y_output_loss: 0.0105 - val_x_output_root_mean_squared_error: 0.1426 - val_y_output_root_mean_squared_error: 0.1025\n",
      "Epoch 262/300\n",
      "1013/1013 [==============================] - 14s 14ms/step - loss: 0.0839 - x_output_loss: 0.0577 - y_output_loss: 0.0262 - x_output_root_mean_squared_error: 0.2401 - y_output_root_mean_squared_error: 0.1619 - val_loss: 0.0374 - val_x_output_loss: 0.0213 - val_y_output_loss: 0.0161 - val_x_output_root_mean_squared_error: 0.1461 - val_y_output_root_mean_squared_error: 0.1268\n",
      "Epoch 263/300\n",
      "1013/1013 [==============================] - 14s 14ms/step - loss: 0.0810 - x_output_loss: 0.0532 - y_output_loss: 0.0277 - x_output_root_mean_squared_error: 0.2307 - y_output_root_mean_squared_error: 0.1666 - val_loss: 0.0471 - val_x_output_loss: 0.0332 - val_y_output_loss: 0.0139 - val_x_output_root_mean_squared_error: 0.1822 - val_y_output_root_mean_squared_error: 0.1179\n",
      "Epoch 264/300\n",
      "1013/1013 [==============================] - 14s 14ms/step - loss: 0.0933 - x_output_loss: 0.0623 - y_output_loss: 0.0309 - x_output_root_mean_squared_error: 0.2497 - y_output_root_mean_squared_error: 0.1759 - val_loss: 0.0387 - val_x_output_loss: 0.0254 - val_y_output_loss: 0.0134 - val_x_output_root_mean_squared_error: 0.1592 - val_y_output_root_mean_squared_error: 0.1156\n",
      "Epoch 265/300\n",
      "1013/1013 [==============================] - 14s 14ms/step - loss: 0.0762 - x_output_loss: 0.0508 - y_output_loss: 0.0254 - x_output_root_mean_squared_error: 0.2254 - y_output_root_mean_squared_error: 0.1592 - val_loss: 0.0555 - val_x_output_loss: 0.0398 - val_y_output_loss: 0.0157 - val_x_output_root_mean_squared_error: 0.1996 - val_y_output_root_mean_squared_error: 0.1254\n",
      "Epoch 266/300\n",
      "1013/1013 [==============================] - 14s 14ms/step - loss: 0.0782 - x_output_loss: 0.0500 - y_output_loss: 0.0282 - x_output_root_mean_squared_error: 0.2237 - y_output_root_mean_squared_error: 0.1679 - val_loss: 0.0366 - val_x_output_loss: 0.0269 - val_y_output_loss: 0.0097 - val_x_output_root_mean_squared_error: 0.1640 - val_y_output_root_mean_squared_error: 0.0986\n"
     ]
    },
    {
     "name": "stdout",
     "output_type": "stream",
     "text": [
      "Epoch 267/300\n",
      "1013/1013 [==============================] - 14s 14ms/step - loss: 0.0722 - x_output_loss: 0.0493 - y_output_loss: 0.0229 - x_output_root_mean_squared_error: 0.2219 - y_output_root_mean_squared_error: 0.1514 - val_loss: 0.0348 - val_x_output_loss: 0.0189 - val_y_output_loss: 0.0159 - val_x_output_root_mean_squared_error: 0.1374 - val_y_output_root_mean_squared_error: 0.1261\n",
      "Epoch 268/300\n",
      "1013/1013 [==============================] - 14s 14ms/step - loss: 0.0770 - x_output_loss: 0.0509 - y_output_loss: 0.0261 - x_output_root_mean_squared_error: 0.2256 - y_output_root_mean_squared_error: 0.1615 - val_loss: 0.0645 - val_x_output_loss: 0.0469 - val_y_output_loss: 0.0176 - val_x_output_root_mean_squared_error: 0.2166 - val_y_output_root_mean_squared_error: 0.1327\n",
      "Epoch 269/300\n",
      "1013/1013 [==============================] - 14s 14ms/step - loss: 0.0814 - x_output_loss: 0.0551 - y_output_loss: 0.0263 - x_output_root_mean_squared_error: 0.2347 - y_output_root_mean_squared_error: 0.1623 - val_loss: 0.0591 - val_x_output_loss: 0.0483 - val_y_output_loss: 0.0107 - val_x_output_root_mean_squared_error: 0.2199 - val_y_output_root_mean_squared_error: 0.1036\n",
      "Epoch 270/300\n",
      "1013/1013 [==============================] - 14s 14ms/step - loss: 0.0698 - x_output_loss: 0.0466 - y_output_loss: 0.0232 - x_output_root_mean_squared_error: 0.2159 - y_output_root_mean_squared_error: 0.1523 - val_loss: 0.0557 - val_x_output_loss: 0.0277 - val_y_output_loss: 0.0280 - val_x_output_root_mean_squared_error: 0.1664 - val_y_output_root_mean_squared_error: 0.1672\n",
      "Epoch 271/300\n",
      "1013/1013 [==============================] - 14s 14ms/step - loss: 0.0775 - x_output_loss: 0.0519 - y_output_loss: 0.0256 - x_output_root_mean_squared_error: 0.2278 - y_output_root_mean_squared_error: 0.1601 - val_loss: 0.0318 - val_x_output_loss: 0.0248 - val_y_output_loss: 0.0070 - val_x_output_root_mean_squared_error: 0.1574 - val_y_output_root_mean_squared_error: 0.0837\n",
      "Epoch 272/300\n",
      "1013/1013 [==============================] - 14s 14ms/step - loss: 0.0760 - x_output_loss: 0.0507 - y_output_loss: 0.0253 - x_output_root_mean_squared_error: 0.2251 - y_output_root_mean_squared_error: 0.1590 - val_loss: 0.0320 - val_x_output_loss: 0.0204 - val_y_output_loss: 0.0117 - val_x_output_root_mean_squared_error: 0.1427 - val_y_output_root_mean_squared_error: 0.1080\n",
      "Epoch 273/300\n",
      "1013/1013 [==============================] - 14s 14ms/step - loss: 0.0756 - x_output_loss: 0.0512 - y_output_loss: 0.0244 - x_output_root_mean_squared_error: 0.2263 - y_output_root_mean_squared_error: 0.1562 - val_loss: 0.0292 - val_x_output_loss: 0.0177 - val_y_output_loss: 0.0115 - val_x_output_root_mean_squared_error: 0.1330 - val_y_output_root_mean_squared_error: 0.1073\n",
      "Epoch 274/300\n",
      "1013/1013 [==============================] - 14s 14ms/step - loss: 0.0799 - x_output_loss: 0.0526 - y_output_loss: 0.0273 - x_output_root_mean_squared_error: 0.2293 - y_output_root_mean_squared_error: 0.1652 - val_loss: 0.0278 - val_x_output_loss: 0.0177 - val_y_output_loss: 0.0101 - val_x_output_root_mean_squared_error: 0.1332 - val_y_output_root_mean_squared_error: 0.1006\n",
      "Epoch 275/300\n",
      "1013/1013 [==============================] - 14s 14ms/step - loss: 0.0764 - x_output_loss: 0.0517 - y_output_loss: 0.0247 - x_output_root_mean_squared_error: 0.2274 - y_output_root_mean_squared_error: 0.1571 - val_loss: 0.0295 - val_x_output_loss: 0.0213 - val_y_output_loss: 0.0081 - val_x_output_root_mean_squared_error: 0.1461 - val_y_output_root_mean_squared_error: 0.0902\n",
      "Epoch 276/300\n",
      "1013/1013 [==============================] - 14s 14ms/step - loss: 0.0755 - x_output_loss: 0.0501 - y_output_loss: 0.0254 - x_output_root_mean_squared_error: 0.2239 - y_output_root_mean_squared_error: 0.1592 - val_loss: 0.0516 - val_x_output_loss: 0.0412 - val_y_output_loss: 0.0104 - val_x_output_root_mean_squared_error: 0.2030 - val_y_output_root_mean_squared_error: 0.1020\n",
      "Epoch 277/300\n",
      "1013/1013 [==============================] - 14s 14ms/step - loss: 0.0635 - x_output_loss: 0.0428 - y_output_loss: 0.0207 - x_output_root_mean_squared_error: 0.2069 - y_output_root_mean_squared_error: 0.1438 - val_loss: 0.0537 - val_x_output_loss: 0.0370 - val_y_output_loss: 0.0168 - val_x_output_root_mean_squared_error: 0.1923 - val_y_output_root_mean_squared_error: 0.1294\n",
      "Epoch 278/300\n",
      "1013/1013 [==============================] - 14s 14ms/step - loss: 0.0692 - x_output_loss: 0.0462 - y_output_loss: 0.0230 - x_output_root_mean_squared_error: 0.2150 - y_output_root_mean_squared_error: 0.1516 - val_loss: 0.0461 - val_x_output_loss: 0.0301 - val_y_output_loss: 0.0160 - val_x_output_root_mean_squared_error: 0.1736 - val_y_output_root_mean_squared_error: 0.1265\n",
      "Epoch 279/300\n",
      "1013/1013 [==============================] - 14s 14ms/step - loss: 0.0744 - x_output_loss: 0.0500 - y_output_loss: 0.0244 - x_output_root_mean_squared_error: 0.2236 - y_output_root_mean_squared_error: 0.1563 - val_loss: 0.0275 - val_x_output_loss: 0.0185 - val_y_output_loss: 0.0090 - val_x_output_root_mean_squared_error: 0.1361 - val_y_output_root_mean_squared_error: 0.0949\n",
      "Epoch 280/300\n",
      "1013/1013 [==============================] - 14s 14ms/step - loss: 0.0737 - x_output_loss: 0.0496 - y_output_loss: 0.0241 - x_output_root_mean_squared_error: 0.2227 - y_output_root_mean_squared_error: 0.1553 - val_loss: 0.0369 - val_x_output_loss: 0.0267 - val_y_output_loss: 0.0102 - val_x_output_root_mean_squared_error: 0.1635 - val_y_output_root_mean_squared_error: 0.1008\n",
      "Epoch 281/300\n",
      "1013/1013 [==============================] - 14s 14ms/step - loss: 0.0892 - x_output_loss: 0.0567 - y_output_loss: 0.0325 - x_output_root_mean_squared_error: 0.2381 - y_output_root_mean_squared_error: 0.1803 - val_loss: 0.0268 - val_x_output_loss: 0.0173 - val_y_output_loss: 0.0095 - val_x_output_root_mean_squared_error: 0.1315 - val_y_output_root_mean_squared_error: 0.0974\n",
      "Epoch 282/300\n",
      "1013/1013 [==============================] - 14s 14ms/step - loss: 0.0927 - x_output_loss: 0.0629 - y_output_loss: 0.0299 - x_output_root_mean_squared_error: 0.2507 - y_output_root_mean_squared_error: 0.1728 - val_loss: 0.0372 - val_x_output_loss: 0.0265 - val_y_output_loss: 0.0107 - val_x_output_root_mean_squared_error: 0.1628 - val_y_output_root_mean_squared_error: 0.1033\n",
      "Epoch 283/300\n",
      "1013/1013 [==============================] - 14s 14ms/step - loss: 0.0671 - x_output_loss: 0.0440 - y_output_loss: 0.0231 - x_output_root_mean_squared_error: 0.2097 - y_output_root_mean_squared_error: 0.1521 - val_loss: 0.0266 - val_x_output_loss: 0.0187 - val_y_output_loss: 0.0079 - val_x_output_root_mean_squared_error: 0.1368 - val_y_output_root_mean_squared_error: 0.0888\n",
      "Epoch 284/300\n",
      "1013/1013 [==============================] - 14s 14ms/step - loss: 0.0732 - x_output_loss: 0.0478 - y_output_loss: 0.0255 - x_output_root_mean_squared_error: 0.2185 - y_output_root_mean_squared_error: 0.1596 - val_loss: 0.0209 - val_x_output_loss: 0.0124 - val_y_output_loss: 0.0086 - val_x_output_root_mean_squared_error: 0.1112 - val_y_output_root_mean_squared_error: 0.0927\n",
      "Epoch 285/300\n",
      "1013/1013 [==============================] - 14s 14ms/step - loss: 0.0772 - x_output_loss: 0.0509 - y_output_loss: 0.0263 - x_output_root_mean_squared_error: 0.2256 - y_output_root_mean_squared_error: 0.1620 - val_loss: 0.0294 - val_x_output_loss: 0.0166 - val_y_output_loss: 0.0128 - val_x_output_root_mean_squared_error: 0.1289 - val_y_output_root_mean_squared_error: 0.1129\n",
      "Epoch 286/300\n",
      "1013/1013 [==============================] - 15s 14ms/step - loss: 0.0697 - x_output_loss: 0.0461 - y_output_loss: 0.0236 - x_output_root_mean_squared_error: 0.2148 - y_output_root_mean_squared_error: 0.1536 - val_loss: 0.0587 - val_x_output_loss: 0.0414 - val_y_output_loss: 0.0173 - val_x_output_root_mean_squared_error: 0.2035 - val_y_output_root_mean_squared_error: 0.1315\n",
      "Epoch 287/300\n",
      "1013/1013 [==============================] - 15s 15ms/step - loss: 0.0672 - x_output_loss: 0.0463 - y_output_loss: 0.0209 - x_output_root_mean_squared_error: 0.2151 - y_output_root_mean_squared_error: 0.1447 - val_loss: 0.0478 - val_x_output_loss: 0.0321 - val_y_output_loss: 0.0157 - val_x_output_root_mean_squared_error: 0.1792 - val_y_output_root_mean_squared_error: 0.1254\n"
     ]
    },
    {
     "name": "stdout",
     "output_type": "stream",
     "text": [
      "Epoch 288/300\n",
      "1013/1013 [==============================] - 14s 14ms/step - loss: 0.0667 - x_output_loss: 0.0443 - y_output_loss: 0.0224 - x_output_root_mean_squared_error: 0.2104 - y_output_root_mean_squared_error: 0.1497 - val_loss: 0.0255 - val_x_output_loss: 0.0173 - val_y_output_loss: 0.0081 - val_x_output_root_mean_squared_error: 0.1316 - val_y_output_root_mean_squared_error: 0.0902\n",
      "Epoch 289/300\n",
      "1013/1013 [==============================] - 14s 14ms/step - loss: 0.0715 - x_output_loss: 0.0461 - y_output_loss: 0.0254 - x_output_root_mean_squared_error: 0.2147 - y_output_root_mean_squared_error: 0.1594 - val_loss: 0.0274 - val_x_output_loss: 0.0183 - val_y_output_loss: 0.0091 - val_x_output_root_mean_squared_error: 0.1353 - val_y_output_root_mean_squared_error: 0.0953\n",
      "Epoch 290/300\n",
      "1013/1013 [==============================] - 14s 14ms/step - loss: 0.0699 - x_output_loss: 0.0457 - y_output_loss: 0.0242 - x_output_root_mean_squared_error: 0.2139 - y_output_root_mean_squared_error: 0.1556 - val_loss: 0.0508 - val_x_output_loss: 0.0367 - val_y_output_loss: 0.0141 - val_x_output_root_mean_squared_error: 0.1916 - val_y_output_root_mean_squared_error: 0.1186\n",
      "Epoch 291/300\n",
      "1013/1013 [==============================] - 14s 14ms/step - loss: 0.0755 - x_output_loss: 0.0485 - y_output_loss: 0.0270 - x_output_root_mean_squared_error: 0.2202 - y_output_root_mean_squared_error: 0.1642 - val_loss: 0.0421 - val_x_output_loss: 0.0292 - val_y_output_loss: 0.0129 - val_x_output_root_mean_squared_error: 0.1708 - val_y_output_root_mean_squared_error: 0.1136\n",
      "Epoch 292/300\n",
      "1013/1013 [==============================] - 14s 13ms/step - loss: 0.0759 - x_output_loss: 0.0502 - y_output_loss: 0.0257 - x_output_root_mean_squared_error: 0.2241 - y_output_root_mean_squared_error: 0.1603 - val_loss: 0.0320 - val_x_output_loss: 0.0191 - val_y_output_loss: 0.0129 - val_x_output_root_mean_squared_error: 0.1384 - val_y_output_root_mean_squared_error: 0.1136\n",
      "Epoch 293/300\n",
      "1013/1013 [==============================] - 14s 14ms/step - loss: 0.0754 - x_output_loss: 0.0493 - y_output_loss: 0.0261 - x_output_root_mean_squared_error: 0.2221 - y_output_root_mean_squared_error: 0.1615 - val_loss: 0.0373 - val_x_output_loss: 0.0242 - val_y_output_loss: 0.0130 - val_x_output_root_mean_squared_error: 0.1557 - val_y_output_root_mean_squared_error: 0.1142\n",
      "Epoch 294/300\n",
      "1013/1013 [==============================] - 14s 14ms/step - loss: 0.0745 - x_output_loss: 0.0499 - y_output_loss: 0.0246 - x_output_root_mean_squared_error: 0.2234 - y_output_root_mean_squared_error: 0.1569 - val_loss: 0.0621 - val_x_output_loss: 0.0420 - val_y_output_loss: 0.0201 - val_x_output_root_mean_squared_error: 0.2049 - val_y_output_root_mean_squared_error: 0.1417\n",
      "Epoch 295/300\n",
      "1013/1013 [==============================] - 14s 14ms/step - loss: 0.0672 - x_output_loss: 0.0441 - y_output_loss: 0.0231 - x_output_root_mean_squared_error: 0.2101 - y_output_root_mean_squared_error: 0.1518 - val_loss: 0.0465 - val_x_output_loss: 0.0327 - val_y_output_loss: 0.0137 - val_x_output_root_mean_squared_error: 0.1809 - val_y_output_root_mean_squared_error: 0.1171\n",
      "Epoch 296/300\n",
      "1013/1013 [==============================] - 14s 14ms/step - loss: 0.0749 - x_output_loss: 0.0490 - y_output_loss: 0.0259 - x_output_root_mean_squared_error: 0.2213 - y_output_root_mean_squared_error: 0.1610 - val_loss: 0.0595 - val_x_output_loss: 0.0460 - val_y_output_loss: 0.0135 - val_x_output_root_mean_squared_error: 0.2144 - val_y_output_root_mean_squared_error: 0.1161\n",
      "Epoch 297/300\n",
      "1013/1013 [==============================] - 14s 14ms/step - loss: 0.0714 - x_output_loss: 0.0478 - y_output_loss: 0.0237 - x_output_root_mean_squared_error: 0.2186 - y_output_root_mean_squared_error: 0.1539 - val_loss: 0.0423 - val_x_output_loss: 0.0303 - val_y_output_loss: 0.0120 - val_x_output_root_mean_squared_error: 0.1740 - val_y_output_root_mean_squared_error: 0.1097\n",
      "Epoch 298/300\n",
      "1013/1013 [==============================] - 14s 14ms/step - loss: 0.0720 - x_output_loss: 0.0454 - y_output_loss: 0.0266 - x_output_root_mean_squared_error: 0.2132 - y_output_root_mean_squared_error: 0.1631 - val_loss: 0.0316 - val_x_output_loss: 0.0193 - val_y_output_loss: 0.0123 - val_x_output_root_mean_squared_error: 0.1389 - val_y_output_root_mean_squared_error: 0.1111\n",
      "Epoch 299/300\n",
      "1013/1013 [==============================] - 14s 14ms/step - loss: 0.0716 - x_output_loss: 0.0468 - y_output_loss: 0.0248 - x_output_root_mean_squared_error: 0.2163 - y_output_root_mean_squared_error: 0.1576 - val_loss: 0.0262 - val_x_output_loss: 0.0175 - val_y_output_loss: 0.0087 - val_x_output_root_mean_squared_error: 0.1321 - val_y_output_root_mean_squared_error: 0.0933\n",
      "Epoch 300/300\n",
      "1013/1013 [==============================] - 14s 14ms/step - loss: 0.0727 - x_output_loss: 0.0464 - y_output_loss: 0.0264 - x_output_root_mean_squared_error: 0.2153 - y_output_root_mean_squared_error: 0.1624 - val_loss: 0.0645 - val_x_output_loss: 0.0193 - val_y_output_loss: 0.0453 - val_x_output_root_mean_squared_error: 0.1388 - val_y_output_root_mean_squared_error: 0.2128\n"
     ]
    }
   ],
   "source": [
    "# Train the model for 200 epochs\n",
    "history = model.fit(norm_train_X, train_Y,\n",
    "                    epochs=300, validation_data=(norm_test_X, test_Y))"
   ]
  },
  {
   "cell_type": "code",
   "execution_count": 82,
   "metadata": {
    "colab": {
     "base_uri": "https://localhost:8080/"
    },
    "id": "AbI9079mGMEV",
    "outputId": "b5d12586-2f55-4bb3-8cf8-239330bc4f1e"
   },
   "outputs": [
    {
     "name": "stdout",
     "output_type": "stream",
     "text": [
      "254/254 [==============================] - 2s 6ms/step - loss: 0.0728 - x_output_loss: 0.0226 - y_output_loss: 0.0502 - x_output_root_mean_squared_error: 0.1505 - y_output_root_mean_squared_error: 0.2240\n",
      "\n",
      "loss: 0.07282107323408127\n",
      "x_loss: 0.022636855021119118\n",
      "y_loss: 0.0501842238008976\n",
      "x_rmse: 0.15045548975467682\n",
      "y_rmse: 0.22401835024356842\n"
     ]
    }
   ],
   "source": [
    "# Test the model and print loss and rmse for both outputs\n",
    "loss, Y1_loss, Y2_loss, Y1_rmse, Y2_rmse = model.evaluate(x=norm_val_X, y=val_Y)\n",
    "\n",
    "print()\n",
    "print(f'loss: {loss}')\n",
    "print(f'x_loss: {Y1_loss}')\n",
    "print(f'y_loss: {Y2_loss}')\n",
    "print(f'x_rmse: {Y1_rmse}')\n",
    "print(f'y_rmse: {Y2_rmse}')"
   ]
  },
  {
   "cell_type": "code",
   "execution_count": 83,
   "metadata": {
    "id": "V9DhGCX4GQae"
   },
   "outputs": [],
   "source": [
    "def plot_diff(y_true, y_pred, title=''):\n",
    "    plt.scatter(y_true, y_pred)\n",
    "    plt.title(title)\n",
    "    plt.xlabel('True Values')\n",
    "    plt.ylabel('Predictions')\n",
    "    plt.axis('equal')\n",
    "    plt.axis('square')\n",
    "    plt.xlim(plt.xlim())\n",
    "    plt.ylim(plt.ylim())\n",
    "    plt.plot([-100, 100], [-100, 100])\n",
    "    plt.show()\n",
    "\n",
    "\n",
    "def plot_metrics(metric_name, title, ylim=5):\n",
    "    plt.title(title)\n",
    "    plt.ylim(0, ylim)\n",
    "    plt.plot(history.history[metric_name], color='blue', label=metric_name)\n",
    "    plt.plot(history.history['val_' + metric_name], color='green', label='val_' + metric_name)\n",
    "    plt.show()"
   ]
  },
  {
   "cell_type": "code",
   "execution_count": 84,
   "metadata": {
    "colab": {
     "base_uri": "https://localhost:8080/",
     "height": 573
    },
    "id": "0EbyNOEXGeQf",
    "outputId": "b66ac9a8-5910-43e2-c298-bd1af1b93c6a"
   },
   "outputs": [
    {
     "data": {
      "image/png": "[encoded data removed]",
      "text/plain": [
       "<Figure size 432x288 with 1 Axes>"
      ]
     },
     "metadata": {
      "needs_background": "light"
     },
     "output_type": "display_data"
    },
    {
     "data": {
      "image/png": "[encoded data removed]",
      "text/plain": [
       "<Figure size 432x288 with 1 Axes>"
      ]
     },
     "metadata": {
      "needs_background": "light"
     },
     "output_type": "display_data"
    }
   ],
   "source": [
    "# Run predict\n",
    "Y_pred = model.predict(norm_test_X)\n",
    "price_pred = Y_pred[0]\n",
    "ptratio_pred = Y_pred[1]\n",
    "\n",
    "plot_diff(test_Y[0], Y_pred[0], title='x')\n",
    "plot_diff(test_Y[1], Y_pred[1], title='y')"
   ]
  },
  {
   "cell_type": "code",
   "execution_count": 85,
   "metadata": {
    "colab": {
     "base_uri": "https://localhost:8080/",
     "height": 545
    },
    "id": "58QqA0C4Gk7d",
    "outputId": "4875ab5f-a185-4367-8dd5-e89de199bad5"
   },
   "outputs": [
    {
     "data": {
      "image/png": "[encoded data removed]",
      "text/plain": [
       "<Figure size 432x288 with 1 Axes>"
      ]
     },
     "metadata": {
      "needs_background": "light"
     },
     "output_type": "display_data"
    },
    {
     "data": {
      "image/png": "[encoded data removed]",
      "text/plain": [
       "<Figure size 432x288 with 1 Axes>"
      ]
     },
     "metadata": {
      "needs_background": "light"
     },
     "output_type": "display_data"
    }
   ],
   "source": [
    "# Plot RMSE\n",
    "plot_metrics(metric_name='x_output_root_mean_squared_error', title='x RMSE', ylim=1)\n",
    "plot_metrics(metric_name='y_output_root_mean_squared_error', title='y RMSE', ylim=1)"
   ]
  },
  {
   "cell_type": "code",
   "execution_count": 86,
   "metadata": {
    "colab": {
     "base_uri": "https://localhost:8080/"
    },
    "id": "V18I4VyhHAL1",
    "outputId": "543b2a99-e234-4aa0-a848-8d7337840f93"
   },
   "outputs": [
    {
     "name": "stdout",
     "output_type": "stream",
     "text": [
      "INFO:tensorflow:Assets written to: ./xyForcePlate6/assets\n"
     ]
    }
   ],
   "source": [
    "# Save model\n",
    "model.save('./xyForcePlate6/', save_format='tf')"
   ]
  },
  {
   "cell_type": "code",
   "execution_count": 87,
   "metadata": {
    "id": "5QTOLsAJHAVy"
   },
   "outputs": [],
   "source": [
    "# Restore model\n",
    "loaded_model = tf.keras.models.load_model('./xyForcePlate6/')"
   ]
  },
  {
   "cell_type": "code",
   "execution_count": 43,
   "metadata": {},
   "outputs": [
    {
     "data": {
      "text/plain": [
       "(40000, 4)"
      ]
     },
     "execution_count": 43,
     "metadata": {},
     "output_type": "execute_result"
    }
   ],
   "source": [
    "dataVal.iloc[:,:4].shape"
   ]
  },
  {
   "cell_type": "code",
   "execution_count": 44,
   "metadata": {
    "id": "ptcyn1KOHHtD"
   },
   "outputs": [],
   "source": [
    "# Run predict with restored model\n",
    "predictions = loaded_model.predict(dataVal.iloc[:,:4])\n",
    "x_pred = predictions[0]\n",
    "y_pred = predictions[1]"
   ]
  },
  {
   "cell_type": "code",
   "execution_count": 57,
   "metadata": {},
   "outputs": [
    {
     "data": {
      "text/plain": [
       "(50000, 4)"
      ]
     },
     "execution_count": 57,
     "metadata": {},
     "output_type": "execute_result"
    }
   ],
   "source": [
    "norm_test_X.shape"
   ]
  },
  {
   "cell_type": "code",
   "execution_count": 53,
   "metadata": {},
   "outputs": [
    {
     "data": {
      "text/plain": [
       "array([ 1.02478891, -0.37257721,  0.63687956,  0.94191688])"
      ]
     },
     "execution_count": 53,
     "metadata": {},
     "output_type": "execute_result"
    }
   ],
   "source": [
    "norm_test_X[0]"
   ]
  },
  {
   "cell_type": "code",
   "execution_count": 46,
   "metadata": {
    "colab": {
     "base_uri": "https://localhost:8080/"
    },
    "id": "PA340DixH6MS",
    "outputId": "9387bfbe-d014-4e16-ce03-04764bd07e8a"
   },
   "outputs": [
    {
     "name": "stdout",
     "output_type": "stream",
     "text": [
      "[[ -42.01431 ]\n",
      " [  29.233204]\n",
      " [-194.94339 ]\n",
      " ...\n",
      " [ -59.731293]\n",
      " [  11.876278]\n",
      " [ -15.666477]]\n"
     ]
    }
   ],
   "source": [
    "print(x_pred)"
   ]
  },
  {
   "cell_type": "code",
   "execution_count": 47,
   "metadata": {
    "colab": {
     "base_uri": "https://localhost:8080/"
    },
    "id": "EM4Wj7XWKOy4",
    "outputId": "bda68532-38ac-40da-8dcc-a5359a2aa9de"
   },
   "outputs": [
    {
     "name": "stdout",
     "output_type": "stream",
     "text": [
      "         F0   F1   F2   F3\n",
      "68708   380  249  330  524\n",
      "99414   329  254  364  461\n",
      "149362  268  300  304  567\n",
      "221717  336  330  330  525\n",
      "96658   317  249  359  455\n",
      "...     ...  ...  ...  ...\n",
      "80692   389  228  367  519\n",
      "39978   286  292  301  486\n",
      "155390  343  247  330  520\n",
      "188289  392  372  357  533\n",
      "219339  404  277  326  510\n",
      "\n",
      "[40000 rows x 4 columns]\n"
     ]
    }
   ],
   "source": [
    "print(dataVal.iloc[:,:4])"
   ]
  },
  {
   "cell_type": "markdown",
   "metadata": {
    "id": "vIcHHeA25TfL"
   },
   "source": [
    "################################################################################"
   ]
  }
 ],
 "metadata": {
  "colab": {
   "collapsed_sections": [],
   "name": "ForcePlatePosition.ipynb",
   "provenance": []
  },
  "kernelspec": {
   "display_name": "Python 3",
   "language": "python",
   "name": "python3"
  },
  "language_info": {
   "codemirror_mode": {
    "name": "ipython",
    "version": 3
   },
   "file_extension": ".py",
   "mimetype": "text/x-python",
   "name": "python",
   "nbconvert_exporter": "python",
   "pygments_lexer": "ipython3",
   "version": "3.8.3"
  }
 },
 "nbformat": 4,
 "nbformat_minor": 1
}
