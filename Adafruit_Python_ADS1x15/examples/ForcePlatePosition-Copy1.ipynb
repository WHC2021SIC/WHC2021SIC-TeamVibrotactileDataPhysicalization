{
 "cells": [
  {
   "cell_type": "code",
   "execution_count": 1,
   "metadata": {
    "id": "YSbPCMnvDnQV"
   },
   "outputs": [],
   "source": [
    "# Importing the libraries\n",
    "import pandas as pd\n",
    "import numpy as np\n",
    "import matplotlib.pyplot as plt\n",
    "\n",
    "#from google.colab import files\n",
    "#uploaded = files.upload()\n",
    "\n",
    "DNot ='posNewTouchedData/-1,-1.csv'\n",
    "D0_0 = 'posNewTouchedData/0,0.csv'\n",
    "D0_3 = 'posNewTouchedData/0,3.csv'\n",
    "D0_6 = 'posNewTouchedData/0,6.csv'\n",
    "D0_7_5 = 'posNewTouchedData/0,7.5.csv'\n",
    "D0_9 = 'posNewTouchedData/0,9.csv'\n",
    "D0_12 = 'posNewTouchedData/0,12.csv'\n",
    "D0_15 ='posNewTouchedData/0,15.csv'\n",
    "D3_0 ='posNewTouchedData/3,0.csv'\n",
    "D3_3 ='posNewTouchedData/3,3.csv'\n",
    "D3_6 ='posNewTouchedData/3,6.csv'\n",
    "D3_9 ='posNewTouchedData/3,9.csv'\n",
    "D3_12 ='posNewTouchedData/3,12.csv'\n",
    "D3_15 ='posNewTouchedData/3,15.csv'\n",
    "D6_0 ='posNewTouchedData/6,0.csv'\n",
    "D6_3 ='posNewTouchedData/6,3.csv'\n",
    "D6_6 ='posNewTouchedData/6,6.csv'\n",
    "D6_9 ='posNewTouchedData/6,9.csv'\n",
    "D6_12 ='posNewTouchedData/6,12.csv'\n",
    "D6_15 ='posNewTouchedData/6,15.csv'\n",
    "D7_5_0 ='posNewTouchedData/7.5,0.csv'\n",
    "D7_5_7_5 ='posNewTouchedData/7.5,7.5.csv'\n",
    "D7_5_15 ='posNewTouchedData/7.5,15.csv'\n",
    "D9_0 ='posNewTouchedData/9,0.csv'\n",
    "D9_3 ='posNewTouchedData/9,3.csv'\n",
    "D9_6 ='posNewTouchedData/9,6.csv'\n",
    "D9_9 ='posNewTouchedData/9,9.csv'\n",
    "D9_12 ='posNewTouchedData/9,12.csv'\n",
    "D9_15 ='posNewTouchedData/9,15.csv'\n",
    "D12_0 ='posNewTouchedData/12,0.csv'\n",
    "D12_3 ='posNewTouchedData/12,3.csv'\n",
    "D12_6 ='posNewTouchedData/12,6.csv'\n",
    "D12_9 ='posNewTouchedData/12,9.csv'\n",
    "D12_12 ='posNewTouchedData/12,12.csv'\n",
    "D12_15 ='posNewTouchedData/12,15.csv'\n",
    "D15_0 ='posNewTouchedData/15,0.csv'\n",
    "D15_3 ='posNewTouchedData/15,3.csv'\n",
    "D15_6 ='posNewTouchedData/15,6.csv'\n",
    "D15_7_5 = 'posNewTouchedData/15,7.5.csv'\n",
    "D15_9 ='posNewTouchedData/15,9.csv'\n",
    "D15_12 ='posNewTouchedData/15,12.csv'\n",
    "D15_15 = 'posNewTouchedData/15,15.csv'\n",
    "\n",
    "#--------------------------\n",
    "D_0_0='posNewTouchData2/0,0.csv'\n",
    "D_0_7_5='posNewTouchData2/0,7.5.csv'\n",
    "D_0_18='posNewTouchData2/0,18.csv'\n",
    "D_Not='posNewTouchData2/-1,-1.csv'\n",
    "D_3_3='posNewTouchData2/3,3.csv'\n",
    "D_3_12='posNewTouchData2/3,12.csv'\n",
    "D_7_5_0='posNewTouchData2/7.5,0.csv'\n",
    "D_7_5_7_5='posNewTouchData2/7.5,7.5.csv'\n",
    "D_7_5_15='posNewTouchData2/7.5,15.csv'\n",
    "D_12_3='posNewTouchData2/12,3.csv'\n",
    "D_12_12='posNewTouchData2/12,12.csv'\n",
    "D_15_0='posNewTouchData2/15,0.csv'\n",
    "D_15_7_5='posNewTouchData2/15,7.5.csv'\n",
    "D_15_15='posNewTouchData2/15,15.csv'\n",
    "\n",
    "\n",
    "# 51 datasets\n",
    "\n",
    "#df1 = pd.read_csv(url)\n",
    "\n",
    "# Importing the Boston Housing dataset\n",
    "#from sklearn.datasets import load_boston"
   ]
  },
  {
   "cell_type": "code",
   "execution_count": 2,
   "metadata": {},
   "outputs": [
    {
     "name": "stdout",
     "output_type": "stream",
     "text": [
      "1 Physical GPUs, 1 Logical GPUs\n"
     ]
    },
    {
     "data": {
      "text/plain": [
       "'print(\"Num GPUs Available: \", len(tf.config.list_physical_devices(\\'GPU\\')))\\n\\nif not tf.test.gpu_device_name():\\n    print(\"not found\")\\nelse:\\n    print(\"device: {}\".format(tf.test.gpu_device_name()))\\n    \\ntf.debugging.set_log_device_placement(True)'"
      ]
     },
     "execution_count": 2,
     "metadata": {},
     "output_type": "execute_result"
    }
   ],
   "source": [
    "import tensorflow as tf\n",
    "from tensorflow.keras.models import Model\n",
    "from tensorflow.keras import layers\n",
    "from sklearn.model_selection import train_test_split\n",
    "\n",
    "gpus = tf.config.experimental.list_physical_devices('GPU')\n",
    "if gpus:\n",
    "    try:\n",
    "        # Currently, memory growth needs to be the same across GPUs\n",
    "        for gpu in gpus:\n",
    "            tf.config.experimental.set_memory_growth(gpu, True)\n",
    "        logical_gpus = tf.config.experimental.list_logical_devices('GPU')\n",
    "        print(len(gpus), \"Physical GPUs,\", len(logical_gpus), \"Logical GPUs\")\n",
    "        tf.debugging.set_log_device_placement(True)\n",
    "    except RuntimeError as e:\n",
    "        # Memory growth must be set before GPUs have been initialized\n",
    "        print(e)\n",
    "        \n",
    "        \n",
    "\"\"\"print(\"Num GPUs Available: \", len(tf.config.list_physical_devices('GPU')))\n",
    "\n",
    "if not tf.test.gpu_device_name():\n",
    "    print(\"not found\")\n",
    "else:\n",
    "    print(\"device: {}\".format(tf.test.gpu_device_name()))\n",
    "    \n",
    "tf.debugging.set_log_device_placement(True)\"\"\"\n",
    "    "
   ]
  },
  {
   "cell_type": "code",
   "execution_count": 3,
   "metadata": {},
   "outputs": [],
   "source": [
    "def ChangetoMean(x, numD):\n",
    "    NumDiv = numD\n",
    "    d0_7_5Mean = np.empty((int(x.shape[0]/NumDiv),x.shape[1]))\n",
    "    for i in range(int(x.shape[0]/NumDiv)):\n",
    "        d0_7_5Mean[i,:] = np.mean(x.iloc[i*NumDiv:i*NumDiv+NumDiv,:],axis=0)\n",
    "    return d0_7_5Mean"
   ]
  },
  {
   "cell_type": "code",
   "execution_count": 27,
   "metadata": {},
   "outputs": [
    {
     "data": {
      "text/html": [
       "<div>\n",
       "<style scoped>\n",
       "    .dataframe tbody tr th:only-of-type {\n",
       "        vertical-align: middle;\n",
       "    }\n",
       "\n",
       "    .dataframe tbody tr th {\n",
       "        vertical-align: top;\n",
       "    }\n",
       "\n",
       "    .dataframe thead th {\n",
       "        text-align: right;\n",
       "    }\n",
       "</style>\n",
       "<table border=\"1\" class=\"dataframe\">\n",
       "  <thead>\n",
       "    <tr style=\"text-align: right;\">\n",
       "      <th></th>\n",
       "      <th>0</th>\n",
       "      <th>1</th>\n",
       "      <th>2</th>\n",
       "      <th>3</th>\n",
       "      <th>4</th>\n",
       "      <th>5</th>\n",
       "    </tr>\n",
       "  </thead>\n",
       "  <tbody>\n",
       "    <tr>\n",
       "      <td>0</td>\n",
       "      <td>264.8</td>\n",
       "      <td>13.0</td>\n",
       "      <td>296.2</td>\n",
       "      <td>511.6</td>\n",
       "      <td>0</td>\n",
       "      <td>0</td>\n",
       "    </tr>\n",
       "    <tr>\n",
       "      <td>1</td>\n",
       "      <td>265.0</td>\n",
       "      <td>13.0</td>\n",
       "      <td>296.4</td>\n",
       "      <td>512.2</td>\n",
       "      <td>0</td>\n",
       "      <td>0</td>\n",
       "    </tr>\n",
       "    <tr>\n",
       "      <td>2</td>\n",
       "      <td>264.8</td>\n",
       "      <td>13.0</td>\n",
       "      <td>296.4</td>\n",
       "      <td>516.4</td>\n",
       "      <td>0</td>\n",
       "      <td>0</td>\n",
       "    </tr>\n",
       "    <tr>\n",
       "      <td>3</td>\n",
       "      <td>264.8</td>\n",
       "      <td>13.0</td>\n",
       "      <td>297.0</td>\n",
       "      <td>520.8</td>\n",
       "      <td>0</td>\n",
       "      <td>0</td>\n",
       "    </tr>\n",
       "    <tr>\n",
       "      <td>4</td>\n",
       "      <td>265.4</td>\n",
       "      <td>13.0</td>\n",
       "      <td>297.0</td>\n",
       "      <td>518.6</td>\n",
       "      <td>0</td>\n",
       "      <td>0</td>\n",
       "    </tr>\n",
       "    <tr>\n",
       "      <td>...</td>\n",
       "      <td>...</td>\n",
       "      <td>...</td>\n",
       "      <td>...</td>\n",
       "      <td>...</td>\n",
       "      <td>...</td>\n",
       "      <td>...</td>\n",
       "    </tr>\n",
       "    <tr>\n",
       "      <td>4995</td>\n",
       "      <td>246.8</td>\n",
       "      <td>18.0</td>\n",
       "      <td>340.8</td>\n",
       "      <td>903.2</td>\n",
       "      <td>0</td>\n",
       "      <td>0</td>\n",
       "    </tr>\n",
       "    <tr>\n",
       "      <td>4996</td>\n",
       "      <td>248.0</td>\n",
       "      <td>18.0</td>\n",
       "      <td>342.8</td>\n",
       "      <td>904.0</td>\n",
       "      <td>0</td>\n",
       "      <td>0</td>\n",
       "    </tr>\n",
       "    <tr>\n",
       "      <td>4997</td>\n",
       "      <td>250.0</td>\n",
       "      <td>18.0</td>\n",
       "      <td>342.4</td>\n",
       "      <td>904.8</td>\n",
       "      <td>0</td>\n",
       "      <td>0</td>\n",
       "    </tr>\n",
       "    <tr>\n",
       "      <td>4998</td>\n",
       "      <td>248.4</td>\n",
       "      <td>18.0</td>\n",
       "      <td>343.0</td>\n",
       "      <td>905.6</td>\n",
       "      <td>0</td>\n",
       "      <td>0</td>\n",
       "    </tr>\n",
       "    <tr>\n",
       "      <td>4999</td>\n",
       "      <td>249.2</td>\n",
       "      <td>18.0</td>\n",
       "      <td>342.4</td>\n",
       "      <td>906.0</td>\n",
       "      <td>0</td>\n",
       "      <td>0</td>\n",
       "    </tr>\n",
       "  </tbody>\n",
       "</table>\n",
       "<p>5000 rows × 6 columns</p>\n",
       "</div>"
      ],
      "text/plain": [
       "          0     1      2      3  4  5\n",
       "0     264.8  13.0  296.2  511.6  0  0\n",
       "1     265.0  13.0  296.4  512.2  0  0\n",
       "2     264.8  13.0  296.4  516.4  0  0\n",
       "3     264.8  13.0  297.0  520.8  0  0\n",
       "4     265.4  13.0  297.0  518.6  0  0\n",
       "...     ...   ...    ...    ... .. ..\n",
       "4995  246.8  18.0  340.8  903.2  0  0\n",
       "4996  248.0  18.0  342.8  904.0  0  0\n",
       "4997  250.0  18.0  342.4  904.8  0  0\n",
       "4998  248.4  18.0  343.0  905.6  0  0\n",
       "4999  249.2  18.0  342.4  906.0  0  0\n",
       "\n",
       "[5000 rows x 6 columns]"
      ]
     },
     "execution_count": 27,
     "metadata": {},
     "output_type": "execute_result"
    }
   ],
   "source": [
    "d0_0 = pd.read_csv(D0_0,header=None)\n",
    "d0_0"
   ]
  },
  {
   "cell_type": "code",
   "execution_count": 4,
   "metadata": {},
   "outputs": [],
   "source": [
    "def changeLast(x,num):\n",
    "    #x.pop(x.columns[5])\n",
    "    x[x.columns[5]]=num\n",
    "    return x"
   ]
  },
  {
   "cell_type": "code",
   "execution_count": 30,
   "metadata": {},
   "outputs": [
    {
     "data": {
      "text/html": [
       "<div>\n",
       "<style scoped>\n",
       "    .dataframe tbody tr th:only-of-type {\n",
       "        vertical-align: middle;\n",
       "    }\n",
       "\n",
       "    .dataframe tbody tr th {\n",
       "        vertical-align: top;\n",
       "    }\n",
       "\n",
       "    .dataframe thead th {\n",
       "        text-align: right;\n",
       "    }\n",
       "</style>\n",
       "<table border=\"1\" class=\"dataframe\">\n",
       "  <thead>\n",
       "    <tr style=\"text-align: right;\">\n",
       "      <th></th>\n",
       "      <th>0</th>\n",
       "      <th>1</th>\n",
       "      <th>2</th>\n",
       "      <th>3</th>\n",
       "      <th>4</th>\n",
       "      <th>5</th>\n",
       "    </tr>\n",
       "  </thead>\n",
       "  <tbody>\n",
       "    <tr>\n",
       "      <td>0</td>\n",
       "      <td>264.8</td>\n",
       "      <td>13.0</td>\n",
       "      <td>296.2</td>\n",
       "      <td>511.6</td>\n",
       "      <td>0</td>\n",
       "      <td>5</td>\n",
       "    </tr>\n",
       "    <tr>\n",
       "      <td>1</td>\n",
       "      <td>265.0</td>\n",
       "      <td>13.0</td>\n",
       "      <td>296.4</td>\n",
       "      <td>512.2</td>\n",
       "      <td>0</td>\n",
       "      <td>5</td>\n",
       "    </tr>\n",
       "    <tr>\n",
       "      <td>2</td>\n",
       "      <td>264.8</td>\n",
       "      <td>13.0</td>\n",
       "      <td>296.4</td>\n",
       "      <td>516.4</td>\n",
       "      <td>0</td>\n",
       "      <td>5</td>\n",
       "    </tr>\n",
       "    <tr>\n",
       "      <td>3</td>\n",
       "      <td>264.8</td>\n",
       "      <td>13.0</td>\n",
       "      <td>297.0</td>\n",
       "      <td>520.8</td>\n",
       "      <td>0</td>\n",
       "      <td>5</td>\n",
       "    </tr>\n",
       "    <tr>\n",
       "      <td>4</td>\n",
       "      <td>265.4</td>\n",
       "      <td>13.0</td>\n",
       "      <td>297.0</td>\n",
       "      <td>518.6</td>\n",
       "      <td>0</td>\n",
       "      <td>5</td>\n",
       "    </tr>\n",
       "    <tr>\n",
       "      <td>...</td>\n",
       "      <td>...</td>\n",
       "      <td>...</td>\n",
       "      <td>...</td>\n",
       "      <td>...</td>\n",
       "      <td>...</td>\n",
       "      <td>...</td>\n",
       "    </tr>\n",
       "    <tr>\n",
       "      <td>4995</td>\n",
       "      <td>246.8</td>\n",
       "      <td>18.0</td>\n",
       "      <td>340.8</td>\n",
       "      <td>903.2</td>\n",
       "      <td>0</td>\n",
       "      <td>5</td>\n",
       "    </tr>\n",
       "    <tr>\n",
       "      <td>4996</td>\n",
       "      <td>248.0</td>\n",
       "      <td>18.0</td>\n",
       "      <td>342.8</td>\n",
       "      <td>904.0</td>\n",
       "      <td>0</td>\n",
       "      <td>5</td>\n",
       "    </tr>\n",
       "    <tr>\n",
       "      <td>4997</td>\n",
       "      <td>250.0</td>\n",
       "      <td>18.0</td>\n",
       "      <td>342.4</td>\n",
       "      <td>904.8</td>\n",
       "      <td>0</td>\n",
       "      <td>5</td>\n",
       "    </tr>\n",
       "    <tr>\n",
       "      <td>4998</td>\n",
       "      <td>248.4</td>\n",
       "      <td>18.0</td>\n",
       "      <td>343.0</td>\n",
       "      <td>905.6</td>\n",
       "      <td>0</td>\n",
       "      <td>5</td>\n",
       "    </tr>\n",
       "    <tr>\n",
       "      <td>4999</td>\n",
       "      <td>249.2</td>\n",
       "      <td>18.0</td>\n",
       "      <td>342.4</td>\n",
       "      <td>906.0</td>\n",
       "      <td>0</td>\n",
       "      <td>5</td>\n",
       "    </tr>\n",
       "  </tbody>\n",
       "</table>\n",
       "<p>5000 rows × 6 columns</p>\n",
       "</div>"
      ],
      "text/plain": [
       "          0     1      2      3  4  5\n",
       "0     264.8  13.0  296.2  511.6  0  5\n",
       "1     265.0  13.0  296.4  512.2  0  5\n",
       "2     264.8  13.0  296.4  516.4  0  5\n",
       "3     264.8  13.0  297.0  520.8  0  5\n",
       "4     265.4  13.0  297.0  518.6  0  5\n",
       "...     ...   ...    ...    ... .. ..\n",
       "4995  246.8  18.0  340.8  903.2  0  5\n",
       "4996  248.0  18.0  342.8  904.0  0  5\n",
       "4997  250.0  18.0  342.4  904.8  0  5\n",
       "4998  248.4  18.0  343.0  905.6  0  5\n",
       "4999  249.2  18.0  342.4  906.0  0  5\n",
       "\n",
       "[5000 rows x 6 columns]"
      ]
     },
     "execution_count": 30,
     "metadata": {},
     "output_type": "execute_result"
    }
   ],
   "source": [
    "changeLast(d0_0,5)"
   ]
  },
  {
   "cell_type": "code",
   "execution_count": 5,
   "metadata": {
    "id": "Ab8q_tVIcsPM"
   },
   "outputs": [],
   "source": [
    "dNot = pd.read_csv(DNot,header=None)\n",
    "d0_0 = pd.read_csv(D0_0,header=None)\n",
    "d0_3 = pd.read_csv(D0_3,header=None)\n",
    "d0_6 = pd.read_csv(D0_6,header=None)\n",
    "d0_7_5 = ChangetoMean(pd.read_csv(D0_7_5,header=None), 5)\n",
    "d0_9 = pd.read_csv(D0_9,header=None)\n",
    "d0_12 = pd.read_csv(D0_12,header=None)\n",
    "d0_15 = pd.read_csv(D0_15,header=None)\n",
    "d3_0 =pd.read_csv(D3_0,header=None)\n",
    "d3_3 =pd.read_csv(D3_3,header=None)\n",
    "d3_6 =pd.read_csv(D3_6,header=None)\n",
    "d3_9 =pd.read_csv(D3_9,header=None)\n",
    "d3_12 =pd.read_csv(D3_12,header=None)\n",
    "d3_15 =pd.read_csv(D3_15,header=None)\n",
    "d6_0 =pd.read_csv(D6_0,header=None)\n",
    "d6_3 =pd.read_csv(D6_3,header=None)\n",
    "d6_6 =pd.read_csv(D6_6,header=None)\n",
    "d6_9 =pd.read_csv(D6_9,header=None)\n",
    "d6_12 =pd.read_csv(D6_12,header=None)\n",
    "d6_15 =pd.read_csv(D6_15,header=None)\n",
    "d7_5_0 = pd.read_csv(D7_5_0,header=None)\n",
    "d7_5_7_5 = pd.read_csv(D7_5_7_5,header=None)\n",
    "d7_5_15 = pd.read_csv(D7_5_15,header=None)\n",
    "d9_0 =pd.read_csv(D9_0,header=None)\n",
    "d9_3 = pd.read_csv(D9_0,header=None)\n",
    "d9_6 =pd.read_csv(D9_6,header=None)\n",
    "d9_9 =pd.read_csv(D9_9,header=None)\n",
    "d9_12 =pd.read_csv(D9_12,header=None)\n",
    "d9_15 =pd.read_csv(D9_15,header=None)\n",
    "d12_0 =pd.read_csv(D12_0,header=None)\n",
    "d12_3 =pd.read_csv(D12_3,header=None)\n",
    "d12_6 =pd.read_csv(D12_6,header=None)\n",
    "d12_9 =pd.read_csv(D12_9,header=None)\n",
    "d12_12 =pd.read_csv(D12_12,header=None)\n",
    "d12_15 =pd.read_csv(D12_15,header=None)\n",
    "d15_0 = pd.read_csv(D15_0,header=None)\n",
    "d15_3 =pd.read_csv(D15_3,header=None)\n",
    "d15_6 =pd.read_csv(D15_6,header=None)\n",
    "d15_7_5 = pd.read_csv(D15_7_5,header=None)\n",
    "d15_9 =pd.read_csv(D15_9,header=None)\n",
    "d15_12 =pd.read_csv(D15_12,header=None)\n",
    "d15_15 = pd.read_csv(D15_15,header=None) #42\n",
    "\n",
    "#--------------------------\n",
    "d_0_0=pd.read_csv(D_0_0,header=None)\n",
    "d_0_7_5=pd.read_csv(D_0_7_5,header=None)\n",
    "d_0_15=changeLast(pd.read_csv(D_0_18,header=None),15)\n",
    "d_Not=pd.read_csv(D_Not,header=None)\n",
    "d_3_3=pd.read_csv(D_3_3,header=None)\n",
    "d_3_12=pd.read_csv(D_3_12,header=None)\n",
    "d_7_5_0=pd.read_csv(D_7_5_0,header=None)\n",
    "d_7_5_7_5=pd.read_csv(D_7_5_7_5,header=None)\n",
    "d_7_5_15=pd.read_csv(D_7_5_15,header=None)\n",
    "d_12_3=pd.read_csv(D_12_3,header=None)\n",
    "d_12_12=pd.read_csv(D_12_12,header=None)\n",
    "d_15_0=pd.read_csv(D_15_0,header=None)\n",
    "d_15_7_5=pd.read_csv(D_15_7_5,header=None)\n",
    "d_15_15=pd.read_csv(D_15_15,header=None) #14"
   ]
  },
  {
   "cell_type": "code",
   "execution_count": 6,
   "metadata": {
    "colab": {
     "base_uri": "https://localhost:8080/"
    },
    "id": "MpCZlsRphPHj",
    "outputId": "6175e4f3-88f4-48be-e021-21b8111ba5e9"
   },
   "outputs": [
    {
     "data": {
      "text/plain": [
       "(5000, 6)"
      ]
     },
     "execution_count": 6,
     "metadata": {},
     "output_type": "execute_result"
    }
   ],
   "source": [
    "d15_15.shape"
   ]
  },
  {
   "cell_type": "code",
   "execution_count": 7,
   "metadata": {},
   "outputs": [
    {
     "data": {
      "text/plain": [
       "(237500, 6)"
      ]
     },
     "execution_count": 7,
     "metadata": {},
     "output_type": "execute_result"
    }
   ],
   "source": [
    "datasRaw = np.concatenate([d0_0, d0_3, d0_6, d0_7_5, d0_9, d0_12, d0_15, d3_0, d3_3, d3_6, d3_9, d3_12, d3_15, d6_0, d6_3, \n",
    "                           d6_6, d6_9, d6_12, d6_15, d7_5_0, d7_5_7_5, d7_5_15, d9_0, d9_3, d9_6, d9_9, d9_12,\n",
    "                           d9_15, d12_0, d12_3, d12_6, d12_9, d12_12, d12_15, d15_0, d15_3, d15_6, d15_7_5, d15_9, \n",
    "                           d15_12, d15_15, d_0_0, d_0_7_5, d_0_15, d_3_3, d_3_12, d_7_5_0, d_7_5_7_5, d_7_5_15, \n",
    "                           d_12_3, d_12_12, d_15_0, d_15_7_5, d_15_15])\n",
    "datasRaw.shape  # 41*5000 = 205000; 13*2500 = 32500; T= 237500"
   ]
  },
  {
   "cell_type": "code",
   "execution_count": 8,
   "metadata": {
    "colab": {
     "base_uri": "https://localhost:8080/",
     "height": 204
    },
    "id": "bTh1Crq4e5Ij",
    "outputId": "f2aa92e0-d50a-458c-ab8d-a30c1c961764"
   },
   "outputs": [
    {
     "data": {
      "text/html": [
       "<div>\n",
       "<style scoped>\n",
       "    .dataframe tbody tr th:only-of-type {\n",
       "        vertical-align: middle;\n",
       "    }\n",
       "\n",
       "    .dataframe tbody tr th {\n",
       "        vertical-align: top;\n",
       "    }\n",
       "\n",
       "    .dataframe thead th {\n",
       "        text-align: right;\n",
       "    }\n",
       "</style>\n",
       "<table border=\"1\" class=\"dataframe\">\n",
       "  <thead>\n",
       "    <tr style=\"text-align: right;\">\n",
       "      <th></th>\n",
       "      <th>F0</th>\n",
       "      <th>F1</th>\n",
       "      <th>F2</th>\n",
       "      <th>F3</th>\n",
       "      <th>x</th>\n",
       "      <th>y</th>\n",
       "    </tr>\n",
       "  </thead>\n",
       "  <tbody>\n",
       "    <tr>\n",
       "      <th>0</th>\n",
       "      <td>264.8</td>\n",
       "      <td>13.0</td>\n",
       "      <td>296.2</td>\n",
       "      <td>511.6</td>\n",
       "      <td>0.0</td>\n",
       "      <td>0.0</td>\n",
       "    </tr>\n",
       "    <tr>\n",
       "      <th>1</th>\n",
       "      <td>265.0</td>\n",
       "      <td>13.0</td>\n",
       "      <td>296.4</td>\n",
       "      <td>512.2</td>\n",
       "      <td>0.0</td>\n",
       "      <td>0.0</td>\n",
       "    </tr>\n",
       "    <tr>\n",
       "      <th>2</th>\n",
       "      <td>264.8</td>\n",
       "      <td>13.0</td>\n",
       "      <td>296.4</td>\n",
       "      <td>516.4</td>\n",
       "      <td>0.0</td>\n",
       "      <td>0.0</td>\n",
       "    </tr>\n",
       "    <tr>\n",
       "      <th>3</th>\n",
       "      <td>264.8</td>\n",
       "      <td>13.0</td>\n",
       "      <td>297.0</td>\n",
       "      <td>520.8</td>\n",
       "      <td>0.0</td>\n",
       "      <td>0.0</td>\n",
       "    </tr>\n",
       "    <tr>\n",
       "      <th>4</th>\n",
       "      <td>265.4</td>\n",
       "      <td>13.0</td>\n",
       "      <td>297.0</td>\n",
       "      <td>518.6</td>\n",
       "      <td>0.0</td>\n",
       "      <td>0.0</td>\n",
       "    </tr>\n",
       "  </tbody>\n",
       "</table>\n",
       "</div>"
      ],
      "text/plain": [
       "      F0    F1     F2     F3    x    y\n",
       "0  264.8  13.0  296.2  511.6  0.0  0.0\n",
       "1  265.0  13.0  296.4  512.2  0.0  0.0\n",
       "2  264.8  13.0  296.4  516.4  0.0  0.0\n",
       "3  264.8  13.0  297.0  520.8  0.0  0.0\n",
       "4  265.4  13.0  297.0  518.6  0.0  0.0"
      ]
     },
     "execution_count": 8,
     "metadata": {},
     "output_type": "execute_result"
    }
   ],
   "source": [
    "datasFull=pd.DataFrame.from_dict(datasRaw)\n",
    "datasFull.columns=[\"F0\",\"F1\",\"F2\",\"F3\",\"x\",\"y\"]\n",
    "datasFull.head()"
   ]
  },
  {
   "cell_type": "code",
   "execution_count": 9,
   "metadata": {},
   "outputs": [],
   "source": [
    "FullDescribe=datasFull.describe()\n",
    "FullDescribe=FullDescribe.transpose()\n",
    "MeandataFull=FullDescribe['mean']\n",
    "StddataFull=FullDescribe['std']"
   ]
  },
  {
   "cell_type": "code",
   "execution_count": 10,
   "metadata": {},
   "outputs": [
    {
     "name": "stdout",
     "output_type": "stream",
     "text": [
      "Mean: F0    408.942958\n",
      "F1    138.473131\n",
      "F2    394.008856\n",
      "F3    308.599539\n",
      "x       7.500000\n",
      "y       7.436842\n",
      "Name: mean, dtype: float64\n",
      "Std: F0    106.510489\n",
      "F1    204.268260\n",
      "F2    128.503499\n",
      "F3    149.708490\n",
      "x       5.164159\n",
      "y       5.236644\n",
      "Name: std, dtype: float64\n"
     ]
    }
   ],
   "source": [
    "print(\"Mean: {}\\nStd: {}\".format(MeandataFull,StddataFull))"
   ]
  },
  {
   "cell_type": "code",
   "execution_count": 11,
   "metadata": {
    "id": "gupw2YWZgj6M"
   },
   "outputs": [],
   "source": [
    "dataTrain, dataTest = train_test_split(datasFull, test_size=0.1)\n",
    "dataTrain, dataVal = train_test_split(dataTrain, test_size=0.2)"
   ]
  },
  {
   "cell_type": "code",
   "execution_count": 12,
   "metadata": {
    "colab": {
     "base_uri": "https://localhost:8080/",
     "height": 204
    },
    "id": "kFfXmESehvpv",
    "outputId": "32a55fb9-4f76-4b33-d0e3-017154ae9cc1"
   },
   "outputs": [
    {
     "data": {
      "text/html": [
       "<div>\n",
       "<style scoped>\n",
       "    .dataframe tbody tr th:only-of-type {\n",
       "        vertical-align: middle;\n",
       "    }\n",
       "\n",
       "    .dataframe tbody tr th {\n",
       "        vertical-align: top;\n",
       "    }\n",
       "\n",
       "    .dataframe thead th {\n",
       "        text-align: right;\n",
       "    }\n",
       "</style>\n",
       "<table border=\"1\" class=\"dataframe\">\n",
       "  <thead>\n",
       "    <tr style=\"text-align: right;\">\n",
       "      <th></th>\n",
       "      <th>F0</th>\n",
       "      <th>F1</th>\n",
       "      <th>F2</th>\n",
       "      <th>F3</th>\n",
       "      <th>x</th>\n",
       "      <th>y</th>\n",
       "    </tr>\n",
       "  </thead>\n",
       "  <tbody>\n",
       "    <tr>\n",
       "      <th>177590</th>\n",
       "      <td>309.0</td>\n",
       "      <td>84.8</td>\n",
       "      <td>554.6</td>\n",
       "      <td>224.0</td>\n",
       "      <td>15.0</td>\n",
       "      <td>3.0</td>\n",
       "    </tr>\n",
       "    <tr>\n",
       "      <th>98535</th>\n",
       "      <td>329.0</td>\n",
       "      <td>20.8</td>\n",
       "      <td>643.0</td>\n",
       "      <td>729.0</td>\n",
       "      <td>7.5</td>\n",
       "      <td>0.0</td>\n",
       "    </tr>\n",
       "    <tr>\n",
       "      <th>160961</th>\n",
       "      <td>420.2</td>\n",
       "      <td>466.8</td>\n",
       "      <td>364.6</td>\n",
       "      <td>226.0</td>\n",
       "      <td>12.0</td>\n",
       "      <td>12.0</td>\n",
       "    </tr>\n",
       "    <tr>\n",
       "      <th>103663</th>\n",
       "      <td>511.0</td>\n",
       "      <td>14.8</td>\n",
       "      <td>476.0</td>\n",
       "      <td>224.0</td>\n",
       "      <td>7.5</td>\n",
       "      <td>7.5</td>\n",
       "    </tr>\n",
       "    <tr>\n",
       "      <th>197781</th>\n",
       "      <td>310.0</td>\n",
       "      <td>531.0</td>\n",
       "      <td>366.6</td>\n",
       "      <td>226.0</td>\n",
       "      <td>15.0</td>\n",
       "      <td>12.0</td>\n",
       "    </tr>\n",
       "  </tbody>\n",
       "</table>\n",
       "</div>"
      ],
      "text/plain": [
       "           F0     F1     F2     F3     x     y\n",
       "177590  309.0   84.8  554.6  224.0  15.0   3.0\n",
       "98535   329.0   20.8  643.0  729.0   7.5   0.0\n",
       "160961  420.2  466.8  364.6  226.0  12.0  12.0\n",
       "103663  511.0   14.8  476.0  224.0   7.5   7.5\n",
       "197781  310.0  531.0  366.6  226.0  15.0  12.0"
      ]
     },
     "execution_count": 12,
     "metadata": {},
     "output_type": "execute_result"
    }
   ],
   "source": [
    "dataTrain.head()"
   ]
  },
  {
   "cell_type": "code",
   "execution_count": 13,
   "metadata": {
    "id": "Q8HeW-JG5ZE2"
   },
   "outputs": [],
   "source": [
    "# Helper functions\n",
    "def normNew(x):\n",
    "    return ((x - MeandataFull) / StddataFull)\n",
    "\n",
    "def norm4(x, meanD, stdD):\n",
    "    return ((x - meanD) / stdD)\n",
    "\n",
    "def norm2(x):\n",
    "    return ((x - train_stats['mean']) / train_stats['std'])\n",
    "\n",
    "def norm3(x):\n",
    "    dataDescribe=x.describe()\n",
    "    dataDescribe=dataDescribe.transpose()\n",
    "    return ((x - dataDescribe['mean']) / dataDescribe['std'])\n",
    "\n",
    "def format_output(data):\n",
    "    data2=data\n",
    "    y1 = data2.pop('x')    \n",
    "    y2 = data2.pop('y')\n",
    "    return y1, y2\n",
    "\n",
    "def format_input(data):\n",
    "    data2=data\n",
    "    data2.pop('x')    \n",
    "    data2.pop('y')\n",
    "    return data2 \n",
    "\n",
    "def format_output2(data):\n",
    "    y1 = data.pop('x')   \n",
    "    y1=np.array(y1)\n",
    "    y2 = data.pop('y')\n",
    "    y2=np.array(y2)\n",
    "    return y1, y2\n",
    "\n",
    "def PrintMeanStd(x):\n",
    "    dataDescribe=x.describe()\n",
    "    dataDescribe=dataDescribe.transpose()\n",
    "    print(\"Mean: {}\\nStd: {}\".format(dataDescribe['mean'],dataDescribe['std']))\n",
    "    \n"
   ]
  },
  {
   "cell_type": "code",
   "execution_count": 14,
   "metadata": {},
   "outputs": [],
   "source": [
    "# Normalize the training and test data\n",
    "norm_train_X = format_input(normNew(dataTrain))\n",
    "train_Y = format_output(dataTrain)\n",
    "\n",
    "norm_test_X=format_input(normNew(dataTest))\n",
    "test_Y=format_output(dataTest)\n",
    "\n",
    "norm_val_X = format_input(normNew(dataVal))\n",
    "val_Y = format_output(dataVal)\n",
    "\n",
    "norm_train_X = np.array(norm_train_X)\n",
    "#train_Y = np.array(train_Y)\n",
    "norm_test_X = np.array(norm_test_X)\n",
    "#test_Y = np.array(test_Y)\n",
    "norm_val_X = np.array(norm_val_X)\n",
    "#val_Y = np.array(val_Y)"
   ]
  },
  {
   "cell_type": "code",
   "execution_count": 43,
   "metadata": {},
   "outputs": [
    {
     "data": {
      "text/plain": [
       "4"
      ]
     },
     "execution_count": 43,
     "metadata": {},
     "output_type": "execute_result"
    }
   ],
   "source": [
    "len(norm_train_X[1])"
   ]
  },
  {
   "cell_type": "code",
   "execution_count": 15,
   "metadata": {
    "id": "DQCRRqaf6Zy_"
   },
   "outputs": [],
   "source": [
    "def build_model():\n",
    "    # Define model layers.\n",
    "    input_layer = layers.Input(shape=(len(norm_train_X[1]),))\n",
    "    x = layers.Dense(130)(input_layer)   \n",
    "    x = layers.BatchNormalization()(x)\n",
    "    x = tf.keras.activations.relu(x)\n",
    "    \n",
    "    x = layers.Dense(130)(x)   \n",
    "    x = layers.BatchNormalization()(x)\n",
    "    x = tf.keras.activations.relu(x)    \n",
    "    \n",
    "    x = layers.Dense(130)(x)   \n",
    "    x = layers.BatchNormalization()(x)\n",
    "    x = tf.keras.activations.relu(x)  \n",
    "    \n",
    "    x = layers.Dense(130)(x)   \n",
    "    x = layers.BatchNormalization()(x)\n",
    "    x = tf.keras.activations.relu(x)    \n",
    "    \n",
    "    third_dense = layers.Dense(units='130', activation='relu')(x)\n",
    "    #third_dense=layers.Dropout(0.5)(third_dense)\n",
    "    \n",
    "    # Y1 output will be fed from the first dense\n",
    "    y1_output = layers.Dense(units='1', name='x_output')(third_dense)\n",
    "    \n",
    "    # Y2 output will be fed from the second dense\n",
    "    y2_output = layers.Dense(units='1', name='y_output')(third_dense)\n",
    "\n",
    "    # Define the model with the input layer and a list of output layers\n",
    "    model = Model(inputs=input_layer, outputs=[y1_output, y2_output])\n",
    "\n",
    "    return model"
   ]
  },
  {
   "cell_type": "code",
   "execution_count": 16,
   "metadata": {
    "id": "rkLHZkif7JGQ"
   },
   "outputs": [],
   "source": [
    "model = build_model()\n",
    "\n",
    "# Specify the optimizer, and compile the model with loss functions for both outputs\n",
    "optimizer = tf.keras.optimizers.SGD(learning_rate=0.001)\n",
    "model.compile(optimizer=optimizer,\n",
    "              loss={'x_output': 'mse', 'y_output': 'mse'},\n",
    "              metrics={'x_output': tf.keras.metrics.RootMeanSquaredError(),\n",
    "                       'y_output': tf.keras.metrics.RootMeanSquaredError()})"
   ]
  },
  {
   "cell_type": "code",
   "execution_count": 18,
   "metadata": {
    "colab": {
     "base_uri": "https://localhost:8080/",
     "height": 197
    },
    "id": "zDmxXFU77dGt",
    "outputId": "e72a7cbd-e90b-4966-ca33-21dca3794c3d"
   },
   "outputs": [
    {
     "name": "stdout",
     "output_type": "stream",
     "text": [
      "Epoch 1/1200\n",
      "5344/5344 - 93s - loss: 2.8998 - x_output_loss: 1.9341 - y_output_loss: 0.9657 - x_output_root_mean_squared_error: 1.3907 - y_output_root_mean_squared_error: 0.9827 - val_loss: 1.8757 - val_x_output_loss: 1.2966 - val_y_output_loss: 0.5791 - val_x_output_root_mean_squared_error: 1.1387 - val_y_output_root_mean_squared_error: 0.7610\n",
      "Epoch 2/1200\n"
     ]
    },
    {
     "ename": "KeyboardInterrupt",
     "evalue": "",
     "output_type": "error",
     "traceback": [
      "\u001b[1;31m---------------------------------------------------------------------------\u001b[0m",
      "\u001b[1;31mKeyboardInterrupt\u001b[0m                         Traceback (most recent call last)",
      "\u001b[1;32m<ipython-input-18-e530db1e779a>\u001b[0m in \u001b[0;36m<module>\u001b[1;34m\u001b[0m\n\u001b[0;32m      1\u001b[0m \u001b[1;31m# Train the model for 200 epochs\u001b[0m\u001b[1;33m\u001b[0m\u001b[1;33m\u001b[0m\u001b[1;33m\u001b[0m\u001b[0m\n\u001b[1;32m----> 2\u001b[1;33m history = model.fit(norm_train_X, train_Y,\n\u001b[0m\u001b[0;32m      3\u001b[0m                     epochs=1200,validation_data=(norm_test_X, test_Y), verbose=2)\n",
      "\u001b[1;32mC:\\ProgramData\\Anaconda3\\lib\\site-packages\\tensorflow\\python\\keras\\engine\\training.py\u001b[0m in \u001b[0;36mfit\u001b[1;34m(self, x, y, batch_size, epochs, verbose, callbacks, validation_split, validation_data, shuffle, class_weight, sample_weight, initial_epoch, steps_per_epoch, validation_steps, validation_batch_size, validation_freq, max_queue_size, workers, use_multiprocessing)\u001b[0m\n\u001b[0;32m   1181\u001b[0m                 _r=1):\n\u001b[0;32m   1182\u001b[0m               \u001b[0mcallbacks\u001b[0m\u001b[1;33m.\u001b[0m\u001b[0mon_train_batch_begin\u001b[0m\u001b[1;33m(\u001b[0m\u001b[0mstep\u001b[0m\u001b[1;33m)\u001b[0m\u001b[1;33m\u001b[0m\u001b[1;33m\u001b[0m\u001b[0m\n\u001b[1;32m-> 1183\u001b[1;33m               \u001b[0mtmp_logs\u001b[0m \u001b[1;33m=\u001b[0m \u001b[0mself\u001b[0m\u001b[1;33m.\u001b[0m\u001b[0mtrain_function\u001b[0m\u001b[1;33m(\u001b[0m\u001b[0miterator\u001b[0m\u001b[1;33m)\u001b[0m\u001b[1;33m\u001b[0m\u001b[1;33m\u001b[0m\u001b[0m\n\u001b[0m\u001b[0;32m   1184\u001b[0m               \u001b[1;32mif\u001b[0m \u001b[0mdata_handler\u001b[0m\u001b[1;33m.\u001b[0m\u001b[0mshould_sync\u001b[0m\u001b[1;33m:\u001b[0m\u001b[1;33m\u001b[0m\u001b[1;33m\u001b[0m\u001b[0m\n\u001b[0;32m   1185\u001b[0m                 \u001b[0mcontext\u001b[0m\u001b[1;33m.\u001b[0m\u001b[0masync_wait\u001b[0m\u001b[1;33m(\u001b[0m\u001b[1;33m)\u001b[0m\u001b[1;33m\u001b[0m\u001b[1;33m\u001b[0m\u001b[0m\n",
      "\u001b[1;32mC:\\ProgramData\\Anaconda3\\lib\\site-packages\\tensorflow\\python\\eager\\def_function.py\u001b[0m in \u001b[0;36m__call__\u001b[1;34m(self, *args, **kwds)\u001b[0m\n\u001b[0;32m    887\u001b[0m \u001b[1;33m\u001b[0m\u001b[0m\n\u001b[0;32m    888\u001b[0m       \u001b[1;32mwith\u001b[0m \u001b[0mOptionalXlaContext\u001b[0m\u001b[1;33m(\u001b[0m\u001b[0mself\u001b[0m\u001b[1;33m.\u001b[0m\u001b[0m_jit_compile\u001b[0m\u001b[1;33m)\u001b[0m\u001b[1;33m:\u001b[0m\u001b[1;33m\u001b[0m\u001b[1;33m\u001b[0m\u001b[0m\n\u001b[1;32m--> 889\u001b[1;33m         \u001b[0mresult\u001b[0m \u001b[1;33m=\u001b[0m \u001b[0mself\u001b[0m\u001b[1;33m.\u001b[0m\u001b[0m_call\u001b[0m\u001b[1;33m(\u001b[0m\u001b[1;33m*\u001b[0m\u001b[0margs\u001b[0m\u001b[1;33m,\u001b[0m \u001b[1;33m**\u001b[0m\u001b[0mkwds\u001b[0m\u001b[1;33m)\u001b[0m\u001b[1;33m\u001b[0m\u001b[1;33m\u001b[0m\u001b[0m\n\u001b[0m\u001b[0;32m    890\u001b[0m \u001b[1;33m\u001b[0m\u001b[0m\n\u001b[0;32m    891\u001b[0m       \u001b[0mnew_tracing_count\u001b[0m \u001b[1;33m=\u001b[0m \u001b[0mself\u001b[0m\u001b[1;33m.\u001b[0m\u001b[0mexperimental_get_tracing_count\u001b[0m\u001b[1;33m(\u001b[0m\u001b[1;33m)\u001b[0m\u001b[1;33m\u001b[0m\u001b[1;33m\u001b[0m\u001b[0m\n",
      "\u001b[1;32mC:\\ProgramData\\Anaconda3\\lib\\site-packages\\tensorflow\\python\\eager\\def_function.py\u001b[0m in \u001b[0;36m_call\u001b[1;34m(self, *args, **kwds)\u001b[0m\n\u001b[0;32m    915\u001b[0m       \u001b[1;31m# In this case we have created variables on the first call, so we run the\u001b[0m\u001b[1;33m\u001b[0m\u001b[1;33m\u001b[0m\u001b[1;33m\u001b[0m\u001b[0m\n\u001b[0;32m    916\u001b[0m       \u001b[1;31m# defunned version which is guaranteed to never create variables.\u001b[0m\u001b[1;33m\u001b[0m\u001b[1;33m\u001b[0m\u001b[1;33m\u001b[0m\u001b[0m\n\u001b[1;32m--> 917\u001b[1;33m       \u001b[1;32mreturn\u001b[0m \u001b[0mself\u001b[0m\u001b[1;33m.\u001b[0m\u001b[0m_stateless_fn\u001b[0m\u001b[1;33m(\u001b[0m\u001b[1;33m*\u001b[0m\u001b[0margs\u001b[0m\u001b[1;33m,\u001b[0m \u001b[1;33m**\u001b[0m\u001b[0mkwds\u001b[0m\u001b[1;33m)\u001b[0m  \u001b[1;31m# pylint: disable=not-callable\u001b[0m\u001b[1;33m\u001b[0m\u001b[1;33m\u001b[0m\u001b[0m\n\u001b[0m\u001b[0;32m    918\u001b[0m     \u001b[1;32melif\u001b[0m \u001b[0mself\u001b[0m\u001b[1;33m.\u001b[0m\u001b[0m_stateful_fn\u001b[0m \u001b[1;32mis\u001b[0m \u001b[1;32mnot\u001b[0m \u001b[1;32mNone\u001b[0m\u001b[1;33m:\u001b[0m\u001b[1;33m\u001b[0m\u001b[1;33m\u001b[0m\u001b[0m\n\u001b[0;32m    919\u001b[0m       \u001b[1;31m# Release the lock early so that multiple threads can perform the call\u001b[0m\u001b[1;33m\u001b[0m\u001b[1;33m\u001b[0m\u001b[1;33m\u001b[0m\u001b[0m\n",
      "\u001b[1;32mC:\\ProgramData\\Anaconda3\\lib\\site-packages\\tensorflow\\python\\eager\\function.py\u001b[0m in \u001b[0;36m__call__\u001b[1;34m(self, *args, **kwargs)\u001b[0m\n\u001b[0;32m   3021\u001b[0m       (graph_function,\n\u001b[0;32m   3022\u001b[0m        filtered_flat_args) = self._maybe_define_function(args, kwargs)\n\u001b[1;32m-> 3023\u001b[1;33m     return graph_function._call_flat(\n\u001b[0m\u001b[0;32m   3024\u001b[0m         filtered_flat_args, captured_inputs=graph_function.captured_inputs)  # pylint: disable=protected-access\n\u001b[0;32m   3025\u001b[0m \u001b[1;33m\u001b[0m\u001b[0m\n",
      "\u001b[1;32mC:\\ProgramData\\Anaconda3\\lib\\site-packages\\tensorflow\\python\\eager\\function.py\u001b[0m in \u001b[0;36m_call_flat\u001b[1;34m(self, args, captured_inputs, cancellation_manager)\u001b[0m\n\u001b[0;32m   1958\u001b[0m         and executing_eagerly):\n\u001b[0;32m   1959\u001b[0m       \u001b[1;31m# No tape is watching; skip to running the function.\u001b[0m\u001b[1;33m\u001b[0m\u001b[1;33m\u001b[0m\u001b[1;33m\u001b[0m\u001b[0m\n\u001b[1;32m-> 1960\u001b[1;33m       return self._build_call_outputs(self._inference_function.call(\n\u001b[0m\u001b[0;32m   1961\u001b[0m           ctx, args, cancellation_manager=cancellation_manager))\n\u001b[0;32m   1962\u001b[0m     forward_backward = self._select_forward_and_backward_functions(\n",
      "\u001b[1;32mC:\\ProgramData\\Anaconda3\\lib\\site-packages\\tensorflow\\python\\eager\\function.py\u001b[0m in \u001b[0;36mcall\u001b[1;34m(self, ctx, args, cancellation_manager)\u001b[0m\n\u001b[0;32m    589\u001b[0m       \u001b[1;32mwith\u001b[0m \u001b[0m_InterpolateFunctionError\u001b[0m\u001b[1;33m(\u001b[0m\u001b[0mself\u001b[0m\u001b[1;33m)\u001b[0m\u001b[1;33m:\u001b[0m\u001b[1;33m\u001b[0m\u001b[1;33m\u001b[0m\u001b[0m\n\u001b[0;32m    590\u001b[0m         \u001b[1;32mif\u001b[0m \u001b[0mcancellation_manager\u001b[0m \u001b[1;32mis\u001b[0m \u001b[1;32mNone\u001b[0m\u001b[1;33m:\u001b[0m\u001b[1;33m\u001b[0m\u001b[1;33m\u001b[0m\u001b[0m\n\u001b[1;32m--> 591\u001b[1;33m           outputs = execute.execute(\n\u001b[0m\u001b[0;32m    592\u001b[0m               \u001b[0mstr\u001b[0m\u001b[1;33m(\u001b[0m\u001b[0mself\u001b[0m\u001b[1;33m.\u001b[0m\u001b[0msignature\u001b[0m\u001b[1;33m.\u001b[0m\u001b[0mname\u001b[0m\u001b[1;33m)\u001b[0m\u001b[1;33m,\u001b[0m\u001b[1;33m\u001b[0m\u001b[1;33m\u001b[0m\u001b[0m\n\u001b[0;32m    593\u001b[0m               \u001b[0mnum_outputs\u001b[0m\u001b[1;33m=\u001b[0m\u001b[0mself\u001b[0m\u001b[1;33m.\u001b[0m\u001b[0m_num_outputs\u001b[0m\u001b[1;33m,\u001b[0m\u001b[1;33m\u001b[0m\u001b[1;33m\u001b[0m\u001b[0m\n",
      "\u001b[1;32mC:\\ProgramData\\Anaconda3\\lib\\site-packages\\tensorflow\\python\\eager\\execute.py\u001b[0m in \u001b[0;36mquick_execute\u001b[1;34m(op_name, num_outputs, inputs, attrs, ctx, name)\u001b[0m\n\u001b[0;32m     57\u001b[0m   \u001b[1;32mtry\u001b[0m\u001b[1;33m:\u001b[0m\u001b[1;33m\u001b[0m\u001b[1;33m\u001b[0m\u001b[0m\n\u001b[0;32m     58\u001b[0m     \u001b[0mctx\u001b[0m\u001b[1;33m.\u001b[0m\u001b[0mensure_initialized\u001b[0m\u001b[1;33m(\u001b[0m\u001b[1;33m)\u001b[0m\u001b[1;33m\u001b[0m\u001b[1;33m\u001b[0m\u001b[0m\n\u001b[1;32m---> 59\u001b[1;33m     tensors = pywrap_tfe.TFE_Py_Execute(ctx._handle, device_name, op_name,\n\u001b[0m\u001b[0;32m     60\u001b[0m                                         inputs, attrs, num_outputs)\n\u001b[0;32m     61\u001b[0m   \u001b[1;32mexcept\u001b[0m \u001b[0mcore\u001b[0m\u001b[1;33m.\u001b[0m\u001b[0m_NotOkStatusException\u001b[0m \u001b[1;32mas\u001b[0m \u001b[0me\u001b[0m\u001b[1;33m:\u001b[0m\u001b[1;33m\u001b[0m\u001b[1;33m\u001b[0m\u001b[0m\n",
      "\u001b[1;31mKeyboardInterrupt\u001b[0m: "
     ]
    }
   ],
   "source": [
    "# Train the model for 200 epochs\n",
    "history = model.fit(norm_train_X, train_Y,\n",
    "                    epochs=1200,validation_data=(norm_test_X, test_Y), verbose=2)"
   ]
  },
  {
   "cell_type": "code",
   "execution_count": 82,
   "metadata": {
    "colab": {
     "base_uri": "https://localhost:8080/"
    },
    "id": "AbI9079mGMEV",
    "outputId": "b5d12586-2f55-4bb3-8cf8-239330bc4f1e"
   },
   "outputs": [
    {
     "name": "stdout",
     "output_type": "stream",
     "text": [
      "254/254 [==============================] - 2s 6ms/step - loss: 0.0728 - x_output_loss: 0.0226 - y_output_loss: 0.0502 - x_output_root_mean_squared_error: 0.1505 - y_output_root_mean_squared_error: 0.2240\n",
      "\n",
      "loss: 0.07282107323408127\n",
      "x_loss: 0.022636855021119118\n",
      "y_loss: 0.0501842238008976\n",
      "x_rmse: 0.15045548975467682\n",
      "y_rmse: 0.22401835024356842\n"
     ]
    }
   ],
   "source": [
    "# Test the model and print loss and rmse for both outputs\n",
    "loss, Y1_loss, Y2_loss, Y1_rmse, Y2_rmse = model.evaluate(x=norm_val_X, y=val_Y)\n",
    "\n",
    "print()\n",
    "print(f'loss: {loss}')\n",
    "print(f'x_loss: {Y1_loss}')\n",
    "print(f'y_loss: {Y2_loss}')\n",
    "print(f'x_rmse: {Y1_rmse}')\n",
    "print(f'y_rmse: {Y2_rmse}')"
   ]
  },
  {
   "cell_type": "code",
   "execution_count": 83,
   "metadata": {
    "id": "V9DhGCX4GQae"
   },
   "outputs": [],
   "source": [
    "def plot_diff(y_true, y_pred, title=''):\n",
    "    plt.scatter(y_true, y_pred)\n",
    "    plt.title(title)\n",
    "    plt.xlabel('True Values')\n",
    "    plt.ylabel('Predictions')\n",
    "    plt.axis('equal')\n",
    "    plt.axis('square')\n",
    "    plt.xlim(plt.xlim())\n",
    "    plt.ylim(plt.ylim())\n",
    "    plt.plot([-100, 100], [-100, 100])\n",
    "    plt.show()\n",
    "\n",
    "\n",
    "def plot_metrics(metric_name, title, ylim=5):\n",
    "    plt.title(title)\n",
    "    plt.ylim(0, ylim)\n",
    "    plt.plot(history.history[metric_name], color='blue', label=metric_name)\n",
    "    plt.plot(history.history['val_' + metric_name], color='green', label='val_' + metric_name)\n",
    "    plt.show()"
   ]
  },
  {
   "cell_type": "code",
   "execution_count": 84,
   "metadata": {
    "colab": {
     "base_uri": "https://localhost:8080/",
     "height": 573
    },
    "id": "0EbyNOEXGeQf",
    "outputId": "b66ac9a8-5910-43e2-c298-bd1af1b93c6a"
   },
   "outputs": [
    {
     "data": {
      "image/png": "[encoded data removed]",
      "text/plain": [
       "<Figure size 432x288 with 1 Axes>"
      ]
     },
     "metadata": {
      "needs_background": "light"
     },
     "output_type": "display_data"
    },
    {
     "data": {
      "image/png": "[encoded data removed]",
      "text/plain": [
       "<Figure size 432x288 with 1 Axes>"
      ]
     },
     "metadata": {
      "needs_background": "light"
     },
     "output_type": "display_data"
    }
   ],
   "source": [
    "# Run predict\n",
    "Y_pred = model.predict(norm_test_X)\n",
    "price_pred = Y_pred[0]\n",
    "ptratio_pred = Y_pred[1]\n",
    "\n",
    "plot_diff(test_Y[0], Y_pred[0], title='x')\n",
    "plot_diff(test_Y[1], Y_pred[1], title='y')"
   ]
  },
  {
   "cell_type": "code",
   "execution_count": 85,
   "metadata": {
    "colab": {
     "base_uri": "https://localhost:8080/",
     "height": 545
    },
    "id": "58QqA0C4Gk7d",
    "outputId": "4875ab5f-a185-4367-8dd5-e89de199bad5"
   },
   "outputs": [
    {
     "data": {
      "image/png": "[encoded data removed]",
      "text/plain": [
       "<Figure size 432x288 with 1 Axes>"
      ]
     },
     "metadata": {
      "needs_background": "light"
     },
     "output_type": "display_data"
    },
    {
     "data": {
      "image/png": "[encoded data removed]",
      "text/plain": [
       "<Figure size 432x288 with 1 Axes>"
      ]
     },
     "metadata": {
      "needs_background": "light"
     },
     "output_type": "display_data"
    }
   ],
   "source": [
    "# Plot RMSE\n",
    "plot_metrics(metric_name='x_output_root_mean_squared_error', title='x RMSE', ylim=1)\n",
    "plot_metrics(metric_name='y_output_root_mean_squared_error', title='y RMSE', ylim=1)"
   ]
  },
  {
   "cell_type": "code",
   "execution_count": 86,
   "metadata": {
    "colab": {
     "base_uri": "https://localhost:8080/"
    },
    "id": "V18I4VyhHAL1",
    "outputId": "543b2a99-e234-4aa0-a848-8d7337840f93"
   },
   "outputs": [
    {
     "name": "stdout",
     "output_type": "stream",
     "text": [
      "INFO:tensorflow:Assets written to: ./xyForcePlate6/assets\n"
     ]
    }
   ],
   "source": [
    "# Save model\n",
    "model.save('./xyForcePlate6/', save_format='tf')"
   ]
  },
  {
   "cell_type": "code",
   "execution_count": 87,
   "metadata": {
    "id": "5QTOLsAJHAVy"
   },
   "outputs": [],
   "source": [
    "# Restore model\n",
    "loaded_model = tf.keras.models.load_model('./xyForcePlate6/')"
   ]
  },
  {
   "cell_type": "code",
   "execution_count": 43,
   "metadata": {},
   "outputs": [
    {
     "data": {
      "text/plain": [
       "(40000, 4)"
      ]
     },
     "execution_count": 43,
     "metadata": {},
     "output_type": "execute_result"
    }
   ],
   "source": [
    "dataVal.iloc[:,:4].shape"
   ]
  },
  {
   "cell_type": "code",
   "execution_count": 44,
   "metadata": {
    "id": "ptcyn1KOHHtD"
   },
   "outputs": [],
   "source": [
    "# Run predict with restored model\n",
    "predictions = loaded_model.predict(dataVal.iloc[:,:4])\n",
    "x_pred = predictions[0]\n",
    "y_pred = predictions[1]"
   ]
  },
  {
   "cell_type": "code",
   "execution_count": 57,
   "metadata": {},
   "outputs": [
    {
     "data": {
      "text/plain": [
       "(50000, 4)"
      ]
     },
     "execution_count": 57,
     "metadata": {},
     "output_type": "execute_result"
    }
   ],
   "source": [
    "norm_test_X.shape"
   ]
  },
  {
   "cell_type": "code",
   "execution_count": 53,
   "metadata": {},
   "outputs": [
    {
     "data": {
      "text/plain": [
       "array([ 1.02478891, -0.37257721,  0.63687956,  0.94191688])"
      ]
     },
     "execution_count": 53,
     "metadata": {},
     "output_type": "execute_result"
    }
   ],
   "source": [
    "norm_test_X[0]"
   ]
  },
  {
   "cell_type": "code",
   "execution_count": 46,
   "metadata": {
    "colab": {
     "base_uri": "https://localhost:8080/"
    },
    "id": "PA340DixH6MS",
    "outputId": "9387bfbe-d014-4e16-ce03-04764bd07e8a"
   },
   "outputs": [
    {
     "name": "stdout",
     "output_type": "stream",
     "text": [
      "[[ -42.01431 ]\n",
      " [  29.233204]\n",
      " [-194.94339 ]\n",
      " ...\n",
      " [ -59.731293]\n",
      " [  11.876278]\n",
      " [ -15.666477]]\n"
     ]
    }
   ],
   "source": [
    "print(x_pred)"
   ]
  },
  {
   "cell_type": "code",
   "execution_count": 47,
   "metadata": {
    "colab": {
     "base_uri": "https://localhost:8080/"
    },
    "id": "EM4Wj7XWKOy4",
    "outputId": "bda68532-38ac-40da-8dcc-a5359a2aa9de"
   },
   "outputs": [
    {
     "name": "stdout",
     "output_type": "stream",
     "text": [
      "         F0   F1   F2   F3\n",
      "68708   380  249  330  524\n",
      "99414   329  254  364  461\n",
      "149362  268  300  304  567\n",
      "221717  336  330  330  525\n",
      "96658   317  249  359  455\n",
      "...     ...  ...  ...  ...\n",
      "80692   389  228  367  519\n",
      "39978   286  292  301  486\n",
      "155390  343  247  330  520\n",
      "188289  392  372  357  533\n",
      "219339  404  277  326  510\n",
      "\n",
      "[40000 rows x 4 columns]\n"
     ]
    }
   ],
   "source": [
    "print(dataVal.iloc[:,:4])"
   ]
  },
  {
   "cell_type": "markdown",
   "metadata": {
    "id": "vIcHHeA25TfL"
   },
   "source": [
    "################################################################################"
   ]
  }
 ],
 "metadata": {
  "colab": {
   "collapsed_sections": [],
   "name": "ForcePlatePosition.ipynb",
   "provenance": []
  },
  "kernelspec": {
   "display_name": "Python 3",
   "language": "python",
   "name": "python3"
  },
  "language_info": {
   "codemirror_mode": {
    "name": "ipython",
    "version": 3
   },
   "file_extension": ".py",
   "mimetype": "text/x-python",
   "name": "python",
   "nbconvert_exporter": "python",
   "pygments_lexer": "ipython3",
   "version": "3.8.3"
  }
 },
 "nbformat": 4,
 "nbformat_minor": 1
}
