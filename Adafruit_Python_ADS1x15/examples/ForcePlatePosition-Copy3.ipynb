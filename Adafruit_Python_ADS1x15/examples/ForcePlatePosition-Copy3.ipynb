{
 "cells": [
  {
   "cell_type": "code",
   "execution_count": 1,
   "metadata": {
    "id": "YSbPCMnvDnQV"
   },
   "outputs": [],
   "source": [
    "# Importing the libraries\n",
    "import pandas as pd\n",
    "import numpy as np\n",
    "import matplotlib.pyplot as plt\n",
    "\n",
    "#from google.colab import files\n",
    "#uploaded = files.upload()\n",
    "\n",
    "DNot ='posNewTouchedData/-1,-1.csv'\n",
    "D0_0 = 'posNewTouchedData/0,0.csv'\n",
    "D0_3 = 'posNewTouchedData/0,3.csv'\n",
    "D0_6 = 'posNewTouchedData/0,6.csv'\n",
    "D0_7_5 = 'posNewTouchedData/0,7.5.csv'\n",
    "D0_9 = 'posNewTouchedData/0,9.csv'\n",
    "D0_12 = 'posNewTouchedData/0,12.csv'\n",
    "D0_15 ='posNewTouchedData/0,15.csv'\n",
    "D3_0 ='posNewTouchedData/3,0.csv'\n",
    "D3_3 ='posNewTouchedData/3,3.csv'\n",
    "D3_6 ='posNewTouchedData/3,6.csv'\n",
    "D3_9 ='posNewTouchedData/3,9.csv'\n",
    "D3_12 ='posNewTouchedData/3,12.csv'\n",
    "D3_15 ='posNewTouchedData/3,15.csv'\n",
    "D6_0 ='posNewTouchedData/6,0.csv'\n",
    "D6_3 ='posNewTouchedData/6,3.csv'\n",
    "D6_6 ='posNewTouchedData/6,6.csv'\n",
    "D6_9 ='posNewTouchedData/6,9.csv'\n",
    "D6_12 ='posNewTouchedData/6,12.csv'\n",
    "D6_15 ='posNewTouchedData/6,15.csv'\n",
    "D7_5_0 ='posNewTouchedData/7.5,0.csv'\n",
    "D7_5_7_5 ='posNewTouchedData/7.5,7.5.csv'\n",
    "D7_5_15 ='posNewTouchedData/7.5,15.csv'\n",
    "D9_0 ='posNewTouchedData/9,0.csv'\n",
    "D9_3 ='posNewTouchedData/9,3.csv'\n",
    "D9_6 ='posNewTouchedData/9,6.csv'\n",
    "D9_9 ='posNewTouchedData/9,9.csv'\n",
    "D9_12 ='posNewTouchedData/9,12.csv'\n",
    "D9_15 ='posNewTouchedData/9,15.csv'\n",
    "D12_0 ='posNewTouchedData/12,0.csv'\n",
    "D12_3 ='posNewTouchedData/12,3.csv'\n",
    "D12_6 ='posNewTouchedData/12,6.csv'\n",
    "D12_9 ='posNewTouchedData/12,9.csv'\n",
    "D12_12 ='posNewTouchedData/12,12.csv'\n",
    "D12_15 ='posNewTouchedData/12,15.csv'\n",
    "D15_0 ='posNewTouchedData/15,0.csv'\n",
    "D15_3 ='posNewTouchedData/15,3.csv'\n",
    "D15_6 ='posNewTouchedData/15,6.csv'\n",
    "D15_7_5 = 'posNewTouchedData/15,7.5.csv'\n",
    "D15_9 ='posNewTouchedData/15,9.csv'\n",
    "D15_12 ='posNewTouchedData/15,12.csv'\n",
    "D15_15 = 'posNewTouchedData/15,15.csv'\n",
    "\n",
    "#--------------------------\n",
    "D_0_0='posNewTouchData2/0,0.csv'\n",
    "D_0_7_5='posNewTouchData2/0,7.5.csv'\n",
    "D_0_18='posNewTouchData2/0,18.csv'\n",
    "D_Not='posNewTouchData2/-1,-1.csv'\n",
    "D_3_3='posNewTouchData2/3,3.csv'\n",
    "D_3_12='posNewTouchData2/3,12.csv'\n",
    "D_7_5_0='posNewTouchData2/7.5,0.csv'\n",
    "D_7_5_7_5='posNewTouchData2/7.5,7.5.csv'\n",
    "D_7_5_15='posNewTouchData2/7.5,15.csv'\n",
    "D_12_3='posNewTouchData2/12,3.csv'\n",
    "D_12_12='posNewTouchData2/12,12.csv'\n",
    "D_15_0='posNewTouchData2/15,0.csv'\n",
    "D_15_7_5='posNewTouchData2/15,7.5.csv'\n",
    "D_15_15='posNewTouchData2/15,15.csv'\n",
    "\n",
    "\n",
    "# 51 datasets\n",
    "\n",
    "#df1 = pd.read_csv(url)\n",
    "\n",
    "# Importing the Boston Housing dataset\n",
    "#from sklearn.datasets import load_boston"
   ]
  },
  {
   "cell_type": "code",
   "execution_count": 2,
   "metadata": {},
   "outputs": [
    {
     "name": "stdout",
     "output_type": "stream",
     "text": [
      "2 Physical GPUs, 1 Logical GPUs\n"
     ]
    },
    {
     "data": {
      "text/plain": [
       "[PhysicalDevice(name='/physical_device:CPU:0', device_type='CPU'),\n",
       " PhysicalDevice(name='/physical_device:GPU:0', device_type='GPU')]"
      ]
     },
     "execution_count": 2,
     "metadata": {},
     "output_type": "execute_result"
    }
   ],
   "source": [
    "import tensorflow as tf\n",
    "from tensorflow.keras.models import Model\n",
    "from tensorflow.keras import layers\n",
    "from sklearn.model_selection import train_test_split\n",
    "\n",
    "gpus = tf.config.experimental.list_physical_devices()\n",
    "if gpus:\n",
    "    try:\n",
    "        # Currently, memory growth needs to be the same across GPUs\n",
    "        #for gpu in gpus:\n",
    "        #    tf.config.experimental.set_memory_growth(gpu, True)\n",
    "        #logical_gpus = tf.config.experimental.list_logical_devices('GPU')\n",
    "        \n",
    "        #tf_config = tf.compat.v1.ConfigProto(allow_soft_placement=False)\n",
    "        #tf_config.gpu_options.allow_growth = True\n",
    "        #s = tf.compat.v1.Session(config=tf_config)\n",
    "        \n",
    "        #tf.compat.v1.keras.backend.set_session(s)\n",
    "        \n",
    "        logical_gpus = tf.config.list_physical_devices('GPU')\n",
    "        \n",
    "        print(len(gpus), \"Physical GPUs,\", len(logical_gpus), \"Logical GPUs\")\n",
    "        tf.config.experimental.set_memory_growth(gpus[1], True)\n",
    "        #tf.debugging.set_log_device_placement(True)\n",
    "    except RuntimeError as e:\n",
    "        # Memory growth must be set before GPUs have been initialized\n",
    "        print(e)\n",
    "gpus"
   ]
  },
  {
   "cell_type": "code",
   "execution_count": 3,
   "metadata": {},
   "outputs": [],
   "source": [
    "def ChangetoMean(x, numD):\n",
    "    NumDiv = numD\n",
    "    d0_7_5Mean = np.empty((int(x.shape[0]/NumDiv),x.shape[1]))\n",
    "    for i in range(int(x.shape[0]/NumDiv)):\n",
    "        d0_7_5Mean[i,:] = np.mean(x.iloc[i*NumDiv:i*NumDiv+NumDiv,:],axis=0)\n",
    "    return d0_7_5Mean"
   ]
  },
  {
   "cell_type": "code",
   "execution_count": 7,
   "metadata": {},
   "outputs": [],
   "source": [
    "def lengthNew(x):\n",
    "    return np.sqrt(np.sum(np.power(x,2),axis=1))"
   ]
  },
  {
   "cell_type": "code",
   "execution_count": 66,
   "metadata": {},
   "outputs": [],
   "source": [
    "def pressForce(x):    \n",
    "    x.iloc[:,:4] = x.iloc[:,:4]-np.array(MeanNot[:4]).reshape(1,4)\n",
    "    #valR = x.iloc[:,:4]-np.array(MeanNot[:4]).reshape(1,4)\n",
    "    force = lengthNew(x.iloc[:,:4])\n",
    "    #force = lengthNew(valR)\n",
    "    x['Fdist']=force\n",
    "    return x"
   ]
  },
  {
   "cell_type": "code",
   "execution_count": 67,
   "metadata": {},
   "outputs": [],
   "source": [
    "def ratioSxSy(x):\n",
    "    x=pressForce(x)\n",
    "    Sxnum=-(1/x[x.columns[0]])+(1/x[x.columns[1]])+(1/x[x.columns[2]])-(1/x[x.columns[3]])    \n",
    "    Synum=-(1/x[x.columns[0]])-(1/x[x.columns[1]])+(1/x[x.columns[2]])+(1/x[x.columns[3]])\n",
    "    Sden=(1/x[x.columns[0]])+(1/x[x.columns[1]])+(1/x[x.columns[2]])+(1/x[x.columns[3]])\n",
    "    x['Sx'] = Sxnum/Sden\n",
    "    x['Sy'] = Synum/Sden\n",
    "    return x"
   ]
  },
  {
   "cell_type": "code",
   "execution_count": 14,
   "metadata": {},
   "outputs": [],
   "source": [
    "def changeLast(x,num):\n",
    "    #x.pop(x.columns[5])\n",
    "    x[x.columns[5]]=num\n",
    "    return x"
   ]
  },
  {
   "cell_type": "code",
   "execution_count": 68,
   "metadata": {},
   "outputs": [
    {
     "name": "stdout",
     "output_type": "stream",
     "text": [
      "MeanNot:\n",
      "0    326.27320\n",
      "1     12.01916\n",
      "2    310.34624\n",
      "3    222.99996\n",
      "4     -1.00000\n",
      "5     -1.00000\n",
      "Name: mean, dtype: float64\n",
      "StdNot:\n",
      "0    1.869022\n",
      "1    0.065679\n",
      "2    2.266601\n",
      "3    0.002828\n",
      "4    0.000000\n",
      "5    0.000000\n",
      "Name: std, dtype: float64\n"
     ]
    }
   ],
   "source": [
    "#dNot = pd.read_csv(DNot,header=None)\n",
    "d_Not = pd.read_csv(D_Not,header=None)\n",
    "#dataNot=pd.DataFrame.from_dict(dNot)\n",
    "dataNot=pd.DataFrame.from_dict(d_Not)\n",
    "NotDescribe=dataNot.describe()\n",
    "NotDescribe=NotDescribe.transpose()\n",
    "MeanNot=NotDescribe['mean']\n",
    "StdNot=NotDescribe['std']\n",
    "print(\"MeanNot:\\n{}\\nStdNot:\\n{}\".format(MeanNot,StdNot))"
   ]
  },
  {
   "cell_type": "code",
   "execution_count": 69,
   "metadata": {
    "id": "Ab8q_tVIcsPM"
   },
   "outputs": [],
   "source": [
    "d0_0 = ratioSxSy(pd.read_csv(D0_0,header=None))\n",
    "d0_3 = ratioSxSy(pd.read_csv(D0_3,header=None))\n",
    "d0_6 = ratioSxSy(pd.read_csv(D0_6,header=None))\n",
    "d0_7_5 = ChangetoMean(ratioSxSy(pd.read_csv(D0_7_5,header=None)), 5)\n",
    "d0_9 = ratioSxSy(pd.read_csv(D0_9,header=None))\n",
    "d0_12 = ratioSxSy(pd.read_csv(D0_12,header=None))\n",
    "d0_15 = ratioSxSy(pd.read_csv(D0_15,header=None))\n",
    "d3_0 = ratioSxSy(pd.read_csv(D3_0,header=None))\n",
    "d3_3 = ratioSxSy(pd.read_csv(D3_3,header=None))\n",
    "d3_6 =ratioSxSy(pd.read_csv(D3_6,header=None))\n",
    "d3_9 = ratioSxSy(pd.read_csv(D3_9,header=None))\n",
    "d3_12 = ratioSxSy(pd.read_csv(D3_12,header=None))\n",
    "d3_15 = ratioSxSy(pd.read_csv(D3_15,header=None))\n",
    "d6_0 = ratioSxSy(pd.read_csv(D6_0,header=None))\n",
    "d6_3 = ratioSxSy(pd.read_csv(D6_3,header=None))\n",
    "d6_6 = ratioSxSy(pd.read_csv(D6_6,header=None))\n",
    "d6_9 = ratioSxSy(pd.read_csv(D6_9,header=None))\n",
    "d6_12 = ratioSxSy(pd.read_csv(D6_12,header=None))\n",
    "d6_15 = ratioSxSy(pd.read_csv(D6_15,header=None))\n",
    "d7_5_0 = ratioSxSy(pd.read_csv(D7_5_0,header=None))\n",
    "d7_5_7_5 = ratioSxSy(pd.read_csv(D7_5_7_5,header=None))\n",
    "d7_5_15 = ratioSxSy(pd.read_csv(D7_5_15,header=None))\n",
    "d9_0 = ratioSxSy(pd.read_csv(D9_0,header=None))\n",
    "d9_3 = ratioSxSy(pd.read_csv(D9_0,header=None))\n",
    "d9_6 = ratioSxSy(pd.read_csv(D9_6,header=None))\n",
    "d9_9 = ratioSxSy(pd.read_csv(D9_9,header=None))\n",
    "d9_12 = ratioSxSy(pd.read_csv(D9_12,header=None))\n",
    "d9_15 = ratioSxSy(pd.read_csv(D9_15,header=None))\n",
    "d12_0 = ratioSxSy(pd.read_csv(D12_0,header=None))\n",
    "d12_3 = ratioSxSy(pd.read_csv(D12_3,header=None))\n",
    "d12_6 = ratioSxSy(pd.read_csv(D12_6,header=None))\n",
    "d12_9 = ratioSxSy(pd.read_csv(D12_9,header=None))\n",
    "d12_12 = ratioSxSy(pd.read_csv(D12_12,header=None))\n",
    "d12_15 = ratioSxSy(pd.read_csv(D12_15,header=None))\n",
    "d15_0 = ratioSxSy(pd.read_csv(D15_0,header=None))\n",
    "d15_3 = ratioSxSy(pd.read_csv(D15_3,header=None))\n",
    "d15_6 = ratioSxSy(pd.read_csv(D15_6,header=None))\n",
    "d15_7_5 = ratioSxSy(pd.read_csv(D15_7_5,header=None))\n",
    "d15_9 = ratioSxSy(pd.read_csv(D15_9,header=None))\n",
    "d15_12 = ratioSxSy(pd.read_csv(D15_12,header=None))\n",
    "d15_15 = ratioSxSy(pd.read_csv(D15_15,header=None)) #42\n",
    "\n",
    "#--------------------------\n",
    "d_0_0 = ratioSxSy(pd.read_csv(D_0_0,header=None))\n",
    "d_0_7_5 = ratioSxSy(pd.read_csv(D_0_7_5,header=None))\n",
    "d_0_15 = ratioSxSy(changeLast(pd.read_csv(D_0_18,header=None),15))\n",
    "d_3_3 = ratioSxSy(pd.read_csv(D_3_3,header=None))\n",
    "d_3_12 = ratioSxSy(pd.read_csv(D_3_12,header=None))\n",
    "d_7_5_0 = ratioSxSy(pd.read_csv(D_7_5_0,header=None))\n",
    "d_7_5_7_5 = ratioSxSy(pd.read_csv(D_7_5_7_5,header=None))\n",
    "d_7_5_15 = ratioSxSy(pd.read_csv(D_7_5_15,header=None))\n",
    "d_12_3 = ratioSxSy(pd.read_csv(D_12_3,header=None))\n",
    "d_12_12 = ratioSxSy(pd.read_csv(D_12_12,header=None))\n",
    "d_15_0 = ratioSxSy(pd.read_csv(D_15_0,header=None))\n",
    "d_15_7_5 = ratioSxSy(pd.read_csv(D_15_7_5,header=None))\n",
    "d_15_15 = ratioSxSy(pd.read_csv(D_15_15,header=None)) #14"
   ]
  },
  {
   "cell_type": "code",
   "execution_count": 70,
   "metadata": {},
   "outputs": [
    {
     "data": {
      "text/plain": [
       "(237500, 9)"
      ]
     },
     "execution_count": 70,
     "metadata": {},
     "output_type": "execute_result"
    }
   ],
   "source": [
    "datasRaw = np.concatenate([d0_0, d0_3, d0_6, d0_7_5, d0_9, d0_12, d0_15, d3_0, d3_3, d3_6, d3_9, d3_12, d3_15, d6_0, d6_3, \n",
    "                           d6_6, d6_9, d6_12, d6_15, d7_5_0, d7_5_7_5, d7_5_15, d9_0, d9_3, d9_6, d9_9, d9_12,\n",
    "                           d9_15, d12_0, d12_3, d12_6, d12_9, d12_12, d12_15, d15_0, d15_3, d15_6, d15_7_5, d15_9, \n",
    "                           d15_12, d15_15, d_0_0, d_0_7_5, d_0_15, d_3_3, d_3_12, d_7_5_0, d_7_5_7_5, d_7_5_15, \n",
    "                           d_12_3, d_12_12, d_15_0, d_15_7_5, d_15_15])\n",
    "datasRaw.shape  # 41*5000 = 205000; 13*2500 = 32500; T= 237500"
   ]
  },
  {
   "cell_type": "code",
   "execution_count": 71,
   "metadata": {
    "colab": {
     "base_uri": "https://localhost:8080/",
     "height": 204
    },
    "id": "bTh1Crq4e5Ij",
    "outputId": "f2aa92e0-d50a-458c-ab8d-a30c1c961764"
   },
   "outputs": [
    {
     "data": {
      "text/html": [
       "<div>\n",
       "<style scoped>\n",
       "    .dataframe tbody tr th:only-of-type {\n",
       "        vertical-align: middle;\n",
       "    }\n",
       "\n",
       "    .dataframe tbody tr th {\n",
       "        vertical-align: top;\n",
       "    }\n",
       "\n",
       "    .dataframe thead th {\n",
       "        text-align: right;\n",
       "    }\n",
       "</style>\n",
       "<table border=\"1\" class=\"dataframe\">\n",
       "  <thead>\n",
       "    <tr style=\"text-align: right;\">\n",
       "      <th></th>\n",
       "      <th>F0</th>\n",
       "      <th>F1</th>\n",
       "      <th>F2</th>\n",
       "      <th>F3</th>\n",
       "      <th>x</th>\n",
       "      <th>y</th>\n",
       "      <th>Fdist</th>\n",
       "      <th>Sx</th>\n",
       "      <th>Sy</th>\n",
       "    </tr>\n",
       "  </thead>\n",
       "  <tbody>\n",
       "    <tr>\n",
       "      <th>0</th>\n",
       "      <td>-61.4732</td>\n",
       "      <td>0.98084</td>\n",
       "      <td>-14.14624</td>\n",
       "      <td>288.60004</td>\n",
       "      <td>0.0</td>\n",
       "      <td>0.0</td>\n",
       "      <td>295.414989</td>\n",
       "      <td>1.027354</td>\n",
       "      <td>-1.143637</td>\n",
       "    </tr>\n",
       "    <tr>\n",
       "      <th>1</th>\n",
       "      <td>-61.2732</td>\n",
       "      <td>0.98084</td>\n",
       "      <td>-13.94624</td>\n",
       "      <td>289.20004</td>\n",
       "      <td>0.0</td>\n",
       "      <td>0.0</td>\n",
       "      <td>295.950212</td>\n",
       "      <td>1.027514</td>\n",
       "      <td>-1.145986</td>\n",
       "    </tr>\n",
       "    <tr>\n",
       "      <th>2</th>\n",
       "      <td>-61.4732</td>\n",
       "      <td>0.98084</td>\n",
       "      <td>-13.94624</td>\n",
       "      <td>293.40004</td>\n",
       "      <td>0.0</td>\n",
       "      <td>0.0</td>\n",
       "      <td>300.096647</td>\n",
       "      <td>1.027507</td>\n",
       "      <td>-1.146091</td>\n",
       "    </tr>\n",
       "    <tr>\n",
       "      <th>3</th>\n",
       "      <td>-61.4732</td>\n",
       "      <td>0.98084</td>\n",
       "      <td>-13.34624</td>\n",
       "      <td>297.80004</td>\n",
       "      <td>0.0</td>\n",
       "      <td>0.0</td>\n",
       "      <td>304.372966</td>\n",
       "      <td>1.027711</td>\n",
       "      <td>-1.153633</td>\n",
       "    </tr>\n",
       "    <tr>\n",
       "      <th>4</th>\n",
       "      <td>-60.8732</td>\n",
       "      <td>0.98084</td>\n",
       "      <td>-13.34624</td>\n",
       "      <td>295.60004</td>\n",
       "      <td>0.0</td>\n",
       "      <td>0.0</td>\n",
       "      <td>302.099345</td>\n",
       "      <td>1.028006</td>\n",
       "      <td>-1.153601</td>\n",
       "    </tr>\n",
       "  </tbody>\n",
       "</table>\n",
       "</div>"
      ],
      "text/plain": [
       "        F0       F1        F2         F3    x    y       Fdist        Sx  \\\n",
       "0 -61.4732  0.98084 -14.14624  288.60004  0.0  0.0  295.414989  1.027354   \n",
       "1 -61.2732  0.98084 -13.94624  289.20004  0.0  0.0  295.950212  1.027514   \n",
       "2 -61.4732  0.98084 -13.94624  293.40004  0.0  0.0  300.096647  1.027507   \n",
       "3 -61.4732  0.98084 -13.34624  297.80004  0.0  0.0  304.372966  1.027711   \n",
       "4 -60.8732  0.98084 -13.34624  295.60004  0.0  0.0  302.099345  1.028006   \n",
       "\n",
       "         Sy  \n",
       "0 -1.143637  \n",
       "1 -1.145986  \n",
       "2 -1.146091  \n",
       "3 -1.153633  \n",
       "4 -1.153601  "
      ]
     },
     "execution_count": 71,
     "metadata": {},
     "output_type": "execute_result"
    }
   ],
   "source": [
    "datasFull=pd.DataFrame.from_dict(datasRaw)\n",
    "datasFull.columns=[\"F0\",\"F1\",\"F2\",\"F3\",\"x\",\"y\",\"Fdist\",\"Sx\",\"Sy\"]\n",
    "datasFull.head()"
   ]
  },
  {
   "cell_type": "code",
   "execution_count": 72,
   "metadata": {},
   "outputs": [],
   "source": [
    "FullDescribe=datasFull.describe()\n",
    "FullDescribe=FullDescribe.transpose()\n",
    "MeandataFull=FullDescribe['mean']\n",
    "StddataFull=FullDescribe['std']"
   ]
  },
  {
   "cell_type": "code",
   "execution_count": 73,
   "metadata": {},
   "outputs": [
    {
     "name": "stdout",
     "output_type": "stream",
     "text": [
      "Mean:\n",
      "F0        82.669758\n",
      "F1       126.453971\n",
      "F2        83.662616\n",
      "F3        85.599579\n",
      "x          7.500000\n",
      "y          7.436842\n",
      "Fdist    311.351552\n",
      "Sx        -0.157280\n",
      "Sy         0.038515\n",
      "Name: mean, dtype: float64\n",
      "Std:\n",
      "F0       106.510489\n",
      "F1       204.268260\n",
      "F2       128.503499\n",
      "F3       149.708490\n",
      "x          5.164159\n",
      "y          5.236644\n",
      "Fdist    179.464143\n",
      "Sx        45.116143\n",
      "Sy         9.908787\n",
      "Name: std, dtype: float64\n"
     ]
    }
   ],
   "source": [
    "print(\"Mean:\\n{}\\nStd:\\n{}\".format(MeandataFull,StddataFull))"
   ]
  },
  {
   "cell_type": "code",
   "execution_count": 74,
   "metadata": {
    "id": "gupw2YWZgj6M"
   },
   "outputs": [],
   "source": [
    "dataTrain, dataTest = train_test_split(datasFull, test_size=0.15)\n",
    "dataTrain, dataVal = train_test_split(dataTrain, test_size=0.2)"
   ]
  },
  {
   "cell_type": "code",
   "execution_count": null,
   "metadata": {
    "colab": {
     "base_uri": "https://localhost:8080/",
     "height": 204
    },
    "id": "kFfXmESehvpv",
    "outputId": "32a55fb9-4f76-4b33-d0e3-017154ae9cc1"
   },
   "outputs": [],
   "source": [
    "dataTrain.head()"
   ]
  },
  {
   "cell_type": "code",
   "execution_count": 75,
   "metadata": {
    "id": "Q8HeW-JG5ZE2"
   },
   "outputs": [],
   "source": [
    "# Helper functions\n",
    "def normNew(x):\n",
    "    return ((x - MeandataFull) / StddataFull)\n",
    "\n",
    "def norm4(x, meanD, stdD):\n",
    "    return ((x - meanD) / stdD)\n",
    "\n",
    "def norm2(x):\n",
    "    return ((x - train_stats['mean']) / train_stats['std'])\n",
    "\n",
    "def norm3(x):\n",
    "    dataDescribe=x.describe()\n",
    "    dataDescribe=dataDescribe.transpose()\n",
    "    return ((x - dataDescribe['mean']) / dataDescribe['std'])\n",
    "\n",
    "def format_output(data):\n",
    "    data2=data\n",
    "    y1 = data2.pop('x')    \n",
    "    y2 = data2.pop('y')\n",
    "    return y1, y2\n",
    "\n",
    "def format_input(data):\n",
    "    data2=data\n",
    "    data2.pop('x')    \n",
    "    data2.pop('y')\n",
    "    return data2 \n",
    "\n",
    "def format_output2(data):\n",
    "    y1 = data.pop('x')   \n",
    "    y1=np.array(y1)\n",
    "    y2 = data.pop('y')\n",
    "    y2=np.array(y2)\n",
    "    return y1, y2\n",
    "\n",
    "def PrintMeanStd(x):\n",
    "    dataDescribe=x.describe()\n",
    "    dataDescribe=dataDescribe.transpose()\n",
    "    print(\"Mean: {}\\nStd: {}\".format(dataDescribe['mean'],dataDescribe['std']))\n",
    "    \n"
   ]
  },
  {
   "cell_type": "code",
   "execution_count": 76,
   "metadata": {},
   "outputs": [],
   "source": [
    "# Normalize the training and test data\n",
    "norm_train_X = format_input(normNew(dataTrain))\n",
    "train_Y = format_output(dataTrain)\n",
    "\n",
    "norm_test_X=format_input(normNew(dataTest))\n",
    "test_Y=format_output(dataTest)\n",
    "\n",
    "norm_val_X = format_input(normNew(dataVal))\n",
    "val_Y = format_output(dataVal)\n",
    "\n",
    "norm_train_X = np.array(norm_train_X)\n",
    "#train_Y = np.array(train_Y)\n",
    "norm_test_X = np.array(norm_test_X)\n",
    "#test_Y = np.array(test_Y)\n",
    "norm_val_X = np.array(norm_val_X)\n",
    "#val_Y = np.array(val_Y)"
   ]
  },
  {
   "cell_type": "code",
   "execution_count": 77,
   "metadata": {
    "id": "DQCRRqaf6Zy_"
   },
   "outputs": [],
   "source": [
    "def build_model():\n",
    "    # Define model layers.\n",
    "    input_layer = layers.Input(shape=(len(norm_train_X[1]),))\n",
    "    x = layers.Dense(130)(input_layer)   \n",
    "    x = layers.BatchNormalization()(x)\n",
    "    x = tf.keras.activations.relu(x)\n",
    "    \n",
    "    x = layers.Dense(130)(x)   \n",
    "    #x = layers.LSTM(128,input_shape=(1, 130))(x)   \n",
    "    x = layers.BatchNormalization()(x)\n",
    "    x = tf.keras.activations.relu(x)    \n",
    "    \n",
    "    x = layers.Dense(130)(x)  \n",
    "    #x = layers.LSTM(130)(x)\n",
    "    x = layers.BatchNormalization()(x)\n",
    "    x = tf.keras.activations.relu(x)  \n",
    "    \n",
    "    #x = layers.Dense(130)(x)   \n",
    "    #x = layers.LSTM(130)(x)\n",
    "    #x = layers.BatchNormalization()(x)\n",
    "    #x = tf.keras.activations.relu(x)    \n",
    "    \n",
    "    third_dense = layers.Dense(units='130', activation='relu')(x)\n",
    "    #third_dense = layers.LSTM(units='130', activation='relu')(x)\n",
    "    #third_dense=layers.Dropout(0.5)(third_dense)\n",
    "    \n",
    "    # Y1 output will be fed from the first dense\n",
    "    y1_output = layers.Dense(units='1', name='x_output')(third_dense)\n",
    "    \n",
    "    # Y2 output will be fed from the second dense\n",
    "    y2_output = layers.Dense(units='1', name='y_output')(third_dense)\n",
    "\n",
    "    # Define the model with the input layer and a list of output layers\n",
    "    model = Model(inputs=input_layer, outputs=[y1_output, y2_output])\n",
    "\n",
    "    return model"
   ]
  },
  {
   "cell_type": "code",
   "execution_count": 27,
   "metadata": {
    "id": "rkLHZkif7JGQ"
   },
   "outputs": [],
   "source": [
    "with tf.device('/gpu:0'):\n",
    "    model = build_model()\n",
    "\n",
    "# Specify the optimizer, and compile the model with loss functions for both outputs\n",
    "optimizer = tf.keras.optimizers.SGD(learning_rate=0.001)\n",
    "model.compile(optimizer=optimizer,\n",
    "              loss={'x_output': 'mse', 'y_output': 'mse'},\n",
    "              metrics={'x_output': tf.keras.metrics.RootMeanSquaredError(),\n",
    "                       'y_output': tf.keras.metrics.RootMeanSquaredError()})"
   ]
  },
  {
   "cell_type": "code",
   "execution_count": null,
   "metadata": {
    "colab": {
     "base_uri": "https://localhost:8080/",
     "height": 197
    },
    "id": "zDmxXFU77dGt",
    "outputId": "e72a7cbd-e90b-4966-ca33-21dca3794c3d"
   },
   "outputs": [],
   "source": [
    "# Train the model for 200 epochs\n",
    "history = model.fit(norm_train_X, train_Y,\n",
    "                    epochs=12000,batch_size=1000, verbose=2, validation_data=(norm_test_X, test_Y), use_multiprocessing=True)"
   ]
  },
  {
   "cell_type": "code",
   "execution_count": null,
   "metadata": {
    "colab": {
     "base_uri": "https://localhost:8080/"
    },
    "id": "AbI9079mGMEV",
    "outputId": "b5d12586-2f55-4bb3-8cf8-239330bc4f1e",
    "scrolled": true
   },
   "outputs": [],
   "source": [
    "# Test the model and print loss and rmse for both outputs\n",
    "loss, Y1_loss, Y2_loss, Y1_rmse, Y2_rmse = model.evaluate(x=norm_val_X, y=val_Y)\n",
    "\n",
    "print()\n",
    "print(f'loss: {loss}')\n",
    "print(f'x_loss: {Y1_loss}')\n",
    "print(f'y_loss: {Y2_loss}')\n",
    "print(f'x_rmse: {Y1_rmse}')\n",
    "print(f'y_rmse: {Y2_rmse}')"
   ]
  },
  {
   "cell_type": "code",
   "execution_count": null,
   "metadata": {
    "id": "V9DhGCX4GQae"
   },
   "outputs": [],
   "source": [
    "def plot_diff(y_true, y_pred, title=''):\n",
    "    plt.scatter(y_true, y_pred)\n",
    "    plt.title(title)\n",
    "    plt.xlabel('True Values')\n",
    "    plt.ylabel('Predictions')\n",
    "    plt.axis('equal')\n",
    "    plt.axis('square')\n",
    "    plt.xlim(plt.xlim())\n",
    "    plt.ylim(plt.ylim())\n",
    "    plt.plot([-100, 100], [-100, 100])\n",
    "    plt.show()\n",
    "\n",
    "\n",
    "def plot_metrics(metric_name, title, ylim=5):\n",
    "    plt.title(title)\n",
    "    plt.ylim(0, ylim)\n",
    "    plt.plot(history.history[metric_name], color='blue', label=metric_name)\n",
    "    plt.plot(history.history['val_' + metric_name], color='green', label='val_' + metric_name)\n",
    "    plt.show()"
   ]
  },
  {
   "cell_type": "code",
   "execution_count": null,
   "metadata": {
    "colab": {
     "base_uri": "https://localhost:8080/",
     "height": 573
    },
    "id": "0EbyNOEXGeQf",
    "outputId": "b66ac9a8-5910-43e2-c298-bd1af1b93c6a"
   },
   "outputs": [],
   "source": [
    "# Run predict\n",
    "Y_pred = model.predict(norm_test_X)\n",
    "price_pred = Y_pred[0]\n",
    "ptratio_pred = Y_pred[1]\n",
    "\n",
    "plot_diff(test_Y[0], Y_pred[0], title='x')\n",
    "plot_diff(test_Y[1], Y_pred[1], title='y')"
   ]
  },
  {
   "cell_type": "code",
   "execution_count": null,
   "metadata": {
    "colab": {
     "base_uri": "https://localhost:8080/",
     "height": 545
    },
    "id": "58QqA0C4Gk7d",
    "outputId": "4875ab5f-a185-4367-8dd5-e89de199bad5"
   },
   "outputs": [],
   "source": [
    "# Plot RMSE\n",
    "plot_metrics(metric_name='x_output_root_mean_squared_error', title='x RMSE', ylim=1)\n",
    "plot_metrics(metric_name='y_output_root_mean_squared_error', title='y RMSE', ylim=1)"
   ]
  },
  {
   "cell_type": "code",
   "execution_count": null,
   "metadata": {
    "colab": {
     "base_uri": "https://localhost:8080/"
    },
    "id": "V18I4VyhHAL1",
    "outputId": "543b2a99-e234-4aa0-a848-8d7337840f93"
   },
   "outputs": [],
   "source": [
    "# Save model\n",
    "model.save('./xyForcePlateN6/', save_format='tf')"
   ]
  },
  {
   "cell_type": "code",
   "execution_count": 19,
   "metadata": {
    "id": "5QTOLsAJHAVy"
   },
   "outputs": [],
   "source": [
    "# Restore model\n",
    "loaded_model = tf.keras.models.load_model('Models/xyForcePlateN6/')"
   ]
  },
  {
   "cell_type": "code",
   "execution_count": null,
   "metadata": {},
   "outputs": [],
   "source": [
    "dataVal.iloc[:,:4].shape"
   ]
  },
  {
   "cell_type": "code",
   "execution_count": 78,
   "metadata": {
    "id": "ptcyn1KOHHtD"
   },
   "outputs": [],
   "source": [
    "# Run predict with restored model\n",
    "predictions = loaded_model.predict(norm_val_X)\n",
    "x_pred = predictions[0]\n",
    "y_pred = predictions[1]"
   ]
  },
  {
   "cell_type": "code",
   "execution_count": 79,
   "metadata": {},
   "outputs": [
    {
     "data": {
      "text/plain": [
       "(40375, 1)"
      ]
     },
     "execution_count": 79,
     "metadata": {},
     "output_type": "execute_result"
    }
   ],
   "source": [
    "AnDataErr=np.array(val_Y[0]).reshape(len(val_Y[0]),1)\n",
    "x_pred.shape"
   ]
  },
  {
   "cell_type": "code",
   "execution_count": 65,
   "metadata": {},
   "outputs": [
    {
     "data": {
      "text/html": [
       "<div>\n",
       "<style scoped>\n",
       "    .dataframe tbody tr th:only-of-type {\n",
       "        vertical-align: middle;\n",
       "    }\n",
       "\n",
       "    .dataframe tbody tr th {\n",
       "        vertical-align: top;\n",
       "    }\n",
       "\n",
       "    .dataframe thead th {\n",
       "        text-align: right;\n",
       "    }\n",
       "</style>\n",
       "<table border=\"1\" class=\"dataframe\">\n",
       "  <thead>\n",
       "    <tr style=\"text-align: right;\">\n",
       "      <th></th>\n",
       "      <th>F0</th>\n",
       "      <th>F1</th>\n",
       "      <th>F2</th>\n",
       "      <th>F3</th>\n",
       "      <th>Fdist</th>\n",
       "      <th>Sx</th>\n",
       "      <th>Sy</th>\n",
       "      <th>erroX</th>\n",
       "      <th>erroY</th>\n",
       "    </tr>\n",
       "  </thead>\n",
       "  <tbody>\n",
       "    <tr>\n",
       "      <th>0</th>\n",
       "      <td>-0.853840</td>\n",
       "      <td>-0.609361</td>\n",
       "      <td>0.463732</td>\n",
       "      <td>-0.565095</td>\n",
       "      <td>-0.935239</td>\n",
       "      <td>0.615354</td>\n",
       "      <td>-0.666164</td>\n",
       "      <td>-0.190210</td>\n",
       "      <td>3.207140</td>\n",
       "    </tr>\n",
       "    <tr>\n",
       "      <th>1</th>\n",
       "      <td>2.282001</td>\n",
       "      <td>-0.558448</td>\n",
       "      <td>1.103403</td>\n",
       "      <td>1.402729</td>\n",
       "      <td>1.020134</td>\n",
       "      <td>0.703283</td>\n",
       "      <td>-0.666794</td>\n",
       "      <td>-0.133579</td>\n",
       "      <td>0.283401</td>\n",
       "    </tr>\n",
       "    <tr>\n",
       "      <th>2</th>\n",
       "      <td>0.180799</td>\n",
       "      <td>-0.626006</td>\n",
       "      <td>-1.347892</td>\n",
       "      <td>-0.585134</td>\n",
       "      <td>-0.978774</td>\n",
       "      <td>0.749187</td>\n",
       "      <td>-0.651268</td>\n",
       "      <td>1.865529</td>\n",
       "      <td>0.425498</td>\n",
       "    </tr>\n",
       "    <tr>\n",
       "      <th>3</th>\n",
       "      <td>0.036213</td>\n",
       "      <td>1.221565</td>\n",
       "      <td>-0.345585</td>\n",
       "      <td>-0.557080</td>\n",
       "      <td>0.426020</td>\n",
       "      <td>-1.544215</td>\n",
       "      <td>1.481987</td>\n",
       "      <td>0.058178</td>\n",
       "      <td>-0.116549</td>\n",
       "    </tr>\n",
       "    <tr>\n",
       "      <th>4</th>\n",
       "      <td>-1.004060</td>\n",
       "      <td>1.955893</td>\n",
       "      <td>1.014689</td>\n",
       "      <td>-0.545056</td>\n",
       "      <td>1.432318</td>\n",
       "      <td>-2.074992</td>\n",
       "      <td>1.298036</td>\n",
       "      <td>-0.139824</td>\n",
       "      <td>0.469171</td>\n",
       "    </tr>\n",
       "  </tbody>\n",
       "</table>\n",
       "</div>"
      ],
      "text/plain": [
       "         F0        F1        F2        F3     Fdist        Sx        Sy  \\\n",
       "0 -0.853840 -0.609361  0.463732 -0.565095 -0.935239  0.615354 -0.666164   \n",
       "1  2.282001 -0.558448  1.103403  1.402729  1.020134  0.703283 -0.666794   \n",
       "2  0.180799 -0.626006 -1.347892 -0.585134 -0.978774  0.749187 -0.651268   \n",
       "3  0.036213  1.221565 -0.345585 -0.557080  0.426020 -1.544215  1.481987   \n",
       "4 -1.004060  1.955893  1.014689 -0.545056  1.432318 -2.074992  1.298036   \n",
       "\n",
       "      erroX     erroY  \n",
       "0 -0.190210  3.207140  \n",
       "1 -0.133579  0.283401  \n",
       "2  1.865529  0.425498  \n",
       "3  0.058178 -0.116549  \n",
       "4 -0.139824  0.469171  "
      ]
     },
     "execution_count": 65,
     "metadata": {},
     "output_type": "execute_result"
    }
   ],
   "source": [
    "AnData=pd.DataFrame.from_dict(norm_val_X)\n",
    "AnData.columns=[\"F0\",\"F1\",\"F2\",\"F3\",\"Fdist\",\"Sx\",\"Sy\"]\n",
    "anDatX=np.array(val_Y[0]).reshape(len(val_Y[0]),1)\n",
    "AnData['erroX']=x_pred-anDatX\n",
    "anDatY=np.array(val_Y[1]).reshape(len(val_Y[1]),1)\n",
    "AnData['erroY']=y_pred-anDatY\n",
    "AnData.head()"
   ]
  },
  {
   "cell_type": "code",
   "execution_count": 80,
   "metadata": {},
   "outputs": [],
   "source": [
    "AnData.to_csv(\"dataForce.csv\")"
   ]
  },
  {
   "cell_type": "code",
   "execution_count": null,
   "metadata": {},
   "outputs": [],
   "source": [
    "norm_test_X[0]"
   ]
  },
  {
   "cell_type": "code",
   "execution_count": 30,
   "metadata": {
    "colab": {
     "base_uri": "https://localhost:8080/"
    },
    "id": "PA340DixH6MS",
    "outputId": "9387bfbe-d014-4e16-ce03-04764bd07e8a"
   },
   "outputs": [
    {
     "name": "stdout",
     "output_type": "stream",
     "text": [
      "[[14.80979   ]\n",
      " [ 2.8664205 ]\n",
      " [ 1.8655288 ]\n",
      " ...\n",
      " [ 7.047241  ]\n",
      " [ 0.6381608 ]\n",
      " [-0.05404818]]\n"
     ]
    }
   ],
   "source": [
    "print(x_pred)"
   ]
  },
  {
   "cell_type": "code",
   "execution_count": 34,
   "metadata": {
    "colab": {
     "base_uri": "https://localhost:8080/"
    },
    "id": "EM4Wj7XWKOy4",
    "outputId": "bda68532-38ac-40da-8dcc-a5359a2aa9de"
   },
   "outputs": [
    {
     "name": "stdout",
     "output_type": "stream",
     "text": [
      "(230278    15.0\n",
      "54212      3.0\n",
      "25421      0.0\n",
      "162725    12.0\n",
      "188777    15.0\n",
      "          ... \n",
      "179185    15.0\n",
      "26892      0.0\n",
      "107769     7.5\n",
      "11405      0.0\n",
      "4433       0.0\n",
      "Name: x, Length: 40375, dtype: float64, 230278     0.0\n",
      "54212      9.0\n",
      "25421     12.0\n",
      "162725    12.0\n",
      "188777     7.5\n",
      "          ... \n",
      "179185     3.0\n",
      "26892     12.0\n",
      "107769    15.0\n",
      "11405      6.0\n",
      "4433       0.0\n",
      "Name: y, Length: 40375, dtype: float64)\n"
     ]
    }
   ],
   "source": [
    "print(val_Y)"
   ]
  },
  {
   "cell_type": "markdown",
   "metadata": {
    "id": "vIcHHeA25TfL"
   },
   "source": [
    "################################################################################"
   ]
  }
 ],
 "metadata": {
  "colab": {
   "collapsed_sections": [],
   "name": "ForcePlatePosition.ipynb",
   "provenance": []
  },
  "kernelspec": {
   "display_name": "tfgpu",
   "language": "python",
   "name": "tfgpu"
  },
  "language_info": {
   "codemirror_mode": {
    "name": "ipython",
    "version": 3
   },
   "file_extension": ".py",
   "mimetype": "text/x-python",
   "name": "python",
   "nbconvert_exporter": "python",
   "pygments_lexer": "ipython3",
   "version": "3.8.0"
  }
 },
 "nbformat": 4,
 "nbformat_minor": 1
}
