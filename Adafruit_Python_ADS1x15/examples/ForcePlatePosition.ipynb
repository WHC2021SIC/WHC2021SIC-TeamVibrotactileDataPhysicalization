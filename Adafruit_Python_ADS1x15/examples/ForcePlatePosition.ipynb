{
 "cells": [
  {
   "cell_type": "code",
   "execution_count": 4,
   "metadata": {
    "id": "YSbPCMnvDnQV"
   },
   "outputs": [],
   "source": [
    "# Importing the libraries\n",
    "import pandas as pd\n",
    "import tensorflow as tf\n",
    "import numpy as np\n",
    "import matplotlib.pyplot as plt\n",
    "from tensorflow.keras.models import Model\n",
    "from tensorflow.keras.layers import Dense, Input\n",
    "from sklearn.model_selection import train_test_split\n",
    "\n",
    "#from google.colab import files\n",
    "#uploaded = files.upload()\n",
    "\n",
    "D0_0 = 'https://raw.githubusercontent.com/frankbastidas/WHC2021Datas/master/positionsTouchedData/0%2C0.csv'\n",
    "D0_12='https://raw.githubusercontent.com/frankbastidas/WHC2021Datas/master/positionsTouchedData/0%2C12.csv'\n",
    "D0_18='https://raw.githubusercontent.com/frankbastidas/WHC2021Datas/master/positionsTouchedData/0%2C18.csv'\n",
    "D0_24='https://raw.githubusercontent.com/frankbastidas/WHC2021Datas/master/positionsTouchedData/0%2C24.csv'\n",
    "D0_6='https://raw.githubusercontent.com/frankbastidas/WHC2021Datas/master/positionsTouchedData/0%2C6.csv'\n",
    "D12_0='https://raw.githubusercontent.com/frankbastidas/WHC2021Datas/master/positionsTouchedData/12%2C0.csv'\n",
    "D12_12='https://raw.githubusercontent.com/frankbastidas/WHC2021Datas/master/positionsTouchedData/12%2C12.csv'\n",
    "D12_15='https://raw.githubusercontent.com/frankbastidas/WHC2021Datas/master/positionsTouchedData/12%2C15.csv'\n",
    "D12_18='https://raw.githubusercontent.com/frankbastidas/WHC2021Datas/master/positionsTouchedData/12%2C18.csv'\n",
    "D12_21='https://raw.githubusercontent.com/frankbastidas/WHC2021Datas/master/positionsTouchedData/12%2C21.csv'\n",
    "D12_24='https://raw.githubusercontent.com/frankbastidas/WHC2021Datas/master/positionsTouchedData/12%2C24.csv'\n",
    "D12_3='https://raw.githubusercontent.com/frankbastidas/WHC2021Datas/master/positionsTouchedData/12%2C3.csv'\n",
    "D12_6='https://raw.githubusercontent.com/frankbastidas/WHC2021Datas/master/positionsTouchedData/12%2C6.csv'\n",
    "D12_9='https://raw.githubusercontent.com/frankbastidas/WHC2021Datas/master/positionsTouchedData/12%2C9.csv'\n",
    "D15_15='https://raw.githubusercontent.com/frankbastidas/WHC2021Datas/master/positionsTouchedData/15%2C15.csv'\n",
    "D15_21='https://raw.githubusercontent.com/frankbastidas/WHC2021Datas/master/positionsTouchedData/15%2C21.csv'\n",
    "D15_3='https://raw.githubusercontent.com/frankbastidas/WHC2021Datas/master/positionsTouchedData/15%2C3.csv'\n",
    "D15_9='https://raw.githubusercontent.com/frankbastidas/WHC2021Datas/master/positionsTouchedData/15%2C9.csv'\n",
    "D18_0='https://raw.githubusercontent.com/frankbastidas/WHC2021Datas/master/positionsTouchedData/18%2C0.csv'\n",
    "D18_12='https://raw.githubusercontent.com/frankbastidas/WHC2021Datas/master/positionsTouchedData/18%2C12.csv'\n",
    "D18_18='https://raw.githubusercontent.com/frankbastidas/WHC2021Datas/master/positionsTouchedData/18%2C18.csv'\n",
    "D18_24='https://raw.githubusercontent.com/frankbastidas/WHC2021Datas/master/positionsTouchedData/18%2C24.csv'\n",
    "D18_6='https://raw.githubusercontent.com/frankbastidas/WHC2021Datas/master/positionsTouchedData/18%2C6.csv'\n",
    "D3_0='https://raw.githubusercontent.com/frankbastidas/WHC2021Datas/master/positionsTouchedData/3%2C0.csv'\n",
    "D3_12='https://raw.githubusercontent.com/frankbastidas/WHC2021Datas/master/positionsTouchedData/3%2C12.csv'\n",
    "D3_15='https://raw.githubusercontent.com/frankbastidas/WHC2021Datas/master/positionsTouchedData/3%2C15.csv'\n",
    "D3_18='https://raw.githubusercontent.com/frankbastidas/WHC2021Datas/master/positionsTouchedData/3%2C18.csv'\n",
    "D3_21='https://raw.githubusercontent.com/frankbastidas/WHC2021Datas/master/positionsTouchedData/3%2C21.csv'\n",
    "D3_24='https://raw.githubusercontent.com/frankbastidas/WHC2021Datas/master/positionsTouchedData/3%2C24.csv'\n",
    "D3_3='https://raw.githubusercontent.com/frankbastidas/WHC2021Datas/master/positionsTouchedData/3%2C3.csv'\n",
    "D3_6='https://raw.githubusercontent.com/frankbastidas/WHC2021Datas/master/positionsTouchedData/3%2C6.csv'\n",
    "D3_9='https://raw.githubusercontent.com/frankbastidas/WHC2021Datas/master/positionsTouchedData/3%2C9.csv'\n",
    "D6_0='https://raw.githubusercontent.com/frankbastidas/WHC2021Datas/master/positionsTouchedData/6%2C0.csv'\n",
    "D6_12='https://raw.githubusercontent.com/frankbastidas/WHC2021Datas/master/positionsTouchedData/6%2C12.csv'\n",
    "D6_15='https://raw.githubusercontent.com/frankbastidas/WHC2021Datas/master/positionsTouchedData/6%2C15.csv'\n",
    "D6_18='https://raw.githubusercontent.com/frankbastidas/WHC2021Datas/master/positionsTouchedData/6%2C18.csv'\n",
    "D6_21='https://raw.githubusercontent.com/frankbastidas/WHC2021Datas/master/positionsTouchedData/6%2C21.csv'\n",
    "D6_24='https://raw.githubusercontent.com/frankbastidas/WHC2021Datas/master/positionsTouchedData/6%2C24.csv'\n",
    "D6_3='https://raw.githubusercontent.com/frankbastidas/WHC2021Datas/master/positionsTouchedData/6%2C3.csv'\n",
    "D6_6='https://raw.githubusercontent.com/frankbastidas/WHC2021Datas/master/positionsTouchedData/6%2C6.csv'\n",
    "D6_9='https://raw.githubusercontent.com/frankbastidas/WHC2021Datas/master/positionsTouchedData/6%2C9.csv'\n",
    "D9_0='https://raw.githubusercontent.com/frankbastidas/WHC2021Datas/master/positionsTouchedData/9%2C0.csv'\n",
    "D9_12='https://raw.githubusercontent.com/frankbastidas/WHC2021Datas/master/positionsTouchedData/9%2C12.csv'\n",
    "D9_15='https://raw.githubusercontent.com/frankbastidas/WHC2021Datas/master/positionsTouchedData/9%2C15.csv'\n",
    "D9_18='https://raw.githubusercontent.com/frankbastidas/WHC2021Datas/master/positionsTouchedData/9%2C18.csv'\n",
    "D9_21='https://raw.githubusercontent.com/frankbastidas/WHC2021Datas/master/positionsTouchedData/9%2C21.csv'\n",
    "D9_24='https://raw.githubusercontent.com/frankbastidas/WHC2021Datas/master/positionsTouchedData/9%2C24.csv'\n",
    "D9_3='https://raw.githubusercontent.com/frankbastidas/WHC2021Datas/master/positionsTouchedData/9%2C3.csv'\n",
    "D9_6='https://raw.githubusercontent.com/frankbastidas/WHC2021Datas/master/positionsTouchedData/9%2C6.csv'\n",
    "D9_9='https://raw.githubusercontent.com/frankbastidas/WHC2021Datas/master/positionsTouchedData/9%2C9.csv'\n",
    "Dnot='https://raw.githubusercontent.com/frankbastidas/WHC2021Datas/master/positionsTouchedData/noTouch.csv'\n",
    "# 51 datasets\n",
    "\n",
    "#df1 = pd.read_csv(url)\n",
    "\n",
    "# Importing the Boston Housing dataset\n",
    "#from sklearn.datasets import load_boston"
   ]
  },
  {
   "cell_type": "code",
   "execution_count": 5,
   "metadata": {
    "id": "Ab8q_tVIcsPM"
   },
   "outputs": [],
   "source": [
    "d0_0 = pd.read_csv(D0_0,header=None).transpose()\n",
    "d0_0['x']=0; d0_0['y']=0\n",
    "d0_12 = pd.read_csv(D0_12,header=None).transpose()\n",
    "d0_12['x']=0; d0_12['y']=12\n",
    "d0_18 = pd.read_csv(D0_18,header=None).transpose()\n",
    "d0_18['x']=0; d0_18['y']=18\n",
    "d0_24 = pd.read_csv(D0_24,header=None).transpose()\n",
    "d0_24['x']=0; d0_24['y']=24\n",
    "d0_6 = pd.read_csv(D0_6,header=None).transpose()\n",
    "d0_6['x']=0; d0_6['y']=6\n",
    "d12_0 = pd.read_csv(D12_0,header=None).transpose()\n",
    "d12_0['x']=12; d12_0['y']=0\n",
    "d12_12 = pd.read_csv(D12_12,header=None).transpose()\n",
    "d12_12['x']=12; d12_12['y']=12\n",
    "d12_15 = pd.read_csv(D12_15,header=None).transpose()\n",
    "d12_15['x']=12; d12_15['y']=15\n",
    "d12_18 = pd.read_csv(D12_18,header=None).transpose()\n",
    "d12_18['x']=12; d12_18['y']=18\n",
    "d12_21 = pd.read_csv(D12_21,header=None).transpose()\n",
    "d12_21['x']=12; d12_21['y']=21\n",
    "d12_24 = pd.read_csv(D12_24,header=None).transpose()\n",
    "d12_24['x']=12; d12_24['y']=24\n",
    "d12_3 = pd.read_csv(D12_3,header=None).transpose()\n",
    "d12_3['x']=12; d12_3['y']=3\n",
    "d12_6 = pd.read_csv(D12_6,header=None).transpose()\n",
    "d12_6['x']=12; d12_6['y']=6\n",
    "d12_9 = pd.read_csv(D12_9,header=None).transpose()\n",
    "d12_9['x']=12; d12_9['y']=9\n",
    "d15_15 = pd.read_csv(D15_15,header=None).transpose()\n",
    "d15_15['x']=15; d15_15['y']=15\n",
    "d15_21 = pd.read_csv(D15_21,header=None).transpose()\n",
    "d15_21['x']=15; d15_21['y']=21\n",
    "d15_3 = pd.read_csv(D15_3,header=None).transpose()\n",
    "d15_3['x']=15; d15_3['y']=3\n",
    "d15_9 = pd.read_csv(D15_9,header=None).transpose()\n",
    "d15_9['x']=15; d15_9['y']=9\n",
    "d18_0 = pd.read_csv(D18_0,header=None).transpose()\n",
    "d18_0['x']=18; d18_0['y']=0\n",
    "d18_12 = pd.read_csv(D18_12,header=None).transpose()\n",
    "d18_12['x']=18; d18_12['y']=12\n",
    "d18_18 = pd.read_csv(D18_18,header=None).transpose()\n",
    "d18_18['x']=18; d18_18['y']=18\n",
    "d18_24 = pd.read_csv(D18_24,header=None).transpose()\n",
    "d18_24['x']=18; d18_24['y']=24\n",
    "d18_6 = pd.read_csv(D18_6,header=None).transpose()\n",
    "d18_6['x']=18; d18_6['y']=6\n",
    "d3_0 = pd.read_csv(D3_0,header=None).transpose()\n",
    "d3_0['x']=3; d3_0['y']=0\n",
    "d3_12 = pd.read_csv(D3_12,header=None).transpose()\n",
    "d3_12['x']=3; d3_12['y']=12\n",
    "d3_15 = pd.read_csv(D3_15,header=None).transpose()\n",
    "d3_15['x']=3; d3_15['y']=15\n",
    "d3_18 = pd.read_csv(D3_18,header=None).transpose()\n",
    "d3_18['x']=3; d3_18['y']=18\n",
    "d3_21 = pd.read_csv(D3_21,header=None).transpose()\n",
    "d3_21['x']=3; d3_21['y']=21\n",
    "d3_24 = pd.read_csv(D3_24,header=None).transpose()\n",
    "d3_24['x']=3; d3_24['y']=24\n",
    "d3_3 = pd.read_csv(D3_3,header=None).transpose()\n",
    "d3_3['x']=3; d3_3['y']=3\n",
    "d3_6 = pd.read_csv(D3_6,header=None).transpose()\n",
    "d3_6['x']=3; d3_6['y']=6\n",
    "d3_9 = pd.read_csv(D3_9,header=None).transpose()\n",
    "d3_9['x']=3; d3_9['y']=9\n",
    "d6_0 = pd.read_csv(D6_0,header=None).transpose()\n",
    "d6_0['x']=6; d6_0['y']=0\n",
    "d6_12 = pd.read_csv(D6_12,header=None).transpose()\n",
    "d6_12['x']=6; d6_12['y']=12\n",
    "d6_15 = pd.read_csv(D6_15,header=None).transpose()\n",
    "d6_15['x']=6; d6_15['y']=15\n",
    "d6_18 = pd.read_csv(D6_18,header=None).transpose()\n",
    "d6_18['x']=6; d6_18['y']=18\n",
    "d6_21 = pd.read_csv(D6_21,header=None).transpose()\n",
    "d6_21['x']=6; d6_21['y']=21\n",
    "d6_24 = pd.read_csv(D6_24,header=None).transpose()\n",
    "d6_24['x']=6; d6_24['y']=24\n",
    "d6_3 = pd.read_csv(D6_3,header=None).transpose()\n",
    "d6_3['x']=6; d6_3['y']=3\n",
    "d6_6 = pd.read_csv(D6_6,header=None).transpose()\n",
    "d6_6['x']=6; d6_6['y']=6\n",
    "d6_9 = pd.read_csv(D6_9,header=None).transpose()\n",
    "d6_9['x']=6; d6_9['y']=9\n",
    "d9_0 = pd.read_csv(D9_0,header=None).transpose()\n",
    "d9_0['x']=9; d9_0['y']=0\n",
    "d9_12 = pd.read_csv(D9_12,header=None).transpose()\n",
    "d9_12['x']=9; d9_12['y']=12\n",
    "d9_15 = pd.read_csv(D9_15,header=None).transpose()\n",
    "d9_15['x']=9; d9_15['y']=15\n",
    "d9_18 = pd.read_csv(D9_18,header=None).transpose()\n",
    "d9_18['x']=9; d9_18['y']=18\n",
    "d9_21 = pd.read_csv(D9_21,header=None).transpose()\n",
    "d9_21['x']=9; d9_21['y']=21\n",
    "d9_24 = pd.read_csv(D9_24,header=None).transpose()\n",
    "d9_24['x']=9; d9_24['y']=24\n",
    "d9_3 = pd.read_csv(D9_3,header=None).transpose()\n",
    "d9_3['x']=9; d9_3['y']=3\n",
    "d9_6 = pd.read_csv(D9_6,header=None).transpose()\n",
    "d9_6['x']=9; d9_6['y']=6\n",
    "d9_9 = pd.read_csv(D9_9,header=None).transpose()\n",
    "d9_9['x']=9; d9_9['y']=9\n",
    "dnot = pd.read_csv(Dnot,header=None).transpose()\n",
    "dnot['x']=-1; dnot['y']=-1"
   ]
  },
  {
   "cell_type": "code",
   "execution_count": 6,
   "metadata": {
    "colab": {
     "base_uri": "https://localhost:8080/"
    },
    "id": "MpCZlsRphPHj",
    "outputId": "6175e4f3-88f4-48be-e021-21b8111ba5e9"
   },
   "outputs": [
    {
     "data": {
      "text/plain": [
       "(250000, 6)"
      ]
     },
     "execution_count": 6,
     "metadata": {},
     "output_type": "execute_result"
    }
   ],
   "source": [
    "datasRaw = np.concatenate([d0_0 ,d0_12 ,d0_18 ,d0_24 ,d0_6 ,d12_0 ,d12_12 ,d12_15 ,\n",
    "                        d12_18 ,d12_21 ,d12_24 ,d12_3 ,d12_6 ,d12_9 ,d15_15 ,d15_21 ,\n",
    "                        d15_3 ,d15_9 ,d18_0 ,d18_12 ,d18_18 ,d18_24 ,d18_6 ,d3_0 ,\n",
    "                        d3_12 ,d3_15 ,d3_18 ,d3_21 ,d3_24,d3_3 ,d3_6 ,d3_9 ,\n",
    "                        d6_0 ,d6_12 ,d6_15 ,d6_18 ,d6_21 ,d6_24 ,d6_3 ,d6_6 ,\n",
    "                        d6_9 ,d9_0 ,d9_12 ,d9_15 ,d9_18 ,d9_21 ,d9_24 ,d9_3 ,\n",
    "                        d9_6 ,d9_9 ])\n",
    "datasRaw.shape  # 51*5000 = 255000"
   ]
  },
  {
   "cell_type": "code",
   "execution_count": 7,
   "metadata": {
    "colab": {
     "base_uri": "https://localhost:8080/",
     "height": 204
    },
    "id": "bTh1Crq4e5Ij",
    "outputId": "f2aa92e0-d50a-458c-ab8d-a30c1c961764"
   },
   "outputs": [
    {
     "data": {
      "text/html": [
       "<div>\n",
       "<style scoped>\n",
       "    .dataframe tbody tr th:only-of-type {\n",
       "        vertical-align: middle;\n",
       "    }\n",
       "\n",
       "    .dataframe tbody tr th {\n",
       "        vertical-align: top;\n",
       "    }\n",
       "\n",
       "    .dataframe thead th {\n",
       "        text-align: right;\n",
       "    }\n",
       "</style>\n",
       "<table border=\"1\" class=\"dataframe\">\n",
       "  <thead>\n",
       "    <tr style=\"text-align: right;\">\n",
       "      <th></th>\n",
       "      <th>F0</th>\n",
       "      <th>F1</th>\n",
       "      <th>F2</th>\n",
       "      <th>F3</th>\n",
       "      <th>x</th>\n",
       "      <th>y</th>\n",
       "    </tr>\n",
       "  </thead>\n",
       "  <tbody>\n",
       "    <tr>\n",
       "      <th>0</th>\n",
       "      <td>329</td>\n",
       "      <td>249</td>\n",
       "      <td>290</td>\n",
       "      <td>534</td>\n",
       "      <td>0</td>\n",
       "      <td>0</td>\n",
       "    </tr>\n",
       "    <tr>\n",
       "      <th>1</th>\n",
       "      <td>328</td>\n",
       "      <td>247</td>\n",
       "      <td>287</td>\n",
       "      <td>533</td>\n",
       "      <td>0</td>\n",
       "      <td>0</td>\n",
       "    </tr>\n",
       "    <tr>\n",
       "      <th>2</th>\n",
       "      <td>327</td>\n",
       "      <td>246</td>\n",
       "      <td>288</td>\n",
       "      <td>532</td>\n",
       "      <td>0</td>\n",
       "      <td>0</td>\n",
       "    </tr>\n",
       "    <tr>\n",
       "      <th>3</th>\n",
       "      <td>326</td>\n",
       "      <td>245</td>\n",
       "      <td>288</td>\n",
       "      <td>535</td>\n",
       "      <td>0</td>\n",
       "      <td>0</td>\n",
       "    </tr>\n",
       "    <tr>\n",
       "      <th>4</th>\n",
       "      <td>326</td>\n",
       "      <td>246</td>\n",
       "      <td>289</td>\n",
       "      <td>536</td>\n",
       "      <td>0</td>\n",
       "      <td>0</td>\n",
       "    </tr>\n",
       "  </tbody>\n",
       "</table>\n",
       "</div>"
      ],
      "text/plain": [
       "    F0   F1   F2   F3  x  y\n",
       "0  329  249  290  534  0  0\n",
       "1  328  247  287  533  0  0\n",
       "2  327  246  288  532  0  0\n",
       "3  326  245  288  535  0  0\n",
       "4  326  246  289  536  0  0"
      ]
     },
     "execution_count": 7,
     "metadata": {},
     "output_type": "execute_result"
    }
   ],
   "source": [
    "datasFull=pd.DataFrame.from_dict(datasRaw)\n",
    "datasFull.columns=[\"F0\",\"F1\",\"F2\",\"F3\",\"x\",\"y\"]\n",
    "datasFull.head()"
   ]
  },
  {
   "cell_type": "code",
   "execution_count": 8,
   "metadata": {
    "id": "gupw2YWZgj6M"
   },
   "outputs": [],
   "source": [
    "dataTrain, dataTest = train_test_split(datasFull, test_size=0.2)\n",
    "dataTrain, dataVal = train_test_split(dataTrain, test_size=0.2)"
   ]
  },
  {
   "cell_type": "code",
   "execution_count": 9,
   "metadata": {
    "colab": {
     "base_uri": "https://localhost:8080/",
     "height": 204
    },
    "id": "kFfXmESehvpv",
    "outputId": "32a55fb9-4f76-4b33-d0e3-017154ae9cc1"
   },
   "outputs": [
    {
     "data": {
      "text/html": [
       "<div>\n",
       "<style scoped>\n",
       "    .dataframe tbody tr th:only-of-type {\n",
       "        vertical-align: middle;\n",
       "    }\n",
       "\n",
       "    .dataframe tbody tr th {\n",
       "        vertical-align: top;\n",
       "    }\n",
       "\n",
       "    .dataframe thead th {\n",
       "        text-align: right;\n",
       "    }\n",
       "</style>\n",
       "<table border=\"1\" class=\"dataframe\">\n",
       "  <thead>\n",
       "    <tr style=\"text-align: right;\">\n",
       "      <th></th>\n",
       "      <th>F0</th>\n",
       "      <th>F1</th>\n",
       "      <th>F2</th>\n",
       "      <th>F3</th>\n",
       "      <th>x</th>\n",
       "      <th>y</th>\n",
       "    </tr>\n",
       "  </thead>\n",
       "  <tbody>\n",
       "    <tr>\n",
       "      <th>197752</th>\n",
       "      <td>348</td>\n",
       "      <td>282</td>\n",
       "      <td>306</td>\n",
       "      <td>524</td>\n",
       "      <td>6</td>\n",
       "      <td>6</td>\n",
       "    </tr>\n",
       "    <tr>\n",
       "      <th>215908</th>\n",
       "      <td>385</td>\n",
       "      <td>285</td>\n",
       "      <td>321</td>\n",
       "      <td>510</td>\n",
       "      <td>9</td>\n",
       "      <td>15</td>\n",
       "    </tr>\n",
       "    <tr>\n",
       "      <th>99762</th>\n",
       "      <td>344</td>\n",
       "      <td>198</td>\n",
       "      <td>315</td>\n",
       "      <td>453</td>\n",
       "      <td>18</td>\n",
       "      <td>12</td>\n",
       "    </tr>\n",
       "    <tr>\n",
       "      <th>242099</th>\n",
       "      <td>384</td>\n",
       "      <td>259</td>\n",
       "      <td>347</td>\n",
       "      <td>546</td>\n",
       "      <td>9</td>\n",
       "      <td>6</td>\n",
       "    </tr>\n",
       "    <tr>\n",
       "      <th>41673</th>\n",
       "      <td>275</td>\n",
       "      <td>340</td>\n",
       "      <td>330</td>\n",
       "      <td>480</td>\n",
       "      <td>12</td>\n",
       "      <td>18</td>\n",
       "    </tr>\n",
       "  </tbody>\n",
       "</table>\n",
       "</div>"
      ],
      "text/plain": [
       "         F0   F1   F2   F3   x   y\n",
       "197752  348  282  306  524   6   6\n",
       "215908  385  285  321  510   9  15\n",
       "99762   344  198  315  453  18  12\n",
       "242099  384  259  347  546   9   6\n",
       "41673   275  340  330  480  12  18"
      ]
     },
     "execution_count": 9,
     "metadata": {},
     "output_type": "execute_result"
    }
   ],
   "source": [
    "dataTrain.head()"
   ]
  },
  {
   "cell_type": "code",
   "execution_count": 10,
   "metadata": {
    "id": "Q8HeW-JG5ZE2"
   },
   "outputs": [],
   "source": [
    "# Helper functions\n",
    "def norm(x):\n",
    "    return (x - train_stats['mean']) / train_stats['std']\n",
    "\n",
    "def format_output(data):\n",
    "    y1 = data.pop('x')\n",
    "    y1 = np.array(y1)\n",
    "    y2 = data.pop('y')\n",
    "    y2 = np.array(y2)\n",
    "    return y1, y2"
   ]
  },
  {
   "cell_type": "code",
   "execution_count": 12,
   "metadata": {
    "id": "Zpk1iwLC5iSM"
   },
   "outputs": [],
   "source": [
    "# Get X and Y as the 2 outputs and format them as np arrays\n",
    "train_stats = dataTrain.describe()\n",
    "train_stats.pop('x')\n",
    "train_stats.pop('y')\n",
    "train_stats = train_stats.transpose()\n",
    "train_Y = format_output(dataTrain)\n",
    "test_Y = format_output(dataTest)\n",
    "val_Y = format_output(dataVal)"
   ]
  },
  {
   "cell_type": "code",
   "execution_count": 13,
   "metadata": {},
   "outputs": [
    {
     "name": "stdout",
     "output_type": "stream",
     "text": [
      "F0    346.818488\n",
      "F1    294.199144\n",
      "F2    334.145369\n",
      "F3    522.738144\n",
      "Name: mean, dtype: float64\n",
      "F0    33.215323\n",
      "F1    51.900343\n",
      "F2    32.854478\n",
      "F3    31.057538\n",
      "Name: std, dtype: float64\n"
     ]
    }
   ],
   "source": [
    "print(train_stats['mean'])\n",
    "print(train_stats['std'])"
   ]
  },
  {
   "cell_type": "code",
   "execution_count": 14,
   "metadata": {
    "id": "po6_47hB6FmE"
   },
   "outputs": [],
   "source": [
    "# Normalize the training and test data\n",
    "norm_train_X = np.array(norm(dataTrain))\n",
    "norm_test_X = np.array(norm(dataTest))\n",
    "norm_val_X = np.array(norm(dataVal))"
   ]
  },
  {
   "cell_type": "code",
   "execution_count": 15,
   "metadata": {
    "id": "DQCRRqaf6Zy_"
   },
   "outputs": [],
   "source": [
    "def build_model():\n",
    "    # Define model layers.\n",
    "    input_layer = Input(shape=(len(dataTrain .columns),))\n",
    "    first_dense = Dense(units='128', activation='relu')(input_layer)\n",
    "    # Y1 output will be fed from the first dense\n",
    "    y1_output = Dense(units='1', name='x_output')(first_dense)\n",
    "\n",
    "    second_dense = Dense(units='128', activation='relu')(first_dense)\n",
    "    # Y2 output will be fed from the second dense\n",
    "    y2_output = Dense(units='1', name='y_output')(second_dense)\n",
    "\n",
    "    # Define the model with the input layer and a list of output layers\n",
    "    model = Model(inputs=input_layer, outputs=[y1_output, y2_output])\n",
    "\n",
    "    return model"
   ]
  },
  {
   "cell_type": "code",
   "execution_count": 13,
   "metadata": {
    "id": "rkLHZkif7JGQ"
   },
   "outputs": [],
   "source": [
    "model = build_model()\n",
    "\n",
    "# Specify the optimizer, and compile the model with loss functions for both outputs\n",
    "optimizer = tf.keras.optimizers.SGD(learning_rate=0.001)\n",
    "model.compile(optimizer=optimizer,\n",
    "              loss={'x_output': 'mse', 'y_output': 'mse'},\n",
    "              metrics={'x_output': tf.keras.metrics.RootMeanSquaredError(),\n",
    "                       'y_output': tf.keras.metrics.RootMeanSquaredError()})"
   ]
  },
  {
   "cell_type": "code",
   "execution_count": 15,
   "metadata": {
    "colab": {
     "base_uri": "https://localhost:8080/",
     "height": 197
    },
    "id": "zDmxXFU77dGt",
    "outputId": "e72a7cbd-e90b-4966-ca33-21dca3794c3d"
   },
   "outputs": [
    {
     "name": "stdout",
     "output_type": "stream",
     "text": [
      "Epoch 1/200\n",
      "5000/5000 [==============================] - 12s 2ms/step - loss: 5.3364 - x_output_loss: 2.6268 - y_output_loss: 2.7096 - x_output_root_mean_squared_error: 1.6207 - y_output_root_mean_squared_error: 1.6461 - val_loss: 5.2943 - val_x_output_loss: 2.5823 - val_y_output_loss: 2.7120 - val_x_output_root_mean_squared_error: 1.6069 - val_y_output_root_mean_squared_error: 1.6468\n",
      "Epoch 2/200\n",
      "5000/5000 [==============================] - 11s 2ms/step - loss: 5.2899 - x_output_loss: 2.6138 - y_output_loss: 2.6762 - x_output_root_mean_squared_error: 1.6167 - y_output_root_mean_squared_error: 1.6359 - val_loss: 5.5948 - val_x_output_loss: 2.6006 - val_y_output_loss: 2.9942 - val_x_output_root_mean_squared_error: 1.6126 - val_y_output_root_mean_squared_error: 1.7304\n",
      "Epoch 3/200\n",
      "5000/5000 [==============================] - 11s 2ms/step - loss: 5.2615 - x_output_loss: 2.5983 - y_output_loss: 2.6632 - x_output_root_mean_squared_error: 1.6119 - y_output_root_mean_squared_error: 1.6319 - val_loss: 5.2713 - val_x_output_loss: 2.5530 - val_y_output_loss: 2.7183 - val_x_output_root_mean_squared_error: 1.5978 - val_y_output_root_mean_squared_error: 1.6487\n",
      "Epoch 4/200\n",
      "5000/5000 [==============================] - 11s 2ms/step - loss: 5.2345 - x_output_loss: 2.5881 - y_output_loss: 2.6464 - x_output_root_mean_squared_error: 1.6087 - y_output_root_mean_squared_error: 1.6268 - val_loss: 5.1329 - val_x_output_loss: 2.5243 - val_y_output_loss: 2.6086 - val_x_output_root_mean_squared_error: 1.5888 - val_y_output_root_mean_squared_error: 1.6151\n",
      "Epoch 5/200\n",
      "5000/5000 [==============================] - 11s 2ms/step - loss: 5.2101 - x_output_loss: 2.5740 - y_output_loss: 2.6361 - x_output_root_mean_squared_error: 1.6044 - y_output_root_mean_squared_error: 1.6236 - val_loss: 5.3053 - val_x_output_loss: 2.5563 - val_y_output_loss: 2.7490 - val_x_output_root_mean_squared_error: 1.5988 - val_y_output_root_mean_squared_error: 1.6580\n",
      "Epoch 6/200\n",
      "5000/5000 [==============================] - 11s 2ms/step - loss: 5.1861 - x_output_loss: 2.5634 - y_output_loss: 2.6228 - x_output_root_mean_squared_error: 1.6011 - y_output_root_mean_squared_error: 1.6195 - val_loss: 5.1328 - val_x_output_loss: 2.5318 - val_y_output_loss: 2.6010 - val_x_output_root_mean_squared_error: 1.5912 - val_y_output_root_mean_squared_error: 1.6128\n",
      "Epoch 7/200\n",
      "5000/5000 [==============================] - 11s 2ms/step - loss: 5.1642 - x_output_loss: 2.5532 - y_output_loss: 2.6110 - x_output_root_mean_squared_error: 1.5979 - y_output_root_mean_squared_error: 1.6159 - val_loss: 5.1945 - val_x_output_loss: 2.5021 - val_y_output_loss: 2.6924 - val_x_output_root_mean_squared_error: 1.5818 - val_y_output_root_mean_squared_error: 1.6409\n",
      "Epoch 8/200\n",
      "5000/5000 [==============================] - 11s 2ms/step - loss: 5.1520 - x_output_loss: 2.5430 - y_output_loss: 2.6089 - x_output_root_mean_squared_error: 1.5947 - y_output_root_mean_squared_error: 1.6152 - val_loss: 5.1015 - val_x_output_loss: 2.5138 - val_y_output_loss: 2.5876 - val_x_output_root_mean_squared_error: 1.5855 - val_y_output_root_mean_squared_error: 1.6086\n",
      "Epoch 9/200\n",
      "5000/5000 [==============================] - 11s 2ms/step - loss: 5.1351 - x_output_loss: 2.5337 - y_output_loss: 2.6013 - x_output_root_mean_squared_error: 1.5918 - y_output_root_mean_squared_error: 1.6129 - val_loss: 5.1465 - val_x_output_loss: 2.4981 - val_y_output_loss: 2.6484 - val_x_output_root_mean_squared_error: 1.5805 - val_y_output_root_mean_squared_error: 1.6274\n",
      "Epoch 10/200\n",
      "5000/5000 [==============================] - 11s 2ms/step - loss: 5.1132 - x_output_loss: 2.5231 - y_output_loss: 2.5900 - x_output_root_mean_squared_error: 1.5884 - y_output_root_mean_squared_error: 1.6094 - val_loss: 5.0119 - val_x_output_loss: 2.4723 - val_y_output_loss: 2.5396 - val_x_output_root_mean_squared_error: 1.5723 - val_y_output_root_mean_squared_error: 1.5936\n",
      "Epoch 11/200\n",
      "5000/5000 [==============================] - 11s 2ms/step - loss: 5.0973 - x_output_loss: 2.5136 - y_output_loss: 2.5837 - x_output_root_mean_squared_error: 1.5854 - y_output_root_mean_squared_error: 1.6074 - val_loss: 5.0862 - val_x_output_loss: 2.4672 - val_y_output_loss: 2.6190 - val_x_output_root_mean_squared_error: 1.5707 - val_y_output_root_mean_squared_error: 1.6183\n",
      "Epoch 12/200\n",
      "5000/5000 [==============================] - 11s 2ms/step - loss: 5.0848 - x_output_loss: 2.5052 - y_output_loss: 2.5796 - x_output_root_mean_squared_error: 1.5828 - y_output_root_mean_squared_error: 1.6061 - val_loss: 5.1586 - val_x_output_loss: 2.5122 - val_y_output_loss: 2.6464 - val_x_output_root_mean_squared_error: 1.5850 - val_y_output_root_mean_squared_error: 1.6268\n",
      "Epoch 13/200\n",
      "5000/5000 [==============================] - 11s 2ms/step - loss: 5.0741 - x_output_loss: 2.4979 - y_output_loss: 2.5762 - x_output_root_mean_squared_error: 1.5805 - y_output_root_mean_squared_error: 1.6050 - val_loss: 5.5157 - val_x_output_loss: 2.4740 - val_y_output_loss: 3.0416 - val_x_output_root_mean_squared_error: 1.5729 - val_y_output_root_mean_squared_error: 1.7440\n",
      "Epoch 14/200\n",
      "5000/5000 [==============================] - 11s 2ms/step - loss: 5.0578 - x_output_loss: 2.4898 - y_output_loss: 2.5680 - x_output_root_mean_squared_error: 1.5779 - y_output_root_mean_squared_error: 1.6025 - val_loss: 5.0319 - val_x_output_loss: 2.4389 - val_y_output_loss: 2.5931 - val_x_output_root_mean_squared_error: 1.5617 - val_y_output_root_mean_squared_error: 1.6103\n",
      "Epoch 15/200\n",
      "5000/5000 [==============================] - 11s 2ms/step - loss: 5.0448 - x_output_loss: 2.4833 - y_output_loss: 2.5615 - x_output_root_mean_squared_error: 1.5759 - y_output_root_mean_squared_error: 1.6005 - val_loss: 4.9246 - val_x_output_loss: 2.4681 - val_y_output_loss: 2.4565 - val_x_output_root_mean_squared_error: 1.5710 - val_y_output_root_mean_squared_error: 1.5673\n",
      "Epoch 16/200\n",
      "5000/5000 [==============================] - 11s 2ms/step - loss: 5.0317 - x_output_loss: 2.4737 - y_output_loss: 2.5580 - x_output_root_mean_squared_error: 1.5728 - y_output_root_mean_squared_error: 1.5994 - val_loss: 5.3161 - val_x_output_loss: 2.4273 - val_y_output_loss: 2.8888 - val_x_output_root_mean_squared_error: 1.5580 - val_y_output_root_mean_squared_error: 1.6996\n",
      "Epoch 17/200\n",
      "5000/5000 [==============================] - 11s 2ms/step - loss: 5.0058 - x_output_loss: 2.4688 - y_output_loss: 2.5371 - x_output_root_mean_squared_error: 1.5712 - y_output_root_mean_squared_error: 1.5928 - val_loss: 5.0725 - val_x_output_loss: 2.4565 - val_y_output_loss: 2.6161 - val_x_output_root_mean_squared_error: 1.5673 - val_y_output_root_mean_squared_error: 1.6174\n",
      "Epoch 18/200\n",
      "5000/5000 [==============================] - 11s 2ms/step - loss: 4.9978 - x_output_loss: 2.4633 - y_output_loss: 2.5346 - x_output_root_mean_squared_error: 1.5695 - y_output_root_mean_squared_error: 1.5920 - val_loss: 4.9795 - val_x_output_loss: 2.4358 - val_y_output_loss: 2.5437 - val_x_output_root_mean_squared_error: 1.5607 - val_y_output_root_mean_squared_error: 1.5949\n",
      "Epoch 19/200\n",
      "5000/5000 [==============================] - 11s 2ms/step - loss: 4.9869 - x_output_loss: 2.4557 - y_output_loss: 2.5312 - x_output_root_mean_squared_error: 1.5671 - y_output_root_mean_squared_error: 1.5910 - val_loss: 4.8738 - val_x_output_loss: 2.3998 - val_y_output_loss: 2.4740 - val_x_output_root_mean_squared_error: 1.5491 - val_y_output_root_mean_squared_error: 1.5729\n",
      "Epoch 20/200\n",
      "5000/5000 [==============================] - 11s 2ms/step - loss: 4.9740 - x_output_loss: 2.4503 - y_output_loss: 2.5237 - x_output_root_mean_squared_error: 1.5653 - y_output_root_mean_squared_error: 1.5886 - val_loss: 4.9993 - val_x_output_loss: 2.4331 - val_y_output_loss: 2.5662 - val_x_output_root_mean_squared_error: 1.5598 - val_y_output_root_mean_squared_error: 1.6019\n",
      "Epoch 21/200\n",
      "5000/5000 [==============================] - 11s 2ms/step - loss: 4.9616 - x_output_loss: 2.4447 - y_output_loss: 2.5169 - x_output_root_mean_squared_error: 1.5636 - y_output_root_mean_squared_error: 1.5865 - val_loss: 4.8943 - val_x_output_loss: 2.3906 - val_y_output_loss: 2.5037 - val_x_output_root_mean_squared_error: 1.5462 - val_y_output_root_mean_squared_error: 1.5823\n",
      "Epoch 22/200\n",
      "5000/5000 [==============================] - 11s 2ms/step - loss: 4.9498 - x_output_loss: 2.4373 - y_output_loss: 2.5125 - x_output_root_mean_squared_error: 1.5612 - y_output_root_mean_squared_error: 1.5851 - val_loss: 4.9849 - val_x_output_loss: 2.5176 - val_y_output_loss: 2.4673 - val_x_output_root_mean_squared_error: 1.5867 - val_y_output_root_mean_squared_error: 1.5708\n",
      "Epoch 23/200\n",
      "5000/5000 [==============================] - 11s 2ms/step - loss: 4.9352 - x_output_loss: 2.4338 - y_output_loss: 2.5015 - x_output_root_mean_squared_error: 1.5601 - y_output_root_mean_squared_error: 1.5816 - val_loss: 4.7897 - val_x_output_loss: 2.3836 - val_y_output_loss: 2.4061 - val_x_output_root_mean_squared_error: 1.5439 - val_y_output_root_mean_squared_error: 1.5512\n",
      "Epoch 24/200\n",
      "5000/5000 [==============================] - 11s 2ms/step - loss: 4.9304 - x_output_loss: 2.4272 - y_output_loss: 2.5032 - x_output_root_mean_squared_error: 1.5580 - y_output_root_mean_squared_error: 1.5822 - val_loss: 4.9094 - val_x_output_loss: 2.3913 - val_y_output_loss: 2.5181 - val_x_output_root_mean_squared_error: 1.5464 - val_y_output_root_mean_squared_error: 1.5869\n",
      "Epoch 25/200\n",
      "5000/5000 [==============================] - 11s 2ms/step - loss: 4.9106 - x_output_loss: 2.4229 - y_output_loss: 2.4877 - x_output_root_mean_squared_error: 1.5566 - y_output_root_mean_squared_error: 1.5773 - val_loss: 4.9916 - val_x_output_loss: 2.4623 - val_y_output_loss: 2.5293 - val_x_output_root_mean_squared_error: 1.5692 - val_y_output_root_mean_squared_error: 1.5904\n",
      "Epoch 26/200\n",
      "5000/5000 [==============================] - 11s 2ms/step - loss: 4.9079 - x_output_loss: 2.4201 - y_output_loss: 2.4878 - x_output_root_mean_squared_error: 1.5557 - y_output_root_mean_squared_error: 1.5773 - val_loss: 5.0163 - val_x_output_loss: 2.3761 - val_y_output_loss: 2.6402 - val_x_output_root_mean_squared_error: 1.5415 - val_y_output_root_mean_squared_error: 1.6249\n",
      "Epoch 27/200\n",
      "5000/5000 [==============================] - 12s 2ms/step - loss: 4.8966 - x_output_loss: 2.4108 - y_output_loss: 2.4858 - x_output_root_mean_squared_error: 1.5527 - y_output_root_mean_squared_error: 1.5767 - val_loss: 4.9611 - val_x_output_loss: 2.4203 - val_y_output_loss: 2.5407 - val_x_output_root_mean_squared_error: 1.5557 - val_y_output_root_mean_squared_error: 1.5940\n",
      "Epoch 28/200\n",
      "5000/5000 [==============================] - 13s 3ms/step - loss: 4.8837 - x_output_loss: 2.4079 - y_output_loss: 2.4759 - x_output_root_mean_squared_error: 1.5517 - y_output_root_mean_squared_error: 1.5735 - val_loss: 4.7618 - val_x_output_loss: 2.4116 - val_y_output_loss: 2.3502 - val_x_output_root_mean_squared_error: 1.5529 - val_y_output_root_mean_squared_error: 1.5331\n",
      "Epoch 29/200\n",
      "5000/5000 [==============================] - 11s 2ms/step - loss: 4.8734 - x_output_loss: 2.4034 - y_output_loss: 2.4699 - x_output_root_mean_squared_error: 1.5503 - y_output_root_mean_squared_error: 1.5716 - val_loss: 4.7858 - val_x_output_loss: 2.3514 - val_y_output_loss: 2.4344 - val_x_output_root_mean_squared_error: 1.5334 - val_y_output_root_mean_squared_error: 1.5602\n",
      "Epoch 30/200\n",
      "5000/5000 [==============================] - 12s 2ms/step - loss: 4.8563 - x_output_loss: 2.3999 - y_output_loss: 2.4564 - x_output_root_mean_squared_error: 1.5492 - y_output_root_mean_squared_error: 1.5673 - val_loss: 5.1754 - val_x_output_loss: 2.4744 - val_y_output_loss: 2.7010 - val_x_output_root_mean_squared_error: 1.5730 - val_y_output_root_mean_squared_error: 1.6435\n",
      "Epoch 31/200\n",
      "5000/5000 [==============================] - 11s 2ms/step - loss: 4.8537 - x_output_loss: 2.3964 - y_output_loss: 2.4573 - x_output_root_mean_squared_error: 1.5480 - y_output_root_mean_squared_error: 1.5676 - val_loss: 4.8150 - val_x_output_loss: 2.3702 - val_y_output_loss: 2.4448 - val_x_output_root_mean_squared_error: 1.5396 - val_y_output_root_mean_squared_error: 1.5636\n",
      "Epoch 32/200\n",
      "5000/5000 [==============================] - 11s 2ms/step - loss: 4.8454 - x_output_loss: 2.3902 - y_output_loss: 2.4551 - x_output_root_mean_squared_error: 1.5460 - y_output_root_mean_squared_error: 1.5669 - val_loss: 4.9508 - val_x_output_loss: 2.4159 - val_y_output_loss: 2.5349 - val_x_output_root_mean_squared_error: 1.5543 - val_y_output_root_mean_squared_error: 1.5922\n",
      "Epoch 33/200\n",
      "5000/5000 [==============================] - 11s 2ms/step - loss: 4.8462 - x_output_loss: 2.3869 - y_output_loss: 2.4593 - x_output_root_mean_squared_error: 1.5450 - y_output_root_mean_squared_error: 1.5682 - val_loss: 4.7201 - val_x_output_loss: 2.4056 - val_y_output_loss: 2.3145 - val_x_output_root_mean_squared_error: 1.5510 - val_y_output_root_mean_squared_error: 1.5213\n",
      "Epoch 34/200\n",
      "5000/5000 [==============================] - 11s 2ms/step - loss: 4.8223 - x_output_loss: 2.3814 - y_output_loss: 2.4409 - x_output_root_mean_squared_error: 1.5432 - y_output_root_mean_squared_error: 1.5623 - val_loss: 4.7020 - val_x_output_loss: 2.3239 - val_y_output_loss: 2.3780 - val_x_output_root_mean_squared_error: 1.5244 - val_y_output_root_mean_squared_error: 1.5421\n",
      "Epoch 35/200\n",
      "5000/5000 [==============================] - 11s 2ms/step - loss: 4.8151 - x_output_loss: 2.3769 - y_output_loss: 2.4382 - x_output_root_mean_squared_error: 1.5417 - y_output_root_mean_squared_error: 1.5615 - val_loss: 4.6829 - val_x_output_loss: 2.3525 - val_y_output_loss: 2.3305 - val_x_output_root_mean_squared_error: 1.5338 - val_y_output_root_mean_squared_error: 1.5266\n",
      "Epoch 36/200\n",
      "5000/5000 [==============================] - 11s 2ms/step - loss: 4.8052 - x_output_loss: 2.3727 - y_output_loss: 2.4325 - x_output_root_mean_squared_error: 1.5403 - y_output_root_mean_squared_error: 1.5597 - val_loss: 4.8018 - val_x_output_loss: 2.4387 - val_y_output_loss: 2.3630 - val_x_output_root_mean_squared_error: 1.5616 - val_y_output_root_mean_squared_error: 1.5372\n",
      "Epoch 37/200\n",
      "5000/5000 [==============================] - 11s 2ms/step - loss: 4.7861 - x_output_loss: 2.3651 - y_output_loss: 2.4210 - x_output_root_mean_squared_error: 1.5379 - y_output_root_mean_squared_error: 1.5559 - val_loss: 4.8865 - val_x_output_loss: 2.3129 - val_y_output_loss: 2.5736 - val_x_output_root_mean_squared_error: 1.5208 - val_y_output_root_mean_squared_error: 1.6042\n",
      "Epoch 38/200\n",
      "5000/5000 [==============================] - 12s 2ms/step - loss: 4.7952 - x_output_loss: 2.3674 - y_output_loss: 2.4277 - x_output_root_mean_squared_error: 1.5386 - y_output_root_mean_squared_error: 1.5581 - val_loss: 4.6854 - val_x_output_loss: 2.3079 - val_y_output_loss: 2.3774 - val_x_output_root_mean_squared_error: 1.5192 - val_y_output_root_mean_squared_error: 1.5419\n",
      "Epoch 39/200\n",
      "5000/5000 [==============================] - 11s 2ms/step - loss: 4.7772 - x_output_loss: 2.3607 - y_output_loss: 2.4166 - x_output_root_mean_squared_error: 1.5364 - y_output_root_mean_squared_error: 1.5545 - val_loss: 4.8152 - val_x_output_loss: 2.3120 - val_y_output_loss: 2.5032 - val_x_output_root_mean_squared_error: 1.5205 - val_y_output_root_mean_squared_error: 1.5821\n",
      "Epoch 40/200\n",
      "5000/5000 [==============================] - 11s 2ms/step - loss: 4.7657 - x_output_loss: 2.3546 - y_output_loss: 2.4111 - x_output_root_mean_squared_error: 1.5345 - y_output_root_mean_squared_error: 1.5528 - val_loss: 4.7082 - val_x_output_loss: 2.3136 - val_y_output_loss: 2.3946 - val_x_output_root_mean_squared_error: 1.5211 - val_y_output_root_mean_squared_error: 1.5475\n",
      "Epoch 41/200\n",
      "5000/5000 [==============================] - 11s 2ms/step - loss: 4.7577 - x_output_loss: 2.3493 - y_output_loss: 2.4084 - x_output_root_mean_squared_error: 1.5327 - y_output_root_mean_squared_error: 1.5519 - val_loss: 4.6553 - val_x_output_loss: 2.3050 - val_y_output_loss: 2.3503 - val_x_output_root_mean_squared_error: 1.5182 - val_y_output_root_mean_squared_error: 1.5331\n",
      "Epoch 42/200\n",
      "5000/5000 [==============================] - 11s 2ms/step - loss: 4.7419 - x_output_loss: 2.3485 - y_output_loss: 2.3934 - x_output_root_mean_squared_error: 1.5325 - y_output_root_mean_squared_error: 1.5471 - val_loss: 4.7873 - val_x_output_loss: 2.3571 - val_y_output_loss: 2.4302 - val_x_output_root_mean_squared_error: 1.5353 - val_y_output_root_mean_squared_error: 1.5589\n",
      "Epoch 43/200\n"
     ]
    },
    {
     "name": "stdout",
     "output_type": "stream",
     "text": [
      "5000/5000 [==============================] - 11s 2ms/step - loss: 4.7444 - x_output_loss: 2.3429 - y_output_loss: 2.4015 - x_output_root_mean_squared_error: 1.5307 - y_output_root_mean_squared_error: 1.5497 - val_loss: 4.5954 - val_x_output_loss: 2.3055 - val_y_output_loss: 2.2899 - val_x_output_root_mean_squared_error: 1.5184 - val_y_output_root_mean_squared_error: 1.5133\n",
      "Epoch 44/200\n",
      "5000/5000 [==============================] - 11s 2ms/step - loss: 4.7324 - x_output_loss: 2.3402 - y_output_loss: 2.3922 - x_output_root_mean_squared_error: 1.5298 - y_output_root_mean_squared_error: 1.5467 - val_loss: 4.7135 - val_x_output_loss: 2.3752 - val_y_output_loss: 2.3383 - val_x_output_root_mean_squared_error: 1.5412 - val_y_output_root_mean_squared_error: 1.5292\n",
      "Epoch 45/200\n",
      "5000/5000 [==============================] - 11s 2ms/step - loss: 4.7251 - x_output_loss: 2.3362 - y_output_loss: 2.3889 - x_output_root_mean_squared_error: 1.5285 - y_output_root_mean_squared_error: 1.5456 - val_loss: 4.7147 - val_x_output_loss: 2.3107 - val_y_output_loss: 2.4040 - val_x_output_root_mean_squared_error: 1.5201 - val_y_output_root_mean_squared_error: 1.5505\n",
      "Epoch 46/200\n",
      "5000/5000 [==============================] - 11s 2ms/step - loss: 4.7208 - x_output_loss: 2.3337 - y_output_loss: 2.3871 - x_output_root_mean_squared_error: 1.5276 - y_output_root_mean_squared_error: 1.5450 - val_loss: 5.0736 - val_x_output_loss: 2.3093 - val_y_output_loss: 2.7642 - val_x_output_root_mean_squared_error: 1.5197 - val_y_output_root_mean_squared_error: 1.6626\n",
      "Epoch 47/200\n",
      "5000/5000 [==============================] - 11s 2ms/step - loss: 4.7245 - x_output_loss: 2.3319 - y_output_loss: 2.3926 - x_output_root_mean_squared_error: 1.5271 - y_output_root_mean_squared_error: 1.5468 - val_loss: 4.7557 - val_x_output_loss: 2.3148 - val_y_output_loss: 2.4408 - val_x_output_root_mean_squared_error: 1.5215 - val_y_output_root_mean_squared_error: 1.5623\n",
      "Epoch 48/200\n",
      "5000/5000 [==============================] - 11s 2ms/step - loss: 4.7129 - x_output_loss: 2.3273 - y_output_loss: 2.3856 - x_output_root_mean_squared_error: 1.5255 - y_output_root_mean_squared_error: 1.5445 - val_loss: 4.5983 - val_x_output_loss: 2.3157 - val_y_output_loss: 2.2826 - val_x_output_root_mean_squared_error: 1.5218 - val_y_output_root_mean_squared_error: 1.5108\n",
      "Epoch 49/200\n",
      "5000/5000 [==============================] - 11s 2ms/step - loss: 4.6958 - x_output_loss: 2.3235 - y_output_loss: 2.3723 - x_output_root_mean_squared_error: 1.5243 - y_output_root_mean_squared_error: 1.5402 - val_loss: 4.8141 - val_x_output_loss: 2.2685 - val_y_output_loss: 2.5456 - val_x_output_root_mean_squared_error: 1.5062 - val_y_output_root_mean_squared_error: 1.5955\n",
      "Epoch 50/200\n",
      "5000/5000 [==============================] - 12s 2ms/step - loss: 4.6936 - x_output_loss: 2.3230 - y_output_loss: 2.3706 - x_output_root_mean_squared_error: 1.5241 - y_output_root_mean_squared_error: 1.5397 - val_loss: 4.6012 - val_x_output_loss: 2.2967 - val_y_output_loss: 2.3045 - val_x_output_root_mean_squared_error: 1.5155 - val_y_output_root_mean_squared_error: 1.5181\n",
      "Epoch 51/200\n",
      "5000/5000 [==============================] - 11s 2ms/step - loss: 4.6815 - x_output_loss: 2.3160 - y_output_loss: 2.3655 - x_output_root_mean_squared_error: 1.5218 - y_output_root_mean_squared_error: 1.5380 - val_loss: 4.6724 - val_x_output_loss: 2.3130 - val_y_output_loss: 2.3594 - val_x_output_root_mean_squared_error: 1.5209 - val_y_output_root_mean_squared_error: 1.5360\n",
      "Epoch 52/200\n",
      "5000/5000 [==============================] - 12s 2ms/step - loss: 4.6840 - x_output_loss: 2.3195 - y_output_loss: 2.3645 - x_output_root_mean_squared_error: 1.5230 - y_output_root_mean_squared_error: 1.5377 - val_loss: 4.5981 - val_x_output_loss: 2.2544 - val_y_output_loss: 2.3437 - val_x_output_root_mean_squared_error: 1.5015 - val_y_output_root_mean_squared_error: 1.5309\n",
      "Epoch 53/200\n",
      "5000/5000 [==============================] - 11s 2ms/step - loss: 4.6747 - x_output_loss: 2.3137 - y_output_loss: 2.3609 - x_output_root_mean_squared_error: 1.5211 - y_output_root_mean_squared_error: 1.5365 - val_loss: 4.7684 - val_x_output_loss: 2.2813 - val_y_output_loss: 2.4871 - val_x_output_root_mean_squared_error: 1.5104 - val_y_output_root_mean_squared_error: 1.5771\n",
      "Epoch 54/200\n",
      "5000/5000 [==============================] - 11s 2ms/step - loss: 4.6714 - x_output_loss: 2.3120 - y_output_loss: 2.3594 - x_output_root_mean_squared_error: 1.5205 - y_output_root_mean_squared_error: 1.5360 - val_loss: 4.6857 - val_x_output_loss: 2.2851 - val_y_output_loss: 2.4007 - val_x_output_root_mean_squared_error: 1.5116 - val_y_output_root_mean_squared_error: 1.5494\n",
      "Epoch 55/200\n",
      "5000/5000 [==============================] - 11s 2ms/step - loss: 4.6562 - x_output_loss: 2.3099 - y_output_loss: 2.3463 - x_output_root_mean_squared_error: 1.5198 - y_output_root_mean_squared_error: 1.5318 - val_loss: 4.6336 - val_x_output_loss: 2.2818 - val_y_output_loss: 2.3519 - val_x_output_root_mean_squared_error: 1.5106 - val_y_output_root_mean_squared_error: 1.5336\n",
      "Epoch 56/200\n",
      "5000/5000 [==============================] - 11s 2ms/step - loss: 4.6520 - x_output_loss: 2.3075 - y_output_loss: 2.3445 - x_output_root_mean_squared_error: 1.5190 - y_output_root_mean_squared_error: 1.5312 - val_loss: 4.6485 - val_x_output_loss: 2.2634 - val_y_output_loss: 2.3851 - val_x_output_root_mean_squared_error: 1.5045 - val_y_output_root_mean_squared_error: 1.5444\n",
      "Epoch 57/200\n",
      "5000/5000 [==============================] - 11s 2ms/step - loss: 4.6489 - x_output_loss: 2.3048 - y_output_loss: 2.3442 - x_output_root_mean_squared_error: 1.5181 - y_output_root_mean_squared_error: 1.5311 - val_loss: 4.5550 - val_x_output_loss: 2.2487 - val_y_output_loss: 2.3064 - val_x_output_root_mean_squared_error: 1.4996 - val_y_output_root_mean_squared_error: 1.5187\n",
      "Epoch 58/200\n",
      "5000/5000 [==============================] - 11s 2ms/step - loss: 4.6444 - x_output_loss: 2.3007 - y_output_loss: 2.3437 - x_output_root_mean_squared_error: 1.5168 - y_output_root_mean_squared_error: 1.5309 - val_loss: 4.5156 - val_x_output_loss: 2.2551 - val_y_output_loss: 2.2605 - val_x_output_root_mean_squared_error: 1.5017 - val_y_output_root_mean_squared_error: 1.5035\n",
      "Epoch 59/200\n",
      "5000/5000 [==============================] - 11s 2ms/step - loss: 4.6388 - x_output_loss: 2.2983 - y_output_loss: 2.3405 - x_output_root_mean_squared_error: 1.5160 - y_output_root_mean_squared_error: 1.5299 - val_loss: 4.6587 - val_x_output_loss: 2.2413 - val_y_output_loss: 2.4174 - val_x_output_root_mean_squared_error: 1.4971 - val_y_output_root_mean_squared_error: 1.5548\n",
      "Epoch 60/200\n",
      "5000/5000 [==============================] - 11s 2ms/step - loss: 4.6215 - x_output_loss: 2.2980 - y_output_loss: 2.3235 - x_output_root_mean_squared_error: 1.5159 - y_output_root_mean_squared_error: 1.5243 - val_loss: 4.7141 - val_x_output_loss: 2.2808 - val_y_output_loss: 2.4332 - val_x_output_root_mean_squared_error: 1.5102 - val_y_output_root_mean_squared_error: 1.5599\n",
      "Epoch 61/200\n",
      "5000/5000 [==============================] - 11s 2ms/step - loss: 4.6206 - x_output_loss: 2.2941 - y_output_loss: 2.3265 - x_output_root_mean_squared_error: 1.5146 - y_output_root_mean_squared_error: 1.5253 - val_loss: 4.8861 - val_x_output_loss: 2.2774 - val_y_output_loss: 2.6086 - val_x_output_root_mean_squared_error: 1.5091 - val_y_output_root_mean_squared_error: 1.6151\n",
      "Epoch 62/200\n",
      "5000/5000 [==============================] - 11s 2ms/step - loss: 4.6118 - x_output_loss: 2.2912 - y_output_loss: 2.3206 - x_output_root_mean_squared_error: 1.5137 - y_output_root_mean_squared_error: 1.5233 - val_loss: 4.5737 - val_x_output_loss: 2.2680 - val_y_output_loss: 2.3057 - val_x_output_root_mean_squared_error: 1.5060 - val_y_output_root_mean_squared_error: 1.5184\n",
      "Epoch 63/200\n",
      "5000/5000 [==============================] - 11s 2ms/step - loss: 4.6007 - x_output_loss: 2.2912 - y_output_loss: 2.3094 - x_output_root_mean_squared_error: 1.5137 - y_output_root_mean_squared_error: 1.5197 - val_loss: 6.2470 - val_x_output_loss: 2.2578 - val_y_output_loss: 3.9892 - val_x_output_root_mean_squared_error: 1.5026 - val_y_output_root_mean_squared_error: 1.9973\n",
      "Epoch 64/200\n",
      "5000/5000 [==============================] - 11s 2ms/step - loss: 4.6021 - x_output_loss: 2.2861 - y_output_loss: 2.3160 - x_output_root_mean_squared_error: 1.5120 - y_output_root_mean_squared_error: 1.5218 - val_loss: 4.4397 - val_x_output_loss: 2.2408 - val_y_output_loss: 2.1989 - val_x_output_root_mean_squared_error: 1.4969 - val_y_output_root_mean_squared_error: 1.4829\n",
      "Epoch 65/200\n",
      "5000/5000 [==============================] - 11s 2ms/step - loss: 4.5978 - x_output_loss: 2.2845 - y_output_loss: 2.3132 - x_output_root_mean_squared_error: 1.5115 - y_output_root_mean_squared_error: 1.5209 - val_loss: 4.6033 - val_x_output_loss: 2.2318 - val_y_output_loss: 2.3715 - val_x_output_root_mean_squared_error: 1.4939 - val_y_output_root_mean_squared_error: 1.5400\n",
      "Epoch 66/200\n",
      "5000/5000 [==============================] - 11s 2ms/step - loss: 4.5873 - x_output_loss: 2.2794 - y_output_loss: 2.3080 - x_output_root_mean_squared_error: 1.5098 - y_output_root_mean_squared_error: 1.5192 - val_loss: 4.4506 - val_x_output_loss: 2.2253 - val_y_output_loss: 2.2253 - val_x_output_root_mean_squared_error: 1.4917 - val_y_output_root_mean_squared_error: 1.4917\n",
      "Epoch 67/200\n",
      "5000/5000 [==============================] - 11s 2ms/step - loss: 4.5755 - x_output_loss: 2.2781 - y_output_loss: 2.2974 - x_output_root_mean_squared_error: 1.5093 - y_output_root_mean_squared_error: 1.5157 - val_loss: 4.5541 - val_x_output_loss: 2.2978 - val_y_output_loss: 2.2563 - val_x_output_root_mean_squared_error: 1.5159 - val_y_output_root_mean_squared_error: 1.5021\n",
      "Epoch 68/200\n",
      "5000/5000 [==============================] - 11s 2ms/step - loss: 4.5871 - x_output_loss: 2.2794 - y_output_loss: 2.3077 - x_output_root_mean_squared_error: 1.5098 - y_output_root_mean_squared_error: 1.5191 - val_loss: 4.4705 - val_x_output_loss: 2.2737 - val_y_output_loss: 2.1967 - val_x_output_root_mean_squared_error: 1.5079 - val_y_output_root_mean_squared_error: 1.4821\n",
      "Epoch 69/200\n",
      "5000/5000 [==============================] - 11s 2ms/step - loss: 4.5712 - x_output_loss: 2.2728 - y_output_loss: 2.2984 - x_output_root_mean_squared_error: 1.5076 - y_output_root_mean_squared_error: 1.5160 - val_loss: 4.8318 - val_x_output_loss: 2.2198 - val_y_output_loss: 2.6120 - val_x_output_root_mean_squared_error: 1.4899 - val_y_output_root_mean_squared_error: 1.6162\n",
      "Epoch 70/200\n",
      "5000/5000 [==============================] - 11s 2ms/step - loss: 4.5648 - x_output_loss: 2.2725 - y_output_loss: 2.2924 - x_output_root_mean_squared_error: 1.5075 - y_output_root_mean_squared_error: 1.5141 - val_loss: 4.3973 - val_x_output_loss: 2.2161 - val_y_output_loss: 2.1812 - val_x_output_root_mean_squared_error: 1.4887 - val_y_output_root_mean_squared_error: 1.4769\n",
      "Epoch 71/200\n",
      "5000/5000 [==============================] - 11s 2ms/step - loss: 4.5608 - x_output_loss: 2.2733 - y_output_loss: 2.2875 - x_output_root_mean_squared_error: 1.5078 - y_output_root_mean_squared_error: 1.5125 - val_loss: 4.9339 - val_x_output_loss: 2.2136 - val_y_output_loss: 2.7203 - val_x_output_root_mean_squared_error: 1.4878 - val_y_output_root_mean_squared_error: 1.6493\n",
      "Epoch 72/200\n",
      "5000/5000 [==============================] - 11s 2ms/step - loss: 4.5531 - x_output_loss: 2.2690 - y_output_loss: 2.2841 - x_output_root_mean_squared_error: 1.5063 - y_output_root_mean_squared_error: 1.5113 - val_loss: 4.9156 - val_x_output_loss: 2.3246 - val_y_output_loss: 2.5910 - val_x_output_root_mean_squared_error: 1.5247 - val_y_output_root_mean_squared_error: 1.6096\n",
      "Epoch 73/200\n",
      "5000/5000 [==============================] - 11s 2ms/step - loss: 4.5568 - x_output_loss: 2.2685 - y_output_loss: 2.2883 - x_output_root_mean_squared_error: 1.5062 - y_output_root_mean_squared_error: 1.5127 - val_loss: 4.9955 - val_x_output_loss: 2.4341 - val_y_output_loss: 2.5615 - val_x_output_root_mean_squared_error: 1.5601 - val_y_output_root_mean_squared_error: 1.6005\n",
      "Epoch 74/200\n",
      "5000/5000 [==============================] - 11s 2ms/step - loss: 4.5459 - x_output_loss: 2.2669 - y_output_loss: 2.2790 - x_output_root_mean_squared_error: 1.5056 - y_output_root_mean_squared_error: 1.5096 - val_loss: 4.8179 - val_x_output_loss: 2.3044 - val_y_output_loss: 2.5135 - val_x_output_root_mean_squared_error: 1.5180 - val_y_output_root_mean_squared_error: 1.5854\n",
      "Epoch 75/200\n",
      "5000/5000 [==============================] - 11s 2ms/step - loss: 4.5485 - x_output_loss: 2.2653 - y_output_loss: 2.2832 - x_output_root_mean_squared_error: 1.5051 - y_output_root_mean_squared_error: 1.5110 - val_loss: 4.5307 - val_x_output_loss: 2.2570 - val_y_output_loss: 2.2736 - val_x_output_root_mean_squared_error: 1.5023 - val_y_output_root_mean_squared_error: 1.5079\n",
      "Epoch 76/200\n",
      "5000/5000 [==============================] - 11s 2ms/step - loss: 4.5346 - x_output_loss: 2.2620 - y_output_loss: 2.2726 - x_output_root_mean_squared_error: 1.5040 - y_output_root_mean_squared_error: 1.5075 - val_loss: 4.5580 - val_x_output_loss: 2.2344 - val_y_output_loss: 2.3237 - val_x_output_root_mean_squared_error: 1.4948 - val_y_output_root_mean_squared_error: 1.5244\n",
      "Epoch 77/200\n",
      "5000/5000 [==============================] - 11s 2ms/step - loss: 4.5280 - x_output_loss: 2.2602 - y_output_loss: 2.2678 - x_output_root_mean_squared_error: 1.5034 - y_output_root_mean_squared_error: 1.5059 - val_loss: 4.6596 - val_x_output_loss: 2.2021 - val_y_output_loss: 2.4576 - val_x_output_root_mean_squared_error: 1.4839 - val_y_output_root_mean_squared_error: 1.5677\n",
      "Epoch 78/200\n",
      "5000/5000 [==============================] - 11s 2ms/step - loss: 4.5303 - x_output_loss: 2.2584 - y_output_loss: 2.2720 - x_output_root_mean_squared_error: 1.5028 - y_output_root_mean_squared_error: 1.5073 - val_loss: 4.4136 - val_x_output_loss: 2.2522 - val_y_output_loss: 2.1614 - val_x_output_root_mean_squared_error: 1.5007 - val_y_output_root_mean_squared_error: 1.4702\n",
      "Epoch 79/200\n",
      "5000/5000 [==============================] - 11s 2ms/step - loss: 4.5188 - x_output_loss: 2.2563 - y_output_loss: 2.2625 - x_output_root_mean_squared_error: 1.5021 - y_output_root_mean_squared_error: 1.5042 - val_loss: 4.6180 - val_x_output_loss: 2.2415 - val_y_output_loss: 2.3765 - val_x_output_root_mean_squared_error: 1.4972 - val_y_output_root_mean_squared_error: 1.5416\n",
      "Epoch 80/200\n",
      "5000/5000 [==============================] - 11s 2ms/step - loss: 4.5168 - x_output_loss: 2.2510 - y_output_loss: 2.2657 - x_output_root_mean_squared_error: 1.5003 - y_output_root_mean_squared_error: 1.5052 - val_loss: 4.6651 - val_x_output_loss: 2.2003 - val_y_output_loss: 2.4648 - val_x_output_root_mean_squared_error: 1.4834 - val_y_output_root_mean_squared_error: 1.5700\n",
      "Epoch 81/200\n",
      "5000/5000 [==============================] - 11s 2ms/step - loss: 4.5136 - x_output_loss: 2.2554 - y_output_loss: 2.2582 - x_output_root_mean_squared_error: 1.5018 - y_output_root_mean_squared_error: 1.5027 - val_loss: 4.4916 - val_x_output_loss: 2.1803 - val_y_output_loss: 2.3112 - val_x_output_root_mean_squared_error: 1.4766 - val_y_output_root_mean_squared_error: 1.5203\n",
      "Epoch 82/200\n",
      "5000/5000 [==============================] - 11s 2ms/step - loss: 4.5259 - x_output_loss: 2.2559 - y_output_loss: 2.2700 - x_output_root_mean_squared_error: 1.5020 - y_output_root_mean_squared_error: 1.5067 - val_loss: 4.5971 - val_x_output_loss: 2.2721 - val_y_output_loss: 2.3250 - val_x_output_root_mean_squared_error: 1.5073 - val_y_output_root_mean_squared_error: 1.5248\n",
      "Epoch 83/200\n",
      "5000/5000 [==============================] - 11s 2ms/step - loss: 4.4996 - x_output_loss: 2.2486 - y_output_loss: 2.2509 - x_output_root_mean_squared_error: 1.4995 - y_output_root_mean_squared_error: 1.5003 - val_loss: 4.7467 - val_x_output_loss: 2.2400 - val_y_output_loss: 2.5067 - val_x_output_root_mean_squared_error: 1.4967 - val_y_output_root_mean_squared_error: 1.5833\n",
      "Epoch 84/200\n",
      "5000/5000 [==============================] - 11s 2ms/step - loss: 4.4883 - x_output_loss: 2.2482 - y_output_loss: 2.2401 - x_output_root_mean_squared_error: 1.4994 - y_output_root_mean_squared_error: 1.4967 - val_loss: 4.3566 - val_x_output_loss: 2.1790 - val_y_output_loss: 2.1776 - val_x_output_root_mean_squared_error: 1.4762 - val_y_output_root_mean_squared_error: 1.4757\n",
      "Epoch 85/200\n"
     ]
    },
    {
     "name": "stdout",
     "output_type": "stream",
     "text": [
      "5000/5000 [==============================] - 11s 2ms/step - loss: 4.4832 - x_output_loss: 2.2454 - y_output_loss: 2.2378 - x_output_root_mean_squared_error: 1.4985 - y_output_root_mean_squared_error: 1.4959 - val_loss: 4.5157 - val_x_output_loss: 2.1943 - val_y_output_loss: 2.3214 - val_x_output_root_mean_squared_error: 1.4813 - val_y_output_root_mean_squared_error: 1.5236\n",
      "Epoch 86/200\n",
      "5000/5000 [==============================] - 12s 2ms/step - loss: 4.4848 - x_output_loss: 2.2415 - y_output_loss: 2.2433 - x_output_root_mean_squared_error: 1.4972 - y_output_root_mean_squared_error: 1.4978 - val_loss: 4.6800 - val_x_output_loss: 2.2979 - val_y_output_loss: 2.3821 - val_x_output_root_mean_squared_error: 1.5159 - val_y_output_root_mean_squared_error: 1.5434\n",
      "Epoch 87/200\n",
      "5000/5000 [==============================] - 11s 2ms/step - loss: 4.4836 - x_output_loss: 2.2440 - y_output_loss: 2.2396 - x_output_root_mean_squared_error: 1.4980 - y_output_root_mean_squared_error: 1.4965 - val_loss: 4.5685 - val_x_output_loss: 2.1872 - val_y_output_loss: 2.3813 - val_x_output_root_mean_squared_error: 1.4789 - val_y_output_root_mean_squared_error: 1.5432\n",
      "Epoch 88/200\n",
      "5000/5000 [==============================] - 11s 2ms/step - loss: 4.4719 - x_output_loss: 2.2385 - y_output_loss: 2.2334 - x_output_root_mean_squared_error: 1.4962 - y_output_root_mean_squared_error: 1.4945 - val_loss: 4.5658 - val_x_output_loss: 2.2710 - val_y_output_loss: 2.2948 - val_x_output_root_mean_squared_error: 1.5070 - val_y_output_root_mean_squared_error: 1.5148\n",
      "Epoch 89/200\n",
      "5000/5000 [==============================] - 11s 2ms/step - loss: 4.4875 - x_output_loss: 2.2428 - y_output_loss: 2.2447 - x_output_root_mean_squared_error: 1.4976 - y_output_root_mean_squared_error: 1.4982 - val_loss: 4.3731 - val_x_output_loss: 2.1968 - val_y_output_loss: 2.1763 - val_x_output_root_mean_squared_error: 1.4822 - val_y_output_root_mean_squared_error: 1.4752\n",
      "Epoch 90/200\n",
      "5000/5000 [==============================] - 11s 2ms/step - loss: 4.4631 - x_output_loss: 2.2347 - y_output_loss: 2.2285 - x_output_root_mean_squared_error: 1.4949 - y_output_root_mean_squared_error: 1.4928 - val_loss: 4.7225 - val_x_output_loss: 2.3689 - val_y_output_loss: 2.3536 - val_x_output_root_mean_squared_error: 1.5391 - val_y_output_root_mean_squared_error: 1.5341\n",
      "Epoch 91/200\n",
      "5000/5000 [==============================] - 11s 2ms/step - loss: 4.4646 - x_output_loss: 2.2329 - y_output_loss: 2.2316 - x_output_root_mean_squared_error: 1.4943 - y_output_root_mean_squared_error: 1.4939 - val_loss: 4.2884 - val_x_output_loss: 2.1781 - val_y_output_loss: 2.1102 - val_x_output_root_mean_squared_error: 1.4759 - val_y_output_root_mean_squared_error: 1.4527\n",
      "Epoch 92/200\n",
      "5000/5000 [==============================] - 11s 2ms/step - loss: 4.4482 - x_output_loss: 2.2288 - y_output_loss: 2.2194 - x_output_root_mean_squared_error: 1.4929 - y_output_root_mean_squared_error: 1.4897 - val_loss: 4.4378 - val_x_output_loss: 2.1909 - val_y_output_loss: 2.2469 - val_x_output_root_mean_squared_error: 1.4802 - val_y_output_root_mean_squared_error: 1.4990\n",
      "Epoch 93/200\n",
      "5000/5000 [==============================] - 11s 2ms/step - loss: 4.4543 - x_output_loss: 2.2331 - y_output_loss: 2.2211 - x_output_root_mean_squared_error: 1.4944 - y_output_root_mean_squared_error: 1.4904 - val_loss: 4.3985 - val_x_output_loss: 2.1775 - val_y_output_loss: 2.2210 - val_x_output_root_mean_squared_error: 1.4756 - val_y_output_root_mean_squared_error: 1.4903\n",
      "Epoch 94/200\n",
      "5000/5000 [==============================] - 11s 2ms/step - loss: 4.4516 - x_output_loss: 2.2332 - y_output_loss: 2.2184 - x_output_root_mean_squared_error: 1.4944 - y_output_root_mean_squared_error: 1.4894 - val_loss: 4.3663 - val_x_output_loss: 2.2366 - val_y_output_loss: 2.1297 - val_x_output_root_mean_squared_error: 1.4955 - val_y_output_root_mean_squared_error: 1.4594\n",
      "Epoch 95/200\n",
      "5000/5000 [==============================] - 11s 2ms/step - loss: 4.4412 - x_output_loss: 2.2273 - y_output_loss: 2.2139 - x_output_root_mean_squared_error: 1.4924 - y_output_root_mean_squared_error: 1.4879 - val_loss: 4.5110 - val_x_output_loss: 2.2446 - val_y_output_loss: 2.2663 - val_x_output_root_mean_squared_error: 1.4982 - val_y_output_root_mean_squared_error: 1.5054\n",
      "Epoch 96/200\n",
      "5000/5000 [==============================] - 11s 2ms/step - loss: 4.4286 - x_output_loss: 2.2263 - y_output_loss: 2.2023 - x_output_root_mean_squared_error: 1.4921 - y_output_root_mean_squared_error: 1.4840 - val_loss: 4.4125 - val_x_output_loss: 2.1774 - val_y_output_loss: 2.2352 - val_x_output_root_mean_squared_error: 1.4756 - val_y_output_root_mean_squared_error: 1.4951\n",
      "Epoch 97/200\n",
      "5000/5000 [==============================] - 11s 2ms/step - loss: 4.4382 - x_output_loss: 2.2275 - y_output_loss: 2.2107 - x_output_root_mean_squared_error: 1.4925 - y_output_root_mean_squared_error: 1.4868 - val_loss: 4.3507 - val_x_output_loss: 2.2031 - val_y_output_loss: 2.1476 - val_x_output_root_mean_squared_error: 1.4843 - val_y_output_root_mean_squared_error: 1.4655\n",
      "Epoch 98/200\n",
      "5000/5000 [==============================] - 11s 2ms/step - loss: 4.4320 - x_output_loss: 2.2254 - y_output_loss: 2.2066 - x_output_root_mean_squared_error: 1.4918 - y_output_root_mean_squared_error: 1.4855 - val_loss: 4.3562 - val_x_output_loss: 2.1850 - val_y_output_loss: 2.1713 - val_x_output_root_mean_squared_error: 1.4782 - val_y_output_root_mean_squared_error: 1.4735\n",
      "Epoch 99/200\n",
      "5000/5000 [==============================] - 11s 2ms/step - loss: 4.4312 - x_output_loss: 2.2208 - y_output_loss: 2.2104 - x_output_root_mean_squared_error: 1.4902 - y_output_root_mean_squared_error: 1.4868 - val_loss: 4.3728 - val_x_output_loss: 2.1750 - val_y_output_loss: 2.1978 - val_x_output_root_mean_squared_error: 1.4748 - val_y_output_root_mean_squared_error: 1.4825\n",
      "Epoch 100/200\n",
      "5000/5000 [==============================] - 11s 2ms/step - loss: 4.4315 - x_output_loss: 2.2239 - y_output_loss: 2.2077 - x_output_root_mean_squared_error: 1.4913 - y_output_root_mean_squared_error: 1.4858 - val_loss: 4.3226 - val_x_output_loss: 2.1583 - val_y_output_loss: 2.1643 - val_x_output_root_mean_squared_error: 1.4691 - val_y_output_root_mean_squared_error: 1.4711\n",
      "Epoch 101/200\n",
      "5000/5000 [==============================] - 11s 2ms/step - loss: 4.4167 - x_output_loss: 2.2196 - y_output_loss: 2.1971 - x_output_root_mean_squared_error: 1.4898 - y_output_root_mean_squared_error: 1.4823 - val_loss: 4.2481 - val_x_output_loss: 2.1567 - val_y_output_loss: 2.0915 - val_x_output_root_mean_squared_error: 1.4686 - val_y_output_root_mean_squared_error: 1.4462\n",
      "Epoch 102/200\n",
      "5000/5000 [==============================] - 12s 2ms/step - loss: 4.4128 - x_output_loss: 2.2154 - y_output_loss: 2.1974 - x_output_root_mean_squared_error: 1.4884 - y_output_root_mean_squared_error: 1.4824 - val_loss: 4.4783 - val_x_output_loss: 2.1774 - val_y_output_loss: 2.3009 - val_x_output_root_mean_squared_error: 1.4756 - val_y_output_root_mean_squared_error: 1.5169\n",
      "Epoch 103/200\n",
      "5000/5000 [==============================] - 11s 2ms/step - loss: 4.4149 - x_output_loss: 2.2156 - y_output_loss: 2.1993 - x_output_root_mean_squared_error: 1.4885 - y_output_root_mean_squared_error: 1.4830 - val_loss: 4.3267 - val_x_output_loss: 2.1763 - val_y_output_loss: 2.1503 - val_x_output_root_mean_squared_error: 1.4752 - val_y_output_root_mean_squared_error: 1.4664\n",
      "Epoch 104/200\n",
      "5000/5000 [==============================] - 11s 2ms/step - loss: 4.4116 - x_output_loss: 2.2152 - y_output_loss: 2.1963 - x_output_root_mean_squared_error: 1.4884 - y_output_root_mean_squared_error: 1.4820 - val_loss: 4.3384 - val_x_output_loss: 2.2356 - val_y_output_loss: 2.1028 - val_x_output_root_mean_squared_error: 1.4952 - val_y_output_root_mean_squared_error: 1.4501\n",
      "Epoch 105/200\n",
      "5000/5000 [==============================] - 11s 2ms/step - loss: 4.3857 - x_output_loss: 2.2092 - y_output_loss: 2.1766 - x_output_root_mean_squared_error: 1.4863 - y_output_root_mean_squared_error: 1.4753 - val_loss: 4.3962 - val_x_output_loss: 2.1532 - val_y_output_loss: 2.2430 - val_x_output_root_mean_squared_error: 1.4674 - val_y_output_root_mean_squared_error: 1.4977\n",
      "Epoch 106/200\n",
      "5000/5000 [==============================] - 11s 2ms/step - loss: 4.3965 - x_output_loss: 2.2106 - y_output_loss: 2.1860 - x_output_root_mean_squared_error: 1.4868 - y_output_root_mean_squared_error: 1.4785 - val_loss: 4.4337 - val_x_output_loss: 2.2595 - val_y_output_loss: 2.1741 - val_x_output_root_mean_squared_error: 1.5032 - val_y_output_root_mean_squared_error: 1.4745\n",
      "Epoch 107/200\n",
      "5000/5000 [==============================] - 11s 2ms/step - loss: 4.3975 - x_output_loss: 2.2113 - y_output_loss: 2.1861 - x_output_root_mean_squared_error: 1.4870 - y_output_root_mean_squared_error: 1.4786 - val_loss: 4.4840 - val_x_output_loss: 2.1497 - val_y_output_loss: 2.3342 - val_x_output_root_mean_squared_error: 1.4662 - val_y_output_root_mean_squared_error: 1.5278\n",
      "Epoch 108/200\n",
      "5000/5000 [==============================] - 11s 2ms/step - loss: 4.3982 - x_output_loss: 2.2080 - y_output_loss: 2.1901 - x_output_root_mean_squared_error: 1.4859 - y_output_root_mean_squared_error: 1.4799 - val_loss: 4.4761 - val_x_output_loss: 2.1705 - val_y_output_loss: 2.3056 - val_x_output_root_mean_squared_error: 1.4733 - val_y_output_root_mean_squared_error: 1.5184\n",
      "Epoch 109/200\n",
      "5000/5000 [==============================] - 11s 2ms/step - loss: 4.3901 - x_output_loss: 2.2070 - y_output_loss: 2.1831 - x_output_root_mean_squared_error: 1.4856 - y_output_root_mean_squared_error: 1.4775 - val_loss: 4.2666 - val_x_output_loss: 2.1607 - val_y_output_loss: 2.1059 - val_x_output_root_mean_squared_error: 1.4699 - val_y_output_root_mean_squared_error: 1.4512\n",
      "Epoch 110/200\n",
      "5000/5000 [==============================] - 11s 2ms/step - loss: 4.3832 - x_output_loss: 2.2065 - y_output_loss: 2.1767 - x_output_root_mean_squared_error: 1.4854 - y_output_root_mean_squared_error: 1.4754 - val_loss: 4.3543 - val_x_output_loss: 2.1806 - val_y_output_loss: 2.1738 - val_x_output_root_mean_squared_error: 1.4767 - val_y_output_root_mean_squared_error: 1.4744\n",
      "Epoch 111/200\n",
      "5000/5000 [==============================] - 11s 2ms/step - loss: 4.3780 - x_output_loss: 2.2025 - y_output_loss: 2.1754 - x_output_root_mean_squared_error: 1.4841 - y_output_root_mean_squared_error: 1.4749 - val_loss: 4.8401 - val_x_output_loss: 2.1572 - val_y_output_loss: 2.6829 - val_x_output_root_mean_squared_error: 1.4687 - val_y_output_root_mean_squared_error: 1.6379\n",
      "Epoch 112/200\n",
      "5000/5000 [==============================] - 11s 2ms/step - loss: 4.3856 - x_output_loss: 2.2026 - y_output_loss: 2.1831 - x_output_root_mean_squared_error: 1.4841 - y_output_root_mean_squared_error: 1.4775 - val_loss: 4.3191 - val_x_output_loss: 2.2037 - val_y_output_loss: 2.1153 - val_x_output_root_mean_squared_error: 1.4845 - val_y_output_root_mean_squared_error: 1.4544\n",
      "Epoch 113/200\n",
      "5000/5000 [==============================] - 11s 2ms/step - loss: 4.3804 - x_output_loss: 2.2042 - y_output_loss: 2.1762 - x_output_root_mean_squared_error: 1.4847 - y_output_root_mean_squared_error: 1.4752 - val_loss: 4.9644 - val_x_output_loss: 2.2389 - val_y_output_loss: 2.7256 - val_x_output_root_mean_squared_error: 1.4963 - val_y_output_root_mean_squared_error: 1.6509\n",
      "Epoch 114/200\n",
      "5000/5000 [==============================] - 11s 2ms/step - loss: 4.3685 - x_output_loss: 2.2005 - y_output_loss: 2.1680 - x_output_root_mean_squared_error: 1.4834 - y_output_root_mean_squared_error: 1.4724 - val_loss: 4.5935 - val_x_output_loss: 2.1374 - val_y_output_loss: 2.4561 - val_x_output_root_mean_squared_error: 1.4620 - val_y_output_root_mean_squared_error: 1.5672\n",
      "Epoch 115/200\n",
      "5000/5000 [==============================] - 11s 2ms/step - loss: 4.3719 - x_output_loss: 2.2003 - y_output_loss: 2.1716 - x_output_root_mean_squared_error: 1.4833 - y_output_root_mean_squared_error: 1.4736 - val_loss: 4.2614 - val_x_output_loss: 2.1647 - val_y_output_loss: 2.0967 - val_x_output_root_mean_squared_error: 1.4713 - val_y_output_root_mean_squared_error: 1.4480\n",
      "Epoch 116/200\n",
      "5000/5000 [==============================] - 11s 2ms/step - loss: 4.3597 - x_output_loss: 2.1956 - y_output_loss: 2.1641 - x_output_root_mean_squared_error: 1.4817 - y_output_root_mean_squared_error: 1.4711 - val_loss: 4.2272 - val_x_output_loss: 2.1274 - val_y_output_loss: 2.0999 - val_x_output_root_mean_squared_error: 1.4586 - val_y_output_root_mean_squared_error: 1.4491\n",
      "Epoch 117/200\n",
      "5000/5000 [==============================] - 11s 2ms/step - loss: 4.3532 - x_output_loss: 2.1947 - y_output_loss: 2.1585 - x_output_root_mean_squared_error: 1.4815 - y_output_root_mean_squared_error: 1.4692 - val_loss: 4.3726 - val_x_output_loss: 2.2739 - val_y_output_loss: 2.0988 - val_x_output_root_mean_squared_error: 1.5079 - val_y_output_root_mean_squared_error: 1.4487\n",
      "Epoch 118/200\n",
      "5000/5000 [==============================] - 11s 2ms/step - loss: 4.3564 - x_output_loss: 2.1938 - y_output_loss: 2.1626 - x_output_root_mean_squared_error: 1.4811 - y_output_root_mean_squared_error: 1.4706 - val_loss: 4.1995 - val_x_output_loss: 2.1420 - val_y_output_loss: 2.0575 - val_x_output_root_mean_squared_error: 1.4636 - val_y_output_root_mean_squared_error: 1.4344\n",
      "Epoch 119/200\n",
      "5000/5000 [==============================] - 11s 2ms/step - loss: 4.3569 - x_output_loss: 2.1929 - y_output_loss: 2.1641 - x_output_root_mean_squared_error: 1.4808 - y_output_root_mean_squared_error: 1.4711 - val_loss: 4.3090 - val_x_output_loss: 2.1861 - val_y_output_loss: 2.1229 - val_x_output_root_mean_squared_error: 1.4785 - val_y_output_root_mean_squared_error: 1.4570\n",
      "Epoch 120/200\n",
      "5000/5000 [==============================] - 11s 2ms/step - loss: 4.3633 - x_output_loss: 2.1958 - y_output_loss: 2.1675 - x_output_root_mean_squared_error: 1.4818 - y_output_root_mean_squared_error: 1.4722 - val_loss: 4.4311 - val_x_output_loss: 2.1816 - val_y_output_loss: 2.2495 - val_x_output_root_mean_squared_error: 1.4770 - val_y_output_root_mean_squared_error: 1.4998\n",
      "Epoch 121/200\n",
      "5000/5000 [==============================] - 11s 2ms/step - loss: 4.3405 - x_output_loss: 2.1921 - y_output_loss: 2.1484 - x_output_root_mean_squared_error: 1.4806 - y_output_root_mean_squared_error: 1.4658 - val_loss: 4.4345 - val_x_output_loss: 2.2589 - val_y_output_loss: 2.1755 - val_x_output_root_mean_squared_error: 1.5030 - val_y_output_root_mean_squared_error: 1.4750\n",
      "Epoch 122/200\n",
      "5000/5000 [==============================] - 11s 2ms/step - loss: 4.3487 - x_output_loss: 2.1928 - y_output_loss: 2.1559 - x_output_root_mean_squared_error: 1.4808 - y_output_root_mean_squared_error: 1.4683 - val_loss: 4.3139 - val_x_output_loss: 2.1409 - val_y_output_loss: 2.1730 - val_x_output_root_mean_squared_error: 1.4632 - val_y_output_root_mean_squared_error: 1.4741\n",
      "Epoch 123/200\n",
      "5000/5000 [==============================] - 11s 2ms/step - loss: 4.3465 - x_output_loss: 2.1896 - y_output_loss: 2.1569 - x_output_root_mean_squared_error: 1.4797 - y_output_root_mean_squared_error: 1.4686 - val_loss: 4.9735 - val_x_output_loss: 2.1563 - val_y_output_loss: 2.8171 - val_x_output_root_mean_squared_error: 1.4684 - val_y_output_root_mean_squared_error: 1.6784\n",
      "Epoch 124/200\n",
      "5000/5000 [==============================] - 11s 2ms/step - loss: 4.3390 - x_output_loss: 2.1912 - y_output_loss: 2.1478 - x_output_root_mean_squared_error: 1.4803 - y_output_root_mean_squared_error: 1.4655 - val_loss: 4.3789 - val_x_output_loss: 2.1481 - val_y_output_loss: 2.2308 - val_x_output_root_mean_squared_error: 1.4656 - val_y_output_root_mean_squared_error: 1.4936\n",
      "Epoch 125/200\n",
      "5000/5000 [==============================] - 11s 2ms/step - loss: 4.3375 - x_output_loss: 2.1884 - y_output_loss: 2.1491 - x_output_root_mean_squared_error: 1.4793 - y_output_root_mean_squared_error: 1.4660 - val_loss: 4.3211 - val_x_output_loss: 2.1301 - val_y_output_loss: 2.1911 - val_x_output_root_mean_squared_error: 1.4595 - val_y_output_root_mean_squared_error: 1.4802\n",
      "Epoch 126/200\n",
      "5000/5000 [==============================] - 11s 2ms/step - loss: 4.3296 - x_output_loss: 2.1883 - y_output_loss: 2.1413 - x_output_root_mean_squared_error: 1.4793 - y_output_root_mean_squared_error: 1.4633 - val_loss: 4.2918 - val_x_output_loss: 2.1490 - val_y_output_loss: 2.1428 - val_x_output_root_mean_squared_error: 1.4659 - val_y_output_root_mean_squared_error: 1.4638\n",
      "Epoch 127/200\n"
     ]
    },
    {
     "name": "stdout",
     "output_type": "stream",
     "text": [
      "5000/5000 [==============================] - 11s 2ms/step - loss: 4.3197 - x_output_loss: 2.1868 - y_output_loss: 2.1329 - x_output_root_mean_squared_error: 1.4788 - y_output_root_mean_squared_error: 1.4605 - val_loss: 4.4341 - val_x_output_loss: 2.1237 - val_y_output_loss: 2.3104 - val_x_output_root_mean_squared_error: 1.4573 - val_y_output_root_mean_squared_error: 1.5200\n",
      "Epoch 128/200\n",
      "5000/5000 [==============================] - 11s 2ms/step - loss: 4.3348 - x_output_loss: 2.1856 - y_output_loss: 2.1492 - x_output_root_mean_squared_error: 1.4784 - y_output_root_mean_squared_error: 1.4660 - val_loss: 4.3942 - val_x_output_loss: 2.1772 - val_y_output_loss: 2.2169 - val_x_output_root_mean_squared_error: 1.4755 - val_y_output_root_mean_squared_error: 1.4889\n",
      "Epoch 129/200\n",
      "5000/5000 [==============================] - 11s 2ms/step - loss: 4.3247 - x_output_loss: 2.1852 - y_output_loss: 2.1395 - x_output_root_mean_squared_error: 1.4782 - y_output_root_mean_squared_error: 1.4627 - val_loss: 4.2459 - val_x_output_loss: 2.1934 - val_y_output_loss: 2.0525 - val_x_output_root_mean_squared_error: 1.4810 - val_y_output_root_mean_squared_error: 1.4326\n",
      "Epoch 130/200\n",
      "5000/5000 [==============================] - 11s 2ms/step - loss: 4.3192 - x_output_loss: 2.1847 - y_output_loss: 2.1344 - x_output_root_mean_squared_error: 1.4781 - y_output_root_mean_squared_error: 1.4610 - val_loss: 4.2710 - val_x_output_loss: 2.1611 - val_y_output_loss: 2.1099 - val_x_output_root_mean_squared_error: 1.4701 - val_y_output_root_mean_squared_error: 1.4525\n",
      "Epoch 131/200\n",
      "5000/5000 [==============================] - 11s 2ms/step - loss: 4.3087 - x_output_loss: 2.1784 - y_output_loss: 2.1303 - x_output_root_mean_squared_error: 1.4759 - y_output_root_mean_squared_error: 1.4596 - val_loss: 4.1914 - val_x_output_loss: 2.1062 - val_y_output_loss: 2.0853 - val_x_output_root_mean_squared_error: 1.4513 - val_y_output_root_mean_squared_error: 1.4441\n",
      "Epoch 132/200\n",
      "5000/5000 [==============================] - 11s 2ms/step - loss: 4.3159 - x_output_loss: 2.1833 - y_output_loss: 2.1326 - x_output_root_mean_squared_error: 1.4776 - y_output_root_mean_squared_error: 1.4603 - val_loss: 4.3797 - val_x_output_loss: 2.2286 - val_y_output_loss: 2.1510 - val_x_output_root_mean_squared_error: 1.4929 - val_y_output_root_mean_squared_error: 1.4666\n",
      "Epoch 133/200\n",
      "5000/5000 [==============================] - 11s 2ms/step - loss: 4.3093 - x_output_loss: 2.1798 - y_output_loss: 2.1294 - x_output_root_mean_squared_error: 1.4764 - y_output_root_mean_squared_error: 1.4593 - val_loss: 4.3582 - val_x_output_loss: 2.2468 - val_y_output_loss: 2.1115 - val_x_output_root_mean_squared_error: 1.4989 - val_y_output_root_mean_squared_error: 1.4531\n",
      "Epoch 134/200\n",
      "5000/5000 [==============================] - 11s 2ms/step - loss: 4.3070 - x_output_loss: 2.1809 - y_output_loss: 2.1261 - x_output_root_mean_squared_error: 1.4768 - y_output_root_mean_squared_error: 1.4581 - val_loss: 4.4037 - val_x_output_loss: 2.1654 - val_y_output_loss: 2.2384 - val_x_output_root_mean_squared_error: 1.4715 - val_y_output_root_mean_squared_error: 1.4961\n",
      "Epoch 135/200\n",
      "5000/5000 [==============================] - 11s 2ms/step - loss: 4.3074 - x_output_loss: 2.1801 - y_output_loss: 2.1273 - x_output_root_mean_squared_error: 1.4765 - y_output_root_mean_squared_error: 1.4585 - val_loss: 4.2377 - val_x_output_loss: 2.1499 - val_y_output_loss: 2.0879 - val_x_output_root_mean_squared_error: 1.4662 - val_y_output_root_mean_squared_error: 1.4449\n",
      "Epoch 136/200\n",
      "5000/5000 [==============================] - 11s 2ms/step - loss: 4.2987 - x_output_loss: 2.1782 - y_output_loss: 2.1205 - x_output_root_mean_squared_error: 1.4759 - y_output_root_mean_squared_error: 1.4562 - val_loss: 4.1883 - val_x_output_loss: 2.0984 - val_y_output_loss: 2.0899 - val_x_output_root_mean_squared_error: 1.4486 - val_y_output_root_mean_squared_error: 1.4457\n",
      "Epoch 137/200\n",
      "5000/5000 [==============================] - 11s 2ms/step - loss: 4.2985 - x_output_loss: 2.1770 - y_output_loss: 2.1214 - x_output_root_mean_squared_error: 1.4755 - y_output_root_mean_squared_error: 1.4565 - val_loss: 4.3291 - val_x_output_loss: 2.1444 - val_y_output_loss: 2.1846 - val_x_output_root_mean_squared_error: 1.4644 - val_y_output_root_mean_squared_error: 1.4781\n",
      "Epoch 138/200\n",
      "5000/5000 [==============================] - 11s 2ms/step - loss: 4.2779 - x_output_loss: 2.1720 - y_output_loss: 2.1058 - x_output_root_mean_squared_error: 1.4738 - y_output_root_mean_squared_error: 1.4511 - val_loss: 4.4019 - val_x_output_loss: 2.1710 - val_y_output_loss: 2.2309 - val_x_output_root_mean_squared_error: 1.4734 - val_y_output_root_mean_squared_error: 1.4936\n",
      "Epoch 139/200\n",
      "5000/5000 [==============================] - 11s 2ms/step - loss: 4.3098 - x_output_loss: 2.1724 - y_output_loss: 2.1374 - x_output_root_mean_squared_error: 1.4739 - y_output_root_mean_squared_error: 1.4620 - val_loss: 4.7286 - val_x_output_loss: 2.1578 - val_y_output_loss: 2.5707 - val_x_output_root_mean_squared_error: 1.4690 - val_y_output_root_mean_squared_error: 1.6034\n",
      "Epoch 140/200\n",
      "5000/5000 [==============================] - 11s 2ms/step - loss: 4.2969 - x_output_loss: 2.1727 - y_output_loss: 2.1242 - x_output_root_mean_squared_error: 1.4740 - y_output_root_mean_squared_error: 1.4575 - val_loss: 4.3111 - val_x_output_loss: 2.2079 - val_y_output_loss: 2.1032 - val_x_output_root_mean_squared_error: 1.4859 - val_y_output_root_mean_squared_error: 1.4502\n",
      "Epoch 141/200\n",
      "5000/5000 [==============================] - 11s 2ms/step - loss: 4.2869 - x_output_loss: 2.1711 - y_output_loss: 2.1157 - x_output_root_mean_squared_error: 1.4735 - y_output_root_mean_squared_error: 1.4546 - val_loss: 4.2539 - val_x_output_loss: 2.1574 - val_y_output_loss: 2.0965 - val_x_output_root_mean_squared_error: 1.4688 - val_y_output_root_mean_squared_error: 1.4479\n",
      "Epoch 142/200\n",
      "5000/5000 [==============================] - 11s 2ms/step - loss: 4.2854 - x_output_loss: 2.1697 - y_output_loss: 2.1158 - x_output_root_mean_squared_error: 1.4730 - y_output_root_mean_squared_error: 1.4546 - val_loss: 4.2320 - val_x_output_loss: 2.1054 - val_y_output_loss: 2.1266 - val_x_output_root_mean_squared_error: 1.4510 - val_y_output_root_mean_squared_error: 1.4583\n",
      "Epoch 143/200\n",
      "5000/5000 [==============================] - 11s 2ms/step - loss: 4.2752 - x_output_loss: 2.1693 - y_output_loss: 2.1059 - x_output_root_mean_squared_error: 1.4728 - y_output_root_mean_squared_error: 1.4512 - val_loss: 4.7894 - val_x_output_loss: 2.2743 - val_y_output_loss: 2.5150 - val_x_output_root_mean_squared_error: 1.5081 - val_y_output_root_mean_squared_error: 1.5859\n",
      "Epoch 144/200\n",
      "5000/5000 [==============================] - 11s 2ms/step - loss: 4.2784 - x_output_loss: 2.1675 - y_output_loss: 2.1109 - x_output_root_mean_squared_error: 1.4722 - y_output_root_mean_squared_error: 1.4529 - val_loss: 4.1932 - val_x_output_loss: 2.1749 - val_y_output_loss: 2.0183 - val_x_output_root_mean_squared_error: 1.4748 - val_y_output_root_mean_squared_error: 1.4207\n",
      "Epoch 145/200\n",
      "5000/5000 [==============================] - 11s 2ms/step - loss: 4.2741 - x_output_loss: 2.1667 - y_output_loss: 2.1073 - x_output_root_mean_squared_error: 1.4720 - y_output_root_mean_squared_error: 1.4517 - val_loss: 4.2168 - val_x_output_loss: 2.1424 - val_y_output_loss: 2.0743 - val_x_output_root_mean_squared_error: 1.4637 - val_y_output_root_mean_squared_error: 1.4402\n",
      "Epoch 146/200\n",
      "5000/5000 [==============================] - 11s 2ms/step - loss: 4.2643 - x_output_loss: 2.1665 - y_output_loss: 2.0978 - x_output_root_mean_squared_error: 1.4719 - y_output_root_mean_squared_error: 1.4484 - val_loss: 4.2827 - val_x_output_loss: 2.2292 - val_y_output_loss: 2.0534 - val_x_output_root_mean_squared_error: 1.4931 - val_y_output_root_mean_squared_error: 1.4330\n",
      "Epoch 147/200\n",
      "5000/5000 [==============================] - 11s 2ms/step - loss: 4.2688 - x_output_loss: 2.1655 - y_output_loss: 2.1033 - x_output_root_mean_squared_error: 1.4716 - y_output_root_mean_squared_error: 1.4503 - val_loss: 4.5868 - val_x_output_loss: 2.3674 - val_y_output_loss: 2.2193 - val_x_output_root_mean_squared_error: 1.5386 - val_y_output_root_mean_squared_error: 1.4897\n",
      "Epoch 148/200\n",
      "5000/5000 [==============================] - 11s 2ms/step - loss: 4.2590 - x_output_loss: 2.1626 - y_output_loss: 2.0964 - x_output_root_mean_squared_error: 1.4706 - y_output_root_mean_squared_error: 1.4479 - val_loss: 4.2467 - val_x_output_loss: 2.1112 - val_y_output_loss: 2.1355 - val_x_output_root_mean_squared_error: 1.4530 - val_y_output_root_mean_squared_error: 1.4613\n",
      "Epoch 149/200\n",
      "5000/5000 [==============================] - 11s 2ms/step - loss: 4.2542 - x_output_loss: 2.1604 - y_output_loss: 2.0938 - x_output_root_mean_squared_error: 1.4698 - y_output_root_mean_squared_error: 1.4470 - val_loss: 4.2889 - val_x_output_loss: 2.2284 - val_y_output_loss: 2.0605 - val_x_output_root_mean_squared_error: 1.4928 - val_y_output_root_mean_squared_error: 1.4354\n",
      "Epoch 150/200\n",
      "5000/5000 [==============================] - 11s 2ms/step - loss: 4.2434 - x_output_loss: 2.1545 - y_output_loss: 2.0889 - x_output_root_mean_squared_error: 1.4678 - y_output_root_mean_squared_error: 1.4453 - val_loss: 4.1694 - val_x_output_loss: 2.1924 - val_y_output_loss: 1.9771 - val_x_output_root_mean_squared_error: 1.4807 - val_y_output_root_mean_squared_error: 1.4061\n",
      "Epoch 151/200\n",
      "5000/5000 [==============================] - 11s 2ms/step - loss: 4.2481 - x_output_loss: 2.1556 - y_output_loss: 2.0925 - x_output_root_mean_squared_error: 1.4682 - y_output_root_mean_squared_error: 1.4465 - val_loss: 4.4531 - val_x_output_loss: 2.0878 - val_y_output_loss: 2.3653 - val_x_output_root_mean_squared_error: 1.4449 - val_y_output_root_mean_squared_error: 1.5380\n",
      "Epoch 152/200\n",
      "5000/5000 [==============================] - 11s 2ms/step - loss: 4.2445 - x_output_loss: 2.1522 - y_output_loss: 2.0923 - x_output_root_mean_squared_error: 1.4670 - y_output_root_mean_squared_error: 1.4465 - val_loss: 4.8264 - val_x_output_loss: 2.3036 - val_y_output_loss: 2.5228 - val_x_output_root_mean_squared_error: 1.5178 - val_y_output_root_mean_squared_error: 1.5883\n",
      "Epoch 153/200\n",
      "5000/5000 [==============================] - 11s 2ms/step - loss: 4.2458 - x_output_loss: 2.1519 - y_output_loss: 2.0939 - x_output_root_mean_squared_error: 1.4669 - y_output_root_mean_squared_error: 1.4470 - val_loss: 4.1947 - val_x_output_loss: 2.0926 - val_y_output_loss: 2.1021 - val_x_output_root_mean_squared_error: 1.4466 - val_y_output_root_mean_squared_error: 1.4499\n",
      "Epoch 154/200\n",
      "5000/5000 [==============================] - 11s 2ms/step - loss: 4.2423 - x_output_loss: 2.1526 - y_output_loss: 2.0897 - x_output_root_mean_squared_error: 1.4672 - y_output_root_mean_squared_error: 1.4456 - val_loss: 4.1764 - val_x_output_loss: 2.1107 - val_y_output_loss: 2.0657 - val_x_output_root_mean_squared_error: 1.4528 - val_y_output_root_mean_squared_error: 1.4372\n",
      "Epoch 155/200\n",
      "5000/5000 [==============================] - 11s 2ms/step - loss: 4.2415 - x_output_loss: 2.1502 - y_output_loss: 2.0913 - x_output_root_mean_squared_error: 1.4664 - y_output_root_mean_squared_error: 1.4461 - val_loss: 4.3029 - val_x_output_loss: 2.2199 - val_y_output_loss: 2.0830 - val_x_output_root_mean_squared_error: 1.4899 - val_y_output_root_mean_squared_error: 1.4433\n",
      "Epoch 156/200\n",
      "5000/5000 [==============================] - 11s 2ms/step - loss: 4.2296 - x_output_loss: 2.1493 - y_output_loss: 2.0802 - x_output_root_mean_squared_error: 1.4661 - y_output_root_mean_squared_error: 1.4423 - val_loss: 4.2357 - val_x_output_loss: 2.1891 - val_y_output_loss: 2.0466 - val_x_output_root_mean_squared_error: 1.4796 - val_y_output_root_mean_squared_error: 1.4306\n",
      "Epoch 157/200\n",
      "5000/5000 [==============================] - 11s 2ms/step - loss: 4.2337 - x_output_loss: 2.1489 - y_output_loss: 2.0849 - x_output_root_mean_squared_error: 1.4659 - y_output_root_mean_squared_error: 1.4439 - val_loss: 4.9901 - val_x_output_loss: 2.1662 - val_y_output_loss: 2.8238 - val_x_output_root_mean_squared_error: 1.4718 - val_y_output_root_mean_squared_error: 1.6804\n",
      "Epoch 158/200\n",
      "5000/5000 [==============================] - 11s 2ms/step - loss: 4.2318 - x_output_loss: 2.1446 - y_output_loss: 2.0872 - x_output_root_mean_squared_error: 1.4644 - y_output_root_mean_squared_error: 1.4447 - val_loss: 4.4595 - val_x_output_loss: 2.1511 - val_y_output_loss: 2.3084 - val_x_output_root_mean_squared_error: 1.4667 - val_y_output_root_mean_squared_error: 1.5193\n",
      "Epoch 159/200\n",
      "5000/5000 [==============================] - 11s 2ms/step - loss: 4.2180 - x_output_loss: 2.1434 - y_output_loss: 2.0746 - x_output_root_mean_squared_error: 1.4640 - y_output_root_mean_squared_error: 1.4404 - val_loss: 4.2061 - val_x_output_loss: 2.1495 - val_y_output_loss: 2.0566 - val_x_output_root_mean_squared_error: 1.4661 - val_y_output_root_mean_squared_error: 1.4341\n",
      "Epoch 160/200\n",
      "5000/5000 [==============================] - 11s 2ms/step - loss: 4.2270 - x_output_loss: 2.1450 - y_output_loss: 2.0820 - x_output_root_mean_squared_error: 1.4646 - y_output_root_mean_squared_error: 1.4429 - val_loss: 4.0922 - val_x_output_loss: 2.0870 - val_y_output_loss: 2.0052 - val_x_output_root_mean_squared_error: 1.4446 - val_y_output_root_mean_squared_error: 1.4160\n",
      "Epoch 161/200\n",
      "5000/5000 [==============================] - 11s 2ms/step - loss: 4.2225 - x_output_loss: 2.1436 - y_output_loss: 2.0790 - x_output_root_mean_squared_error: 1.4641 - y_output_root_mean_squared_error: 1.4419 - val_loss: 4.1068 - val_x_output_loss: 2.0800 - val_y_output_loss: 2.0268 - val_x_output_root_mean_squared_error: 1.4422 - val_y_output_root_mean_squared_error: 1.4237\n",
      "Epoch 162/200\n",
      "5000/5000 [==============================] - 11s 2ms/step - loss: 4.2166 - x_output_loss: 2.1418 - y_output_loss: 2.0748 - x_output_root_mean_squared_error: 1.4635 - y_output_root_mean_squared_error: 1.4404 - val_loss: 4.3240 - val_x_output_loss: 2.0678 - val_y_output_loss: 2.2562 - val_x_output_root_mean_squared_error: 1.4380 - val_y_output_root_mean_squared_error: 1.5021\n",
      "Epoch 163/200\n",
      "5000/5000 [==============================] - 11s 2ms/step - loss: 4.2078 - x_output_loss: 2.1404 - y_output_loss: 2.0674 - x_output_root_mean_squared_error: 1.4630 - y_output_root_mean_squared_error: 1.4378 - val_loss: 4.9326 - val_x_output_loss: 2.0756 - val_y_output_loss: 2.8570 - val_x_output_root_mean_squared_error: 1.4407 - val_y_output_root_mean_squared_error: 1.6903\n",
      "Epoch 164/200\n",
      "5000/5000 [==============================] - 11s 2ms/step - loss: 4.2147 - x_output_loss: 2.1404 - y_output_loss: 2.0743 - x_output_root_mean_squared_error: 1.4630 - y_output_root_mean_squared_error: 1.4402 - val_loss: 4.4554 - val_x_output_loss: 2.1107 - val_y_output_loss: 2.3447 - val_x_output_root_mean_squared_error: 1.4528 - val_y_output_root_mean_squared_error: 1.5312\n",
      "Epoch 165/200\n",
      "5000/5000 [==============================] - 11s 2ms/step - loss: 4.2165 - x_output_loss: 2.1412 - y_output_loss: 2.0753 - x_output_root_mean_squared_error: 1.4633 - y_output_root_mean_squared_error: 1.4406 - val_loss: 4.3833 - val_x_output_loss: 2.0899 - val_y_output_loss: 2.2933 - val_x_output_root_mean_squared_error: 1.4457 - val_y_output_root_mean_squared_error: 1.5144\n",
      "Epoch 166/200\n",
      "5000/5000 [==============================] - 11s 2ms/step - loss: 4.2055 - x_output_loss: 2.1394 - y_output_loss: 2.0661 - x_output_root_mean_squared_error: 1.4627 - y_output_root_mean_squared_error: 1.4374 - val_loss: 4.0765 - val_x_output_loss: 2.0713 - val_y_output_loss: 2.0052 - val_x_output_root_mean_squared_error: 1.4392 - val_y_output_root_mean_squared_error: 1.4161\n",
      "Epoch 167/200\n",
      "5000/5000 [==============================] - 11s 2ms/step - loss: 4.2242 - x_output_loss: 2.1368 - y_output_loss: 2.0874 - x_output_root_mean_squared_error: 1.4618 - y_output_root_mean_squared_error: 1.4448 - val_loss: 4.7854 - val_x_output_loss: 2.2168 - val_y_output_loss: 2.5686 - val_x_output_root_mean_squared_error: 1.4889 - val_y_output_root_mean_squared_error: 1.6027\n",
      "Epoch 168/200\n",
      "5000/5000 [==============================] - 11s 2ms/step - loss: 4.1934 - x_output_loss: 2.1361 - y_output_loss: 2.0573 - x_output_root_mean_squared_error: 1.4615 - y_output_root_mean_squared_error: 1.4343 - val_loss: 4.2432 - val_x_output_loss: 2.0606 - val_y_output_loss: 2.1826 - val_x_output_root_mean_squared_error: 1.4355 - val_y_output_root_mean_squared_error: 1.4774\n",
      "Epoch 169/200\n"
     ]
    },
    {
     "name": "stdout",
     "output_type": "stream",
     "text": [
      "5000/5000 [==============================] - 12s 2ms/step - loss: 4.2033 - x_output_loss: 2.1346 - y_output_loss: 2.0687 - x_output_root_mean_squared_error: 1.4610 - y_output_root_mean_squared_error: 1.4383 - val_loss: 4.3996 - val_x_output_loss: 2.0793 - val_y_output_loss: 2.3202 - val_x_output_root_mean_squared_error: 1.4420 - val_y_output_root_mean_squared_error: 1.5232\n",
      "Epoch 170/200\n",
      "5000/5000 [==============================] - 11s 2ms/step - loss: 4.1915 - x_output_loss: 2.1323 - y_output_loss: 2.0592 - x_output_root_mean_squared_error: 1.4602 - y_output_root_mean_squared_error: 1.4350 - val_loss: 4.4209 - val_x_output_loss: 2.2087 - val_y_output_loss: 2.2122 - val_x_output_root_mean_squared_error: 1.4862 - val_y_output_root_mean_squared_error: 1.4873\n",
      "Epoch 171/200\n",
      "5000/5000 [==============================] - 11s 2ms/step - loss: 4.1925 - x_output_loss: 2.1323 - y_output_loss: 2.0602 - x_output_root_mean_squared_error: 1.4602 - y_output_root_mean_squared_error: 1.4353 - val_loss: 4.2138 - val_x_output_loss: 2.1259 - val_y_output_loss: 2.0878 - val_x_output_root_mean_squared_error: 1.4581 - val_y_output_root_mean_squared_error: 1.4449\n",
      "Epoch 172/200\n",
      "5000/5000 [==============================] - 11s 2ms/step - loss: 4.1909 - x_output_loss: 2.1312 - y_output_loss: 2.0597 - x_output_root_mean_squared_error: 1.4599 - y_output_root_mean_squared_error: 1.4352 - val_loss: 5.1667 - val_x_output_loss: 2.2990 - val_y_output_loss: 2.8677 - val_x_output_root_mean_squared_error: 1.5162 - val_y_output_root_mean_squared_error: 1.6934\n",
      "Epoch 173/200\n",
      "5000/5000 [==============================] - 11s 2ms/step - loss: 4.1973 - x_output_loss: 2.1355 - y_output_loss: 2.0618 - x_output_root_mean_squared_error: 1.4613 - y_output_root_mean_squared_error: 1.4359 - val_loss: 4.3653 - val_x_output_loss: 2.1428 - val_y_output_loss: 2.2225 - val_x_output_root_mean_squared_error: 1.4638 - val_y_output_root_mean_squared_error: 1.4908\n",
      "Epoch 174/200\n",
      "5000/5000 [==============================] - 11s 2ms/step - loss: 4.1938 - x_output_loss: 2.1319 - y_output_loss: 2.0619 - x_output_root_mean_squared_error: 1.4601 - y_output_root_mean_squared_error: 1.4359 - val_loss: 4.2228 - val_x_output_loss: 2.1376 - val_y_output_loss: 2.0852 - val_x_output_root_mean_squared_error: 1.4621 - val_y_output_root_mean_squared_error: 1.4440\n",
      "Epoch 175/200\n",
      "5000/5000 [==============================] - 11s 2ms/step - loss: 4.1919 - x_output_loss: 2.1298 - y_output_loss: 2.0621 - x_output_root_mean_squared_error: 1.4594 - y_output_root_mean_squared_error: 1.4360 - val_loss: 4.2194 - val_x_output_loss: 2.0609 - val_y_output_loss: 2.1585 - val_x_output_root_mean_squared_error: 1.4356 - val_y_output_root_mean_squared_error: 1.4692\n",
      "Epoch 176/200\n",
      "5000/5000 [==============================] - 11s 2ms/step - loss: 4.1763 - x_output_loss: 2.1300 - y_output_loss: 2.0463 - x_output_root_mean_squared_error: 1.4594 - y_output_root_mean_squared_error: 1.4305 - val_loss: 4.1860 - val_x_output_loss: 2.1121 - val_y_output_loss: 2.0739 - val_x_output_root_mean_squared_error: 1.4533 - val_y_output_root_mean_squared_error: 1.4401\n",
      "Epoch 177/200\n",
      "5000/5000 [==============================] - 11s 2ms/step - loss: 4.1749 - x_output_loss: 2.1299 - y_output_loss: 2.0450 - x_output_root_mean_squared_error: 1.4594 - y_output_root_mean_squared_error: 1.4300 - val_loss: 4.5953 - val_x_output_loss: 2.0835 - val_y_output_loss: 2.5118 - val_x_output_root_mean_squared_error: 1.4434 - val_y_output_root_mean_squared_error: 1.5849\n",
      "Epoch 178/200\n",
      "5000/5000 [==============================] - 11s 2ms/step - loss: 4.1753 - x_output_loss: 2.1299 - y_output_loss: 2.0454 - x_output_root_mean_squared_error: 1.4594 - y_output_root_mean_squared_error: 1.4302 - val_loss: 4.5504 - val_x_output_loss: 2.1424 - val_y_output_loss: 2.4080 - val_x_output_root_mean_squared_error: 1.4637 - val_y_output_root_mean_squared_error: 1.5518\n",
      "Epoch 179/200\n",
      "5000/5000 [==============================] - 11s 2ms/step - loss: 4.1650 - x_output_loss: 2.1249 - y_output_loss: 2.0401 - x_output_root_mean_squared_error: 1.4577 - y_output_root_mean_squared_error: 1.4283 - val_loss: 4.2558 - val_x_output_loss: 2.1129 - val_y_output_loss: 2.1429 - val_x_output_root_mean_squared_error: 1.4536 - val_y_output_root_mean_squared_error: 1.4639\n",
      "Epoch 180/200\n",
      "5000/5000 [==============================] - 11s 2ms/step - loss: 4.1660 - x_output_loss: 2.1248 - y_output_loss: 2.0412 - x_output_root_mean_squared_error: 1.4577 - y_output_root_mean_squared_error: 1.4287 - val_loss: 4.1809 - val_x_output_loss: 2.0618 - val_y_output_loss: 2.1191 - val_x_output_root_mean_squared_error: 1.4359 - val_y_output_root_mean_squared_error: 1.4557\n",
      "Epoch 181/200\n",
      "5000/5000 [==============================] - 11s 2ms/step - loss: 4.1752 - x_output_loss: 2.1271 - y_output_loss: 2.0481 - x_output_root_mean_squared_error: 1.4585 - y_output_root_mean_squared_error: 1.4311 - val_loss: 4.1571 - val_x_output_loss: 2.1182 - val_y_output_loss: 2.0389 - val_x_output_root_mean_squared_error: 1.4554 - val_y_output_root_mean_squared_error: 1.4279\n",
      "Epoch 182/200\n",
      "5000/5000 [==============================] - 11s 2ms/step - loss: 4.1622 - x_output_loss: 2.1253 - y_output_loss: 2.0369 - x_output_root_mean_squared_error: 1.4578 - y_output_root_mean_squared_error: 1.4272 - val_loss: 4.9928 - val_x_output_loss: 2.0665 - val_y_output_loss: 2.9262 - val_x_output_root_mean_squared_error: 1.4375 - val_y_output_root_mean_squared_error: 1.7106\n",
      "Epoch 183/200\n",
      "5000/5000 [==============================] - 11s 2ms/step - loss: 4.1565 - x_output_loss: 2.1261 - y_output_loss: 2.0303 - x_output_root_mean_squared_error: 1.4581 - y_output_root_mean_squared_error: 1.4249 - val_loss: 4.0601 - val_x_output_loss: 2.0850 - val_y_output_loss: 1.9751 - val_x_output_root_mean_squared_error: 1.4440 - val_y_output_root_mean_squared_error: 1.4054\n",
      "Epoch 184/200\n",
      "5000/5000 [==============================] - 11s 2ms/step - loss: 4.1712 - x_output_loss: 2.1263 - y_output_loss: 2.0449 - x_output_root_mean_squared_error: 1.4582 - y_output_root_mean_squared_error: 1.4300 - val_loss: 4.0989 - val_x_output_loss: 2.1318 - val_y_output_loss: 1.9671 - val_x_output_root_mean_squared_error: 1.4601 - val_y_output_root_mean_squared_error: 1.4025\n",
      "Epoch 185/200\n",
      "5000/5000 [==============================] - 11s 2ms/step - loss: 4.1627 - x_output_loss: 2.1237 - y_output_loss: 2.0390 - x_output_root_mean_squared_error: 1.4573 - y_output_root_mean_squared_error: 1.4279 - val_loss: 4.0430 - val_x_output_loss: 2.0686 - val_y_output_loss: 1.9744 - val_x_output_root_mean_squared_error: 1.4383 - val_y_output_root_mean_squared_error: 1.4051\n",
      "Epoch 186/200\n",
      "5000/5000 [==============================] - 12s 2ms/step - loss: 4.1524 - x_output_loss: 2.1241 - y_output_loss: 2.0283 - x_output_root_mean_squared_error: 1.4574 - y_output_root_mean_squared_error: 1.4242 - val_loss: 4.2579 - val_x_output_loss: 2.2661 - val_y_output_loss: 1.9917 - val_x_output_root_mean_squared_error: 1.5054 - val_y_output_root_mean_squared_error: 1.4113\n",
      "Epoch 187/200\n",
      "5000/5000 [==============================] - 13s 3ms/step - loss: 4.1599 - x_output_loss: 2.1243 - y_output_loss: 2.0356 - x_output_root_mean_squared_error: 1.4575 - y_output_root_mean_squared_error: 1.4267 - val_loss: 4.4079 - val_x_output_loss: 2.0532 - val_y_output_loss: 2.3548 - val_x_output_root_mean_squared_error: 1.4329 - val_y_output_root_mean_squared_error: 1.5345\n",
      "Epoch 188/200\n",
      "5000/5000 [==============================] - 11s 2ms/step - loss: 4.1447 - x_output_loss: 2.1216 - y_output_loss: 2.0231 - x_output_root_mean_squared_error: 1.4566 - y_output_root_mean_squared_error: 1.4224 - val_loss: 4.0258 - val_x_output_loss: 2.0721 - val_y_output_loss: 1.9537 - val_x_output_root_mean_squared_error: 1.4395 - val_y_output_root_mean_squared_error: 1.3977\n",
      "Epoch 189/200\n",
      "5000/5000 [==============================] - 11s 2ms/step - loss: 4.1502 - x_output_loss: 2.1188 - y_output_loss: 2.0314 - x_output_root_mean_squared_error: 1.4556 - y_output_root_mean_squared_error: 1.4253 - val_loss: 4.3932 - val_x_output_loss: 2.0825 - val_y_output_loss: 2.3107 - val_x_output_root_mean_squared_error: 1.4431 - val_y_output_root_mean_squared_error: 1.5201\n",
      "Epoch 190/200\n",
      "5000/5000 [==============================] - 11s 2ms/step - loss: 4.1527 - x_output_loss: 2.1172 - y_output_loss: 2.0355 - x_output_root_mean_squared_error: 1.4551 - y_output_root_mean_squared_error: 1.4267 - val_loss: 4.3012 - val_x_output_loss: 2.1384 - val_y_output_loss: 2.1628 - val_x_output_root_mean_squared_error: 1.4623 - val_y_output_root_mean_squared_error: 1.4706\n",
      "Epoch 191/200\n",
      "5000/5000 [==============================] - 11s 2ms/step - loss: 4.1413 - x_output_loss: 2.1159 - y_output_loss: 2.0254 - x_output_root_mean_squared_error: 1.4546 - y_output_root_mean_squared_error: 1.4232 - val_loss: 4.1243 - val_x_output_loss: 2.0437 - val_y_output_loss: 2.0806 - val_x_output_root_mean_squared_error: 1.4296 - val_y_output_root_mean_squared_error: 1.4424\n",
      "Epoch 192/200\n",
      "5000/5000 [==============================] - 11s 2ms/step - loss: 4.1443 - x_output_loss: 2.1177 - y_output_loss: 2.0266 - x_output_root_mean_squared_error: 1.4552 - y_output_root_mean_squared_error: 1.4236 - val_loss: 4.0155 - val_x_output_loss: 2.0419 - val_y_output_loss: 1.9736 - val_x_output_root_mean_squared_error: 1.4289 - val_y_output_root_mean_squared_error: 1.4049\n",
      "Epoch 193/200\n",
      "5000/5000 [==============================] - 11s 2ms/step - loss: 4.1481 - x_output_loss: 2.1208 - y_output_loss: 2.0273 - x_output_root_mean_squared_error: 1.4563 - y_output_root_mean_squared_error: 1.4238 - val_loss: 4.2531 - val_x_output_loss: 2.0820 - val_y_output_loss: 2.1711 - val_x_output_root_mean_squared_error: 1.4429 - val_y_output_root_mean_squared_error: 1.4735\n",
      "Epoch 194/200\n",
      "5000/5000 [==============================] - 11s 2ms/step - loss: 4.1456 - x_output_loss: 2.1202 - y_output_loss: 2.0255 - x_output_root_mean_squared_error: 1.4561 - y_output_root_mean_squared_error: 1.4232 - val_loss: 4.0987 - val_x_output_loss: 2.0988 - val_y_output_loss: 1.9999 - val_x_output_root_mean_squared_error: 1.4487 - val_y_output_root_mean_squared_error: 1.4142\n",
      "Epoch 195/200\n",
      "5000/5000 [==============================] - 11s 2ms/step - loss: 4.1377 - x_output_loss: 2.1160 - y_output_loss: 2.0217 - x_output_root_mean_squared_error: 1.4546 - y_output_root_mean_squared_error: 1.4219 - val_loss: 4.1984 - val_x_output_loss: 2.0268 - val_y_output_loss: 2.1716 - val_x_output_root_mean_squared_error: 1.4237 - val_y_output_root_mean_squared_error: 1.4736\n",
      "Epoch 196/200\n",
      "5000/5000 [==============================] - 11s 2ms/step - loss: 4.1371 - x_output_loss: 2.1175 - y_output_loss: 2.0196 - x_output_root_mean_squared_error: 1.4552 - y_output_root_mean_squared_error: 1.4211 - val_loss: 4.2117 - val_x_output_loss: 2.2306 - val_y_output_loss: 1.9811 - val_x_output_root_mean_squared_error: 1.4935 - val_y_output_root_mean_squared_error: 1.4075\n",
      "Epoch 197/200\n",
      "5000/5000 [==============================] - 11s 2ms/step - loss: 4.1346 - x_output_loss: 2.1156 - y_output_loss: 2.0190 - x_output_root_mean_squared_error: 1.4545 - y_output_root_mean_squared_error: 1.4209 - val_loss: 4.2790 - val_x_output_loss: 2.1660 - val_y_output_loss: 2.1131 - val_x_output_root_mean_squared_error: 1.4717 - val_y_output_root_mean_squared_error: 1.4536\n",
      "Epoch 198/200\n",
      "5000/5000 [==============================] - 11s 2ms/step - loss: 4.1357 - x_output_loss: 2.1140 - y_output_loss: 2.0216 - x_output_root_mean_squared_error: 1.4540 - y_output_root_mean_squared_error: 1.4218 - val_loss: 4.1739 - val_x_output_loss: 2.1151 - val_y_output_loss: 2.0588 - val_x_output_root_mean_squared_error: 1.4543 - val_y_output_root_mean_squared_error: 1.4349\n",
      "Epoch 199/200\n",
      "5000/5000 [==============================] - 11s 2ms/step - loss: 4.1237 - x_output_loss: 2.1128 - y_output_loss: 2.0109 - x_output_root_mean_squared_error: 1.4536 - y_output_root_mean_squared_error: 1.4181 - val_loss: 4.1193 - val_x_output_loss: 2.0445 - val_y_output_loss: 2.0748 - val_x_output_root_mean_squared_error: 1.4299 - val_y_output_root_mean_squared_error: 1.4404\n",
      "Epoch 200/200\n",
      "5000/5000 [==============================] - 11s 2ms/step - loss: 4.1272 - x_output_loss: 2.1145 - y_output_loss: 2.0127 - x_output_root_mean_squared_error: 1.4541 - y_output_root_mean_squared_error: 1.4187 - val_loss: 4.0770 - val_x_output_loss: 2.0618 - val_y_output_loss: 2.0152 - val_x_output_root_mean_squared_error: 1.4359 - val_y_output_root_mean_squared_error: 1.4196\n"
     ]
    }
   ],
   "source": [
    "# Train the model for 200 epochs\n",
    "history = model.fit(norm_train_X, train_Y,\n",
    "                    epochs=200, validation_data=(norm_test_X, test_Y))"
   ]
  },
  {
   "cell_type": "code",
   "execution_count": 16,
   "metadata": {
    "colab": {
     "base_uri": "https://localhost:8080/"
    },
    "id": "AbI9079mGMEV",
    "outputId": "b5d12586-2f55-4bb3-8cf8-239330bc4f1e"
   },
   "outputs": [
    {
     "name": "stdout",
     "output_type": "stream",
     "text": [
      "1250/1250 [==============================] - 2s 1ms/step - loss: 3.9535 - x_output_loss: 2.0098 - y_output_loss: 1.9437 - x_output_root_mean_squared_error: 1.4177 - y_output_root_mean_squared_error: 1.3942\n",
      "\n",
      "loss: 3.9534592628479004\n",
      "x_loss: 2.009793281555176\n",
      "y_loss: 1.9436674118041992\n",
      "x_rmse: 1.417671799659729\n",
      "y_rmse: 1.3941547870635986\n"
     ]
    }
   ],
   "source": [
    "# Test the model and print loss and rmse for both outputs\n",
    "loss, Y1_loss, Y2_loss, Y1_rmse, Y2_rmse = model.evaluate(x=norm_val_X, y=val_Y)\n",
    "\n",
    "print()\n",
    "print(f'loss: {loss}')\n",
    "print(f'x_loss: {Y1_loss}')\n",
    "print(f'y_loss: {Y2_loss}')\n",
    "print(f'x_rmse: {Y1_rmse}')\n",
    "print(f'y_rmse: {Y2_rmse}')"
   ]
  },
  {
   "cell_type": "code",
   "execution_count": 17,
   "metadata": {
    "id": "V9DhGCX4GQae"
   },
   "outputs": [],
   "source": [
    "def plot_diff(y_true, y_pred, title=''):\n",
    "    plt.scatter(y_true, y_pred)\n",
    "    plt.title(title)\n",
    "    plt.xlabel('True Values')\n",
    "    plt.ylabel('Predictions')\n",
    "    plt.axis('equal')\n",
    "    plt.axis('square')\n",
    "    plt.xlim(plt.xlim())\n",
    "    plt.ylim(plt.ylim())\n",
    "    plt.plot([-100, 100], [-100, 100])\n",
    "    plt.show()\n",
    "\n",
    "\n",
    "def plot_metrics(metric_name, title, ylim=5):\n",
    "    plt.title(title)\n",
    "    plt.ylim(0, ylim)\n",
    "    plt.plot(history.history[metric_name], color='blue', label=metric_name)\n",
    "    plt.plot(history.history['val_' + metric_name], color='green', label='val_' + metric_name)\n",
    "    plt.show()"
   ]
  },
  {
   "cell_type": "code",
   "execution_count": 18,
   "metadata": {
    "colab": {
     "base_uri": "https://localhost:8080/",
     "height": 573
    },
    "id": "0EbyNOEXGeQf",
    "outputId": "b66ac9a8-5910-43e2-c298-bd1af1b93c6a"
   },
   "outputs": [
    {
     "data": {
      "image/png": "[encoded data removed]",
      "text/plain": [
       "<Figure size 432x288 with 1 Axes>"
      ]
     },
     "metadata": {
      "needs_background": "light"
     },
     "output_type": "display_data"
    },
    {
     "data": {
      "image/png": "[encoded data removed]",
      "text/plain": [
       "<Figure size 432x288 with 1 Axes>"
      ]
     },
     "metadata": {
      "needs_background": "light"
     },
     "output_type": "display_data"
    }
   ],
   "source": [
    "# Run predict\n",
    "Y_pred = model.predict(norm_test_X)\n",
    "price_pred = Y_pred[0]\n",
    "ptratio_pred = Y_pred[1]\n",
    "\n",
    "plot_diff(test_Y[0], Y_pred[0], title='x')\n",
    "plot_diff(test_Y[1], Y_pred[1], title='y')"
   ]
  },
  {
   "cell_type": "code",
   "execution_count": 39,
   "metadata": {
    "colab": {
     "base_uri": "https://localhost:8080/",
     "height": 545
    },
    "id": "58QqA0C4Gk7d",
    "outputId": "4875ab5f-a185-4367-8dd5-e89de199bad5"
   },
   "outputs": [
    {
     "data": {
      "image/png": "[encoded data removed]",
      "text/plain": [
       "<Figure size 432x288 with 1 Axes>"
      ]
     },
     "metadata": {
      "needs_background": "light"
     },
     "output_type": "display_data"
    },
    {
     "data": {
      "image/png": "[encoded data removed]",
      "text/plain": [
       "<Figure size 432x288 with 1 Axes>"
      ]
     },
     "metadata": {
      "needs_background": "light"
     },
     "output_type": "display_data"
    }
   ],
   "source": [
    "# Plot RMSE\n",
    "plot_metrics(metric_name='x_output_root_mean_squared_error', title='x RMSE', ylim=7)\n",
    "plot_metrics(metric_name='y_output_root_mean_squared_error', title='y RMSE', ylim=7)"
   ]
  },
  {
   "cell_type": "code",
   "execution_count": 20,
   "metadata": {
    "colab": {
     "base_uri": "https://localhost:8080/"
    },
    "id": "V18I4VyhHAL1",
    "outputId": "543b2a99-e234-4aa0-a848-8d7337840f93"
   },
   "outputs": [
    {
     "name": "stdout",
     "output_type": "stream",
     "text": [
      "INFO:tensorflow:Assets written to: ./xyForcePlate/assets\n"
     ]
    }
   ],
   "source": [
    "# Save model\n",
    "model.save('./xyForcePlate/', save_format='tf')"
   ]
  },
  {
   "cell_type": "code",
   "execution_count": 17,
   "metadata": {
    "id": "5QTOLsAJHAVy"
   },
   "outputs": [],
   "source": [
    "# Restore model\n",
    "loaded_model = tf.keras.models.load_model('./xyForcePlate/')"
   ]
  },
  {
   "cell_type": "code",
   "execution_count": 44,
   "metadata": {
    "id": "ptcyn1KOHHtD"
   },
   "outputs": [],
   "source": [
    "# Run predict with restored model\n",
    "predictions = loaded_model.predict(norm_test_X[0].reshape((1,4)))\n",
    "x_pred = predictions[0]\n",
    "y_pred = predictions[1]"
   ]
  },
  {
   "cell_type": "code",
   "execution_count": 43,
   "metadata": {},
   "outputs": [
    {
     "data": {
      "text/plain": [
       "(1, 4)"
      ]
     },
     "execution_count": 43,
     "metadata": {},
     "output_type": "execute_result"
    }
   ],
   "source": [
    "norm_test_X[0].reshape((1,4)).shape"
   ]
  },
  {
   "cell_type": "code",
   "execution_count": 53,
   "metadata": {},
   "outputs": [
    {
     "data": {
      "text/plain": [
       "array([ 1.02478891, -0.37257721,  0.63687956,  0.94191688])"
      ]
     },
     "execution_count": 53,
     "metadata": {},
     "output_type": "execute_result"
    }
   ],
   "source": [
    "norm_test_X[0]"
   ]
  },
  {
   "cell_type": "code",
   "execution_count": 65,
   "metadata": {
    "colab": {
     "base_uri": "https://localhost:8080/"
    },
    "id": "PA340DixH6MS",
    "outputId": "9387bfbe-d014-4e16-ce03-04764bd07e8a"
   },
   "outputs": [
    {
     "name": "stdout",
     "output_type": "stream",
     "text": [
      "[[ 6.2750745]\n",
      " [24.151093 ]\n",
      " [12.98531  ]\n",
      " ...\n",
      " [ 3.0007477]\n",
      " [ 3.7614863]\n",
      " [17.731554 ]]\n"
     ]
    }
   ],
   "source": [
    "print(y_pred)"
   ]
  },
  {
   "cell_type": "code",
   "execution_count": 66,
   "metadata": {
    "colab": {
     "base_uri": "https://localhost:8080/"
    },
    "id": "EM4Wj7XWKOy4",
    "outputId": "bda68532-38ac-40da-8dcc-a5359a2aa9de"
   },
   "outputs": [
    {
     "name": "stdout",
     "output_type": "stream",
     "text": [
      "[ 6 24 12 ...  3  3 24]\n"
     ]
    }
   ],
   "source": [
    "print(test_Y[1])"
   ]
  },
  {
   "cell_type": "markdown",
   "metadata": {
    "id": "vIcHHeA25TfL"
   },
   "source": [
    "################################################################################"
   ]
  }
 ],
 "metadata": {
  "colab": {
   "collapsed_sections": [],
   "name": "ForcePlatePosition.ipynb",
   "provenance": []
  },
  "kernelspec": {
   "display_name": "Python 3",
   "language": "python",
   "name": "python3"
  },
  "language_info": {
   "codemirror_mode": {
    "name": "ipython",
    "version": 3
   },
   "file_extension": ".py",
   "mimetype": "text/x-python",
   "name": "python",
   "nbconvert_exporter": "python",
   "pygments_lexer": "ipython3",
   "version": "3.8.3"
  }
 },
 "nbformat": 4,
 "nbformat_minor": 1
}
