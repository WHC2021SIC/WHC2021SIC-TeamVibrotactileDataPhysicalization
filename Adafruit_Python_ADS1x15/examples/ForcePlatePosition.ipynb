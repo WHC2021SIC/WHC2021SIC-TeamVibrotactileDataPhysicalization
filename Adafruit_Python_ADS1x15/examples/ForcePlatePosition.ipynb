{
 "cells": [
  {
   "cell_type": "code",
   "execution_count": 1,
   "metadata": {
    "id": "YSbPCMnvDnQV"
   },
   "outputs": [],
   "source": [
    "# Importing the libraries\n",
    "import pandas as pd\n",
    "import tensorflow as tf\n",
    "import numpy as np\n",
    "import matplotlib.pyplot as plt\n",
    "from tensorflow.keras.models import Model\n",
    "from tensorflow.keras.layers import Dense, Input\n",
    "from sklearn.model_selection import train_test_split\n",
    "\n",
    "#from google.colab import files\n",
    "#uploaded = files.upload()\n",
    "\n",
    "D0_0 = 'https://raw.githubusercontent.com/frankbastidas/WHC2021Datas/master/positionsTouchedData/0%2C0.csv'\n",
    "D0_12='https://raw.githubusercontent.com/frankbastidas/WHC2021Datas/master/positionsTouchedData/0%2C12.csv'\n",
    "D0_18='https://raw.githubusercontent.com/frankbastidas/WHC2021Datas/master/positionsTouchedData/0%2C18.csv'\n",
    "D0_24='https://raw.githubusercontent.com/frankbastidas/WHC2021Datas/master/positionsTouchedData/0%2C24.csv'\n",
    "D0_6='https://raw.githubusercontent.com/frankbastidas/WHC2021Datas/master/positionsTouchedData/0%2C6.csv'\n",
    "D12_0='https://raw.githubusercontent.com/frankbastidas/WHC2021Datas/master/positionsTouchedData/12%2C0.csv'\n",
    "D12_12='https://raw.githubusercontent.com/frankbastidas/WHC2021Datas/master/positionsTouchedData/12%2C12.csv'\n",
    "D12_15='https://raw.githubusercontent.com/frankbastidas/WHC2021Datas/master/positionsTouchedData/12%2C15.csv'\n",
    "D12_18='https://raw.githubusercontent.com/frankbastidas/WHC2021Datas/master/positionsTouchedData/12%2C18.csv'\n",
    "D12_21='https://raw.githubusercontent.com/frankbastidas/WHC2021Datas/master/positionsTouchedData/12%2C21.csv'\n",
    "D12_24='https://raw.githubusercontent.com/frankbastidas/WHC2021Datas/master/positionsTouchedData/12%2C24.csv'\n",
    "D12_3='https://raw.githubusercontent.com/frankbastidas/WHC2021Datas/master/positionsTouchedData/12%2C3.csv'\n",
    "D12_6='https://raw.githubusercontent.com/frankbastidas/WHC2021Datas/master/positionsTouchedData/12%2C6.csv'\n",
    "D12_9='https://raw.githubusercontent.com/frankbastidas/WHC2021Datas/master/positionsTouchedData/12%2C9.csv'\n",
    "D15_15='https://raw.githubusercontent.com/frankbastidas/WHC2021Datas/master/positionsTouchedData/15%2C15.csv'\n",
    "D15_21='https://raw.githubusercontent.com/frankbastidas/WHC2021Datas/master/positionsTouchedData/15%2C21.csv'\n",
    "D15_3='https://raw.githubusercontent.com/frankbastidas/WHC2021Datas/master/positionsTouchedData/15%2C3.csv'\n",
    "D15_9='https://raw.githubusercontent.com/frankbastidas/WHC2021Datas/master/positionsTouchedData/15%2C9.csv'\n",
    "D18_0='https://raw.githubusercontent.com/frankbastidas/WHC2021Datas/master/positionsTouchedData/18%2C0.csv'\n",
    "D18_12='https://raw.githubusercontent.com/frankbastidas/WHC2021Datas/master/positionsTouchedData/18%2C12.csv'\n",
    "D18_18='https://raw.githubusercontent.com/frankbastidas/WHC2021Datas/master/positionsTouchedData/18%2C18.csv'\n",
    "D18_24='https://raw.githubusercontent.com/frankbastidas/WHC2021Datas/master/positionsTouchedData/18%2C24.csv'\n",
    "D18_6='https://raw.githubusercontent.com/frankbastidas/WHC2021Datas/master/positionsTouchedData/18%2C6.csv'\n",
    "D3_0='https://raw.githubusercontent.com/frankbastidas/WHC2021Datas/master/positionsTouchedData/3%2C0.csv'\n",
    "D3_12='https://raw.githubusercontent.com/frankbastidas/WHC2021Datas/master/positionsTouchedData/3%2C12.csv'\n",
    "D3_15='https://raw.githubusercontent.com/frankbastidas/WHC2021Datas/master/positionsTouchedData/3%2C15.csv'\n",
    "D3_18='https://raw.githubusercontent.com/frankbastidas/WHC2021Datas/master/positionsTouchedData/3%2C18.csv'\n",
    "D3_21='https://raw.githubusercontent.com/frankbastidas/WHC2021Datas/master/positionsTouchedData/3%2C21.csv'\n",
    "D3_24='https://raw.githubusercontent.com/frankbastidas/WHC2021Datas/master/positionsTouchedData/3%2C24.csv'\n",
    "D3_3='https://raw.githubusercontent.com/frankbastidas/WHC2021Datas/master/positionsTouchedData/3%2C3.csv'\n",
    "D3_6='https://raw.githubusercontent.com/frankbastidas/WHC2021Datas/master/positionsTouchedData/3%2C6.csv'\n",
    "D3_9='https://raw.githubusercontent.com/frankbastidas/WHC2021Datas/master/positionsTouchedData/3%2C9.csv'\n",
    "D6_0='https://raw.githubusercontent.com/frankbastidas/WHC2021Datas/master/positionsTouchedData/6%2C0.csv'\n",
    "D6_12='https://raw.githubusercontent.com/frankbastidas/WHC2021Datas/master/positionsTouchedData/6%2C12.csv'\n",
    "D6_15='https://raw.githubusercontent.com/frankbastidas/WHC2021Datas/master/positionsTouchedData/6%2C15.csv'\n",
    "D6_18='https://raw.githubusercontent.com/frankbastidas/WHC2021Datas/master/positionsTouchedData/6%2C18.csv'\n",
    "D6_21='https://raw.githubusercontent.com/frankbastidas/WHC2021Datas/master/positionsTouchedData/6%2C21.csv'\n",
    "D6_24='https://raw.githubusercontent.com/frankbastidas/WHC2021Datas/master/positionsTouchedData/6%2C24.csv'\n",
    "D6_3='https://raw.githubusercontent.com/frankbastidas/WHC2021Datas/master/positionsTouchedData/6%2C3.csv'\n",
    "D6_6='https://raw.githubusercontent.com/frankbastidas/WHC2021Datas/master/positionsTouchedData/6%2C6.csv'\n",
    "D6_9='https://raw.githubusercontent.com/frankbastidas/WHC2021Datas/master/positionsTouchedData/6%2C9.csv'\n",
    "D9_0='https://raw.githubusercontent.com/frankbastidas/WHC2021Datas/master/positionsTouchedData/9%2C0.csv'\n",
    "D9_12='https://raw.githubusercontent.com/frankbastidas/WHC2021Datas/master/positionsTouchedData/9%2C12.csv'\n",
    "D9_15='https://raw.githubusercontent.com/frankbastidas/WHC2021Datas/master/positionsTouchedData/9%2C15.csv'\n",
    "D9_18='https://raw.githubusercontent.com/frankbastidas/WHC2021Datas/master/positionsTouchedData/9%2C18.csv'\n",
    "D9_21='https://raw.githubusercontent.com/frankbastidas/WHC2021Datas/master/positionsTouchedData/9%2C21.csv'\n",
    "D9_24='https://raw.githubusercontent.com/frankbastidas/WHC2021Datas/master/positionsTouchedData/9%2C24.csv'\n",
    "D9_3='https://raw.githubusercontent.com/frankbastidas/WHC2021Datas/master/positionsTouchedData/9%2C3.csv'\n",
    "D9_6='https://raw.githubusercontent.com/frankbastidas/WHC2021Datas/master/positionsTouchedData/9%2C6.csv'\n",
    "D9_9='https://raw.githubusercontent.com/frankbastidas/WHC2021Datas/master/positionsTouchedData/9%2C9.csv'\n",
    "Dnot='https://raw.githubusercontent.com/frankbastidas/WHC2021Datas/master/positionsTouchedData/noTouch.csv'\n",
    "# 51 datasets\n",
    "\n",
    "#df1 = pd.read_csv(url)\n",
    "\n",
    "# Importing the Boston Housing dataset\n",
    "#from sklearn.datasets import load_boston"
   ]
  },
  {
   "cell_type": "code",
   "execution_count": 2,
   "metadata": {
    "id": "Ab8q_tVIcsPM"
   },
   "outputs": [],
   "source": [
    "d0_0 = pd.read_csv(D0_0,header=None).transpose()\n",
    "d0_0['x']=0; d0_0['y']=0\n",
    "d0_12 = pd.read_csv(D0_12,header=None).transpose()\n",
    "d0_12['x']=0; d0_12['y']=12\n",
    "d0_18 = pd.read_csv(D0_18,header=None).transpose()\n",
    "d0_18['x']=0; d0_18['y']=18\n",
    "d0_24 = pd.read_csv(D0_24,header=None).transpose()\n",
    "d0_24['x']=0; d0_24['y']=24\n",
    "d0_6 = pd.read_csv(D0_6,header=None).transpose()\n",
    "d0_6['x']=0; d0_6['y']=6\n",
    "d12_0 = pd.read_csv(D12_0,header=None).transpose()\n",
    "d12_0['x']=12; d12_0['y']=0\n",
    "d12_12 = pd.read_csv(D12_12,header=None).transpose()\n",
    "d12_12['x']=12; d12_12['y']=12\n",
    "d12_15 = pd.read_csv(D12_15,header=None).transpose()\n",
    "d12_15['x']=12; d12_15['y']=15\n",
    "d12_18 = pd.read_csv(D12_18,header=None).transpose()\n",
    "d12_18['x']=12; d12_18['y']=18\n",
    "d12_21 = pd.read_csv(D12_21,header=None).transpose()\n",
    "d12_21['x']=12; d12_21['y']=21\n",
    "d12_24 = pd.read_csv(D12_24,header=None).transpose()\n",
    "d12_24['x']=12; d12_24['y']=24\n",
    "d12_3 = pd.read_csv(D12_3,header=None).transpose()\n",
    "d12_3['x']=12; d12_3['y']=3\n",
    "d12_6 = pd.read_csv(D12_6,header=None).transpose()\n",
    "d12_6['x']=12; d12_6['y']=6\n",
    "d12_9 = pd.read_csv(D12_9,header=None).transpose()\n",
    "d12_9['x']=12; d12_9['y']=9\n",
    "d15_15 = pd.read_csv(D15_15,header=None).transpose()\n",
    "d15_15['x']=15; d15_15['y']=15\n",
    "d15_21 = pd.read_csv(D15_21,header=None).transpose()\n",
    "d15_21['x']=15; d15_21['y']=21\n",
    "d15_3 = pd.read_csv(D15_3,header=None).transpose()\n",
    "d15_3['x']=15; d15_3['y']=3\n",
    "d15_9 = pd.read_csv(D15_9,header=None).transpose()\n",
    "d15_9['x']=15; d15_9['y']=9\n",
    "d18_0 = pd.read_csv(D18_0,header=None).transpose()\n",
    "d18_0['x']=18; d18_0['y']=0\n",
    "d18_12 = pd.read_csv(D18_12,header=None).transpose()\n",
    "d18_12['x']=18; d18_12['y']=12\n",
    "d18_18 = pd.read_csv(D18_18,header=None).transpose()\n",
    "d18_18['x']=18; d18_18['y']=18\n",
    "d18_24 = pd.read_csv(D18_24,header=None).transpose()\n",
    "d18_24['x']=18; d18_24['y']=24\n",
    "d18_6 = pd.read_csv(D18_6,header=None).transpose()\n",
    "d18_6['x']=18; d18_6['y']=6\n",
    "d3_0 = pd.read_csv(D3_0,header=None).transpose()\n",
    "d3_0['x']=3; d3_0['y']=0\n",
    "d3_12 = pd.read_csv(D3_12,header=None).transpose()\n",
    "d3_12['x']=3; d3_12['y']=12\n",
    "d3_15 = pd.read_csv(D3_15,header=None).transpose()\n",
    "d3_15['x']=3; d3_15['y']=15\n",
    "d3_18 = pd.read_csv(D3_18,header=None).transpose()\n",
    "d3_18['x']=3; d3_18['y']=18\n",
    "d3_21 = pd.read_csv(D3_21,header=None).transpose()\n",
    "d3_21['x']=3; d3_21['y']=21\n",
    "d3_24 = pd.read_csv(D3_24,header=None).transpose()\n",
    "d3_24['x']=3; d3_24['y']=24\n",
    "d3_3 = pd.read_csv(D3_3,header=None).transpose()\n",
    "d3_3['x']=3; d3_3['y']=3\n",
    "d3_6 = pd.read_csv(D3_6,header=None).transpose()\n",
    "d3_6['x']=3; d3_6['y']=6\n",
    "d3_9 = pd.read_csv(D3_9,header=None).transpose()\n",
    "d3_9['x']=3; d3_9['y']=9\n",
    "d6_0 = pd.read_csv(D6_0,header=None).transpose()\n",
    "d6_0['x']=6; d6_0['y']=0\n",
    "d6_12 = pd.read_csv(D6_12,header=None).transpose()\n",
    "d6_12['x']=6; d6_12['y']=12\n",
    "d6_15 = pd.read_csv(D6_15,header=None).transpose()\n",
    "d6_15['x']=6; d6_15['y']=15\n",
    "d6_18 = pd.read_csv(D6_18,header=None).transpose()\n",
    "d6_18['x']=6; d6_18['y']=18\n",
    "d6_21 = pd.read_csv(D6_21,header=None).transpose()\n",
    "d6_21['x']=6; d6_21['y']=21\n",
    "d6_24 = pd.read_csv(D6_24,header=None).transpose()\n",
    "d6_24['x']=6; d6_24['y']=24\n",
    "d6_3 = pd.read_csv(D6_3,header=None).transpose()\n",
    "d6_3['x']=6; d6_3['y']=3\n",
    "d6_6 = pd.read_csv(D6_6,header=None).transpose()\n",
    "d6_6['x']=6; d6_6['y']=6\n",
    "d6_9 = pd.read_csv(D6_9,header=None).transpose()\n",
    "d6_9['x']=6; d6_9['y']=9\n",
    "d9_0 = pd.read_csv(D9_0,header=None).transpose()\n",
    "d9_0['x']=9; d9_0['y']=0\n",
    "d9_12 = pd.read_csv(D9_12,header=None).transpose()\n",
    "d9_12['x']=9; d9_12['y']=12\n",
    "d9_15 = pd.read_csv(D9_15,header=None).transpose()\n",
    "d9_15['x']=9; d9_15['y']=15\n",
    "d9_18 = pd.read_csv(D9_18,header=None).transpose()\n",
    "d9_18['x']=9; d9_18['y']=18\n",
    "d9_21 = pd.read_csv(D9_21,header=None).transpose()\n",
    "d9_21['x']=9; d9_21['y']=21\n",
    "d9_24 = pd.read_csv(D9_24,header=None).transpose()\n",
    "d9_24['x']=9; d9_24['y']=24\n",
    "d9_3 = pd.read_csv(D9_3,header=None).transpose()\n",
    "d9_3['x']=9; d9_3['y']=3\n",
    "d9_6 = pd.read_csv(D9_6,header=None).transpose()\n",
    "d9_6['x']=9; d9_6['y']=6\n",
    "d9_9 = pd.read_csv(D9_9,header=None).transpose()\n",
    "d9_9['x']=9; d9_9['y']=9\n",
    "dnot = pd.read_csv(Dnot,header=None).transpose()\n",
    "dnot['x']=-1; dnot['y']=-1"
   ]
  },
  {
   "cell_type": "code",
   "execution_count": 3,
   "metadata": {
    "colab": {
     "base_uri": "https://localhost:8080/"
    },
    "id": "MpCZlsRphPHj",
    "outputId": "6175e4f3-88f4-48be-e021-21b8111ba5e9"
   },
   "outputs": [
    {
     "data": {
      "text/plain": [
       "(250000, 6)"
      ]
     },
     "execution_count": 3,
     "metadata": {},
     "output_type": "execute_result"
    }
   ],
   "source": [
    "datasRaw = np.concatenate([d0_0 ,d0_12 ,d0_18 ,d0_24 ,d0_6 ,d12_0 ,d12_12 ,d12_15 ,\n",
    "                        d12_18 ,d12_21 ,d12_24 ,d12_3 ,d12_6 ,d12_9 ,d15_15 ,d15_21 ,\n",
    "                        d15_3 ,d15_9 ,d18_0 ,d18_12 ,d18_18 ,d18_24 ,d18_6 ,d3_0 ,\n",
    "                        d3_12 ,d3_15 ,d3_18 ,d3_21 ,d3_24,d3_3 ,d3_6 ,d3_9 ,\n",
    "                        d6_0 ,d6_12 ,d6_15 ,d6_18 ,d6_21 ,d6_24 ,d6_3 ,d6_6 ,\n",
    "                        d6_9 ,d9_0 ,d9_12 ,d9_15 ,d9_18 ,d9_21 ,d9_24 ,d9_3 ,\n",
    "                        d9_6 ,d9_9 ])\n",
    "datasRaw.shape  # 51*5000 = 255000"
   ]
  },
  {
   "cell_type": "code",
   "execution_count": 4,
   "metadata": {
    "colab": {
     "base_uri": "https://localhost:8080/",
     "height": 204
    },
    "id": "bTh1Crq4e5Ij",
    "outputId": "f2aa92e0-d50a-458c-ab8d-a30c1c961764"
   },
   "outputs": [
    {
     "data": {
      "text/html": [
       "<div>\n",
       "<style scoped>\n",
       "    .dataframe tbody tr th:only-of-type {\n",
       "        vertical-align: middle;\n",
       "    }\n",
       "\n",
       "    .dataframe tbody tr th {\n",
       "        vertical-align: top;\n",
       "    }\n",
       "\n",
       "    .dataframe thead th {\n",
       "        text-align: right;\n",
       "    }\n",
       "</style>\n",
       "<table border=\"1\" class=\"dataframe\">\n",
       "  <thead>\n",
       "    <tr style=\"text-align: right;\">\n",
       "      <th></th>\n",
       "      <th>F0</th>\n",
       "      <th>F1</th>\n",
       "      <th>F2</th>\n",
       "      <th>F3</th>\n",
       "      <th>x</th>\n",
       "      <th>y</th>\n",
       "    </tr>\n",
       "  </thead>\n",
       "  <tbody>\n",
       "    <tr>\n",
       "      <td>0</td>\n",
       "      <td>329</td>\n",
       "      <td>249</td>\n",
       "      <td>290</td>\n",
       "      <td>534</td>\n",
       "      <td>0</td>\n",
       "      <td>0</td>\n",
       "    </tr>\n",
       "    <tr>\n",
       "      <td>1</td>\n",
       "      <td>328</td>\n",
       "      <td>247</td>\n",
       "      <td>287</td>\n",
       "      <td>533</td>\n",
       "      <td>0</td>\n",
       "      <td>0</td>\n",
       "    </tr>\n",
       "    <tr>\n",
       "      <td>2</td>\n",
       "      <td>327</td>\n",
       "      <td>246</td>\n",
       "      <td>288</td>\n",
       "      <td>532</td>\n",
       "      <td>0</td>\n",
       "      <td>0</td>\n",
       "    </tr>\n",
       "    <tr>\n",
       "      <td>3</td>\n",
       "      <td>326</td>\n",
       "      <td>245</td>\n",
       "      <td>288</td>\n",
       "      <td>535</td>\n",
       "      <td>0</td>\n",
       "      <td>0</td>\n",
       "    </tr>\n",
       "    <tr>\n",
       "      <td>4</td>\n",
       "      <td>326</td>\n",
       "      <td>246</td>\n",
       "      <td>289</td>\n",
       "      <td>536</td>\n",
       "      <td>0</td>\n",
       "      <td>0</td>\n",
       "    </tr>\n",
       "  </tbody>\n",
       "</table>\n",
       "</div>"
      ],
      "text/plain": [
       "    F0   F1   F2   F3  x  y\n",
       "0  329  249  290  534  0  0\n",
       "1  328  247  287  533  0  0\n",
       "2  327  246  288  532  0  0\n",
       "3  326  245  288  535  0  0\n",
       "4  326  246  289  536  0  0"
      ]
     },
     "execution_count": 4,
     "metadata": {},
     "output_type": "execute_result"
    }
   ],
   "source": [
    "datasFull=pd.DataFrame.from_dict(datasRaw)\n",
    "datasFull.columns=[\"F0\",\"F1\",\"F2\",\"F3\",\"x\",\"y\"]\n",
    "datasFull.head()"
   ]
  },
  {
   "cell_type": "code",
   "execution_count": 202,
   "metadata": {
    "id": "gupw2YWZgj6M"
   },
   "outputs": [],
   "source": [
    "dataTrain, dataTest = train_test_split(datasFull, test_size=0.2)\n",
    "dataTrain, dataVal = train_test_split(dataTrain, test_size=0.2)"
   ]
  },
  {
   "cell_type": "code",
   "execution_count": 203,
   "metadata": {
    "colab": {
     "base_uri": "https://localhost:8080/",
     "height": 204
    },
    "id": "kFfXmESehvpv",
    "outputId": "32a55fb9-4f76-4b33-d0e3-017154ae9cc1"
   },
   "outputs": [
    {
     "data": {
      "text/html": [
       "<div>\n",
       "<style scoped>\n",
       "    .dataframe tbody tr th:only-of-type {\n",
       "        vertical-align: middle;\n",
       "    }\n",
       "\n",
       "    .dataframe tbody tr th {\n",
       "        vertical-align: top;\n",
       "    }\n",
       "\n",
       "    .dataframe thead th {\n",
       "        text-align: right;\n",
       "    }\n",
       "</style>\n",
       "<table border=\"1\" class=\"dataframe\">\n",
       "  <thead>\n",
       "    <tr style=\"text-align: right;\">\n",
       "      <th></th>\n",
       "      <th>F0</th>\n",
       "      <th>F1</th>\n",
       "      <th>F2</th>\n",
       "      <th>F3</th>\n",
       "      <th>x</th>\n",
       "      <th>y</th>\n",
       "    </tr>\n",
       "  </thead>\n",
       "  <tbody>\n",
       "    <tr>\n",
       "      <td>65589</td>\n",
       "      <td>345</td>\n",
       "      <td>246</td>\n",
       "      <td>312</td>\n",
       "      <td>510</td>\n",
       "      <td>12</td>\n",
       "      <td>9</td>\n",
       "    </tr>\n",
       "    <tr>\n",
       "      <td>211502</td>\n",
       "      <td>337</td>\n",
       "      <td>334</td>\n",
       "      <td>351</td>\n",
       "      <td>512</td>\n",
       "      <td>9</td>\n",
       "      <td>12</td>\n",
       "    </tr>\n",
       "    <tr>\n",
       "      <td>195296</td>\n",
       "      <td>337</td>\n",
       "      <td>299</td>\n",
       "      <td>312</td>\n",
       "      <td>524</td>\n",
       "      <td>6</td>\n",
       "      <td>6</td>\n",
       "    </tr>\n",
       "    <tr>\n",
       "      <td>207872</td>\n",
       "      <td>366</td>\n",
       "      <td>229</td>\n",
       "      <td>409</td>\n",
       "      <td>568</td>\n",
       "      <td>9</td>\n",
       "      <td>0</td>\n",
       "    </tr>\n",
       "    <tr>\n",
       "      <td>74888</td>\n",
       "      <td>379</td>\n",
       "      <td>249</td>\n",
       "      <td>335</td>\n",
       "      <td>496</td>\n",
       "      <td>15</td>\n",
       "      <td>15</td>\n",
       "    </tr>\n",
       "  </tbody>\n",
       "</table>\n",
       "</div>"
      ],
      "text/plain": [
       "         F0   F1   F2   F3   x   y\n",
       "65589   345  246  312  510  12   9\n",
       "211502  337  334  351  512   9  12\n",
       "195296  337  299  312  524   6   6\n",
       "207872  366  229  409  568   9   0\n",
       "74888   379  249  335  496  15  15"
      ]
     },
     "execution_count": 203,
     "metadata": {},
     "output_type": "execute_result"
    }
   ],
   "source": [
    "dataTrain.head()"
   ]
  },
  {
   "cell_type": "code",
   "execution_count": 204,
   "metadata": {
    "id": "Q8HeW-JG5ZE2"
   },
   "outputs": [],
   "source": [
    "# Helper functions\n",
    "def norm(x):\n",
    "    dataDescribe=x.describe()\n",
    "    dataDescribe=dataDescribe.transpose()\n",
    "    return (x - dataDescribe['mean']) / dataDescribe['std']\n",
    "\n",
    "def norm2(x):\n",
    "    return (x - train_stats['mean']) / train_stats['std']\n",
    "\n",
    "def format_output(data):\n",
    "    y1 = data.pop('x')    \n",
    "    y2 = data.pop('y')\n",
    "    return y1, y2\n",
    "def format_output2(data):\n",
    "    y1 = data.pop('x')   \n",
    "    y1=np.array(y1)\n",
    "    y2 = data.pop('y')\n",
    "    y2=np.array(y2)\n",
    "    return y1, y2"
   ]
  },
  {
   "cell_type": "code",
   "execution_count": 33,
   "metadata": {},
   "outputs": [
    {
     "name": "stdout",
     "output_type": "stream",
     "text": [
      "F0    346.901656\n",
      "F1    294.358469\n",
      "F2    334.121075\n",
      "F3    522.782625\n",
      "Name: mean, dtype: float64\n",
      "F0    33.273529\n",
      "F1    51.958274\n",
      "F2    32.783161\n",
      "F3    31.019059\n",
      "Name: std, dtype: float64\n"
     ]
    }
   ],
   "source": [
    "print(train_stats['mean'])\n",
    "print(train_stats['std'])"
   ]
  },
  {
   "cell_type": "code",
   "execution_count": 196,
   "metadata": {
    "id": "Zpk1iwLC5iSM"
   },
   "outputs": [],
   "source": [
    "# Get X and Y as the 2 outputs and format them as np arrays\n",
    "train_stats = dataTrain.describe()\n",
    "train_stats.pop('x')\n",
    "train_stats.pop('y')\n",
    "train_stats = train_stats.transpose()\n",
    "train_Y = format_output2(dataTrain)\n",
    "test_Y = format_output2(dataTest)\n",
    "val_Y = format_output2(dataVal)"
   ]
  },
  {
   "cell_type": "code",
   "execution_count": 197,
   "metadata": {},
   "outputs": [],
   "source": [
    "# Normalize the training and test data\n",
    "norm_train_X = np.array(norm2(dataTrain))\n",
    "norm_test_X = np.array(norm2(dataTest))\n",
    "norm_val_X = np.array(norm2(dataVal))"
   ]
  },
  {
   "cell_type": "code",
   "execution_count": 188,
   "metadata": {},
   "outputs": [
    {
     "name": "stdout",
     "output_type": "stream",
     "text": [
      "(160000, 4)\n",
      "(2, 160000)\n",
      "(50000, 4)\n",
      "(2, 50000)\n"
     ]
    }
   ],
   "source": [
    "print(norm_train_X.shape)\n",
    "print(np.shape(train_Y))\n",
    "print(norm_test_X.shape)\n",
    "print(np.shape(test_Y))"
   ]
  },
  {
   "cell_type": "code",
   "execution_count": 205,
   "metadata": {
    "id": "po6_47hB6FmE"
   },
   "outputs": [],
   "source": [
    "# Normalize the training and test data\n",
    "norm_train_X = norm(dataTrain)\n",
    "norm_train_Y = format_output(norm_train_X)\n",
    "\n",
    "norm_test_X=norm(dataTest)\n",
    "norm_test_Y=format_output(norm_test_X)\n",
    "\n",
    "norm_val_X = norm(dataVal)\n",
    "norm_val_Y = format_output(norm_val_X)\n",
    "\n",
    "norm_train_X = np.array(norm_train_X)\n",
    "#norm_train_Y = np.array(norm_train_Y)\n",
    "norm_test_X = np.array(norm_test_X)\n",
    "#norm_test_Y = np.array(norm_test_Y)\n",
    "norm_val_X = np.array(norm_val_X)\n",
    "#norm_val_Y = np.array(norm_val_Y)"
   ]
  },
  {
   "cell_type": "code",
   "execution_count": 206,
   "metadata": {},
   "outputs": [
    {
     "name": "stdout",
     "output_type": "stream",
     "text": [
      "(160000, 4)\n",
      "(2, 160000)\n",
      "(50000, 4)\n",
      "(2, 50000)\n"
     ]
    }
   ],
   "source": [
    "print(norm_train_X.shape)\n",
    "print(np.shape(norm_train_Y))\n",
    "print(norm_test_X.shape)\n",
    "print(np.shape(norm_test_Y))"
   ]
  },
  {
   "cell_type": "code",
   "execution_count": 210,
   "metadata": {
    "id": "DQCRRqaf6Zy_"
   },
   "outputs": [],
   "source": [
    "def build_model():\n",
    "    # Define model layers.\n",
    "    input_layer = Input(shape=(len(norm_train_X[1]),))\n",
    "    first_dense = Dense(units='128', activation='relu')(input_layer)    \n",
    "    second_dense = Dense(units='128', activation='relu')(first_dense)\n",
    "    third_dense = Dense(units='128', activation='relu')(second_dense)\n",
    "    \n",
    "    # Y1 output will be fed from the first dense\n",
    "    y1_output = Dense(units='1', name='x_output')(third_dense)\n",
    "    \n",
    "    # Y2 output will be fed from the second dense\n",
    "    y2_output = Dense(units='1', name='y_output')(third_dense)\n",
    "\n",
    "    # Define the model with the input layer and a list of output layers\n",
    "    model = Model(inputs=input_layer, outputs=[y1_output, y2_output])\n",
    "\n",
    "    return model"
   ]
  },
  {
   "cell_type": "code",
   "execution_count": 211,
   "metadata": {
    "id": "rkLHZkif7JGQ"
   },
   "outputs": [],
   "source": [
    "model = build_model()\n",
    "\n",
    "# Specify the optimizer, and compile the model with loss functions for both outputs\n",
    "optimizer = tf.keras.optimizers.SGD(learning_rate=0.001)\n",
    "model.compile(optimizer=optimizer,\n",
    "              loss={'x_output': 'mse', 'y_output': 'mse'},\n",
    "              metrics={'x_output': tf.keras.metrics.RootMeanSquaredError(),\n",
    "                       'y_output': tf.keras.metrics.RootMeanSquaredError()})"
   ]
  },
  {
   "cell_type": "code",
   "execution_count": 213,
   "metadata": {
    "colab": {
     "base_uri": "https://localhost:8080/",
     "height": 197
    },
    "id": "zDmxXFU77dGt",
    "outputId": "e72a7cbd-e90b-4966-ca33-21dca3794c3d"
   },
   "outputs": [
    {
     "name": "stdout",
     "output_type": "stream",
     "text": [
      "Epoch 1/200\n",
      "1818/5000 [=========>....................] - ETA: 3s - loss: 1.2992 - x_output_loss: 0.5473 - y_output_loss: 0.7519 - x_output_root_mean_squared_error: 0.7398 - y_output_root_mean_squared_error: 0.8671"
     ]
    },
    {
     "ename": "KeyboardInterrupt",
     "evalue": "",
     "output_type": "error",
     "traceback": [
      "\u001b[1;31m---------------------------------------------------------------------------\u001b[0m",
      "\u001b[1;31mKeyboardInterrupt\u001b[0m                         Traceback (most recent call last)",
      "\u001b[1;32m<ipython-input-213-89ca5a7b601c>\u001b[0m in \u001b[0;36m<module>\u001b[1;34m\u001b[0m\n\u001b[0;32m      1\u001b[0m \u001b[1;31m# Train the model for 200 epochs\u001b[0m\u001b[1;33m\u001b[0m\u001b[1;33m\u001b[0m\u001b[1;33m\u001b[0m\u001b[0m\n\u001b[0;32m      2\u001b[0m history = model.fit(norm_train_X, norm_train_Y,\n\u001b[1;32m----> 3\u001b[1;33m                     epochs=200, validation_data=(norm_test_X, norm_test_Y))\n\u001b[0m",
      "\u001b[1;32m~\\Anaconda3\\lib\\site-packages\\tensorflow\\python\\keras\\engine\\training.py\u001b[0m in \u001b[0;36m_method_wrapper\u001b[1;34m(self, *args, **kwargs)\u001b[0m\n\u001b[0;32m    106\u001b[0m   \u001b[1;32mdef\u001b[0m \u001b[0m_method_wrapper\u001b[0m\u001b[1;33m(\u001b[0m\u001b[0mself\u001b[0m\u001b[1;33m,\u001b[0m \u001b[1;33m*\u001b[0m\u001b[0margs\u001b[0m\u001b[1;33m,\u001b[0m \u001b[1;33m**\u001b[0m\u001b[0mkwargs\u001b[0m\u001b[1;33m)\u001b[0m\u001b[1;33m:\u001b[0m\u001b[1;33m\u001b[0m\u001b[1;33m\u001b[0m\u001b[0m\n\u001b[0;32m    107\u001b[0m     \u001b[1;32mif\u001b[0m \u001b[1;32mnot\u001b[0m \u001b[0mself\u001b[0m\u001b[1;33m.\u001b[0m\u001b[0m_in_multi_worker_mode\u001b[0m\u001b[1;33m(\u001b[0m\u001b[1;33m)\u001b[0m\u001b[1;33m:\u001b[0m  \u001b[1;31m# pylint: disable=protected-access\u001b[0m\u001b[1;33m\u001b[0m\u001b[1;33m\u001b[0m\u001b[0m\n\u001b[1;32m--> 108\u001b[1;33m       \u001b[1;32mreturn\u001b[0m \u001b[0mmethod\u001b[0m\u001b[1;33m(\u001b[0m\u001b[0mself\u001b[0m\u001b[1;33m,\u001b[0m \u001b[1;33m*\u001b[0m\u001b[0margs\u001b[0m\u001b[1;33m,\u001b[0m \u001b[1;33m**\u001b[0m\u001b[0mkwargs\u001b[0m\u001b[1;33m)\u001b[0m\u001b[1;33m\u001b[0m\u001b[1;33m\u001b[0m\u001b[0m\n\u001b[0m\u001b[0;32m    109\u001b[0m \u001b[1;33m\u001b[0m\u001b[0m\n\u001b[0;32m    110\u001b[0m     \u001b[1;31m# Running inside `run_distribute_coordinator` already.\u001b[0m\u001b[1;33m\u001b[0m\u001b[1;33m\u001b[0m\u001b[1;33m\u001b[0m\u001b[0m\n",
      "\u001b[1;32m~\\Anaconda3\\lib\\site-packages\\tensorflow\\python\\keras\\engine\\training.py\u001b[0m in \u001b[0;36mfit\u001b[1;34m(self, x, y, batch_size, epochs, verbose, callbacks, validation_split, validation_data, shuffle, class_weight, sample_weight, initial_epoch, steps_per_epoch, validation_steps, validation_batch_size, validation_freq, max_queue_size, workers, use_multiprocessing)\u001b[0m\n\u001b[0;32m   1096\u001b[0m                 batch_size=batch_size):\n\u001b[0;32m   1097\u001b[0m               \u001b[0mcallbacks\u001b[0m\u001b[1;33m.\u001b[0m\u001b[0mon_train_batch_begin\u001b[0m\u001b[1;33m(\u001b[0m\u001b[0mstep\u001b[0m\u001b[1;33m)\u001b[0m\u001b[1;33m\u001b[0m\u001b[1;33m\u001b[0m\u001b[0m\n\u001b[1;32m-> 1098\u001b[1;33m               \u001b[0mtmp_logs\u001b[0m \u001b[1;33m=\u001b[0m \u001b[0mtrain_function\u001b[0m\u001b[1;33m(\u001b[0m\u001b[0miterator\u001b[0m\u001b[1;33m)\u001b[0m\u001b[1;33m\u001b[0m\u001b[1;33m\u001b[0m\u001b[0m\n\u001b[0m\u001b[0;32m   1099\u001b[0m               \u001b[1;32mif\u001b[0m \u001b[0mdata_handler\u001b[0m\u001b[1;33m.\u001b[0m\u001b[0mshould_sync\u001b[0m\u001b[1;33m:\u001b[0m\u001b[1;33m\u001b[0m\u001b[1;33m\u001b[0m\u001b[0m\n\u001b[0;32m   1100\u001b[0m                 \u001b[0mcontext\u001b[0m\u001b[1;33m.\u001b[0m\u001b[0masync_wait\u001b[0m\u001b[1;33m(\u001b[0m\u001b[1;33m)\u001b[0m\u001b[1;33m\u001b[0m\u001b[1;33m\u001b[0m\u001b[0m\n",
      "\u001b[1;32m~\\Anaconda3\\lib\\site-packages\\tensorflow\\python\\eager\\def_function.py\u001b[0m in \u001b[0;36m__call__\u001b[1;34m(self, *args, **kwds)\u001b[0m\n\u001b[0;32m    778\u001b[0m       \u001b[1;32melse\u001b[0m\u001b[1;33m:\u001b[0m\u001b[1;33m\u001b[0m\u001b[1;33m\u001b[0m\u001b[0m\n\u001b[0;32m    779\u001b[0m         \u001b[0mcompiler\u001b[0m \u001b[1;33m=\u001b[0m \u001b[1;34m\"nonXla\"\u001b[0m\u001b[1;33m\u001b[0m\u001b[1;33m\u001b[0m\u001b[0m\n\u001b[1;32m--> 780\u001b[1;33m         \u001b[0mresult\u001b[0m \u001b[1;33m=\u001b[0m \u001b[0mself\u001b[0m\u001b[1;33m.\u001b[0m\u001b[0m_call\u001b[0m\u001b[1;33m(\u001b[0m\u001b[1;33m*\u001b[0m\u001b[0margs\u001b[0m\u001b[1;33m,\u001b[0m \u001b[1;33m**\u001b[0m\u001b[0mkwds\u001b[0m\u001b[1;33m)\u001b[0m\u001b[1;33m\u001b[0m\u001b[1;33m\u001b[0m\u001b[0m\n\u001b[0m\u001b[0;32m    781\u001b[0m \u001b[1;33m\u001b[0m\u001b[0m\n\u001b[0;32m    782\u001b[0m       \u001b[0mnew_tracing_count\u001b[0m \u001b[1;33m=\u001b[0m \u001b[0mself\u001b[0m\u001b[1;33m.\u001b[0m\u001b[0m_get_tracing_count\u001b[0m\u001b[1;33m(\u001b[0m\u001b[1;33m)\u001b[0m\u001b[1;33m\u001b[0m\u001b[1;33m\u001b[0m\u001b[0m\n",
      "\u001b[1;32m~\\Anaconda3\\lib\\site-packages\\tensorflow\\python\\eager\\def_function.py\u001b[0m in \u001b[0;36m_call\u001b[1;34m(self, *args, **kwds)\u001b[0m\n\u001b[0;32m    805\u001b[0m       \u001b[1;31m# In this case we have created variables on the first call, so we run the\u001b[0m\u001b[1;33m\u001b[0m\u001b[1;33m\u001b[0m\u001b[1;33m\u001b[0m\u001b[0m\n\u001b[0;32m    806\u001b[0m       \u001b[1;31m# defunned version which is guaranteed to never create variables.\u001b[0m\u001b[1;33m\u001b[0m\u001b[1;33m\u001b[0m\u001b[1;33m\u001b[0m\u001b[0m\n\u001b[1;32m--> 807\u001b[1;33m       \u001b[1;32mreturn\u001b[0m \u001b[0mself\u001b[0m\u001b[1;33m.\u001b[0m\u001b[0m_stateless_fn\u001b[0m\u001b[1;33m(\u001b[0m\u001b[1;33m*\u001b[0m\u001b[0margs\u001b[0m\u001b[1;33m,\u001b[0m \u001b[1;33m**\u001b[0m\u001b[0mkwds\u001b[0m\u001b[1;33m)\u001b[0m  \u001b[1;31m# pylint: disable=not-callable\u001b[0m\u001b[1;33m\u001b[0m\u001b[1;33m\u001b[0m\u001b[0m\n\u001b[0m\u001b[0;32m    808\u001b[0m     \u001b[1;32melif\u001b[0m \u001b[0mself\u001b[0m\u001b[1;33m.\u001b[0m\u001b[0m_stateful_fn\u001b[0m \u001b[1;32mis\u001b[0m \u001b[1;32mnot\u001b[0m \u001b[1;32mNone\u001b[0m\u001b[1;33m:\u001b[0m\u001b[1;33m\u001b[0m\u001b[1;33m\u001b[0m\u001b[0m\n\u001b[0;32m    809\u001b[0m       \u001b[1;31m# Release the lock early so that multiple threads can perform the call\u001b[0m\u001b[1;33m\u001b[0m\u001b[1;33m\u001b[0m\u001b[1;33m\u001b[0m\u001b[0m\n",
      "\u001b[1;32m~\\Anaconda3\\lib\\site-packages\\tensorflow\\python\\eager\\function.py\u001b[0m in \u001b[0;36m__call__\u001b[1;34m(self, *args, **kwargs)\u001b[0m\n\u001b[0;32m   2827\u001b[0m     \u001b[1;32mwith\u001b[0m \u001b[0mself\u001b[0m\u001b[1;33m.\u001b[0m\u001b[0m_lock\u001b[0m\u001b[1;33m:\u001b[0m\u001b[1;33m\u001b[0m\u001b[1;33m\u001b[0m\u001b[0m\n\u001b[0;32m   2828\u001b[0m       \u001b[0mgraph_function\u001b[0m\u001b[1;33m,\u001b[0m \u001b[0margs\u001b[0m\u001b[1;33m,\u001b[0m \u001b[0mkwargs\u001b[0m \u001b[1;33m=\u001b[0m \u001b[0mself\u001b[0m\u001b[1;33m.\u001b[0m\u001b[0m_maybe_define_function\u001b[0m\u001b[1;33m(\u001b[0m\u001b[0margs\u001b[0m\u001b[1;33m,\u001b[0m \u001b[0mkwargs\u001b[0m\u001b[1;33m)\u001b[0m\u001b[1;33m\u001b[0m\u001b[1;33m\u001b[0m\u001b[0m\n\u001b[1;32m-> 2829\u001b[1;33m     \u001b[1;32mreturn\u001b[0m \u001b[0mgraph_function\u001b[0m\u001b[1;33m.\u001b[0m\u001b[0m_filtered_call\u001b[0m\u001b[1;33m(\u001b[0m\u001b[0margs\u001b[0m\u001b[1;33m,\u001b[0m \u001b[0mkwargs\u001b[0m\u001b[1;33m)\u001b[0m  \u001b[1;31m# pylint: disable=protected-access\u001b[0m\u001b[1;33m\u001b[0m\u001b[1;33m\u001b[0m\u001b[0m\n\u001b[0m\u001b[0;32m   2830\u001b[0m \u001b[1;33m\u001b[0m\u001b[0m\n\u001b[0;32m   2831\u001b[0m   \u001b[1;33m@\u001b[0m\u001b[0mproperty\u001b[0m\u001b[1;33m\u001b[0m\u001b[1;33m\u001b[0m\u001b[0m\n",
      "\u001b[1;32m~\\Anaconda3\\lib\\site-packages\\tensorflow\\python\\eager\\function.py\u001b[0m in \u001b[0;36m_filtered_call\u001b[1;34m(self, args, kwargs, cancellation_manager)\u001b[0m\n\u001b[0;32m   1846\u001b[0m                            resource_variable_ops.BaseResourceVariable))],\n\u001b[0;32m   1847\u001b[0m         \u001b[0mcaptured_inputs\u001b[0m\u001b[1;33m=\u001b[0m\u001b[0mself\u001b[0m\u001b[1;33m.\u001b[0m\u001b[0mcaptured_inputs\u001b[0m\u001b[1;33m,\u001b[0m\u001b[1;33m\u001b[0m\u001b[1;33m\u001b[0m\u001b[0m\n\u001b[1;32m-> 1848\u001b[1;33m         cancellation_manager=cancellation_manager)\n\u001b[0m\u001b[0;32m   1849\u001b[0m \u001b[1;33m\u001b[0m\u001b[0m\n\u001b[0;32m   1850\u001b[0m   \u001b[1;32mdef\u001b[0m \u001b[0m_call_flat\u001b[0m\u001b[1;33m(\u001b[0m\u001b[0mself\u001b[0m\u001b[1;33m,\u001b[0m \u001b[0margs\u001b[0m\u001b[1;33m,\u001b[0m \u001b[0mcaptured_inputs\u001b[0m\u001b[1;33m,\u001b[0m \u001b[0mcancellation_manager\u001b[0m\u001b[1;33m=\u001b[0m\u001b[1;32mNone\u001b[0m\u001b[1;33m)\u001b[0m\u001b[1;33m:\u001b[0m\u001b[1;33m\u001b[0m\u001b[1;33m\u001b[0m\u001b[0m\n",
      "\u001b[1;32m~\\Anaconda3\\lib\\site-packages\\tensorflow\\python\\eager\\function.py\u001b[0m in \u001b[0;36m_call_flat\u001b[1;34m(self, args, captured_inputs, cancellation_manager)\u001b[0m\n\u001b[0;32m   1922\u001b[0m       \u001b[1;31m# No tape is watching; skip to running the function.\u001b[0m\u001b[1;33m\u001b[0m\u001b[1;33m\u001b[0m\u001b[1;33m\u001b[0m\u001b[0m\n\u001b[0;32m   1923\u001b[0m       return self._build_call_outputs(self._inference_function.call(\n\u001b[1;32m-> 1924\u001b[1;33m           ctx, args, cancellation_manager=cancellation_manager))\n\u001b[0m\u001b[0;32m   1925\u001b[0m     forward_backward = self._select_forward_and_backward_functions(\n\u001b[0;32m   1926\u001b[0m         \u001b[0margs\u001b[0m\u001b[1;33m,\u001b[0m\u001b[1;33m\u001b[0m\u001b[1;33m\u001b[0m\u001b[0m\n",
      "\u001b[1;32m~\\Anaconda3\\lib\\site-packages\\tensorflow\\python\\eager\\function.py\u001b[0m in \u001b[0;36mcall\u001b[1;34m(self, ctx, args, cancellation_manager)\u001b[0m\n\u001b[0;32m    548\u001b[0m               \u001b[0minputs\u001b[0m\u001b[1;33m=\u001b[0m\u001b[0margs\u001b[0m\u001b[1;33m,\u001b[0m\u001b[1;33m\u001b[0m\u001b[1;33m\u001b[0m\u001b[0m\n\u001b[0;32m    549\u001b[0m               \u001b[0mattrs\u001b[0m\u001b[1;33m=\u001b[0m\u001b[0mattrs\u001b[0m\u001b[1;33m,\u001b[0m\u001b[1;33m\u001b[0m\u001b[1;33m\u001b[0m\u001b[0m\n\u001b[1;32m--> 550\u001b[1;33m               ctx=ctx)\n\u001b[0m\u001b[0;32m    551\u001b[0m         \u001b[1;32melse\u001b[0m\u001b[1;33m:\u001b[0m\u001b[1;33m\u001b[0m\u001b[1;33m\u001b[0m\u001b[0m\n\u001b[0;32m    552\u001b[0m           outputs = execute.execute_with_cancellation(\n",
      "\u001b[1;32m~\\Anaconda3\\lib\\site-packages\\tensorflow\\python\\eager\\execute.py\u001b[0m in \u001b[0;36mquick_execute\u001b[1;34m(op_name, num_outputs, inputs, attrs, ctx, name)\u001b[0m\n\u001b[0;32m     58\u001b[0m     \u001b[0mctx\u001b[0m\u001b[1;33m.\u001b[0m\u001b[0mensure_initialized\u001b[0m\u001b[1;33m(\u001b[0m\u001b[1;33m)\u001b[0m\u001b[1;33m\u001b[0m\u001b[1;33m\u001b[0m\u001b[0m\n\u001b[0;32m     59\u001b[0m     tensors = pywrap_tfe.TFE_Py_Execute(ctx._handle, device_name, op_name,\n\u001b[1;32m---> 60\u001b[1;33m                                         inputs, attrs, num_outputs)\n\u001b[0m\u001b[0;32m     61\u001b[0m   \u001b[1;32mexcept\u001b[0m \u001b[0mcore\u001b[0m\u001b[1;33m.\u001b[0m\u001b[0m_NotOkStatusException\u001b[0m \u001b[1;32mas\u001b[0m \u001b[0me\u001b[0m\u001b[1;33m:\u001b[0m\u001b[1;33m\u001b[0m\u001b[1;33m\u001b[0m\u001b[0m\n\u001b[0;32m     62\u001b[0m     \u001b[1;32mif\u001b[0m \u001b[0mname\u001b[0m \u001b[1;32mis\u001b[0m \u001b[1;32mnot\u001b[0m \u001b[1;32mNone\u001b[0m\u001b[1;33m:\u001b[0m\u001b[1;33m\u001b[0m\u001b[1;33m\u001b[0m\u001b[0m\n",
      "\u001b[1;31mKeyboardInterrupt\u001b[0m: "
     ]
    }
   ],
   "source": [
    "# Train the model for 200 epochs\n",
    "history = model.fit(norm_train_X, norm_train_Y,\n",
    "                    epochs=200, validation_data=(norm_test_X, norm_test_Y))"
   ]
  },
  {
   "cell_type": "code",
   "execution_count": 16,
   "metadata": {
    "colab": {
     "base_uri": "https://localhost:8080/"
    },
    "id": "AbI9079mGMEV",
    "outputId": "b5d12586-2f55-4bb3-8cf8-239330bc4f1e"
   },
   "outputs": [
    {
     "name": "stdout",
     "output_type": "stream",
     "text": [
      "1250/1250 [==============================] - 2s 1ms/step - loss: 3.9535 - x_output_loss: 2.0098 - y_output_loss: 1.9437 - x_output_root_mean_squared_error: 1.4177 - y_output_root_mean_squared_error: 1.3942\n",
      "\n",
      "loss: 3.9534592628479004\n",
      "x_loss: 2.009793281555176\n",
      "y_loss: 1.9436674118041992\n",
      "x_rmse: 1.417671799659729\n",
      "y_rmse: 1.3941547870635986\n"
     ]
    }
   ],
   "source": [
    "# Test the model and print loss and rmse for both outputs\n",
    "loss, Y1_loss, Y2_loss, Y1_rmse, Y2_rmse = model.evaluate(x=norm_val_X, y=val_Y)\n",
    "\n",
    "print()\n",
    "print(f'loss: {loss}')\n",
    "print(f'x_loss: {Y1_loss}')\n",
    "print(f'y_loss: {Y2_loss}')\n",
    "print(f'x_rmse: {Y1_rmse}')\n",
    "print(f'y_rmse: {Y2_rmse}')"
   ]
  },
  {
   "cell_type": "code",
   "execution_count": 17,
   "metadata": {
    "id": "V9DhGCX4GQae"
   },
   "outputs": [],
   "source": [
    "def plot_diff(y_true, y_pred, title=''):\n",
    "    plt.scatter(y_true, y_pred)\n",
    "    plt.title(title)\n",
    "    plt.xlabel('True Values')\n",
    "    plt.ylabel('Predictions')\n",
    "    plt.axis('equal')\n",
    "    plt.axis('square')\n",
    "    plt.xlim(plt.xlim())\n",
    "    plt.ylim(plt.ylim())\n",
    "    plt.plot([-100, 100], [-100, 100])\n",
    "    plt.show()\n",
    "\n",
    "\n",
    "def plot_metrics(metric_name, title, ylim=5):\n",
    "    plt.title(title)\n",
    "    plt.ylim(0, ylim)\n",
    "    plt.plot(history.history[metric_name], color='blue', label=metric_name)\n",
    "    plt.plot(history.history['val_' + metric_name], color='green', label='val_' + metric_name)\n",
    "    plt.show()"
   ]
  },
  {
   "cell_type": "code",
   "execution_count": 18,
   "metadata": {
    "colab": {
     "base_uri": "https://localhost:8080/",
     "height": 573
    },
    "id": "0EbyNOEXGeQf",
    "outputId": "b66ac9a8-5910-43e2-c298-bd1af1b93c6a"
   },
   "outputs": [
    {
     "data": {
      "image/png": "[encoded data removed]",
      "text/plain": [
       "<Figure size 432x288 with 1 Axes>"
      ]
     },
     "metadata": {
      "needs_background": "light"
     },
     "output_type": "display_data"
    },
    {
     "data": {
      "image/png": "[encoded data removed]",
      "text/plain": [
       "<Figure size 432x288 with 1 Axes>"
      ]
     },
     "metadata": {
      "needs_background": "light"
     },
     "output_type": "display_data"
    }
   ],
   "source": [
    "# Run predict\n",
    "Y_pred = model.predict(norm_test_X)\n",
    "price_pred = Y_pred[0]\n",
    "ptratio_pred = Y_pred[1]\n",
    "\n",
    "plot_diff(test_Y[0], Y_pred[0], title='x')\n",
    "plot_diff(test_Y[1], Y_pred[1], title='y')"
   ]
  },
  {
   "cell_type": "code",
   "execution_count": 39,
   "metadata": {
    "colab": {
     "base_uri": "https://localhost:8080/",
     "height": 545
    },
    "id": "58QqA0C4Gk7d",
    "outputId": "4875ab5f-a185-4367-8dd5-e89de199bad5"
   },
   "outputs": [
    {
     "data": {
      "image/png": "[encoded data removed]",
      "text/plain": [
       "<Figure size 432x288 with 1 Axes>"
      ]
     },
     "metadata": {
      "needs_background": "light"
     },
     "output_type": "display_data"
    },
    {
     "data": {
      "image/png": "[encoded data removed]",
      "text/plain": [
       "<Figure size 432x288 with 1 Axes>"
      ]
     },
     "metadata": {
      "needs_background": "light"
     },
     "output_type": "display_data"
    }
   ],
   "source": [
    "# Plot RMSE\n",
    "plot_metrics(metric_name='x_output_root_mean_squared_error', title='x RMSE', ylim=7)\n",
    "plot_metrics(metric_name='y_output_root_mean_squared_error', title='y RMSE', ylim=7)"
   ]
  },
  {
   "cell_type": "code",
   "execution_count": 20,
   "metadata": {
    "colab": {
     "base_uri": "https://localhost:8080/"
    },
    "id": "V18I4VyhHAL1",
    "outputId": "543b2a99-e234-4aa0-a848-8d7337840f93"
   },
   "outputs": [
    {
     "name": "stdout",
     "output_type": "stream",
     "text": [
      "INFO:tensorflow:Assets written to: ./xyForcePlate/assets\n"
     ]
    }
   ],
   "source": [
    "# Save model\n",
    "model.save('./xyForcePlate/', save_format='tf')"
   ]
  },
  {
   "cell_type": "code",
   "execution_count": 21,
   "metadata": {
    "id": "5QTOLsAJHAVy"
   },
   "outputs": [],
   "source": [
    "# Restore model\n",
    "loaded_model = tf.keras.models.load_model('./xyForcePlate/')"
   ]
  },
  {
   "cell_type": "code",
   "execution_count": 58,
   "metadata": {
    "id": "ptcyn1KOHHtD"
   },
   "outputs": [],
   "source": [
    "# Run predict with restored model\n",
    "predictions = loaded_model.predict(norm_test_X)\n",
    "x_pred = predictions[0]\n",
    "y_pred = predictions[1]"
   ]
  },
  {
   "cell_type": "code",
   "execution_count": 57,
   "metadata": {},
   "outputs": [
    {
     "data": {
      "text/plain": [
       "(50000, 4)"
      ]
     },
     "execution_count": 57,
     "metadata": {},
     "output_type": "execute_result"
    }
   ],
   "source": [
    "norm_test_X.shape"
   ]
  },
  {
   "cell_type": "code",
   "execution_count": 53,
   "metadata": {},
   "outputs": [
    {
     "data": {
      "text/plain": [
       "array([ 1.02478891, -0.37257721,  0.63687956,  0.94191688])"
      ]
     },
     "execution_count": 53,
     "metadata": {},
     "output_type": "execute_result"
    }
   ],
   "source": [
    "norm_test_X[0]"
   ]
  },
  {
   "cell_type": "code",
   "execution_count": 65,
   "metadata": {
    "colab": {
     "base_uri": "https://localhost:8080/"
    },
    "id": "PA340DixH6MS",
    "outputId": "9387bfbe-d014-4e16-ce03-04764bd07e8a"
   },
   "outputs": [
    {
     "name": "stdout",
     "output_type": "stream",
     "text": [
      "[[ 6.2750745]\n",
      " [24.151093 ]\n",
      " [12.98531  ]\n",
      " ...\n",
      " [ 3.0007477]\n",
      " [ 3.7614863]\n",
      " [17.731554 ]]\n"
     ]
    }
   ],
   "source": [
    "print(y_pred)"
   ]
  },
  {
   "cell_type": "code",
   "execution_count": 66,
   "metadata": {
    "colab": {
     "base_uri": "https://localhost:8080/"
    },
    "id": "EM4Wj7XWKOy4",
    "outputId": "bda68532-38ac-40da-8dcc-a5359a2aa9de"
   },
   "outputs": [
    {
     "name": "stdout",
     "output_type": "stream",
     "text": [
      "[ 6 24 12 ...  3  3 24]\n"
     ]
    }
   ],
   "source": [
    "print(test_Y[1])"
   ]
  },
  {
   "cell_type": "markdown",
   "metadata": {
    "id": "vIcHHeA25TfL"
   },
   "source": [
    "################################################################################"
   ]
  }
 ],
 "metadata": {
  "colab": {
   "collapsed_sections": [],
   "name": "ForcePlatePosition.ipynb",
   "provenance": []
  },
  "kernelspec": {
   "display_name": "Python 3",
   "language": "python",
   "name": "python3"
  },
  "language_info": {
   "codemirror_mode": {
    "name": "ipython",
    "version": 3
   },
   "file_extension": ".py",
   "mimetype": "text/x-python",
   "name": "python",
   "nbconvert_exporter": "python",
   "pygments_lexer": "ipython3",
   "version": "3.7.4"
  }
 },
 "nbformat": 4,
 "nbformat_minor": 1
}
